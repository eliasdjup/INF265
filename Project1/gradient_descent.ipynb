{
 "cells": [
  {
   "cell_type": "code",
   "execution_count": 74,
   "metadata": {},
   "outputs": [],
   "source": [
    "import torch\n",
    "import torch.nn as nn\n",
    "import torch.nn.functional as F\n",
    "import torch.optim as optim\n",
    "from torchvision import datasets, transforms\n",
    "from torch.utils.data import random_split\n",
    "from datetime import datetime\n",
    "\n",
    "torch.manual_seed(123)\n",
    "torch.set_default_dtype(torch.double)"
   ]
  },
  {
   "cell_type": "code",
   "execution_count": 75,
   "metadata": {},
   "outputs": [
    {
     "name": "stdout",
     "output_type": "stream",
     "text": [
      "cuda\n"
     ]
    }
   ],
   "source": [
    "device = (torch.device('cuda') if torch.cuda.is_available()\n",
    "else torch.device('cpu'))\n",
    "print(device)"
   ]
  },
  {
   "cell_type": "code",
   "execution_count": 76,
   "metadata": {},
   "outputs": [],
   "source": [
    "batch_size =  256\n",
    "n_epoch =  30\n",
    "loss_fn =  nn.CrossEntropyLoss()\n",
    "seed =  265"
   ]
  },
  {
   "cell_type": "markdown",
   "metadata": {},
   "source": [
    "# 3.1\n",
    "Load and preprocess the CIFAR-10 dataset. Split it into 3 datasets: training, validation and\n",
    "test. Take a subset of these datasets by keeping only 2 labels: bird and plane."
   ]
  },
  {
   "cell_type": "code",
   "execution_count": 77,
   "metadata": {},
   "outputs": [
    {
     "name": "stdout",
     "output_type": "stream",
     "text": [
      "Files already downloaded and verified\n",
      "Files already downloaded and verified\n",
      "Size of the train dataset:         45000\n",
      "Size of the validation dataset:    5000\n",
      "Size of the test dataset:          10000\n",
      "Size of the training dataset:  9017\n",
      "Size of the validation dataset:  983\n",
      "Size of the test dataset:  2000\n"
     ]
    }
   ],
   "source": [
    "def load_cifar(train_val_split=0.9, data_path='../data/', preprocessor=None):\n",
    "    \n",
    "    # Define preprocessor if not already given\n",
    "    if preprocessor is None:\n",
    "        preprocessor = transforms.Compose([\n",
    "            transforms.ToTensor(),\n",
    "            transforms.Normalize((0.4915, 0.4823, 0.4468),\n",
    "                                (0.2470, 0.2435, 0.2616))\n",
    "        ])\n",
    "    \n",
    "    # load datasets\n",
    "    data_train_val = datasets.CIFAR10(\n",
    "        data_path,      \n",
    "        train=True,      \n",
    "        download=True,\n",
    "        transform=preprocessor)\n",
    "\n",
    "    data_test = datasets.CIFAR10(\n",
    "        data_path, \n",
    "        train=False,\n",
    "        download=True,\n",
    "        transform=preprocessor)\n",
    "\n",
    "    # train/validation split\n",
    "    n_train = int(len(data_train_val)*train_val_split)\n",
    "    n_val =  len(data_train_val) - n_train\n",
    "\n",
    "    data_train, data_val = random_split(\n",
    "        data_train_val, \n",
    "        [n_train, n_val],\n",
    "        generator=torch.Generator().manual_seed(123)\n",
    "    )\n",
    "\n",
    "    print(\"Size of the train dataset:        \", len(data_train))\n",
    "    print(\"Size of the validation dataset:   \", len(data_val))\n",
    "    print(\"Size of the test dataset:         \", len(data_test))\n",
    "    \n",
    "    return (data_train, data_val, data_test)\n",
    "\n",
    "cifar10_train, cifar10_val, cifar10_test = load_cifar()\n",
    "\n",
    "# Now define a lighter version of CIFAR10: cifar\n",
    "label_map = {0: 0, 2: 1}\n",
    "class_names = ['airplane', 'bird']\n",
    "\n",
    "# For each dataset, keep only airplanes and birds\n",
    "cifar2_train = [(img, label_map[label]) for img, label in cifar10_train if label in [0, 2]]\n",
    "cifar2_val = [(img, label_map[label]) for img, label in cifar10_val if label in [0, 2]]\n",
    "cifar2_test = [(img, label_map[label]) for img, label in cifar10_test if label in [0, 2]]\n",
    "\n",
    "print('Size of the training dataset: ', len(cifar2_train))\n",
    "print('Size of the validation dataset: ', len(cifar2_val))\n",
    "print('Size of the test dataset: ', len(cifar2_test))"
   ]
  },
  {
   "cell_type": "markdown",
   "metadata": {},
   "source": [
    "# 3.2\n",
    "Write a MyMLP class that implements a MLP in PyTorch (so only fully connected layers) such\n",
    "that:\n",
    "(a) The input dimension is 3072 (= 32*32*3) and the output dimension is 2 (for the 2\n",
    "classes).\n",
    "(b) The hidden layers have respectively 512, 128 and 32 hidden units.\n",
    "(c) All activation functions are ReLU. The last layer has no activation function since the\n",
    "cross-entropy loss already includes a softmax activation function."
   ]
  },
  {
   "cell_type": "code",
   "execution_count": 78,
   "metadata": {},
   "outputs": [],
   "source": [
    "class MyMLP(nn.Module):\n",
    "    def __init__(self):\n",
    "        super().__init__()  \n",
    "\n",
    "        self.flat = nn.Flatten()\n",
    "        # 32*32*3: determined by our dataset: 32x32 RGB images\n",
    "        self.fc1 = nn.Linear(32*32*3, 512)\n",
    "        self.act1 = nn.ReLU()\n",
    "        self.fc2 = nn.Linear(512, 128)\n",
    "        self.act2 = nn.ReLU()\n",
    "        self.fc3 = nn.Linear(128, 32)\n",
    "        self.act3 = nn.ReLU()\n",
    "        # 2: determined by our number of classes (birds and planes)\n",
    "        self.fc4 = nn.Linear(32, 2)\n",
    "\n",
    "    def forward(self, x):\n",
    "        out = self.flat(x)\n",
    "        out = self.act1(self.fc1(out))\n",
    "        out = self.act2(self.fc2(out))\n",
    "        out = self.act3(self.fc3(out))\n",
    "        out = self.fc4(out)\n",
    "        return out"
   ]
  },
  {
   "cell_type": "markdown",
   "metadata": {},
   "source": [
    "# 3.3\n",
    "Write a train(n epochs, optimizer, model, loss fn, train loader) function that trains\n",
    "model for n epochs epochs given an optimizer optimizer, a loss function loss fn and a dat-\n",
    "aloader train loader."
   ]
  },
  {
   "cell_type": "code",
   "execution_count": 79,
   "metadata": {},
   "outputs": [],
   "source": [
    "def train(n_epochs, optimizer, model, loss_fn, train_loader):\n",
    "    n_batch = len(train_loader)\n",
    "    losses_train = []\n",
    "    model.train()\n",
    "    optimizer.zero_grad(set_to_none=True)\n",
    "    \n",
    "    for epoch in range(1, n_epochs + 1):\n",
    "        \n",
    "        loss_train = 0.0\n",
    "        for imgs, labels in train_loader:\n",
    "\n",
    "            imgs = imgs.to(device=device, dtype=torch.double)\n",
    "            labels = labels.to(device=device)\n",
    "\n",
    "            outputs = model(imgs)\n",
    "            \n",
    "            loss = loss_fn(outputs, labels)\n",
    "            loss.backward()\n",
    "            \n",
    "            optimizer.step()\n",
    "            optimizer.zero_grad()\n",
    "\n",
    "            loss_train += loss.item()\n",
    "            \n",
    "        losses_train.append(loss_train / n_batch)\n",
    "\n",
    "        if epoch == 1 or epoch % 10 == 0:\n",
    "            print('{}  |  Epoch {}  |  Training loss {:.3f}'.format(\n",
    "                datetime.now().time(), epoch, loss_train / n_batch))\n",
    "    return losses_train"
   ]
  },
  {
   "cell_type": "markdown",
   "metadata": {},
   "source": [
    "# 3.4\n",
    "Write a similar function train manual update that has no optimizer parameter, but a learn-\n",
    "ing rate lr parameter instead and that manually updates each trainable parameter of model\n",
    "using equation (3). Do not forget to zero out all gradients after each iteration."
   ]
  },
  {
   "cell_type": "code",
   "execution_count": 80,
   "metadata": {},
   "outputs": [],
   "source": [
    "def train_manual_update(n_epochs, lr, model, loss_fn, train_loader, verbose = False):\n",
    "    n_batch = len(train_loader)\n",
    "    losses_train = []\n",
    "    model.train()\n",
    "    \n",
    "    for epoch in range(1, n_epochs + 1):\n",
    "        loss_train = 0.0\n",
    "        for imgs, labels in train_loader:\n",
    "\n",
    "            imgs = imgs.to(device=device, dtype=torch.double)\n",
    "            labels = labels.to(device=device)\n",
    "\n",
    "            outputs = model(imgs)\n",
    "            \n",
    "            loss = loss_fn(outputs, labels)\n",
    "            loss.backward()\n",
    "            \n",
    "            # optimizer step\n",
    "            with torch.no_grad():\n",
    "                for p in model.parameters():\n",
    "                    p -= lr * p.grad\n",
    "            \n",
    "            # zero out all gradients\n",
    "            with torch.no_grad():\n",
    "                for p in model.parameters():\n",
    "                    p.grad.zero_()\n",
    "\n",
    "            loss_train += loss.item()\n",
    "            \n",
    "        losses_train.append(loss_train / n_batch)\n",
    "\n",
    "        if epoch == 1 or epoch % 10 == 0 or verbose:\n",
    "            print('{}  |  Epoch {}  |  Training loss {:.3f}'.format(\n",
    "                datetime.now().time(), epoch, loss_train / n_batch))\n",
    "    return losses_train"
   ]
  },
  {
   "cell_type": "markdown",
   "metadata": {},
   "source": [
    "# 3.5\n",
    "Train 2 instances of MyMLP, one using train and the other using train manual update (use\n",
    "the same parameter values for both models). Compare their respective training losses."
   ]
  },
  {
   "cell_type": "code",
   "execution_count": 81,
   "metadata": {},
   "outputs": [
    {
     "name": "stdout",
     "output_type": "stream",
     "text": [
      "11:27:46.619482  |  Epoch 1  |  Training loss 0.681\n",
      "11:27:54.501430  |  Epoch 10  |  Training loss 0.465\n",
      "11:28:03.374169  |  Epoch 20  |  Training loss 0.384\n",
      "11:28:12.270145  |  Epoch 30  |  Training loss 0.318\n"
     ]
    }
   ],
   "source": [
    "torch.manual_seed(seed)\n",
    "model = MyMLP().to(device=device) \n",
    "optimizer = optim.SGD(model.parameters(), lr=0.01)\n",
    "train_loader = torch.utils.data.DataLoader(cifar2_train, batch_size=batch_size, shuffle=False)\n",
    "res = train(n_epoch, optimizer, model, loss_fn, train_loader)"
   ]
  },
  {
   "cell_type": "code",
   "execution_count": 82,
   "metadata": {},
   "outputs": [
    {
     "name": "stdout",
     "output_type": "stream",
     "text": [
      "11:28:13.220978  |  Epoch 1  |  Training loss 0.681\n",
      "11:28:21.257603  |  Epoch 10  |  Training loss 0.465\n",
      "11:28:30.120996  |  Epoch 20  |  Training loss 0.384\n",
      "11:28:38.974485  |  Epoch 30  |  Training loss 0.318\n"
     ]
    }
   ],
   "source": [
    "torch.manual_seed(seed)\n",
    "model = MyMLP().to(device=device) \n",
    "train_loader = torch.utils.data.DataLoader(cifar2_train, batch_size=batch_size, shuffle=False)\n",
    "lr = 0.01\n",
    "res = train_manual_update(n_epoch, lr, model, loss_fn, train_loader)"
   ]
  },
  {
   "cell_type": "markdown",
   "metadata": {},
   "source": [
    "We see that the train and train_manual_update function produces the same training losses when given the same data and learning rate."
   ]
  },
  {
   "cell_type": "markdown",
   "metadata": {},
   "source": [
    "# 3.6\n",
    "\n",
    "Modify train manual update by adding a L2 regularization term in your manual parameter\n",
    "update. Add an additional weight decay parameter to train manual update. Compare\n",
    "again train and train manual update results with 0 < weight decay < 1"
   ]
  },
  {
   "cell_type": "code",
   "execution_count": 96,
   "metadata": {},
   "outputs": [],
   "source": [
    "def train_manual_update(n_epochs, lr, weight_decay, model, loss_fn, train_loader):\n",
    "    n_batch = len(train_loader)\n",
    "    losses_train = []\n",
    "    model.train()\n",
    "    \n",
    "    for epoch in range(1, n_epochs + 1):\n",
    "        loss_train = 0.0\n",
    "        for imgs, labels in train_loader:\n",
    "\n",
    "            imgs = imgs.to(device=device, dtype=torch.double)\n",
    "            labels = labels.to(device=device)\n",
    "\n",
    "            outputs = model(imgs)\n",
    "            \n",
    "            loss = loss_fn(outputs, labels)\n",
    "\n",
    "            L2_reg = None\n",
    "            for param in model.parameters():\n",
    "                if L2_reg == None:\n",
    "                    L2_reg = 0.5 * torch.pow(param, 2).sum()\n",
    "                else:\n",
    "                    L2_reg += 0.5 * torch.pow(param, 2).sum()\n",
    "            \n",
    "            loss += (weight_decay * L2_reg) / (2*len(train_loader))\n",
    "            \n",
    "            loss.backward()\n",
    "                \n",
    "            # optimizer step\n",
    "            with torch.no_grad():\n",
    "                for p in model.parameters():\n",
    "                    p -= lr * p.grad\n",
    "                model.zero_grad()\n",
    "        \n",
    "            \n",
    "            loss_train += loss.item()\n",
    "            \n",
    "        losses_train.append(loss_train / n_batch)\n",
    "\n",
    "        if epoch == 1 or epoch % 10 == 0:\n",
    "            print('{}  |  Epoch {}  |  Training loss {:.3f}'.format(\n",
    "                datetime.now().time(), epoch, loss_train / n_batch))\n",
    "    return losses_train\n",
    "\n",
    "\n"
   ]
  },
  {
   "cell_type": "code",
   "execution_count": 84,
   "metadata": {},
   "outputs": [
    {
     "name": "stdout",
     "output_type": "stream",
     "text": [
      "11:28:40.025306  |  Epoch 1  |  Training loss 0.681\n",
      "11:28:48.019227  |  Epoch 10  |  Training loss 0.470\n",
      "11:28:56.864729  |  Epoch 20  |  Training loss 0.394\n",
      "11:29:05.831795  |  Epoch 30  |  Training loss 0.336\n"
     ]
    }
   ],
   "source": [
    "torch.manual_seed(seed)\n",
    "model = MyMLP().to(device=device) \n",
    "optimizer = optim.SGD(model.parameters(), lr=0.01, weight_decay=0.01)\n",
    "train_loader = torch.utils.data.DataLoader(cifar2_train, batch_size=batch_size, shuffle=False)\n",
    "res = train(n_epoch, optimizer, model, loss_fn, train_loader)"
   ]
  },
  {
   "cell_type": "code",
   "execution_count": 97,
   "metadata": {},
   "outputs": [
    {
     "name": "stdout",
     "output_type": "stream",
     "text": [
      "11:38:00.219010  |  Epoch 1  |  Training loss 0.697\n",
      "11:38:08.667992  |  Epoch 10  |  Training loss 0.481\n",
      "11:38:18.020535  |  Epoch 20  |  Training loss 0.400\n",
      "11:38:27.312707  |  Epoch 30  |  Training loss 0.334\n"
     ]
    }
   ],
   "source": [
    "torch.manual_seed(seed)\n",
    "model = MyMLP().to(device=device) \n",
    "train_loader = torch.utils.data.DataLoader(cifar2_train, batch_size=batch_size, shuffle=False)\n",
    "lr = 0.01\n",
    "weight_decay= 0.01\n",
    "res = train_manual_update(n_epoch, lr, weight_decay, model, loss_fn, train_loader)"
   ]
  },
  {
   "cell_type": "markdown",
   "metadata": {},
   "source": [
    "# 3.7\n",
    "\n",
    "Modify train manual update by adding a momentum term in your parameter update. Add\n",
    "an additional momentum parameter to train manual update. Check again the correctness of\n",
    "the new update rule by comparing it to train function (with 0 < momentum < 1)."
   ]
  },
  {
   "cell_type": "code",
   "execution_count": 98,
   "metadata": {},
   "outputs": [],
   "source": [
    "def train_manual_update(n_epochs, lr, weight_decay, momentum_coeff, model, loss_fn, train_loader):\n",
    "    n_batch = len(train_loader)\n",
    "    losses_train = []\n",
    "    model.train()\n",
    "    \n",
    "    for epoch in range(1, n_epochs + 1):\n",
    "        loss_train = 0.0\n",
    "\n",
    "        layers = sum([1 for _ in model.parameters()])\n",
    "        velocity = [[]] * layers\n",
    "\n",
    "        for imgs, labels in train_loader:\n",
    "\n",
    "            imgs = imgs.to(device=device, dtype=torch.double)\n",
    "            labels = labels.to(device=device)\n",
    "\n",
    "            outputs = model(imgs)\n",
    "            \n",
    "            loss = loss_fn(outputs, labels)\n",
    "\n",
    "            # L2 Reg\n",
    "            L2_reg = None\n",
    "            for param in model.parameters():\n",
    "                if L2_reg == None:\n",
    "                    L2_reg = 0.5 * torch.pow(param, 2).sum()\n",
    "                else:\n",
    "                    L2_reg += 0.5 * torch.pow(param, 2).sum()\n",
    "            \n",
    "            loss += (weight_decay * L2_reg) / (2*len(train_loader))\n",
    "            loss.backward()\n",
    "\n",
    "\n",
    "            # Momentum \n",
    "            with torch.no_grad():\n",
    "                for param_idx, param in enumerate(model.parameters()):\n",
    "                    if velocity[param_idx] == []:\n",
    "                        velocity[param_idx] = torch.zeros(param.grad.shape).to(device=device)\n",
    "\n",
    "                    velocity[param_idx] = velocity[param_idx] * momentum_coeff + param.grad\n",
    "                    \n",
    "                    param -= lr*velocity[param_idx]\n",
    "                model.zero_grad()\n",
    "            \n",
    "            \n",
    "            # optimizer step\n",
    "            with torch.no_grad():\n",
    "                for p in model.parameters():\n",
    "                    p -= lr * p.grad\n",
    "                model.zero_grad()\n",
    "        \n",
    "            \n",
    "            loss_train += loss.item()\n",
    "            \n",
    "        losses_train.append(loss_train / n_batch)\n",
    "\n",
    "        if epoch == 1 or epoch % 10 == 0:\n",
    "            print('{}  |  Epoch {}  |  Training loss {:.3f}'.format(\n",
    "                datetime.now().time(), epoch, loss_train / n_batch))\n",
    "    return losses_train"
   ]
  },
  {
   "cell_type": "code",
   "execution_count": 99,
   "metadata": {},
   "outputs": [
    {
     "name": "stdout",
     "output_type": "stream",
     "text": [
      "14:52:37.363943  |  Epoch 1  |  Training loss 0.620\n",
      "14:52:45.837682  |  Epoch 10  |  Training loss 0.262\n",
      "14:52:54.905316  |  Epoch 20  |  Training loss 0.191\n",
      "14:53:03.846555  |  Epoch 30  |  Training loss 0.087\n"
     ]
    },
    {
     "data": {
      "text/plain": [
       "[0.6197159367150589,\n",
       " 0.4851744007381643,\n",
       " 0.4337747364279043,\n",
       " 0.39923619147999084,\n",
       " 0.37261967820073433,\n",
       " 0.3412975960276278,\n",
       " 0.31786830551926454,\n",
       " 0.2982694451620969,\n",
       " 0.27962311738510653,\n",
       " 0.2621730343009682,\n",
       " 0.25557925876148574,\n",
       " 0.2514835548522462,\n",
       " 0.2332476599459216,\n",
       " 0.21645391711632564,\n",
       " 0.2004332527346621,\n",
       " 0.18797397852520473,\n",
       " 0.18233553354178433,\n",
       " 0.19818053112630502,\n",
       " 0.19478543418845584,\n",
       " 0.19053297655903967,\n",
       " 0.20984107986232303,\n",
       " 0.21646185132131848,\n",
       " 0.21819009632657427,\n",
       " 0.18378265287522422,\n",
       " 0.15727066061441133,\n",
       " 0.13241703954642914,\n",
       " 0.11206583415673098,\n",
       " 0.09618548591236015,\n",
       " 0.08704017878793552,\n",
       " 0.08699225187862035]"
      ]
     },
     "execution_count": 99,
     "metadata": {},
     "output_type": "execute_result"
    }
   ],
   "source": [
    "torch.manual_seed(seed)\n",
    "model = MyMLP().to(device=device) \n",
    "optimizer = optim.SGD(model.parameters(), lr=0.01, weight_decay=0.01, momentum=0.9)\n",
    "train_loader = torch.utils.data.DataLoader(cifar2_train, batch_size=batch_size, shuffle=False)\n",
    "res train(n_epoch, optimizer, model, loss_fn, train_loader)"
   ]
  },
  {
   "cell_type": "code",
   "execution_count": 100,
   "metadata": {},
   "outputs": [
    {
     "name": "stdout",
     "output_type": "stream",
     "text": [
      "14:53:04.985964  |  Epoch 1  |  Training loss 0.634\n"
     ]
    }
   ],
   "source": [
    "torch.manual_seed(seed)\n",
    "model = MyMLP().to(device=device) \n",
    "train_loader = torch.utils.data.DataLoader(cifar2_train, batch_size=batch_size, shuffle=False)\n",
    "lr=0.01\n",
    "weight_decay=0.01\n",
    "momentum=0.9\n",
    "train_manual_update(n_epoch, lr, weight_decay, momentum, model, loss_fn, train_loader)"
   ]
  },
  {
   "cell_type": "markdown",
   "metadata": {},
   "source": [
    "# 3.8\n",
    "\n",
    "Train different instances (at least 4) of the MyMLP model with different learning rate, momentum\n",
    "and weight decay values . You can choose the same values as in the\n",
    "gradient descent output.txt file"
   ]
  },
  {
   "cell_type": "code",
   "execution_count": null,
   "metadata": {},
   "outputs": [],
   "source": []
  },
  {
   "cell_type": "markdown",
   "metadata": {},
   "source": [
    "# 3.9\n",
    "Select the best model among those trained in the previous question based on their accuracy"
   ]
  },
  {
   "cell_type": "code",
   "execution_count": null,
   "metadata": {},
   "outputs": [],
   "source": []
  },
  {
   "cell_type": "markdown",
   "metadata": {},
   "source": [
    "# 3.10\n",
    "Evaluate the best model"
   ]
  }
 ],
 "metadata": {
  "interpreter": {
   "hash": "f2237f2d220ad310471ebc7a3ba2d52d32f1f45a06155c1490d637beab9bd187"
  },
  "kernelspec": {
   "display_name": "Python 3.9.7 ('INF265_gpu')",
   "language": "python",
   "name": "python3"
  },
  "language_info": {
   "codemirror_mode": {
    "name": "ipython",
    "version": 3
   },
   "file_extension": ".py",
   "mimetype": "text/x-python",
   "name": "python",
   "nbconvert_exporter": "python",
   "pygments_lexer": "ipython3",
   "version": "3.9.7"
  },
  "orig_nbformat": 4
 },
 "nbformat": 4,
 "nbformat_minor": 2
}

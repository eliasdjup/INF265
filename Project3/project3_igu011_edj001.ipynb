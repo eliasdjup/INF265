{
 "cells": [
  {
   "cell_type": "markdown",
   "metadata": {},
   "source": [
    "# Project 3 - Sequence models\n",
    "\n",
    "igu011 and edj001"
   ]
  },
  {
   "cell_type": "code",
   "execution_count": 2,
   "metadata": {},
   "outputs": [
    {
     "data": {
      "text/html": [
       "<pre style=\"white-space:pre;overflow-x:auto;line-height:normal;font-family:Menlo,'DejaVu Sans Mono',consolas,'Courier New',monospace\">Device cpu.\n",
       "</pre>\n"
      ],
      "text/plain": [
       "Device cpu.\n"
      ]
     },
     "metadata": {},
     "output_type": "display_data"
    }
   ],
   "source": [
    "import torch\n",
    "from torch import nn, optim\n",
    "import torch.nn.functional as F\n",
    "from datetime import datetime\n",
    "from torch.utils.data import DataLoader, TensorDataset\n",
    "from rich import print\n",
    "\n",
    "import numpy as np\n",
    "import torchtext\n",
    "from os import listdir\n",
    "import re\n",
    "from torchtext.data.utils import get_tokenizer\n",
    "from torchtext.vocab import build_vocab_from_iterator\n",
    "\n",
    "torch.manual_seed(265)\n",
    "torch.set_default_dtype(torch.double)\n",
    "\n",
    "device = torch.device(\"cpu\")\n",
    "print(f\"Device {device}.\")\n"
   ]
  },
  {
   "cell_type": "markdown",
   "metadata": {},
   "source": [
    "## 2.1 Word embedding"
   ]
  },
  {
   "cell_type": "markdown",
   "metadata": {},
   "source": [
    "#### 1 - Read txt files and tokenize them to obtain train/validation/test lists of words.\n"
   ]
  },
  {
   "cell_type": "code",
   "execution_count": 3,
   "metadata": {},
   "outputs": [],
   "source": [
    "tokenizer = get_tokenizer(\"basic_english\")\n",
    "\n",
    "\n",
    "def read_files(datapath=\"./\"):\n",
    "    files = listdir(datapath)\n",
    "    files = [datapath + f for f in files if f.endswith(\".txt\")]\n",
    "\n",
    "    lines = []\n",
    "    for f_name in files:\n",
    "        with open(f_name) as f:\n",
    "            lines += f.readlines()\n",
    "    return lines\n",
    "\n",
    "\n",
    "no_digits = \"\\w*[0-9]+\\w*\"\n",
    "no_names = \"\\w*[A-Z]+\\w*\"\n",
    "no_spaces = \"\\s+\"\n",
    "\n",
    "\n",
    "def tokenize(lines):\n",
    "    list_text = []\n",
    "    for line in lines:\n",
    "        list_text += tokenizer(line)\n",
    "    return list_text\n",
    "\n",
    "\n",
    "def yield_tokens(lines):\n",
    "    for line in lines:\n",
    "        line = re.sub(no_digits + \"|\" + no_names, \" \", line)\n",
    "        line = re.sub(no_spaces, \" \", line)\n",
    "        yield tokenizer(line)\n",
    "\n",
    "\n",
    "def count_freqs(data, vocab):\n",
    "    freqs = torch.zeros(len(vocab), dtype=torch.int)\n",
    "    for w in data:\n",
    "        freqs[vocab[w]] += 1\n",
    "    return freqs\n",
    "\n",
    "\n",
    "train_books = read_files(datapath=\"./data_train/\")\n",
    "train_tokenized = tokenize(train_books)\n",
    "\n",
    "val_books = read_files(datapath=\"./data_val/\")\n",
    "val_tokenized = tokenize(val_books)\n",
    "\n",
    "test_books = read_files(datapath=\"./data_test/\")\n",
    "test_tokenized = tokenize(test_books)\n"
   ]
  },
  {
   "cell_type": "markdown",
   "metadata": {},
   "source": [
    "#### 2 - Define a vocabulary based on the training dataset\n",
    "To avoid getting a too large vocabulary, a solution can be to keep only words that appear at least 100 times in the training dataset.\n",
    "Report the total number of words in the training dataset, the number of distinct words in the\n",
    "training dataset and the size the defined vocabulary. Comment your results."
   ]
  },
  {
   "cell_type": "code",
   "execution_count": 4,
   "metadata": {},
   "outputs": [
    {
     "data": {
      "text/html": [
       "<pre style=\"white-space:pre;overflow-x:auto;line-height:normal;font-family:Menlo,'DejaVu Sans Mono',consolas,'Courier New',monospace\">Total number of words in the dataset:    <span style=\"color: #008080; text-decoration-color: #008080; font-weight: bold\">1368807</span>\n",
       "</pre>\n"
      ],
      "text/plain": [
       "Total number of words in the dataset:    \u001b[1;36m1368807\u001b[0m\n"
      ]
     },
     "metadata": {},
     "output_type": "display_data"
    },
    {
     "data": {
      "text/html": [
       "<pre style=\"white-space:pre;overflow-x:auto;line-height:normal;font-family:Menlo,'DejaVu Sans Mono',consolas,'Courier New',monospace\">Number of distinct words in the dataset: <span style=\"color: #008080; text-decoration-color: #008080; font-weight: bold\">30374</span>\n",
       "</pre>\n"
      ],
      "text/plain": [
       "Number of distinct words in the dataset: \u001b[1;36m30374\u001b[0m\n"
      ]
     },
     "metadata": {},
     "output_type": "display_data"
    },
    {
     "data": {
      "text/html": [
       "<pre style=\"white-space:pre;overflow-x:auto;line-height:normal;font-family:Menlo,'DejaVu Sans Mono',consolas,'Courier New',monospace\">Size the defined vocabular:              <span style=\"color: #008080; text-decoration-color: #008080; font-weight: bold\">1050</span>\n",
       "</pre>\n"
      ],
      "text/plain": [
       "Size the defined vocabular:              \u001b[1;36m1050\u001b[0m\n"
      ]
     },
     "metadata": {},
     "output_type": "display_data"
    },
    {
     "data": {
      "text/html": [
       "<pre style=\"white-space:pre;overflow-x:auto;line-height:normal;font-family:Menlo,'DejaVu Sans Mono',consolas,'Courier New',monospace\">Top <span style=\"color: #008080; text-decoration-color: #008080; font-weight: bold\">20</span> occurences:\n",
       "\n",
       "<span style=\"font-weight: bold\">[</span>\n",
       "    <span style=\"font-weight: bold\">(</span><span style=\"color: #008080; text-decoration-color: #008080; font-weight: bold\">71106</span>, <span style=\"color: #008000; text-decoration-color: #008000\">'the'</span><span style=\"font-weight: bold\">)</span>,\n",
       "    <span style=\"font-weight: bold\">(</span><span style=\"color: #008080; text-decoration-color: #008080; font-weight: bold\">43426</span>, <span style=\"color: #008000; text-decoration-color: #008000\">'and'</span><span style=\"font-weight: bold\">)</span>,\n",
       "    <span style=\"font-weight: bold\">(</span><span style=\"color: #008080; text-decoration-color: #008080; font-weight: bold\">33952</span>, <span style=\"color: #008000; text-decoration-color: #008000\">'to'</span><span style=\"font-weight: bold\">)</span>,\n",
       "    <span style=\"font-weight: bold\">(</span><span style=\"color: #008080; text-decoration-color: #008080; font-weight: bold\">30061</span>, <span style=\"color: #008000; text-decoration-color: #008000\">'of'</span><span style=\"font-weight: bold\">)</span>,\n",
       "    <span style=\"font-weight: bold\">(</span><span style=\"color: #008080; text-decoration-color: #008080; font-weight: bold\">23575</span>, <span style=\"color: #008000; text-decoration-color: #008000\">'a'</span><span style=\"font-weight: bold\">)</span>,\n",
       "    <span style=\"font-weight: bold\">(</span><span style=\"color: #008080; text-decoration-color: #008080; font-weight: bold\">18657</span>, <span style=\"color: #008000; text-decoration-color: #008000\">'in'</span><span style=\"font-weight: bold\">)</span>,\n",
       "    <span style=\"font-weight: bold\">(</span><span style=\"color: #008080; text-decoration-color: #008080; font-weight: bold\">20755</span>, <span style=\"color: #008000; text-decoration-color: #008000\">'he'</span><span style=\"font-weight: bold\">)</span>,\n",
       "    <span style=\"font-weight: bold\">(</span><span style=\"color: #008080; text-decoration-color: #008080; font-weight: bold\">16814</span>, <span style=\"color: #008000; text-decoration-color: #008000\">'that'</span><span style=\"font-weight: bold\">)</span>,\n",
       "    <span style=\"font-weight: bold\">(</span><span style=\"color: #008080; text-decoration-color: #008080; font-weight: bold\">15056</span>, <span style=\"color: #008000; text-decoration-color: #008000\">'was'</span><span style=\"font-weight: bold\">)</span>,\n",
       "    <span style=\"font-weight: bold\">(</span><span style=\"color: #008080; text-decoration-color: #008080; font-weight: bold\">14400</span>, <span style=\"color: #008000; text-decoration-color: #008000\">'his'</span><span style=\"font-weight: bold\">)</span>,\n",
       "    <span style=\"font-weight: bold\">(</span><span style=\"color: #008080; text-decoration-color: #008080; font-weight: bold\">13815</span>, <span style=\"color: #008000; text-decoration-color: #008000\">'it'</span><span style=\"font-weight: bold\">)</span>,\n",
       "    <span style=\"font-weight: bold\">(</span><span style=\"color: #008080; text-decoration-color: #008080; font-weight: bold\">10997</span>, <span style=\"color: #008000; text-decoration-color: #008000\">'with'</span><span style=\"font-weight: bold\">)</span>,\n",
       "    <span style=\"font-weight: bold\">(</span><span style=\"color: #008080; text-decoration-color: #008080; font-weight: bold\">10735</span>, <span style=\"color: #008000; text-decoration-color: #008000\">'had'</span><span style=\"font-weight: bold\">)</span>,\n",
       "    <span style=\"font-weight: bold\">(</span><span style=\"color: #008080; text-decoration-color: #008080; font-weight: bold\">9430</span>, <span style=\"color: #008000; text-decoration-color: #008000\">'her'</span><span style=\"font-weight: bold\">)</span>,\n",
       "    <span style=\"font-weight: bold\">(</span><span style=\"color: #008080; text-decoration-color: #008080; font-weight: bold\">9334</span>, <span style=\"color: #008000; text-decoration-color: #008000\">'not'</span><span style=\"font-weight: bold\">)</span>,\n",
       "    <span style=\"font-weight: bold\">(</span><span style=\"color: #008080; text-decoration-color: #008080; font-weight: bold\">10562</span>, <span style=\"color: #008000; text-decoration-color: #008000\">'you'</span><span style=\"font-weight: bold\">)</span>,\n",
       "    <span style=\"font-weight: bold\">(</span><span style=\"color: #008080; text-decoration-color: #008080; font-weight: bold\">9198</span>, <span style=\"color: #008000; text-decoration-color: #008000\">'as'</span><span style=\"font-weight: bold\">)</span>,\n",
       "    <span style=\"font-weight: bold\">(</span><span style=\"color: #008080; text-decoration-color: #008080; font-weight: bold\">9152</span>, <span style=\"color: #008000; text-decoration-color: #008000\">'at'</span><span style=\"font-weight: bold\">)</span>,\n",
       "    <span style=\"font-weight: bold\">(</span><span style=\"color: #008080; text-decoration-color: #008080; font-weight: bold\">8447</span>, <span style=\"color: #008000; text-decoration-color: #008000\">'him'</span><span style=\"font-weight: bold\">)</span>\n",
       "<span style=\"font-weight: bold\">]</span>\n",
       "</pre>\n"
      ],
      "text/plain": [
       "Top \u001b[1;36m20\u001b[0m occurences:\n",
       "\n",
       "\u001b[1m[\u001b[0m\n",
       "    \u001b[1m(\u001b[0m\u001b[1;36m71106\u001b[0m, \u001b[32m'the'\u001b[0m\u001b[1m)\u001b[0m,\n",
       "    \u001b[1m(\u001b[0m\u001b[1;36m43426\u001b[0m, \u001b[32m'and'\u001b[0m\u001b[1m)\u001b[0m,\n",
       "    \u001b[1m(\u001b[0m\u001b[1;36m33952\u001b[0m, \u001b[32m'to'\u001b[0m\u001b[1m)\u001b[0m,\n",
       "    \u001b[1m(\u001b[0m\u001b[1;36m30061\u001b[0m, \u001b[32m'of'\u001b[0m\u001b[1m)\u001b[0m,\n",
       "    \u001b[1m(\u001b[0m\u001b[1;36m23575\u001b[0m, \u001b[32m'a'\u001b[0m\u001b[1m)\u001b[0m,\n",
       "    \u001b[1m(\u001b[0m\u001b[1;36m18657\u001b[0m, \u001b[32m'in'\u001b[0m\u001b[1m)\u001b[0m,\n",
       "    \u001b[1m(\u001b[0m\u001b[1;36m20755\u001b[0m, \u001b[32m'he'\u001b[0m\u001b[1m)\u001b[0m,\n",
       "    \u001b[1m(\u001b[0m\u001b[1;36m16814\u001b[0m, \u001b[32m'that'\u001b[0m\u001b[1m)\u001b[0m,\n",
       "    \u001b[1m(\u001b[0m\u001b[1;36m15056\u001b[0m, \u001b[32m'was'\u001b[0m\u001b[1m)\u001b[0m,\n",
       "    \u001b[1m(\u001b[0m\u001b[1;36m14400\u001b[0m, \u001b[32m'his'\u001b[0m\u001b[1m)\u001b[0m,\n",
       "    \u001b[1m(\u001b[0m\u001b[1;36m13815\u001b[0m, \u001b[32m'it'\u001b[0m\u001b[1m)\u001b[0m,\n",
       "    \u001b[1m(\u001b[0m\u001b[1;36m10997\u001b[0m, \u001b[32m'with'\u001b[0m\u001b[1m)\u001b[0m,\n",
       "    \u001b[1m(\u001b[0m\u001b[1;36m10735\u001b[0m, \u001b[32m'had'\u001b[0m\u001b[1m)\u001b[0m,\n",
       "    \u001b[1m(\u001b[0m\u001b[1;36m9430\u001b[0m, \u001b[32m'her'\u001b[0m\u001b[1m)\u001b[0m,\n",
       "    \u001b[1m(\u001b[0m\u001b[1;36m9334\u001b[0m, \u001b[32m'not'\u001b[0m\u001b[1m)\u001b[0m,\n",
       "    \u001b[1m(\u001b[0m\u001b[1;36m10562\u001b[0m, \u001b[32m'you'\u001b[0m\u001b[1m)\u001b[0m,\n",
       "    \u001b[1m(\u001b[0m\u001b[1;36m9198\u001b[0m, \u001b[32m'as'\u001b[0m\u001b[1m)\u001b[0m,\n",
       "    \u001b[1m(\u001b[0m\u001b[1;36m9152\u001b[0m, \u001b[32m'at'\u001b[0m\u001b[1m)\u001b[0m,\n",
       "    \u001b[1m(\u001b[0m\u001b[1;36m8447\u001b[0m, \u001b[32m'him'\u001b[0m\u001b[1m)\u001b[0m\n",
       "\u001b[1m]\u001b[0m\n"
      ]
     },
     "metadata": {},
     "output_type": "display_data"
    }
   ],
   "source": [
    "specials = [\"<unk>\", \",\", \".\", \"!\", \"?\"]\n",
    "vocab = build_vocab_from_iterator(yield_tokens(train_books), min_freq=100, specials=specials)\n",
    "\n",
    "vocab.append_token(\"i\")\n",
    "\n",
    "vocab.set_default_index(vocab[\"<unk>\"])\n",
    "vocab_size = len(vocab)\n",
    "\n",
    "print(\"Total number of words in the dataset:   \", len(train_tokenized))\n",
    "print(\"Number of distinct words in the dataset:\", len(set(train_tokenized)))\n",
    "print(\"Size the defined vocabular:             \", vocab_size)\n",
    "\n",
    "\n",
    "freqs = count_freqs(train_tokenized, vocab)\n",
    "top20 = freqs[len(specials) : len(specials) + 19]\n",
    "print(\n",
    "    \"Top 20 occurences:\\n\",\n",
    "    [\n",
    "        (f.item(), w)\n",
    "        for (f, w) in zip(top20, vocab.lookup_tokens(range(len(specials), len(specials) + 19)))\n",
    "    ],\n",
    ")\n"
   ]
  },
  {
   "cell_type": "code",
   "execution_count": 5,
   "metadata": {},
   "outputs": [],
   "source": [
    "def create_dataset(text, vocab, context_size=3):\n",
    "    \"\"\"\n",
    "    Create a dataset from a list of context words and a list of target words\n",
    "    \"\"\"\n",
    "    contexts = []\n",
    "    targets = []\n",
    "    n_text = len(text)\n",
    "\n",
    "    txt = [vocab[w] for w in text]\n",
    "\n",
    "    for i in range(n_text - context_size):\n",
    "\n",
    "        t = txt[i + context_size]\n",
    "\n",
    "        c = torch.Tensor(txt[i : i + context_size]).type(torch.long)\n",
    "\n",
    "        targets.append(t)\n",
    "\n",
    "        contexts.append(c)\n",
    "\n",
    "    contexts = torch.stack(contexts)\n",
    "    targets = torch.tensor(targets)\n",
    "    return TensorDataset(contexts, targets)\n",
    "\n",
    "\n",
    "context_size = 3\n",
    "\n",
    "train_data = create_dataset(train_tokenized, vocab, context_size=context_size)\n",
    "val_data = create_dataset(val_tokenized, vocab, context_size=context_size)\n",
    "test_data = create_dataset(test_tokenized, vocab, context_size=context_size)\n",
    "\n",
    "batch_size = 64\n",
    "\n",
    "train_loader = DataLoader(train_data, batch_size=batch_size, shuffle=False)\n",
    "val_loader = DataLoader(val_data, batch_size=batch_size, shuffle=False)\n",
    "test_loader = DataLoader(test_data, batch_size=batch_size, shuffle=False)\n"
   ]
  },
  {
   "cell_type": "markdown",
   "metadata": {},
   "source": [
    "#### 3 - Define a n-gram language model architecture based on this vocabulary that contains an embedding layer.\n",
    "To drastically reduce computational cost, the dimension of the embedding can be as low as 16 even though in a real setting a larger space would be used."
   ]
  },
  {
   "cell_type": "code",
   "execution_count": 6,
   "metadata": {},
   "outputs": [],
   "source": [
    "class NGram(nn.Module):\n",
    "    def __init__(self, vocab_size, embedding_dim, context_size):\n",
    "        super(NGram, self).__init__()\n",
    "        self.embeddings = nn.Embedding(vocab_size, embedding_dim)\n",
    "        self.linear1 = nn.Linear(context_size * embedding_dim, 128)\n",
    "        self.linear2 = nn.Linear(128, vocab_size)\n",
    "\n",
    "    def forward(self, inputs):\n",
    "        embeds = self.embeddings(inputs).view((inputs.shape[0], -1))\n",
    "        out = self.linear1(embeds)\n",
    "        out = self.linear2(out)\n",
    "        log_probs = F.log_softmax(out, dim=1)\n",
    "        return log_probs\n"
   ]
  },
  {
   "cell_type": "markdown",
   "metadata": {},
   "source": [
    "#### 4 - Train several models, select the best one and evaluate its performance.\n",
    "Note that the accuracy here is potentially extremely low, but the real objective is not to train a good predictor, only\n",
    "to have a good representation of the semantic of each word in the vocabulary"
   ]
  },
  {
   "cell_type": "code",
   "execution_count": 15,
   "metadata": {},
   "outputs": [],
   "source": [
    "def train(n_epochs, optimizer, model, loss_fn, train_loader):\n",
    "    \"\"\"\n",
    "    Train our model and save weight values\n",
    "    \"\"\"\n",
    "    n_batch = len(train_loader)\n",
    "    losses_train = []\n",
    "    model.train()\n",
    "    optimizer.zero_grad(set_to_none=True)\n",
    "\n",
    "    for epoch in range(1, n_epochs + 1):\n",
    "\n",
    "        loss_train = 0.0\n",
    "        for contexts, labels in train_loader:\n",
    "\n",
    "            contexts = contexts.to(device=device)\n",
    "            labels = labels.to(device=device)\n",
    "            outputs = model(contexts)\n",
    "\n",
    "            loss = loss_fn(outputs, labels)\n",
    "            loss.backward()\n",
    "            optimizer.step()\n",
    "            optimizer.zero_grad()\n",
    "\n",
    "            loss_train += loss.item()\n",
    "\n",
    "        losses_train.append(loss_train / n_batch)\n",
    "\n",
    "        print(\n",
    "            \"{}  |  Epoch {}  |  Training loss {:.5f}\".format(\n",
    "                datetime.now().time(), epoch, loss_train / n_batch\n",
    "            )\n",
    "        )\n",
    "    return\n",
    "\n",
    "\n",
    "def relative_error(a, b):\n",
    "    return torch.norm(a - b) / torch.norm(a)\n"
   ]
  },
  {
   "cell_type": "code",
   "execution_count": 16,
   "metadata": {},
   "outputs": [
    {
     "data": {
      "text/html": [
       "<pre style=\"white-space:pre;overflow-x:auto;line-height:normal;font-family:Menlo,'DejaVu Sans Mono',consolas,'Courier New',monospace\"><span style=\"color: #00ff00; text-decoration-color: #00ff00; font-weight: bold\">20:53:56</span>.<span style=\"color: #008080; text-decoration-color: #008080; font-weight: bold\">409346</span>  |  Epoch <span style=\"color: #008080; text-decoration-color: #008080; font-weight: bold\">1</span>  |  Training loss <span style=\"color: #008080; text-decoration-color: #008080; font-weight: bold\">4.16639</span>\n",
       "</pre>\n"
      ],
      "text/plain": [
       "\u001b[1;92m20:53:56\u001b[0m.\u001b[1;36m409346\u001b[0m  |  Epoch \u001b[1;36m1\u001b[0m  |  Training loss \u001b[1;36m4.16639\u001b[0m\n"
      ]
     },
     "metadata": {},
     "output_type": "display_data"
    },
    {
     "data": {
      "text/html": [
       "<pre style=\"white-space:pre;overflow-x:auto;line-height:normal;font-family:Menlo,'DejaVu Sans Mono',consolas,'Courier New',monospace\"><span style=\"color: #00ff00; text-decoration-color: #00ff00; font-weight: bold\">20:54:56</span>.<span style=\"color: #008080; text-decoration-color: #008080; font-weight: bold\">179700</span>  |  Epoch <span style=\"color: #008080; text-decoration-color: #008080; font-weight: bold\">2</span>  |  Training loss <span style=\"color: #008080; text-decoration-color: #008080; font-weight: bold\">3.97299</span>\n",
       "</pre>\n"
      ],
      "text/plain": [
       "\u001b[1;92m20:54:56\u001b[0m.\u001b[1;36m179700\u001b[0m  |  Epoch \u001b[1;36m2\u001b[0m  |  Training loss \u001b[1;36m3.97299\u001b[0m\n"
      ]
     },
     "metadata": {},
     "output_type": "display_data"
    },
    {
     "data": {
      "text/html": [
       "<pre style=\"white-space:pre;overflow-x:auto;line-height:normal;font-family:Menlo,'DejaVu Sans Mono',consolas,'Courier New',monospace\"><span style=\"color: #00ff00; text-decoration-color: #00ff00; font-weight: bold\">20:55:52</span>.<span style=\"color: #008080; text-decoration-color: #008080; font-weight: bold\">596298</span>  |  Epoch <span style=\"color: #008080; text-decoration-color: #008080; font-weight: bold\">3</span>  |  Training loss <span style=\"color: #008080; text-decoration-color: #008080; font-weight: bold\">3.90656</span>\n",
       "</pre>\n"
      ],
      "text/plain": [
       "\u001b[1;92m20:55:52\u001b[0m.\u001b[1;36m596298\u001b[0m  |  Epoch \u001b[1;36m3\u001b[0m  |  Training loss \u001b[1;36m3.90656\u001b[0m\n"
      ]
     },
     "metadata": {},
     "output_type": "display_data"
    },
    {
     "data": {
      "text/html": [
       "<pre style=\"white-space:pre;overflow-x:auto;line-height:normal;font-family:Menlo,'DejaVu Sans Mono',consolas,'Courier New',monospace\"><span style=\"color: #00ff00; text-decoration-color: #00ff00; font-weight: bold\">20:56:49</span>.<span style=\"color: #008080; text-decoration-color: #008080; font-weight: bold\">213851</span>  |  Epoch <span style=\"color: #008080; text-decoration-color: #008080; font-weight: bold\">4</span>  |  Training loss <span style=\"color: #008080; text-decoration-color: #008080; font-weight: bold\">3.86652</span>\n",
       "</pre>\n"
      ],
      "text/plain": [
       "\u001b[1;92m20:56:49\u001b[0m.\u001b[1;36m213851\u001b[0m  |  Epoch \u001b[1;36m4\u001b[0m  |  Training loss \u001b[1;36m3.86652\u001b[0m\n"
      ]
     },
     "metadata": {},
     "output_type": "display_data"
    }
   ],
   "source": [
    "loss_fn = nn.NLLLoss()\n",
    "\n",
    "n_epochs = 4\n",
    "lr = 0.1\n",
    "embedding_dim = 16\n",
    "\n",
    "NGram_model = NGram(vocab_size, embedding_dim, context_size).to(device=device)\n",
    "optimizer = optim.SGD(NGram_model.parameters(), lr=lr)\n",
    "\n",
    "weight = train(\n",
    "    n_epochs=n_epochs,\n",
    "    optimizer=optimizer,\n",
    "    model=NGram_model,\n",
    "    loss_fn=loss_fn,\n",
    "    train_loader=train_loader,\n",
    ")\n"
   ]
  },
  {
   "cell_type": "code",
   "execution_count": 19,
   "metadata": {},
   "outputs": [
    {
     "data": {
      "text/html": [
       "<pre style=\"white-space:pre;overflow-x:auto;line-height:normal;font-family:Menlo,'DejaVu Sans Mono',consolas,'Courier New',monospace\"><span style=\"color: #00ff00; text-decoration-color: #00ff00; font-weight: bold\">21:00:21</span>.<span style=\"color: #008080; text-decoration-color: #008080; font-weight: bold\">204233</span>  |  Epoch <span style=\"color: #008080; text-decoration-color: #008080; font-weight: bold\">1</span>  |  Training loss <span style=\"color: #008080; text-decoration-color: #008080; font-weight: bold\">4.02171</span>\n",
       "</pre>\n"
      ],
      "text/plain": [
       "\u001b[1;92m21:00:21\u001b[0m.\u001b[1;36m204233\u001b[0m  |  Epoch \u001b[1;36m1\u001b[0m  |  Training loss \u001b[1;36m4.02171\u001b[0m\n"
      ]
     },
     "metadata": {},
     "output_type": "display_data"
    },
    {
     "data": {
      "text/html": [
       "<pre style=\"white-space:pre;overflow-x:auto;line-height:normal;font-family:Menlo,'DejaVu Sans Mono',consolas,'Courier New',monospace\"><span style=\"color: #00ff00; text-decoration-color: #00ff00; font-weight: bold\">21:01:22</span>.<span style=\"color: #008080; text-decoration-color: #008080; font-weight: bold\">406432</span>  |  Epoch <span style=\"color: #008080; text-decoration-color: #008080; font-weight: bold\">2</span>  |  Training loss <span style=\"color: #008080; text-decoration-color: #008080; font-weight: bold\">3.84359</span>\n",
       "</pre>\n"
      ],
      "text/plain": [
       "\u001b[1;92m21:01:22\u001b[0m.\u001b[1;36m406432\u001b[0m  |  Epoch \u001b[1;36m2\u001b[0m  |  Training loss \u001b[1;36m3.84359\u001b[0m\n"
      ]
     },
     "metadata": {},
     "output_type": "display_data"
    },
    {
     "data": {
      "text/html": [
       "<pre style=\"white-space:pre;overflow-x:auto;line-height:normal;font-family:Menlo,'DejaVu Sans Mono',consolas,'Courier New',monospace\"><span style=\"color: #00ff00; text-decoration-color: #00ff00; font-weight: bold\">21:02:23</span>.<span style=\"color: #008080; text-decoration-color: #008080; font-weight: bold\">459267</span>  |  Epoch <span style=\"color: #008080; text-decoration-color: #008080; font-weight: bold\">3</span>  |  Training loss <span style=\"color: #008080; text-decoration-color: #008080; font-weight: bold\">3.78601</span>\n",
       "</pre>\n"
      ],
      "text/plain": [
       "\u001b[1;92m21:02:23\u001b[0m.\u001b[1;36m459267\u001b[0m  |  Epoch \u001b[1;36m3\u001b[0m  |  Training loss \u001b[1;36m3.78601\u001b[0m\n"
      ]
     },
     "metadata": {},
     "output_type": "display_data"
    },
    {
     "data": {
      "text/html": [
       "<pre style=\"white-space:pre;overflow-x:auto;line-height:normal;font-family:Menlo,'DejaVu Sans Mono',consolas,'Courier New',monospace\"><span style=\"color: #00ff00; text-decoration-color: #00ff00; font-weight: bold\">21:03:25</span>.<span style=\"color: #008080; text-decoration-color: #008080; font-weight: bold\">199686</span>  |  Epoch <span style=\"color: #008080; text-decoration-color: #008080; font-weight: bold\">4</span>  |  Training loss <span style=\"color: #008080; text-decoration-color: #008080; font-weight: bold\">3.75089</span>\n",
       "</pre>\n"
      ],
      "text/plain": [
       "\u001b[1;92m21:03:25\u001b[0m.\u001b[1;36m199686\u001b[0m  |  Epoch \u001b[1;36m4\u001b[0m  |  Training loss \u001b[1;36m3.75089\u001b[0m\n"
      ]
     },
     "metadata": {},
     "output_type": "display_data"
    }
   ],
   "source": [
    "n_epochs = 4\n",
    "lr = 0.1\n",
    "embedding_dim = 64\n",
    "\n",
    "NGram_larger_model = NGram(vocab_size, embedding_dim, context_size).to(device=device)\n",
    "NGram_larger_optimizer = optim.SGD(NGram_larger_model.parameters(), lr=lr)\n",
    "\n",
    "NGram_larger_model_weight = train(\n",
    "    n_epochs=n_epochs,\n",
    "    optimizer=NGram_larger_optimizer,\n",
    "    model=NGram_larger_model,\n",
    "    loss_fn=loss_fn,\n",
    "    train_loader=train_loader,\n",
    ")\n"
   ]
  },
  {
   "cell_type": "code",
   "execution_count": 20,
   "metadata": {},
   "outputs": [],
   "source": [
    "def accuracy(model, loader):\n",
    "    \"\"\"\n",
    "    Compute the accuracy of model with given data loader\n",
    "    \"\"\"\n",
    "    model.eval()\n",
    "    correct = 0\n",
    "    with torch.no_grad():\n",
    "        for contexts, labels in loader:\n",
    "            contexts = contexts.to(device=device)\n",
    "            labels = labels.to(device=device)\n",
    "\n",
    "            outputs = model(contexts)\n",
    "            _, predicted = torch.max(outputs.data, 1)\n",
    "            correct += (predicted == labels).sum().item()\n",
    "\n",
    "    return correct / len(loader.dataset)"
   ]
  },
  {
   "cell_type": "code",
   "execution_count": 21,
   "metadata": {},
   "outputs": [],
   "source": [
    "def model_selection(models, titles, train_loader, val_loader):\n",
    "    \"\"\"\n",
    "    Choose the best model from the list of models based on validation accuracy\n",
    "    \"\"\"\n",
    "    best_model = None\n",
    "    best_acc = 0\n",
    "    for model, title in zip(models, titles):\n",
    "        acc = accuracy(model, val_loader)\n",
    "        train_acc = accuracy(model, train_loader)\n",
    "        print(f\"{title} | Train accuracy {train_acc:.2%} |  Validation accuracy {acc:.2%}\")\n",
    "        if acc > best_acc:\n",
    "            best_model = model\n",
    "            best_acc = acc\n",
    "    return best_model\n"
   ]
  },
  {
   "cell_type": "code",
   "execution_count": 26,
   "metadata": {},
   "outputs": [
    {
     "data": {
      "text/html": [
       "<pre style=\"white-space:pre;overflow-x:auto;line-height:normal;font-family:Menlo,'DejaVu Sans Mono',consolas,'Courier New',monospace\">NGram | Train accuracy <span style=\"color: #008080; text-decoration-color: #008080; font-weight: bold\">20.57</span>% |  Validation accuracy <span style=\"color: #008080; text-decoration-color: #008080; font-weight: bold\">21.87</span>%\n",
       "</pre>\n"
      ],
      "text/plain": [
       "NGram | Train accuracy \u001b[1;36m20.57\u001b[0m% |  Validation accuracy \u001b[1;36m21.87\u001b[0m%\n"
      ]
     },
     "metadata": {},
     "output_type": "display_data"
    },
    {
     "data": {
      "text/html": [
       "<pre style=\"white-space:pre;overflow-x:auto;line-height:normal;font-family:Menlo,'DejaVu Sans Mono',consolas,'Courier New',monospace\">NGram_larger | Train accuracy <span style=\"color: #008080; text-decoration-color: #008080; font-weight: bold\">20.74</span>% |  Validation accuracy <span style=\"color: #008080; text-decoration-color: #008080; font-weight: bold\">21.95</span>%\n",
       "</pre>\n"
      ],
      "text/plain": [
       "NGram_larger | Train accuracy \u001b[1;36m20.74\u001b[0m% |  Validation accuracy \u001b[1;36m21.95\u001b[0m%\n"
      ]
     },
     "metadata": {},
     "output_type": "display_data"
    },
    {
     "data": {
      "text/html": [
       "<pre style=\"white-space:pre;overflow-x:auto;line-height:normal;font-family:Menlo,'DejaVu Sans Mono',consolas,'Courier New',monospace\">Best model | Test accuracy <span style=\"color: #008080; text-decoration-color: #008080; font-weight: bold\">23.03</span>%\n",
       "</pre>\n"
      ],
      "text/plain": [
       "Best model | Test accuracy \u001b[1;36m23.03\u001b[0m%\n"
      ]
     },
     "metadata": {},
     "output_type": "display_data"
    }
   ],
   "source": [
    "best_model = model_selection(\n",
    "    [NGram_model, NGram_larger_model], [\"NGram\", \"NGram_larger\"], train_loader, val_loader\n",
    ")\n",
    "\n",
    "\n",
    "best_model_acc = accuracy(best_model, test_loader)\n",
    "print(f\"Best model | Test accuracy {best_model_acc:.2%}\")"
   ]
  },
  {
   "cell_type": "markdown",
   "metadata": {},
   "source": [
    "#### 5 - Compute the cosine similarity matrix of the vocabulary based on the trained embedding.\n",
    "For some words of your choice (e.g. me, white, man, have, be, child, yes, what etc.), report the 10\n",
    "most similar words. Comment your results."
   ]
  },
  {
   "cell_type": "code",
   "execution_count": 27,
   "metadata": {},
   "outputs": [],
   "source": [
    "best_model_weights = best_model.embeddings.weight.detach()\n",
    "\n",
    "sim_matrix = np.zeros(shape=(len(best_model_weights), len(best_model_weights)))\n",
    "\n",
    "for w1 in range(0, len(best_model_weights)):\n",
    "    for w2 in range(0, len(best_model_weights)):\n",
    "        # Cosine similarity\n",
    "        sim_matrix[w1][w2] = np.dot(best_model_weights[w1], best_model_weights[w2]) / (\n",
    "            np.linalg.norm(best_model_weights[w1]) * np.linalg.norm(best_model_weights[w2])\n",
    "        )\n"
   ]
  },
  {
   "cell_type": "code",
   "execution_count": 28,
   "metadata": {},
   "outputs": [
    {
     "data": {
      "text/html": [
       "<pre style=\"white-space:pre;overflow-x:auto;line-height:normal;font-family:Menlo,'DejaVu Sans Mono',consolas,'Courier New',monospace\"><span style=\"font-weight: bold\">(</span><span style=\"color: #008000; text-decoration-color: #008000\">'me'</span>, <span style=\"color: #008080; text-decoration-color: #008080; font-weight: bold\">36</span><span style=\"font-weight: bold\">)</span> most similar words:\n",
       "</pre>\n"
      ],
      "text/plain": [
       "\u001b[1m(\u001b[0m\u001b[32m'me'\u001b[0m, \u001b[1;36m36\u001b[0m\u001b[1m)\u001b[0m most similar words:\n"
      ]
     },
     "metadata": {},
     "output_type": "display_data"
    },
    {
     "data": {
      "text/html": [
       "<pre style=\"white-space:pre;overflow-x:auto;line-height:normal;font-family:Menlo,'DejaVu Sans Mono',consolas,'Courier New',monospace\">        <span style=\"font-weight: bold\">(</span><span style=\"color: #008000; text-decoration-color: #008000\">'me'</span>, <span style=\"color: #008080; text-decoration-color: #008080; font-weight: bold\">1.0000000000000002</span><span style=\"font-weight: bold\">)</span>\n",
       "</pre>\n"
      ],
      "text/plain": [
       "        \u001b[1m(\u001b[0m\u001b[32m'me'\u001b[0m, \u001b[1;36m1.0000000000000002\u001b[0m\u001b[1m)\u001b[0m\n"
      ]
     },
     "metadata": {},
     "output_type": "display_data"
    },
    {
     "data": {
      "text/html": [
       "<pre style=\"white-space:pre;overflow-x:auto;line-height:normal;font-family:Menlo,'DejaVu Sans Mono',consolas,'Courier New',monospace\">        <span style=\"font-weight: bold\">(</span><span style=\"color: #008000; text-decoration-color: #008000\">'difficult'</span>, <span style=\"color: #008080; text-decoration-color: #008080; font-weight: bold\">0.40073409398007426</span><span style=\"font-weight: bold\">)</span>\n",
       "</pre>\n"
      ],
      "text/plain": [
       "        \u001b[1m(\u001b[0m\u001b[32m'difficult'\u001b[0m, \u001b[1;36m0.40073409398007426\u001b[0m\u001b[1m)\u001b[0m\n"
      ]
     },
     "metadata": {},
     "output_type": "display_data"
    },
    {
     "data": {
      "text/html": [
       "<pre style=\"white-space:pre;overflow-x:auto;line-height:normal;font-family:Menlo,'DejaVu Sans Mono',consolas,'Courier New',monospace\">        <span style=\"font-weight: bold\">(</span><span style=\"color: #008000; text-decoration-color: #008000\">'peace'</span>, <span style=\"color: #008080; text-decoration-color: #008080; font-weight: bold\">0.3659679201736663</span><span style=\"font-weight: bold\">)</span>\n",
       "</pre>\n"
      ],
      "text/plain": [
       "        \u001b[1m(\u001b[0m\u001b[32m'peace'\u001b[0m, \u001b[1;36m0.3659679201736663\u001b[0m\u001b[1m)\u001b[0m\n"
      ]
     },
     "metadata": {},
     "output_type": "display_data"
    },
    {
     "data": {
      "text/html": [
       "<pre style=\"white-space:pre;overflow-x:auto;line-height:normal;font-family:Menlo,'DejaVu Sans Mono',consolas,'Courier New',monospace\">        <span style=\"font-weight: bold\">(</span><span style=\"color: #008000; text-decoration-color: #008000\">'special'</span>, <span style=\"color: #008080; text-decoration-color: #008080; font-weight: bold\">0.3552903405063878</span><span style=\"font-weight: bold\">)</span>\n",
       "</pre>\n"
      ],
      "text/plain": [
       "        \u001b[1m(\u001b[0m\u001b[32m'special'\u001b[0m, \u001b[1;36m0.3552903405063878\u001b[0m\u001b[1m)\u001b[0m\n"
      ]
     },
     "metadata": {},
     "output_type": "display_data"
    },
    {
     "data": {
      "text/html": [
       "<pre style=\"white-space:pre;overflow-x:auto;line-height:normal;font-family:Menlo,'DejaVu Sans Mono',consolas,'Courier New',monospace\">        <span style=\"font-weight: bold\">(</span><span style=\"color: #008000; text-decoration-color: #008000\">'life'</span>, <span style=\"color: #008080; text-decoration-color: #008080; font-weight: bold\">0.320812268390135</span><span style=\"font-weight: bold\">)</span>\n",
       "</pre>\n"
      ],
      "text/plain": [
       "        \u001b[1m(\u001b[0m\u001b[32m'life'\u001b[0m, \u001b[1;36m0.320812268390135\u001b[0m\u001b[1m)\u001b[0m\n"
      ]
     },
     "metadata": {},
     "output_type": "display_data"
    },
    {
     "data": {
      "text/html": [
       "<pre style=\"white-space:pre;overflow-x:auto;line-height:normal;font-family:Menlo,'DejaVu Sans Mono',consolas,'Courier New',monospace\">        <span style=\"font-weight: bold\">(</span><span style=\"color: #008000; text-decoration-color: #008000\">'wood'</span>, <span style=\"color: #008080; text-decoration-color: #008080; font-weight: bold\">0.3155870616682543</span><span style=\"font-weight: bold\">)</span>\n",
       "</pre>\n"
      ],
      "text/plain": [
       "        \u001b[1m(\u001b[0m\u001b[32m'wood'\u001b[0m, \u001b[1;36m0.3155870616682543\u001b[0m\u001b[1m)\u001b[0m\n"
      ]
     },
     "metadata": {},
     "output_type": "display_data"
    },
    {
     "data": {
      "text/html": [
       "<pre style=\"white-space:pre;overflow-x:auto;line-height:normal;font-family:Menlo,'DejaVu Sans Mono',consolas,'Courier New',monospace\">        <span style=\"font-weight: bold\">(</span><span style=\"color: #008000; text-decoration-color: #008000\">'historians'</span>, <span style=\"color: #008080; text-decoration-color: #008080; font-weight: bold\">0.3009409238441799</span><span style=\"font-weight: bold\">)</span>\n",
       "</pre>\n"
      ],
      "text/plain": [
       "        \u001b[1m(\u001b[0m\u001b[32m'historians'\u001b[0m, \u001b[1;36m0.3009409238441799\u001b[0m\u001b[1m)\u001b[0m\n"
      ]
     },
     "metadata": {},
     "output_type": "display_data"
    },
    {
     "data": {
      "text/html": [
       "<pre style=\"white-space:pre;overflow-x:auto;line-height:normal;font-family:Menlo,'DejaVu Sans Mono',consolas,'Courier New',monospace\">        <span style=\"font-weight: bold\">(</span><span style=\"color: #008000; text-decoration-color: #008000\">'care'</span>, <span style=\"color: #008080; text-decoration-color: #008080; font-weight: bold\">0.2979687677368239</span><span style=\"font-weight: bold\">)</span>\n",
       "</pre>\n"
      ],
      "text/plain": [
       "        \u001b[1m(\u001b[0m\u001b[32m'care'\u001b[0m, \u001b[1;36m0.2979687677368239\u001b[0m\u001b[1m)\u001b[0m\n"
      ]
     },
     "metadata": {},
     "output_type": "display_data"
    },
    {
     "data": {
      "text/html": [
       "<pre style=\"white-space:pre;overflow-x:auto;line-height:normal;font-family:Menlo,'DejaVu Sans Mono',consolas,'Courier New',monospace\">        <span style=\"font-weight: bold\">(</span><span style=\"color: #008000; text-decoration-color: #008000\">'short'</span>, <span style=\"color: #008080; text-decoration-color: #008080; font-weight: bold\">0.2973297557166561</span><span style=\"font-weight: bold\">)</span>\n",
       "</pre>\n"
      ],
      "text/plain": [
       "        \u001b[1m(\u001b[0m\u001b[32m'short'\u001b[0m, \u001b[1;36m0.2973297557166561\u001b[0m\u001b[1m)\u001b[0m\n"
      ]
     },
     "metadata": {},
     "output_type": "display_data"
    },
    {
     "data": {
      "text/html": [
       "<pre style=\"white-space:pre;overflow-x:auto;line-height:normal;font-family:Menlo,'DejaVu Sans Mono',consolas,'Courier New',monospace\">        <span style=\"font-weight: bold\">(</span><span style=\"color: #008000; text-decoration-color: #008000\">'galloped'</span>, <span style=\"color: #008080; text-decoration-color: #008080; font-weight: bold\">0.29310103370535506</span><span style=\"font-weight: bold\">)</span>\n",
       "</pre>\n"
      ],
      "text/plain": [
       "        \u001b[1m(\u001b[0m\u001b[32m'galloped'\u001b[0m, \u001b[1;36m0.29310103370535506\u001b[0m\u001b[1m)\u001b[0m\n"
      ]
     },
     "metadata": {},
     "output_type": "display_data"
    },
    {
     "data": {
      "text/html": [
       "<pre style=\"white-space:pre;overflow-x:auto;line-height:normal;font-family:Menlo,'DejaVu Sans Mono',consolas,'Courier New',monospace\"><span style=\"font-weight: bold\">(</span><span style=\"color: #008000; text-decoration-color: #008000\">'white'</span>, <span style=\"color: #008080; text-decoration-color: #008080; font-weight: bold\">264</span><span style=\"font-weight: bold\">)</span> most similar words:\n",
       "</pre>\n"
      ],
      "text/plain": [
       "\u001b[1m(\u001b[0m\u001b[32m'white'\u001b[0m, \u001b[1;36m264\u001b[0m\u001b[1m)\u001b[0m most similar words:\n"
      ]
     },
     "metadata": {},
     "output_type": "display_data"
    },
    {
     "data": {
      "text/html": [
       "<pre style=\"white-space:pre;overflow-x:auto;line-height:normal;font-family:Menlo,'DejaVu Sans Mono',consolas,'Courier New',monospace\">        <span style=\"font-weight: bold\">(</span><span style=\"color: #008000; text-decoration-color: #008000\">'white'</span>, <span style=\"color: #008080; text-decoration-color: #008080; font-weight: bold\">1.0</span><span style=\"font-weight: bold\">)</span>\n",
       "</pre>\n"
      ],
      "text/plain": [
       "        \u001b[1m(\u001b[0m\u001b[32m'white'\u001b[0m, \u001b[1;36m1.0\u001b[0m\u001b[1m)\u001b[0m\n"
      ]
     },
     "metadata": {},
     "output_type": "display_data"
    },
    {
     "data": {
      "text/html": [
       "<pre style=\"white-space:pre;overflow-x:auto;line-height:normal;font-family:Menlo,'DejaVu Sans Mono',consolas,'Courier New',monospace\">        <span style=\"font-weight: bold\">(</span><span style=\"color: #008000; text-decoration-color: #008000\">'rather'</span>, <span style=\"color: #008080; text-decoration-color: #008080; font-weight: bold\">0.4070703950299907</span><span style=\"font-weight: bold\">)</span>\n",
       "</pre>\n"
      ],
      "text/plain": [
       "        \u001b[1m(\u001b[0m\u001b[32m'rather'\u001b[0m, \u001b[1;36m0.4070703950299907\u001b[0m\u001b[1m)\u001b[0m\n"
      ]
     },
     "metadata": {},
     "output_type": "display_data"
    },
    {
     "data": {
      "text/html": [
       "<pre style=\"white-space:pre;overflow-x:auto;line-height:normal;font-family:Menlo,'DejaVu Sans Mono',consolas,'Courier New',monospace\">        <span style=\"font-weight: bold\">(</span><span style=\"color: #008000; text-decoration-color: #008000\">'rapidly'</span>, <span style=\"color: #008080; text-decoration-color: #008080; font-weight: bold\">0.3619129206650855</span><span style=\"font-weight: bold\">)</span>\n",
       "</pre>\n"
      ],
      "text/plain": [
       "        \u001b[1m(\u001b[0m\u001b[32m'rapidly'\u001b[0m, \u001b[1;36m0.3619129206650855\u001b[0m\u001b[1m)\u001b[0m\n"
      ]
     },
     "metadata": {},
     "output_type": "display_data"
    },
    {
     "data": {
      "text/html": [
       "<pre style=\"white-space:pre;overflow-x:auto;line-height:normal;font-family:Menlo,'DejaVu Sans Mono',consolas,'Courier New',monospace\">        <span style=\"font-weight: bold\">(</span><span style=\"color: #008000; text-decoration-color: #008000\">'home'</span>, <span style=\"color: #008080; text-decoration-color: #008080; font-weight: bold\">0.34487651956192833</span><span style=\"font-weight: bold\">)</span>\n",
       "</pre>\n"
      ],
      "text/plain": [
       "        \u001b[1m(\u001b[0m\u001b[32m'home'\u001b[0m, \u001b[1;36m0.34487651956192833\u001b[0m\u001b[1m)\u001b[0m\n"
      ]
     },
     "metadata": {},
     "output_type": "display_data"
    },
    {
     "data": {
      "text/html": [
       "<pre style=\"white-space:pre;overflow-x:auto;line-height:normal;font-family:Menlo,'DejaVu Sans Mono',consolas,'Courier New',monospace\">        <span style=\"font-weight: bold\">(</span><span style=\"color: #008000; text-decoration-color: #008000\">'return'</span>, <span style=\"color: #008080; text-decoration-color: #008080; font-weight: bold\">0.34313625597094805</span><span style=\"font-weight: bold\">)</span>\n",
       "</pre>\n"
      ],
      "text/plain": [
       "        \u001b[1m(\u001b[0m\u001b[32m'return'\u001b[0m, \u001b[1;36m0.34313625597094805\u001b[0m\u001b[1m)\u001b[0m\n"
      ]
     },
     "metadata": {},
     "output_type": "display_data"
    },
    {
     "data": {
      "text/html": [
       "<pre style=\"white-space:pre;overflow-x:auto;line-height:normal;font-family:Menlo,'DejaVu Sans Mono',consolas,'Courier New',monospace\">        <span style=\"font-weight: bold\">(</span><span style=\"color: #008000; text-decoration-color: #008000\">'deal'</span>, <span style=\"color: #008080; text-decoration-color: #008080; font-weight: bold\">0.33097209194856336</span><span style=\"font-weight: bold\">)</span>\n",
       "</pre>\n"
      ],
      "text/plain": [
       "        \u001b[1m(\u001b[0m\u001b[32m'deal'\u001b[0m, \u001b[1;36m0.33097209194856336\u001b[0m\u001b[1m)\u001b[0m\n"
      ]
     },
     "metadata": {},
     "output_type": "display_data"
    },
    {
     "data": {
      "text/html": [
       "<pre style=\"white-space:pre;overflow-x:auto;line-height:normal;font-family:Menlo,'DejaVu Sans Mono',consolas,'Courier New',monospace\">        <span style=\"font-weight: bold\">(</span><span style=\"color: #008000; text-decoration-color: #008000\">'hold'</span>, <span style=\"color: #008080; text-decoration-color: #008080; font-weight: bold\">0.32616239010064696</span><span style=\"font-weight: bold\">)</span>\n",
       "</pre>\n"
      ],
      "text/plain": [
       "        \u001b[1m(\u001b[0m\u001b[32m'hold'\u001b[0m, \u001b[1;36m0.32616239010064696\u001b[0m\u001b[1m)\u001b[0m\n"
      ]
     },
     "metadata": {},
     "output_type": "display_data"
    },
    {
     "data": {
      "text/html": [
       "<pre style=\"white-space:pre;overflow-x:auto;line-height:normal;font-family:Menlo,'DejaVu Sans Mono',consolas,'Courier New',monospace\">        <span style=\"font-weight: bold\">(</span><span style=\"color: #008000; text-decoration-color: #008000\">'asked'</span>, <span style=\"color: #008080; text-decoration-color: #008080; font-weight: bold\">0.3213700690531549</span><span style=\"font-weight: bold\">)</span>\n",
       "</pre>\n"
      ],
      "text/plain": [
       "        \u001b[1m(\u001b[0m\u001b[32m'asked'\u001b[0m, \u001b[1;36m0.3213700690531549\u001b[0m\u001b[1m)\u001b[0m\n"
      ]
     },
     "metadata": {},
     "output_type": "display_data"
    },
    {
     "data": {
      "text/html": [
       "<pre style=\"white-space:pre;overflow-x:auto;line-height:normal;font-family:Menlo,'DejaVu Sans Mono',consolas,'Courier New',monospace\">        <span style=\"font-weight: bold\">(</span><span style=\"color: #008000; text-decoration-color: #008000\">'heard'</span>, <span style=\"color: #008080; text-decoration-color: #008080; font-weight: bold\">0.319865086421411</span><span style=\"font-weight: bold\">)</span>\n",
       "</pre>\n"
      ],
      "text/plain": [
       "        \u001b[1m(\u001b[0m\u001b[32m'heard'\u001b[0m, \u001b[1;36m0.319865086421411\u001b[0m\u001b[1m)\u001b[0m\n"
      ]
     },
     "metadata": {},
     "output_type": "display_data"
    },
    {
     "data": {
      "text/html": [
       "<pre style=\"white-space:pre;overflow-x:auto;line-height:normal;font-family:Menlo,'DejaVu Sans Mono',consolas,'Courier New',monospace\">        <span style=\"font-weight: bold\">(</span><span style=\"color: #008000; text-decoration-color: #008000\">'left'</span>, <span style=\"color: #008080; text-decoration-color: #008080; font-weight: bold\">0.31597827519279326</span><span style=\"font-weight: bold\">)</span>\n",
       "</pre>\n"
      ],
      "text/plain": [
       "        \u001b[1m(\u001b[0m\u001b[32m'left'\u001b[0m, \u001b[1;36m0.31597827519279326\u001b[0m\u001b[1m)\u001b[0m\n"
      ]
     },
     "metadata": {},
     "output_type": "display_data"
    },
    {
     "data": {
      "text/html": [
       "<pre style=\"white-space:pre;overflow-x:auto;line-height:normal;font-family:Menlo,'DejaVu Sans Mono',consolas,'Courier New',monospace\"><span style=\"font-weight: bold\">(</span><span style=\"color: #008000; text-decoration-color: #008000\">'man'</span>, <span style=\"color: #008080; text-decoration-color: #008080; font-weight: bold\">60</span><span style=\"font-weight: bold\">)</span> most similar words:\n",
       "</pre>\n"
      ],
      "text/plain": [
       "\u001b[1m(\u001b[0m\u001b[32m'man'\u001b[0m, \u001b[1;36m60\u001b[0m\u001b[1m)\u001b[0m most similar words:\n"
      ]
     },
     "metadata": {},
     "output_type": "display_data"
    },
    {
     "data": {
      "text/html": [
       "<pre style=\"white-space:pre;overflow-x:auto;line-height:normal;font-family:Menlo,'DejaVu Sans Mono',consolas,'Courier New',monospace\">        <span style=\"font-weight: bold\">(</span><span style=\"color: #008000; text-decoration-color: #008000\">'man'</span>, <span style=\"color: #008080; text-decoration-color: #008080; font-weight: bold\">1.0</span><span style=\"font-weight: bold\">)</span>\n",
       "</pre>\n"
      ],
      "text/plain": [
       "        \u001b[1m(\u001b[0m\u001b[32m'man'\u001b[0m, \u001b[1;36m1.0\u001b[0m\u001b[1m)\u001b[0m\n"
      ]
     },
     "metadata": {},
     "output_type": "display_data"
    },
    {
     "data": {
      "text/html": [
       "<pre style=\"white-space:pre;overflow-x:auto;line-height:normal;font-family:Menlo,'DejaVu Sans Mono',consolas,'Courier New',monospace\">        <span style=\"font-weight: bold\">(</span><span style=\"color: #008000; text-decoration-color: #008000\">'terror'</span>, <span style=\"color: #008080; text-decoration-color: #008080; font-weight: bold\">0.37187079006974233</span><span style=\"font-weight: bold\">)</span>\n",
       "</pre>\n"
      ],
      "text/plain": [
       "        \u001b[1m(\u001b[0m\u001b[32m'terror'\u001b[0m, \u001b[1;36m0.37187079006974233\u001b[0m\u001b[1m)\u001b[0m\n"
      ]
     },
     "metadata": {},
     "output_type": "display_data"
    },
    {
     "data": {
      "text/html": [
       "<pre style=\"white-space:pre;overflow-x:auto;line-height:normal;font-family:Menlo,'DejaVu Sans Mono',consolas,'Courier New',monospace\">        <span style=\"font-weight: bold\">(</span><span style=\"color: #008000; text-decoration-color: #008000\">'below'</span>, <span style=\"color: #008080; text-decoration-color: #008080; font-weight: bold\">0.36589676885684136</span><span style=\"font-weight: bold\">)</span>\n",
       "</pre>\n"
      ],
      "text/plain": [
       "        \u001b[1m(\u001b[0m\u001b[32m'below'\u001b[0m, \u001b[1;36m0.36589676885684136\u001b[0m\u001b[1m)\u001b[0m\n"
      ]
     },
     "metadata": {},
     "output_type": "display_data"
    },
    {
     "data": {
      "text/html": [
       "<pre style=\"white-space:pre;overflow-x:auto;line-height:normal;font-family:Menlo,'DejaVu Sans Mono',consolas,'Courier New',monospace\">        <span style=\"font-weight: bold\">(</span><span style=\"color: #008000; text-decoration-color: #008000\">'set'</span>, <span style=\"color: #008080; text-decoration-color: #008080; font-weight: bold\">0.35878525316467313</span><span style=\"font-weight: bold\">)</span>\n",
       "</pre>\n"
      ],
      "text/plain": [
       "        \u001b[1m(\u001b[0m\u001b[32m'set'\u001b[0m, \u001b[1;36m0.35878525316467313\u001b[0m\u001b[1m)\u001b[0m\n"
      ]
     },
     "metadata": {},
     "output_type": "display_data"
    },
    {
     "data": {
      "text/html": [
       "<pre style=\"white-space:pre;overflow-x:auto;line-height:normal;font-family:Menlo,'DejaVu Sans Mono',consolas,'Courier New',monospace\">        <span style=\"font-weight: bold\">(</span><span style=\"color: #008000; text-decoration-color: #008000\">'forget'</span>, <span style=\"color: #008080; text-decoration-color: #008080; font-weight: bold\">0.3508190667807257</span><span style=\"font-weight: bold\">)</span>\n",
       "</pre>\n"
      ],
      "text/plain": [
       "        \u001b[1m(\u001b[0m\u001b[32m'forget'\u001b[0m, \u001b[1;36m0.3508190667807257\u001b[0m\u001b[1m)\u001b[0m\n"
      ]
     },
     "metadata": {},
     "output_type": "display_data"
    },
    {
     "data": {
      "text/html": [
       "<pre style=\"white-space:pre;overflow-x:auto;line-height:normal;font-family:Menlo,'DejaVu Sans Mono',consolas,'Courier New',monospace\">        <span style=\"font-weight: bold\">(</span><span style=\"color: #008000; text-decoration-color: #008000\">'holding'</span>, <span style=\"color: #008080; text-decoration-color: #008080; font-weight: bold\">0.33428805597116357</span><span style=\"font-weight: bold\">)</span>\n",
       "</pre>\n"
      ],
      "text/plain": [
       "        \u001b[1m(\u001b[0m\u001b[32m'holding'\u001b[0m, \u001b[1;36m0.33428805597116357\u001b[0m\u001b[1m)\u001b[0m\n"
      ]
     },
     "metadata": {},
     "output_type": "display_data"
    },
    {
     "data": {
      "text/html": [
       "<pre style=\"white-space:pre;overflow-x:auto;line-height:normal;font-family:Menlo,'DejaVu Sans Mono',consolas,'Courier New',monospace\">        <span style=\"font-weight: bold\">(</span><span style=\"color: #008000; text-decoration-color: #008000\">'fallen'</span>, <span style=\"color: #008080; text-decoration-color: #008080; font-weight: bold\">0.32971911476842625</span><span style=\"font-weight: bold\">)</span>\n",
       "</pre>\n"
      ],
      "text/plain": [
       "        \u001b[1m(\u001b[0m\u001b[32m'fallen'\u001b[0m, \u001b[1;36m0.32971911476842625\u001b[0m\u001b[1m)\u001b[0m\n"
      ]
     },
     "metadata": {},
     "output_type": "display_data"
    },
    {
     "data": {
      "text/html": [
       "<pre style=\"white-space:pre;overflow-x:auto;line-height:normal;font-family:Menlo,'DejaVu Sans Mono',consolas,'Courier New',monospace\">        <span style=\"font-weight: bold\">(</span><span style=\"color: #008000; text-decoration-color: #008000\">'town'</span>, <span style=\"color: #008080; text-decoration-color: #008080; font-weight: bold\">0.3285246451199824</span><span style=\"font-weight: bold\">)</span>\n",
       "</pre>\n"
      ],
      "text/plain": [
       "        \u001b[1m(\u001b[0m\u001b[32m'town'\u001b[0m, \u001b[1;36m0.3285246451199824\u001b[0m\u001b[1m)\u001b[0m\n"
      ]
     },
     "metadata": {},
     "output_type": "display_data"
    },
    {
     "data": {
      "text/html": [
       "<pre style=\"white-space:pre;overflow-x:auto;line-height:normal;font-family:Menlo,'DejaVu Sans Mono',consolas,'Courier New',monospace\">        <span style=\"font-weight: bold\">(</span><span style=\"color: #008000; text-decoration-color: #008000\">'quickly'</span>, <span style=\"color: #008080; text-decoration-color: #008080; font-weight: bold\">0.3131497033763895</span><span style=\"font-weight: bold\">)</span>\n",
       "</pre>\n"
      ],
      "text/plain": [
       "        \u001b[1m(\u001b[0m\u001b[32m'quickly'\u001b[0m, \u001b[1;36m0.3131497033763895\u001b[0m\u001b[1m)\u001b[0m\n"
      ]
     },
     "metadata": {},
     "output_type": "display_data"
    },
    {
     "data": {
      "text/html": [
       "<pre style=\"white-space:pre;overflow-x:auto;line-height:normal;font-family:Menlo,'DejaVu Sans Mono',consolas,'Courier New',monospace\">        <span style=\"font-weight: bold\">(</span><span style=\"color: #008000; text-decoration-color: #008000\">'everyone'</span>, <span style=\"color: #008080; text-decoration-color: #008080; font-weight: bold\">0.3007776580048044</span><span style=\"font-weight: bold\">)</span>\n",
       "</pre>\n"
      ],
      "text/plain": [
       "        \u001b[1m(\u001b[0m\u001b[32m'everyone'\u001b[0m, \u001b[1;36m0.3007776580048044\u001b[0m\u001b[1m)\u001b[0m\n"
      ]
     },
     "metadata": {},
     "output_type": "display_data"
    },
    {
     "data": {
      "text/html": [
       "<pre style=\"white-space:pre;overflow-x:auto;line-height:normal;font-family:Menlo,'DejaVu Sans Mono',consolas,'Courier New',monospace\"><span style=\"font-weight: bold\">(</span><span style=\"color: #008000; text-decoration-color: #008000\">'have'</span>, <span style=\"color: #008080; text-decoration-color: #008080; font-weight: bold\">33</span><span style=\"font-weight: bold\">)</span> most similar words:\n",
       "</pre>\n"
      ],
      "text/plain": [
       "\u001b[1m(\u001b[0m\u001b[32m'have'\u001b[0m, \u001b[1;36m33\u001b[0m\u001b[1m)\u001b[0m most similar words:\n"
      ]
     },
     "metadata": {},
     "output_type": "display_data"
    },
    {
     "data": {
      "text/html": [
       "<pre style=\"white-space:pre;overflow-x:auto;line-height:normal;font-family:Menlo,'DejaVu Sans Mono',consolas,'Courier New',monospace\">        <span style=\"font-weight: bold\">(</span><span style=\"color: #008000; text-decoration-color: #008000\">'have'</span>, <span style=\"color: #008080; text-decoration-color: #008080; font-weight: bold\">1.0</span><span style=\"font-weight: bold\">)</span>\n",
       "</pre>\n"
      ],
      "text/plain": [
       "        \u001b[1m(\u001b[0m\u001b[32m'have'\u001b[0m, \u001b[1;36m1.0\u001b[0m\u001b[1m)\u001b[0m\n"
      ]
     },
     "metadata": {},
     "output_type": "display_data"
    },
    {
     "data": {
      "text/html": [
       "<pre style=\"white-space:pre;overflow-x:auto;line-height:normal;font-family:Menlo,'DejaVu Sans Mono',consolas,'Courier New',monospace\">        <span style=\"font-weight: bold\">(</span><span style=\"color: #008000; text-decoration-color: #008000\">'save'</span>, <span style=\"color: #008080; text-decoration-color: #008080; font-weight: bold\">0.47811380768495715</span><span style=\"font-weight: bold\">)</span>\n",
       "</pre>\n"
      ],
      "text/plain": [
       "        \u001b[1m(\u001b[0m\u001b[32m'save'\u001b[0m, \u001b[1;36m0.47811380768495715\u001b[0m\u001b[1m)\u001b[0m\n"
      ]
     },
     "metadata": {},
     "output_type": "display_data"
    },
    {
     "data": {
      "text/html": [
       "<pre style=\"white-space:pre;overflow-x:auto;line-height:normal;font-family:Menlo,'DejaVu Sans Mono',consolas,'Courier New',monospace\">        <span style=\"font-weight: bold\">(</span><span style=\"color: #008000; text-decoration-color: #008000\">'troops'</span>, <span style=\"color: #008080; text-decoration-color: #008080; font-weight: bold\">0.3723914871404756</span><span style=\"font-weight: bold\">)</span>\n",
       "</pre>\n"
      ],
      "text/plain": [
       "        \u001b[1m(\u001b[0m\u001b[32m'troops'\u001b[0m, \u001b[1;36m0.3723914871404756\u001b[0m\u001b[1m)\u001b[0m\n"
      ]
     },
     "metadata": {},
     "output_type": "display_data"
    },
    {
     "data": {
      "text/html": [
       "<pre style=\"white-space:pre;overflow-x:auto;line-height:normal;font-family:Menlo,'DejaVu Sans Mono',consolas,'Courier New',monospace\">        <span style=\"font-weight: bold\">(</span><span style=\"color: #008000; text-decoration-color: #008000\">'merely'</span>, <span style=\"color: #008080; text-decoration-color: #008080; font-weight: bold\">0.3663148437501547</span><span style=\"font-weight: bold\">)</span>\n",
       "</pre>\n"
      ],
      "text/plain": [
       "        \u001b[1m(\u001b[0m\u001b[32m'merely'\u001b[0m, \u001b[1;36m0.3663148437501547\u001b[0m\u001b[1m)\u001b[0m\n"
      ]
     },
     "metadata": {},
     "output_type": "display_data"
    },
    {
     "data": {
      "text/html": [
       "<pre style=\"white-space:pre;overflow-x:auto;line-height:normal;font-family:Menlo,'DejaVu Sans Mono',consolas,'Courier New',monospace\">        <span style=\"font-weight: bold\">(</span><span style=\"color: #008000; text-decoration-color: #008000\">'had'</span>, <span style=\"color: #008080; text-decoration-color: #008080; font-weight: bold\">0.36168353238643824</span><span style=\"font-weight: bold\">)</span>\n",
       "</pre>\n"
      ],
      "text/plain": [
       "        \u001b[1m(\u001b[0m\u001b[32m'had'\u001b[0m, \u001b[1;36m0.36168353238643824\u001b[0m\u001b[1m)\u001b[0m\n"
      ]
     },
     "metadata": {},
     "output_type": "display_data"
    },
    {
     "data": {
      "text/html": [
       "<pre style=\"white-space:pre;overflow-x:auto;line-height:normal;font-family:Menlo,'DejaVu Sans Mono',consolas,'Courier New',monospace\">        <span style=\"font-weight: bold\">(</span><span style=\"color: #008000; text-decoration-color: #008000\">'peasant'</span>, <span style=\"color: #008080; text-decoration-color: #008080; font-weight: bold\">0.3608680048731374</span><span style=\"font-weight: bold\">)</span>\n",
       "</pre>\n"
      ],
      "text/plain": [
       "        \u001b[1m(\u001b[0m\u001b[32m'peasant'\u001b[0m, \u001b[1;36m0.3608680048731374\u001b[0m\u001b[1m)\u001b[0m\n"
      ]
     },
     "metadata": {},
     "output_type": "display_data"
    },
    {
     "data": {
      "text/html": [
       "<pre style=\"white-space:pre;overflow-x:auto;line-height:normal;font-family:Menlo,'DejaVu Sans Mono',consolas,'Courier New',monospace\">        <span style=\"font-weight: bold\">(</span><span style=\"color: #008000; text-decoration-color: #008000\">'silence'</span>, <span style=\"color: #008080; text-decoration-color: #008080; font-weight: bold\">0.346955429053385</span><span style=\"font-weight: bold\">)</span>\n",
       "</pre>\n"
      ],
      "text/plain": [
       "        \u001b[1m(\u001b[0m\u001b[32m'silence'\u001b[0m, \u001b[1;36m0.346955429053385\u001b[0m\u001b[1m)\u001b[0m\n"
      ]
     },
     "metadata": {},
     "output_type": "display_data"
    },
    {
     "data": {
      "text/html": [
       "<pre style=\"white-space:pre;overflow-x:auto;line-height:normal;font-family:Menlo,'DejaVu Sans Mono',consolas,'Courier New',monospace\">        <span style=\"font-weight: bold\">(</span><span style=\"color: #008000; text-decoration-color: #008000\">'certain'</span>, <span style=\"color: #008080; text-decoration-color: #008080; font-weight: bold\">0.33911126820823423</span><span style=\"font-weight: bold\">)</span>\n",
       "</pre>\n"
      ],
      "text/plain": [
       "        \u001b[1m(\u001b[0m\u001b[32m'certain'\u001b[0m, \u001b[1;36m0.33911126820823423\u001b[0m\u001b[1m)\u001b[0m\n"
      ]
     },
     "metadata": {},
     "output_type": "display_data"
    },
    {
     "data": {
      "text/html": [
       "<pre style=\"white-space:pre;overflow-x:auto;line-height:normal;font-family:Menlo,'DejaVu Sans Mono',consolas,'Courier New',monospace\">        <span style=\"font-weight: bold\">(</span><span style=\"color: #008000; text-decoration-color: #008000\">'finished'</span>, <span style=\"color: #008080; text-decoration-color: #008080; font-weight: bold\">0.3387255216466548</span><span style=\"font-weight: bold\">)</span>\n",
       "</pre>\n"
      ],
      "text/plain": [
       "        \u001b[1m(\u001b[0m\u001b[32m'finished'\u001b[0m, \u001b[1;36m0.3387255216466548\u001b[0m\u001b[1m)\u001b[0m\n"
      ]
     },
     "metadata": {},
     "output_type": "display_data"
    },
    {
     "data": {
      "text/html": [
       "<pre style=\"white-space:pre;overflow-x:auto;line-height:normal;font-family:Menlo,'DejaVu Sans Mono',consolas,'Courier New',monospace\">        <span style=\"font-weight: bold\">(</span><span style=\"color: #008000; text-decoration-color: #008000\">'engine'</span>, <span style=\"color: #008080; text-decoration-color: #008080; font-weight: bold\">0.31398414823537174</span><span style=\"font-weight: bold\">)</span>\n",
       "</pre>\n"
      ],
      "text/plain": [
       "        \u001b[1m(\u001b[0m\u001b[32m'engine'\u001b[0m, \u001b[1;36m0.31398414823537174\u001b[0m\u001b[1m)\u001b[0m\n"
      ]
     },
     "metadata": {},
     "output_type": "display_data"
    },
    {
     "data": {
      "text/html": [
       "<pre style=\"white-space:pre;overflow-x:auto;line-height:normal;font-family:Menlo,'DejaVu Sans Mono',consolas,'Courier New',monospace\"><span style=\"font-weight: bold\">(</span><span style=\"color: #008000; text-decoration-color: #008000\">'be'</span>, <span style=\"color: #008080; text-decoration-color: #008080; font-weight: bold\">29</span><span style=\"font-weight: bold\">)</span> most similar words:\n",
       "</pre>\n"
      ],
      "text/plain": [
       "\u001b[1m(\u001b[0m\u001b[32m'be'\u001b[0m, \u001b[1;36m29\u001b[0m\u001b[1m)\u001b[0m most similar words:\n"
      ]
     },
     "metadata": {},
     "output_type": "display_data"
    },
    {
     "data": {
      "text/html": [
       "<pre style=\"white-space:pre;overflow-x:auto;line-height:normal;font-family:Menlo,'DejaVu Sans Mono',consolas,'Courier New',monospace\">        <span style=\"font-weight: bold\">(</span><span style=\"color: #008000; text-decoration-color: #008000\">'be'</span>, <span style=\"color: #008080; text-decoration-color: #008080; font-weight: bold\">0.9999999999999998</span><span style=\"font-weight: bold\">)</span>\n",
       "</pre>\n"
      ],
      "text/plain": [
       "        \u001b[1m(\u001b[0m\u001b[32m'be'\u001b[0m, \u001b[1;36m0.9999999999999998\u001b[0m\u001b[1m)\u001b[0m\n"
      ]
     },
     "metadata": {},
     "output_type": "display_data"
    },
    {
     "data": {
      "text/html": [
       "<pre style=\"white-space:pre;overflow-x:auto;line-height:normal;font-family:Menlo,'DejaVu Sans Mono',consolas,'Courier New',monospace\">        <span style=\"font-weight: bold\">(</span><span style=\"color: #008000; text-decoration-color: #008000\">'hardly'</span>, <span style=\"color: #008080; text-decoration-color: #008080; font-weight: bold\">0.47361443976725176</span><span style=\"font-weight: bold\">)</span>\n",
       "</pre>\n"
      ],
      "text/plain": [
       "        \u001b[1m(\u001b[0m\u001b[32m'hardly'\u001b[0m, \u001b[1;36m0.47361443976725176\u001b[0m\u001b[1m)\u001b[0m\n"
      ]
     },
     "metadata": {},
     "output_type": "display_data"
    },
    {
     "data": {
      "text/html": [
       "<pre style=\"white-space:pre;overflow-x:auto;line-height:normal;font-family:Menlo,'DejaVu Sans Mono',consolas,'Courier New',monospace\">        <span style=\"font-weight: bold\">(</span><span style=\"color: #008000; text-decoration-color: #008000\">'regard'</span>, <span style=\"color: #008080; text-decoration-color: #008080; font-weight: bold\">0.40062487109274686</span><span style=\"font-weight: bold\">)</span>\n",
       "</pre>\n"
      ],
      "text/plain": [
       "        \u001b[1m(\u001b[0m\u001b[32m'regard'\u001b[0m, \u001b[1;36m0.40062487109274686\u001b[0m\u001b[1m)\u001b[0m\n"
      ]
     },
     "metadata": {},
     "output_type": "display_data"
    },
    {
     "data": {
      "text/html": [
       "<pre style=\"white-space:pre;overflow-x:auto;line-height:normal;font-family:Menlo,'DejaVu Sans Mono',consolas,'Courier New',monospace\">        <span style=\"font-weight: bold\">(</span><span style=\"color: #008000; text-decoration-color: #008000\">'chief'</span>, <span style=\"color: #008080; text-decoration-color: #008080; font-weight: bold\">0.3646272481298721</span><span style=\"font-weight: bold\">)</span>\n",
       "</pre>\n"
      ],
      "text/plain": [
       "        \u001b[1m(\u001b[0m\u001b[32m'chief'\u001b[0m, \u001b[1;36m0.3646272481298721\u001b[0m\u001b[1m)\u001b[0m\n"
      ]
     },
     "metadata": {},
     "output_type": "display_data"
    },
    {
     "data": {
      "text/html": [
       "<pre style=\"white-space:pre;overflow-x:auto;line-height:normal;font-family:Menlo,'DejaVu Sans Mono',consolas,'Courier New',monospace\">        <span style=\"font-weight: bold\">(</span><span style=\"color: #008000; text-decoration-color: #008000\">'effort'</span>, <span style=\"color: #008080; text-decoration-color: #008080; font-weight: bold\">0.36410674265955</span><span style=\"font-weight: bold\">)</span>\n",
       "</pre>\n"
      ],
      "text/plain": [
       "        \u001b[1m(\u001b[0m\u001b[32m'effort'\u001b[0m, \u001b[1;36m0.36410674265955\u001b[0m\u001b[1m)\u001b[0m\n"
      ]
     },
     "metadata": {},
     "output_type": "display_data"
    },
    {
     "data": {
      "text/html": [
       "<pre style=\"white-space:pre;overflow-x:auto;line-height:normal;font-family:Menlo,'DejaVu Sans Mono',consolas,'Courier New',monospace\">        <span style=\"font-weight: bold\">(</span><span style=\"color: #008000; text-decoration-color: #008000\">'known'</span>, <span style=\"color: #008080; text-decoration-color: #008080; font-weight: bold\">0.3586773246216598</span><span style=\"font-weight: bold\">)</span>\n",
       "</pre>\n"
      ],
      "text/plain": [
       "        \u001b[1m(\u001b[0m\u001b[32m'known'\u001b[0m, \u001b[1;36m0.3586773246216598\u001b[0m\u001b[1m)\u001b[0m\n"
      ]
     },
     "metadata": {},
     "output_type": "display_data"
    },
    {
     "data": {
      "text/html": [
       "<pre style=\"white-space:pre;overflow-x:auto;line-height:normal;font-family:Menlo,'DejaVu Sans Mono',consolas,'Courier New',monospace\">        <span style=\"font-weight: bold\">(</span><span style=\"color: #008000; text-decoration-color: #008000\">'neither'</span>, <span style=\"color: #008080; text-decoration-color: #008080; font-weight: bold\">0.3283977337627263</span><span style=\"font-weight: bold\">)</span>\n",
       "</pre>\n"
      ],
      "text/plain": [
       "        \u001b[1m(\u001b[0m\u001b[32m'neither'\u001b[0m, \u001b[1;36m0.3283977337627263\u001b[0m\u001b[1m)\u001b[0m\n"
      ]
     },
     "metadata": {},
     "output_type": "display_data"
    },
    {
     "data": {
      "text/html": [
       "<pre style=\"white-space:pre;overflow-x:auto;line-height:normal;font-family:Menlo,'DejaVu Sans Mono',consolas,'Courier New',monospace\">        <span style=\"font-weight: bold\">(</span><span style=\"color: #008000; text-decoration-color: #008000\">'small'</span>, <span style=\"color: #008080; text-decoration-color: #008080; font-weight: bold\">0.3228870771438881</span><span style=\"font-weight: bold\">)</span>\n",
       "</pre>\n"
      ],
      "text/plain": [
       "        \u001b[1m(\u001b[0m\u001b[32m'small'\u001b[0m, \u001b[1;36m0.3228870771438881\u001b[0m\u001b[1m)\u001b[0m\n"
      ]
     },
     "metadata": {},
     "output_type": "display_data"
    },
    {
     "data": {
      "text/html": [
       "<pre style=\"white-space:pre;overflow-x:auto;line-height:normal;font-family:Menlo,'DejaVu Sans Mono',consolas,'Courier New',monospace\">        <span style=\"font-weight: bold\">(</span><span style=\"color: #008000; text-decoration-color: #008000\">'used'</span>, <span style=\"color: #008080; text-decoration-color: #008080; font-weight: bold\">0.32154451682313423</span><span style=\"font-weight: bold\">)</span>\n",
       "</pre>\n"
      ],
      "text/plain": [
       "        \u001b[1m(\u001b[0m\u001b[32m'used'\u001b[0m, \u001b[1;36m0.32154451682313423\u001b[0m\u001b[1m)\u001b[0m\n"
      ]
     },
     "metadata": {},
     "output_type": "display_data"
    },
    {
     "data": {
      "text/html": [
       "<pre style=\"white-space:pre;overflow-x:auto;line-height:normal;font-family:Menlo,'DejaVu Sans Mono',consolas,'Courier New',monospace\">        <span style=\"font-weight: bold\">(</span><span style=\"color: #008000; text-decoration-color: #008000\">'became'</span>, <span style=\"color: #008080; text-decoration-color: #008080; font-weight: bold\">0.3200144283647044</span><span style=\"font-weight: bold\">)</span>\n",
       "</pre>\n"
      ],
      "text/plain": [
       "        \u001b[1m(\u001b[0m\u001b[32m'became'\u001b[0m, \u001b[1;36m0.3200144283647044\u001b[0m\u001b[1m)\u001b[0m\n"
      ]
     },
     "metadata": {},
     "output_type": "display_data"
    },
    {
     "data": {
      "text/html": [
       "<pre style=\"white-space:pre;overflow-x:auto;line-height:normal;font-family:Menlo,'DejaVu Sans Mono',consolas,'Courier New',monospace\"><span style=\"font-weight: bold\">(</span><span style=\"color: #008000; text-decoration-color: #008000\">'child'</span>, <span style=\"color: #008080; text-decoration-color: #008080; font-weight: bold\">363</span><span style=\"font-weight: bold\">)</span> most similar words:\n",
       "</pre>\n"
      ],
      "text/plain": [
       "\u001b[1m(\u001b[0m\u001b[32m'child'\u001b[0m, \u001b[1;36m363\u001b[0m\u001b[1m)\u001b[0m most similar words:\n"
      ]
     },
     "metadata": {},
     "output_type": "display_data"
    },
    {
     "data": {
      "text/html": [
       "<pre style=\"white-space:pre;overflow-x:auto;line-height:normal;font-family:Menlo,'DejaVu Sans Mono',consolas,'Courier New',monospace\">        <span style=\"font-weight: bold\">(</span><span style=\"color: #008000; text-decoration-color: #008000\">'child'</span>, <span style=\"color: #008080; text-decoration-color: #008080; font-weight: bold\">1.0</span><span style=\"font-weight: bold\">)</span>\n",
       "</pre>\n"
      ],
      "text/plain": [
       "        \u001b[1m(\u001b[0m\u001b[32m'child'\u001b[0m, \u001b[1;36m1.0\u001b[0m\u001b[1m)\u001b[0m\n"
      ]
     },
     "metadata": {},
     "output_type": "display_data"
    },
    {
     "data": {
      "text/html": [
       "<pre style=\"white-space:pre;overflow-x:auto;line-height:normal;font-family:Menlo,'DejaVu Sans Mono',consolas,'Courier New',monospace\">        <span style=\"font-weight: bold\">(</span><span style=\"color: #008000; text-decoration-color: #008000\">'surprised'</span>, <span style=\"color: #008080; text-decoration-color: #008080; font-weight: bold\">0.3567709988253483</span><span style=\"font-weight: bold\">)</span>\n",
       "</pre>\n"
      ],
      "text/plain": [
       "        \u001b[1m(\u001b[0m\u001b[32m'surprised'\u001b[0m, \u001b[1;36m0.3567709988253483\u001b[0m\u001b[1m)\u001b[0m\n"
      ]
     },
     "metadata": {},
     "output_type": "display_data"
    },
    {
     "data": {
      "text/html": [
       "<pre style=\"white-space:pre;overflow-x:auto;line-height:normal;font-family:Menlo,'DejaVu Sans Mono',consolas,'Courier New',monospace\">        <span style=\"font-weight: bold\">(</span><span style=\"color: #008000; text-decoration-color: #008000\">'no'</span>, <span style=\"color: #008080; text-decoration-color: #008080; font-weight: bold\">0.32606187240867346</span><span style=\"font-weight: bold\">)</span>\n",
       "</pre>\n"
      ],
      "text/plain": [
       "        \u001b[1m(\u001b[0m\u001b[32m'no'\u001b[0m, \u001b[1;36m0.32606187240867346\u001b[0m\u001b[1m)\u001b[0m\n"
      ]
     },
     "metadata": {},
     "output_type": "display_data"
    },
    {
     "data": {
      "text/html": [
       "<pre style=\"white-space:pre;overflow-x:auto;line-height:normal;font-family:Menlo,'DejaVu Sans Mono',consolas,'Courier New',monospace\">        <span style=\"font-weight: bold\">(</span><span style=\"color: #008000; text-decoration-color: #008000\">'place'</span>, <span style=\"color: #008080; text-decoration-color: #008080; font-weight: bold\">0.2997323017820583</span><span style=\"font-weight: bold\">)</span>\n",
       "</pre>\n"
      ],
      "text/plain": [
       "        \u001b[1m(\u001b[0m\u001b[32m'place'\u001b[0m, \u001b[1;36m0.2997323017820583\u001b[0m\u001b[1m)\u001b[0m\n"
      ]
     },
     "metadata": {},
     "output_type": "display_data"
    },
    {
     "data": {
      "text/html": [
       "<pre style=\"white-space:pre;overflow-x:auto;line-height:normal;font-family:Menlo,'DejaVu Sans Mono',consolas,'Courier New',monospace\">        <span style=\"font-weight: bold\">(</span><span style=\"color: #008000; text-decoration-color: #008000\">'nature'</span>, <span style=\"color: #008080; text-decoration-color: #008080; font-weight: bold\">0.2931035384489389</span><span style=\"font-weight: bold\">)</span>\n",
       "</pre>\n"
      ],
      "text/plain": [
       "        \u001b[1m(\u001b[0m\u001b[32m'nature'\u001b[0m, \u001b[1;36m0.2931035384489389\u001b[0m\u001b[1m)\u001b[0m\n"
      ]
     },
     "metadata": {},
     "output_type": "display_data"
    },
    {
     "data": {
      "text/html": [
       "<pre style=\"white-space:pre;overflow-x:auto;line-height:normal;font-family:Menlo,'DejaVu Sans Mono',consolas,'Courier New',monospace\">        <span style=\"font-weight: bold\">(</span><span style=\"color: #008000; text-decoration-color: #008000\">'smiled'</span>, <span style=\"color: #008080; text-decoration-color: #008080; font-weight: bold\">0.291548084584415</span><span style=\"font-weight: bold\">)</span>\n",
       "</pre>\n"
      ],
      "text/plain": [
       "        \u001b[1m(\u001b[0m\u001b[32m'smiled'\u001b[0m, \u001b[1;36m0.291548084584415\u001b[0m\u001b[1m)\u001b[0m\n"
      ]
     },
     "metadata": {},
     "output_type": "display_data"
    },
    {
     "data": {
      "text/html": [
       "<pre style=\"white-space:pre;overflow-x:auto;line-height:normal;font-family:Menlo,'DejaVu Sans Mono',consolas,'Courier New',monospace\">        <span style=\"font-weight: bold\">(</span><span style=\"color: #008000; text-decoration-color: #008000\">'hours'</span>, <span style=\"color: #008080; text-decoration-color: #008080; font-weight: bold\">0.290577918000465</span><span style=\"font-weight: bold\">)</span>\n",
       "</pre>\n"
      ],
      "text/plain": [
       "        \u001b[1m(\u001b[0m\u001b[32m'hours'\u001b[0m, \u001b[1;36m0.290577918000465\u001b[0m\u001b[1m)\u001b[0m\n"
      ]
     },
     "metadata": {},
     "output_type": "display_data"
    },
    {
     "data": {
      "text/html": [
       "<pre style=\"white-space:pre;overflow-x:auto;line-height:normal;font-family:Menlo,'DejaVu Sans Mono',consolas,'Courier New',monospace\">        <span style=\"font-weight: bold\">(</span><span style=\"color: #008000; text-decoration-color: #008000\">'seen'</span>, <span style=\"color: #008080; text-decoration-color: #008080; font-weight: bold\">0.2866540045851072</span><span style=\"font-weight: bold\">)</span>\n",
       "</pre>\n"
      ],
      "text/plain": [
       "        \u001b[1m(\u001b[0m\u001b[32m'seen'\u001b[0m, \u001b[1;36m0.2866540045851072\u001b[0m\u001b[1m)\u001b[0m\n"
      ]
     },
     "metadata": {},
     "output_type": "display_data"
    },
    {
     "data": {
      "text/html": [
       "<pre style=\"white-space:pre;overflow-x:auto;line-height:normal;font-family:Menlo,'DejaVu Sans Mono',consolas,'Courier New',monospace\">        <span style=\"font-weight: bold\">(</span><span style=\"color: #008000; text-decoration-color: #008000\">'peasants'</span>, <span style=\"color: #008080; text-decoration-color: #008080; font-weight: bold\">0.28004345661980523</span><span style=\"font-weight: bold\">)</span>\n",
       "</pre>\n"
      ],
      "text/plain": [
       "        \u001b[1m(\u001b[0m\u001b[32m'peasants'\u001b[0m, \u001b[1;36m0.28004345661980523\u001b[0m\u001b[1m)\u001b[0m\n"
      ]
     },
     "metadata": {},
     "output_type": "display_data"
    },
    {
     "data": {
      "text/html": [
       "<pre style=\"white-space:pre;overflow-x:auto;line-height:normal;font-family:Menlo,'DejaVu Sans Mono',consolas,'Courier New',monospace\">        <span style=\"font-weight: bold\">(</span><span style=\"color: #008000; text-decoration-color: #008000\">'finger'</span>, <span style=\"color: #008080; text-decoration-color: #008080; font-weight: bold\">0.2756305800905993</span><span style=\"font-weight: bold\">)</span>\n",
       "</pre>\n"
      ],
      "text/plain": [
       "        \u001b[1m(\u001b[0m\u001b[32m'finger'\u001b[0m, \u001b[1;36m0.2756305800905993\u001b[0m\u001b[1m)\u001b[0m\n"
      ]
     },
     "metadata": {},
     "output_type": "display_data"
    },
    {
     "data": {
      "text/html": [
       "<pre style=\"white-space:pre;overflow-x:auto;line-height:normal;font-family:Menlo,'DejaVu Sans Mono',consolas,'Courier New',monospace\"><span style=\"font-weight: bold\">(</span><span style=\"color: #008000; text-decoration-color: #008000\">'yes'</span>, <span style=\"color: #008080; text-decoration-color: #008080; font-weight: bold\">497</span><span style=\"font-weight: bold\">)</span> most similar words:\n",
       "</pre>\n"
      ],
      "text/plain": [
       "\u001b[1m(\u001b[0m\u001b[32m'yes'\u001b[0m, \u001b[1;36m497\u001b[0m\u001b[1m)\u001b[0m most similar words:\n"
      ]
     },
     "metadata": {},
     "output_type": "display_data"
    },
    {
     "data": {
      "text/html": [
       "<pre style=\"white-space:pre;overflow-x:auto;line-height:normal;font-family:Menlo,'DejaVu Sans Mono',consolas,'Courier New',monospace\">        <span style=\"font-weight: bold\">(</span><span style=\"color: #008000; text-decoration-color: #008000\">'yes'</span>, <span style=\"color: #008080; text-decoration-color: #008080; font-weight: bold\">1.0</span><span style=\"font-weight: bold\">)</span>\n",
       "</pre>\n"
      ],
      "text/plain": [
       "        \u001b[1m(\u001b[0m\u001b[32m'yes'\u001b[0m, \u001b[1;36m1.0\u001b[0m\u001b[1m)\u001b[0m\n"
      ]
     },
     "metadata": {},
     "output_type": "display_data"
    },
    {
     "data": {
      "text/html": [
       "<pre style=\"white-space:pre;overflow-x:auto;line-height:normal;font-family:Menlo,'DejaVu Sans Mono',consolas,'Courier New',monospace\">        <span style=\"font-weight: bold\">(</span><span style=\"color: #008000; text-decoration-color: #008000\">'hussars'</span>, <span style=\"color: #008080; text-decoration-color: #008080; font-weight: bold\">0.39896966023933406</span><span style=\"font-weight: bold\">)</span>\n",
       "</pre>\n"
      ],
      "text/plain": [
       "        \u001b[1m(\u001b[0m\u001b[32m'hussars'\u001b[0m, \u001b[1;36m0.39896966023933406\u001b[0m\u001b[1m)\u001b[0m\n"
      ]
     },
     "metadata": {},
     "output_type": "display_data"
    },
    {
     "data": {
      "text/html": [
       "<pre style=\"white-space:pre;overflow-x:auto;line-height:normal;font-family:Menlo,'DejaVu Sans Mono',consolas,'Courier New',monospace\">        <span style=\"font-weight: bold\">(</span><span style=\"color: #008000; text-decoration-color: #008000\">'sit'</span>, <span style=\"color: #008080; text-decoration-color: #008080; font-weight: bold\">0.36038401345517534</span><span style=\"font-weight: bold\">)</span>\n",
       "</pre>\n"
      ],
      "text/plain": [
       "        \u001b[1m(\u001b[0m\u001b[32m'sit'\u001b[0m, \u001b[1;36m0.36038401345517534\u001b[0m\u001b[1m)\u001b[0m\n"
      ]
     },
     "metadata": {},
     "output_type": "display_data"
    },
    {
     "data": {
      "text/html": [
       "<pre style=\"white-space:pre;overflow-x:auto;line-height:normal;font-family:Menlo,'DejaVu Sans Mono',consolas,'Courier New',monospace\">        <span style=\"font-weight: bold\">(</span><span style=\"color: #008000; text-decoration-color: #008000\">'follow'</span>, <span style=\"color: #008080; text-decoration-color: #008080; font-weight: bold\">0.35671800211842214</span><span style=\"font-weight: bold\">)</span>\n",
       "</pre>\n"
      ],
      "text/plain": [
       "        \u001b[1m(\u001b[0m\u001b[32m'follow'\u001b[0m, \u001b[1;36m0.35671800211842214\u001b[0m\u001b[1m)\u001b[0m\n"
      ]
     },
     "metadata": {},
     "output_type": "display_data"
    },
    {
     "data": {
      "text/html": [
       "<pre style=\"white-space:pre;overflow-x:auto;line-height:normal;font-family:Menlo,'DejaVu Sans Mono',consolas,'Courier New',monospace\">        <span style=\"font-weight: bold\">(</span><span style=\"color: #008000; text-decoration-color: #008000\">'commander'</span>, <span style=\"color: #008080; text-decoration-color: #008080; font-weight: bold\">0.3420597915671656</span><span style=\"font-weight: bold\">)</span>\n",
       "</pre>\n"
      ],
      "text/plain": [
       "        \u001b[1m(\u001b[0m\u001b[32m'commander'\u001b[0m, \u001b[1;36m0.3420597915671656\u001b[0m\u001b[1m)\u001b[0m\n"
      ]
     },
     "metadata": {},
     "output_type": "display_data"
    },
    {
     "data": {
      "text/html": [
       "<pre style=\"white-space:pre;overflow-x:auto;line-height:normal;font-family:Menlo,'DejaVu Sans Mono',consolas,'Courier New',monospace\">        <span style=\"font-weight: bold\">(</span><span style=\"color: #008000; text-decoration-color: #008000\">'interest'</span>, <span style=\"color: #008080; text-decoration-color: #008080; font-weight: bold\">0.3308957525198662</span><span style=\"font-weight: bold\">)</span>\n",
       "</pre>\n"
      ],
      "text/plain": [
       "        \u001b[1m(\u001b[0m\u001b[32m'interest'\u001b[0m, \u001b[1;36m0.3308957525198662\u001b[0m\u001b[1m)\u001b[0m\n"
      ]
     },
     "metadata": {},
     "output_type": "display_data"
    },
    {
     "data": {
      "text/html": [
       "<pre style=\"white-space:pre;overflow-x:auto;line-height:normal;font-family:Menlo,'DejaVu Sans Mono',consolas,'Courier New',monospace\">        <span style=\"font-weight: bold\">(</span><span style=\"color: #008000; text-decoration-color: #008000\">'effort'</span>, <span style=\"color: #008080; text-decoration-color: #008080; font-weight: bold\">0.298944838853773</span><span style=\"font-weight: bold\">)</span>\n",
       "</pre>\n"
      ],
      "text/plain": [
       "        \u001b[1m(\u001b[0m\u001b[32m'effort'\u001b[0m, \u001b[1;36m0.298944838853773\u001b[0m\u001b[1m)\u001b[0m\n"
      ]
     },
     "metadata": {},
     "output_type": "display_data"
    },
    {
     "data": {
      "text/html": [
       "<pre style=\"white-space:pre;overflow-x:auto;line-height:normal;font-family:Menlo,'DejaVu Sans Mono',consolas,'Courier New',monospace\">        <span style=\"font-weight: bold\">(</span><span style=\"color: #008000; text-decoration-color: #008000\">'hold'</span>, <span style=\"color: #008080; text-decoration-color: #008080; font-weight: bold\">0.2960997146876596</span><span style=\"font-weight: bold\">)</span>\n",
       "</pre>\n"
      ],
      "text/plain": [
       "        \u001b[1m(\u001b[0m\u001b[32m'hold'\u001b[0m, \u001b[1;36m0.2960997146876596\u001b[0m\u001b[1m)\u001b[0m\n"
      ]
     },
     "metadata": {},
     "output_type": "display_data"
    },
    {
     "data": {
      "text/html": [
       "<pre style=\"white-space:pre;overflow-x:auto;line-height:normal;font-family:Menlo,'DejaVu Sans Mono',consolas,'Courier New',monospace\">        <span style=\"font-weight: bold\">(</span><span style=\"color: #008000; text-decoration-color: #008000\">'stood'</span>, <span style=\"color: #008080; text-decoration-color: #008080; font-weight: bold\">0.2959313199639506</span><span style=\"font-weight: bold\">)</span>\n",
       "</pre>\n"
      ],
      "text/plain": [
       "        \u001b[1m(\u001b[0m\u001b[32m'stood'\u001b[0m, \u001b[1;36m0.2959313199639506\u001b[0m\u001b[1m)\u001b[0m\n"
      ]
     },
     "metadata": {},
     "output_type": "display_data"
    },
    {
     "data": {
      "text/html": [
       "<pre style=\"white-space:pre;overflow-x:auto;line-height:normal;font-family:Menlo,'DejaVu Sans Mono',consolas,'Courier New',monospace\">        <span style=\"font-weight: bold\">(</span><span style=\"color: #008000; text-decoration-color: #008000\">'saying'</span>, <span style=\"color: #008080; text-decoration-color: #008080; font-weight: bold\">0.2940926101615522</span><span style=\"font-weight: bold\">)</span>\n",
       "</pre>\n"
      ],
      "text/plain": [
       "        \u001b[1m(\u001b[0m\u001b[32m'saying'\u001b[0m, \u001b[1;36m0.2940926101615522\u001b[0m\u001b[1m)\u001b[0m\n"
      ]
     },
     "metadata": {},
     "output_type": "display_data"
    },
    {
     "data": {
      "text/html": [
       "<pre style=\"white-space:pre;overflow-x:auto;line-height:normal;font-family:Menlo,'DejaVu Sans Mono',consolas,'Courier New',monospace\"><span style=\"font-weight: bold\">(</span><span style=\"color: #008000; text-decoration-color: #008000\">'what'</span>, <span style=\"color: #008080; text-decoration-color: #008080; font-weight: bold\">45</span><span style=\"font-weight: bold\">)</span> most similar words:\n",
       "</pre>\n"
      ],
      "text/plain": [
       "\u001b[1m(\u001b[0m\u001b[32m'what'\u001b[0m, \u001b[1;36m45\u001b[0m\u001b[1m)\u001b[0m most similar words:\n"
      ]
     },
     "metadata": {},
     "output_type": "display_data"
    },
    {
     "data": {
      "text/html": [
       "<pre style=\"white-space:pre;overflow-x:auto;line-height:normal;font-family:Menlo,'DejaVu Sans Mono',consolas,'Courier New',monospace\">        <span style=\"font-weight: bold\">(</span><span style=\"color: #008000; text-decoration-color: #008000\">'what'</span>, <span style=\"color: #008080; text-decoration-color: #008080; font-weight: bold\">1.0</span><span style=\"font-weight: bold\">)</span>\n",
       "</pre>\n"
      ],
      "text/plain": [
       "        \u001b[1m(\u001b[0m\u001b[32m'what'\u001b[0m, \u001b[1;36m1.0\u001b[0m\u001b[1m)\u001b[0m\n"
      ]
     },
     "metadata": {},
     "output_type": "display_data"
    },
    {
     "data": {
      "text/html": [
       "<pre style=\"white-space:pre;overflow-x:auto;line-height:normal;font-family:Menlo,'DejaVu Sans Mono',consolas,'Courier New',monospace\">        <span style=\"font-weight: bold\">(</span><span style=\"color: #008000; text-decoration-color: #008000\">'beauty'</span>, <span style=\"color: #008080; text-decoration-color: #008080; font-weight: bold\">0.37753298947352526</span><span style=\"font-weight: bold\">)</span>\n",
       "</pre>\n"
      ],
      "text/plain": [
       "        \u001b[1m(\u001b[0m\u001b[32m'beauty'\u001b[0m, \u001b[1;36m0.37753298947352526\u001b[0m\u001b[1m)\u001b[0m\n"
      ]
     },
     "metadata": {},
     "output_type": "display_data"
    },
    {
     "data": {
      "text/html": [
       "<pre style=\"white-space:pre;overflow-x:auto;line-height:normal;font-family:Menlo,'DejaVu Sans Mono',consolas,'Courier New',monospace\">        <span style=\"font-weight: bold\">(</span><span style=\"color: #008000; text-decoration-color: #008000\">'how'</span>, <span style=\"color: #008080; text-decoration-color: #008080; font-weight: bold\">0.3703742611701658</span><span style=\"font-weight: bold\">)</span>\n",
       "</pre>\n"
      ],
      "text/plain": [
       "        \u001b[1m(\u001b[0m\u001b[32m'how'\u001b[0m, \u001b[1;36m0.3703742611701658\u001b[0m\u001b[1m)\u001b[0m\n"
      ]
     },
     "metadata": {},
     "output_type": "display_data"
    },
    {
     "data": {
      "text/html": [
       "<pre style=\"white-space:pre;overflow-x:auto;line-height:normal;font-family:Menlo,'DejaVu Sans Mono',consolas,'Courier New',monospace\">        <span style=\"font-weight: bold\">(</span><span style=\"color: #008000; text-decoration-color: #008000\">'passage'</span>, <span style=\"color: #008080; text-decoration-color: #008080; font-weight: bold\">0.35388176380965225</span><span style=\"font-weight: bold\">)</span>\n",
       "</pre>\n"
      ],
      "text/plain": [
       "        \u001b[1m(\u001b[0m\u001b[32m'passage'\u001b[0m, \u001b[1;36m0.35388176380965225\u001b[0m\u001b[1m)\u001b[0m\n"
      ]
     },
     "metadata": {},
     "output_type": "display_data"
    },
    {
     "data": {
      "text/html": [
       "<pre style=\"white-space:pre;overflow-x:auto;line-height:normal;font-family:Menlo,'DejaVu Sans Mono',consolas,'Courier New',monospace\">        <span style=\"font-weight: bold\">(</span><span style=\"color: #008000; text-decoration-color: #008000\">'though'</span>, <span style=\"color: #008080; text-decoration-color: #008080; font-weight: bold\">0.3516011177717562</span><span style=\"font-weight: bold\">)</span>\n",
       "</pre>\n"
      ],
      "text/plain": [
       "        \u001b[1m(\u001b[0m\u001b[32m'though'\u001b[0m, \u001b[1;36m0.3516011177717562\u001b[0m\u001b[1m)\u001b[0m\n"
      ]
     },
     "metadata": {},
     "output_type": "display_data"
    },
    {
     "data": {
      "text/html": [
       "<pre style=\"white-space:pre;overflow-x:auto;line-height:normal;font-family:Menlo,'DejaVu Sans Mono',consolas,'Courier New',monospace\">        <span style=\"font-weight: bold\">(</span><span style=\"color: #008000; text-decoration-color: #008000\">'report'</span>, <span style=\"color: #008080; text-decoration-color: #008080; font-weight: bold\">0.347311745322247</span><span style=\"font-weight: bold\">)</span>\n",
       "</pre>\n"
      ],
      "text/plain": [
       "        \u001b[1m(\u001b[0m\u001b[32m'report'\u001b[0m, \u001b[1;36m0.347311745322247\u001b[0m\u001b[1m)\u001b[0m\n"
      ]
     },
     "metadata": {},
     "output_type": "display_data"
    },
    {
     "data": {
      "text/html": [
       "<pre style=\"white-space:pre;overflow-x:auto;line-height:normal;font-family:Menlo,'DejaVu Sans Mono',consolas,'Courier New',monospace\">        <span style=\"font-weight: bold\">(</span><span style=\"color: #008000; text-decoration-color: #008000\">'shouted'</span>, <span style=\"color: #008080; text-decoration-color: #008080; font-weight: bold\">0.30216283603606</span><span style=\"font-weight: bold\">)</span>\n",
       "</pre>\n"
      ],
      "text/plain": [
       "        \u001b[1m(\u001b[0m\u001b[32m'shouted'\u001b[0m, \u001b[1;36m0.30216283603606\u001b[0m\u001b[1m)\u001b[0m\n"
      ]
     },
     "metadata": {},
     "output_type": "display_data"
    },
    {
     "data": {
      "text/html": [
       "<pre style=\"white-space:pre;overflow-x:auto;line-height:normal;font-family:Menlo,'DejaVu Sans Mono',consolas,'Courier New',monospace\">        <span style=\"font-weight: bold\">(</span><span style=\"color: #008000; text-decoration-color: #008000\">'service'</span>, <span style=\"color: #008080; text-decoration-color: #008080; font-weight: bold\">0.29535464840968534</span><span style=\"font-weight: bold\">)</span>\n",
       "</pre>\n"
      ],
      "text/plain": [
       "        \u001b[1m(\u001b[0m\u001b[32m'service'\u001b[0m, \u001b[1;36m0.29535464840968534\u001b[0m\u001b[1m)\u001b[0m\n"
      ]
     },
     "metadata": {},
     "output_type": "display_data"
    },
    {
     "data": {
      "text/html": [
       "<pre style=\"white-space:pre;overflow-x:auto;line-height:normal;font-family:Menlo,'DejaVu Sans Mono',consolas,'Courier New',monospace\">        <span style=\"font-weight: bold\">(</span><span style=\"color: #008000; text-decoration-color: #008000\">'met'</span>, <span style=\"color: #008080; text-decoration-color: #008080; font-weight: bold\">0.2845564242699397</span><span style=\"font-weight: bold\">)</span>\n",
       "</pre>\n"
      ],
      "text/plain": [
       "        \u001b[1m(\u001b[0m\u001b[32m'met'\u001b[0m, \u001b[1;36m0.2845564242699397\u001b[0m\u001b[1m)\u001b[0m\n"
      ]
     },
     "metadata": {},
     "output_type": "display_data"
    },
    {
     "data": {
      "text/html": [
       "<pre style=\"white-space:pre;overflow-x:auto;line-height:normal;font-family:Menlo,'DejaVu Sans Mono',consolas,'Courier New',monospace\">        <span style=\"font-weight: bold\">(</span><span style=\"color: #008000; text-decoration-color: #008000\">'never'</span>, <span style=\"color: #008080; text-decoration-color: #008080; font-weight: bold\">0.2827738268433781</span><span style=\"font-weight: bold\">)</span>\n",
       "</pre>\n"
      ],
      "text/plain": [
       "        \u001b[1m(\u001b[0m\u001b[32m'never'\u001b[0m, \u001b[1;36m0.2827738268433781\u001b[0m\u001b[1m)\u001b[0m\n"
      ]
     },
     "metadata": {},
     "output_type": "display_data"
    }
   ],
   "source": [
    "testing_words = [\"me\", \"white\", \"man\", \"have\", \"be\", \"child\", \"yes\", \"what\"]\n",
    "testing_words_idx = [(i, vocab.get_stoi()[i]) for i in testing_words]\n",
    "\n",
    "n_most_similar = 10\n",
    "for w in testing_words_idx:\n",
    "\n",
    "    indices = (-sim_matrix[w[1]]).argsort()[:n_most_similar]\n",
    "    sim_words = [(vocab.get_itos()[i], sim_matrix[w[1]][i]) for i in indices]\n",
    "    print(f\"{w} most similar words:\")\n",
    "\n",
    "    for sim_w in sim_words:\n",
    "        print(f\"\\t{sim_w}\")\n"
   ]
  },
  {
   "cell_type": "markdown",
   "metadata": {},
   "source": [
    "TODO: COMMENT HERE"
   ]
  },
  {
   "cell_type": "markdown",
   "metadata": {},
   "source": [
    "#### 6 -Visualize the embedding space.\n",
    "To do so, upload the vocabulary and their corresponding values in the embedding space as tsv files. Try to find\n",
    "and select clusters. Report both plots and their corresponding selections for some meaningful\n",
    "clusters."
   ]
  },
  {
   "cell_type": "code",
   "execution_count": 29,
   "metadata": {},
   "outputs": [],
   "source": [
    "import csv\n",
    "\n",
    "with open(\"./weights.tsv\", \"wt\") as out_file:\n",
    "    tsv_writer = csv.writer(out_file, delimiter=\"\\t\")\n",
    "    for i in best_model_weights:\n",
    "        tsv_writer.writerow(i.numpy())\n",
    "\n",
    "\n",
    "with open(\"./metadata.tsv\", \"wt\") as out_file:\n",
    "    tsv_writer = csv.writer(out_file, delimiter=\"\\t\")\n",
    "    vocab_dict = vocab.get_itos()\n",
    "    for i in vocab_dict:\n",
    "        tsv_writer.writerow([i])\n"
   ]
  },
  {
   "cell_type": "markdown",
   "metadata": {},
   "source": [
    "TODO: PUT VISUALIZATIONS HERE\n",
    "\n",
    "TODO: COMMENT IN REGARDS TO 5"
   ]
  },
  {
   "cell_type": "markdown",
   "metadata": {},
   "source": [
    "## 2.2 Conjugating *be* and *have*"
   ]
  },
  {
   "cell_type": "markdown",
   "metadata": {},
   "source": [
    "#### 1 - Use your trained word embedding and define a MLP architecture as well as a RNN architecture to predict be and have conjugation given the context around the missing target. \n",
    "Use the same context size for both MLPs and RNNs, even though RNNs could take a context size of arbitrary\n",
    "length.\n",
    "\n",
    "- Your trained word embedding can be integrated in your next models in different ways. For\n",
    "example, you can transform inputs before feeding them to your models, or have a first layer in\n",
    "your models with the same weight values as your trained embedding matrix, or simply define\n",
    "the computations between the input and the embedding matrix in the forward function.\n",
    "- To predict be and have conjugation, the (contexts, targets) datasets must be such that\n",
    "the targets are be, am, are, is, was, were, been, being, have, has, had, having. The output\n",
    "layer must match the number of classes to predict and the labels must be mapped from their\n",
    "original index in the vocabulary to integers between 0 and 11."
   ]
  },
  {
   "cell_type": "code",
   "execution_count": 30,
   "metadata": {},
   "outputs": [],
   "source": [
    "def create_conjugate_dataset(text, vocab, around_context_size=2):\n",
    "    contexts = []\n",
    "    targets = []\n",
    "    n_text = len(text)\n",
    "\n",
    "    target_possibilities = [\n",
    "        \"be\",\n",
    "        \"am\",\n",
    "        \"are\",\n",
    "        \"is\",\n",
    "        \"was\",\n",
    "        \"were\",\n",
    "        \"been\",\n",
    "        \"being\",\n",
    "        \"have\",\n",
    "        \"has\",\n",
    "        \"had\",\n",
    "        \"having\",\n",
    "    ]\n",
    "\n",
    "    target_to_idx = {target: i for i, target in enumerate(target_possibilities)}\n",
    "\n",
    "    for i in range(around_context_size, n_text - around_context_size):\n",
    "\n",
    "        word = text[i]\n",
    "\n",
    "        if word in target_possibilities:\n",
    "\n",
    "            t = target_to_idx[word]\n",
    "\n",
    "            around = text[i - around_context_size-1 : i - 1] + text[i + 1 : i + around_context_size+1]\n",
    "\n",
    "            c = torch.Tensor([vocab[w] for w in around]).type(torch.long)\n",
    "\n",
    "            targets.append(t)\n",
    "\n",
    "            contexts.append(c)\n",
    "\n",
    "    contexts = torch.stack(contexts)\n",
    "    targets = torch.tensor(targets)\n",
    "    return TensorDataset(contexts, targets)\n",
    "\n",
    "\n",
    "train_conjugate_data = create_conjugate_dataset(train_tokenized, vocab)\n",
    "val_conjugate_data = create_conjugate_dataset(val_tokenized, vocab)\n",
    "test_conjugate_data = create_conjugate_dataset(test_tokenized, vocab)\n",
    "\n",
    "batch_size = 64\n",
    "\n",
    "train_conjugate_data_loader = DataLoader(train_conjugate_data, batch_size=batch_size)\n",
    "val_conjugate_data_loader = DataLoader(val_conjugate_data, batch_size=batch_size)\n",
    "test_conjugate_data_loader = DataLoader(test_conjugate_data, batch_size=batch_size)\n"
   ]
  },
  {
   "cell_type": "code",
   "execution_count": 61,
   "metadata": {},
   "outputs": [],
   "source": [
    "output_size = 12\n",
    "\n",
    "class MLP(nn.Module):\n",
    "    def __init__(self, vocab_size, embedding_dim, embedding_weights, context_size):\n",
    "        super().__init__()\n",
    "        self.embeddings = nn.Embedding(vocab_size, embedding_dim)\n",
    "        self.embeddings.load_state_dict({\"weight\": embedding_weights})\n",
    "        self.linear1 = nn.Linear(context_size * embedding_dim, 128)\n",
    "        self.relu1 = nn.ReLU()\n",
    "        self.linear2 = nn.Linear(128, output_size)\n",
    "\n",
    "    def forward(self, inputs):\n",
    "        embeds = self.embeddings(inputs).view((inputs.shape[0], -1))\n",
    "        out = self.linear1(embeds)\n",
    "        out = self.relu1(out)\n",
    "        out = self.linear2(out)\n",
    "        log_probs = F.log_softmax(out, dim=1)\n",
    "\n",
    "        return log_probs\n"
   ]
  },
  {
   "cell_type": "code",
   "execution_count": 112,
   "metadata": {},
   "outputs": [],
   "source": [
    "class RNN(nn.Module):\n",
    "    def __init__(self, vocab_size, embedding_dim, embedding_weights, context_size, hidden_size,):\n",
    "        super(RNN, self).__init__()\n",
    "        self.embedding_dim = embedding_dim\n",
    "        self.embeddings = nn.Embedding(vocab_size, embedding_dim)\n",
    "        self.embeddings.load_state_dict({\"weight\": embedding_weights})\n",
    "\n",
    "        self.hidden_size = hidden_size\n",
    "\n",
    "        self.i2h = nn.Linear(context_size * embedding_dim + hidden_size, hidden_size)\n",
    "        self.i2o = nn.Linear(context_size * embedding_dim + hidden_size, output_size)\n",
    "        self.softmax = nn.LogSoftmax(dim=1)\n",
    "\n",
    "    def forward(self, input, hidden):\n",
    "        embeds = self.embeddings(input).view((input.shape[0], -1))\n",
    "        combined = torch.cat((embeds, hidden), 1)\n",
    "        hidden = self.i2h(combined)\n",
    "        output = self.i2o(combined)\n",
    "        output = self.softmax(output)\n",
    "        return output, hidden\n",
    "\n",
    "    def initHidden(self):\n",
    "        return torch.zeros(self.embedding_dim, self.hidden_size)\n",
    "\n"
   ]
  },
  {
   "cell_type": "code",
   "execution_count": 113,
   "metadata": {},
   "outputs": [],
   "source": [
    "def train_rnn(n_epochs, optimizer, model, loss_fn, train_loader):\n",
    "    n_batch = len(train_loader)\n",
    "    losses_train = []\n",
    "    model.train()\n",
    "\n",
    "    optimizer.zero_grad(set_to_none=True)\n",
    "\n",
    "    for epoch in range(1, n_epochs + 1):\n",
    "\n",
    "        loss_train = 0.0\n",
    "        hidden = model.initHidden()\n",
    "        for contexts, labels in train_loader:\n",
    "\n",
    "            contexts = contexts.to(device=device)\n",
    "            labels = labels.to(device=device)\n",
    "            outputs, hidden = model(contexts, hidden)\n",
    "            loss = loss_fn(outputs, labels)\n",
    "            loss.backward()\n",
    "            optimizer.step()\n",
    "            optimizer.zero_grad()\n",
    "\n",
    "            loss_train += loss.item()\n",
    "\n",
    "        losses_train.append(loss_train / n_batch)\n",
    "\n",
    "        print(\n",
    "            \"{}  |  Epoch {}  |  Training loss {:.5f}\".format(\n",
    "                datetime.now().time(), epoch, loss_train / n_batch\n",
    "            )\n",
    "        )\n",
    "    return\n",
    "\n",
    "\n",
    "def relative_error(a, b):\n",
    "    return torch.norm(a - b) / torch.norm(a)\n"
   ]
  },
  {
   "cell_type": "code",
   "execution_count": 114,
   "metadata": {},
   "outputs": [
    {
     "ename": "RuntimeError",
     "evalue": "Trying to backward through the graph a second time (or directly access saved tensors after they have already been freed). Saved intermediate values of the graph are freed when you call .backward() or autograd.grad(). Specify retain_graph=True if you need to backward through the graph a second time or if you need to access saved tensors after calling backward.",
     "output_type": "error",
     "traceback": [
      "\u001b[0;31m---------------------------------------------------------------------------\u001b[0m",
      "\u001b[0;31mRuntimeError\u001b[0m                              Traceback (most recent call last)",
      "\u001b[1;32m/home/elias/Projects/INF265/Project3/project3_igu011_edj001.ipynb Cell 31'\u001b[0m in \u001b[0;36m<cell line: 12>\u001b[0;34m()\u001b[0m\n\u001b[1;32m      <a href='vscode-notebook-cell://wsl%2Bubuntu-20.04/home/elias/Projects/INF265/Project3/project3_igu011_edj001.ipynb#ch0000050vscode-remote?line=7'>8</a>\u001b[0m RNN_model \u001b[39m=\u001b[39m RNN(vocab_size, embedding_dim, best_model_weights, \u001b[39m4\u001b[39m, n_hidden)\u001b[39m.\u001b[39mto(device\u001b[39m=\u001b[39mdevice)\n\u001b[1;32m      <a href='vscode-notebook-cell://wsl%2Bubuntu-20.04/home/elias/Projects/INF265/Project3/project3_igu011_edj001.ipynb#ch0000050vscode-remote?line=8'>9</a>\u001b[0m optimizer \u001b[39m=\u001b[39m optim\u001b[39m.\u001b[39mAdam(RNN_model\u001b[39m.\u001b[39mparameters(), lr\u001b[39m=\u001b[39mlr)\n\u001b[0;32m---> <a href='vscode-notebook-cell://wsl%2Bubuntu-20.04/home/elias/Projects/INF265/Project3/project3_igu011_edj001.ipynb#ch0000050vscode-remote?line=11'>12</a>\u001b[0m train_rnn(n_epochs,optimizer,RNN_model,loss_fn,train_conjugate_data_loader)\n",
      "\u001b[1;32m/home/elias/Projects/INF265/Project3/project3_igu011_edj001.ipynb Cell 30'\u001b[0m in \u001b[0;36mtrain_rnn\u001b[0;34m(n_epochs, optimizer, model, loss_fn, train_loader)\u001b[0m\n\u001b[1;32m     <a href='vscode-notebook-cell://wsl%2Bubuntu-20.04/home/elias/Projects/INF265/Project3/project3_igu011_edj001.ipynb#ch0000047vscode-remote?line=15'>16</a>\u001b[0m outputs, hidden \u001b[39m=\u001b[39m model(contexts, hidden)\n\u001b[1;32m     <a href='vscode-notebook-cell://wsl%2Bubuntu-20.04/home/elias/Projects/INF265/Project3/project3_igu011_edj001.ipynb#ch0000047vscode-remote?line=16'>17</a>\u001b[0m loss \u001b[39m=\u001b[39m loss_fn(outputs, labels)\n\u001b[0;32m---> <a href='vscode-notebook-cell://wsl%2Bubuntu-20.04/home/elias/Projects/INF265/Project3/project3_igu011_edj001.ipynb#ch0000047vscode-remote?line=17'>18</a>\u001b[0m loss\u001b[39m.\u001b[39;49mbackward()\n\u001b[1;32m     <a href='vscode-notebook-cell://wsl%2Bubuntu-20.04/home/elias/Projects/INF265/Project3/project3_igu011_edj001.ipynb#ch0000047vscode-remote?line=18'>19</a>\u001b[0m optimizer\u001b[39m.\u001b[39mstep()\n\u001b[1;32m     <a href='vscode-notebook-cell://wsl%2Bubuntu-20.04/home/elias/Projects/INF265/Project3/project3_igu011_edj001.ipynb#ch0000047vscode-remote?line=19'>20</a>\u001b[0m optimizer\u001b[39m.\u001b[39mzero_grad()\n",
      "File \u001b[0;32m~/miniconda3/envs/265_2/lib/python3.10/site-packages/torch/_tensor.py:363\u001b[0m, in \u001b[0;36mTensor.backward\u001b[0;34m(self, gradient, retain_graph, create_graph, inputs)\u001b[0m\n\u001b[1;32m    <a href='file:///home/elias/miniconda3/envs/265_2/lib/python3.10/site-packages/torch/_tensor.py?line=353'>354</a>\u001b[0m \u001b[39mif\u001b[39;00m has_torch_function_unary(\u001b[39mself\u001b[39m):\n\u001b[1;32m    <a href='file:///home/elias/miniconda3/envs/265_2/lib/python3.10/site-packages/torch/_tensor.py?line=354'>355</a>\u001b[0m     \u001b[39mreturn\u001b[39;00m handle_torch_function(\n\u001b[1;32m    <a href='file:///home/elias/miniconda3/envs/265_2/lib/python3.10/site-packages/torch/_tensor.py?line=355'>356</a>\u001b[0m         Tensor\u001b[39m.\u001b[39mbackward,\n\u001b[1;32m    <a href='file:///home/elias/miniconda3/envs/265_2/lib/python3.10/site-packages/torch/_tensor.py?line=356'>357</a>\u001b[0m         (\u001b[39mself\u001b[39m,),\n\u001b[0;32m   (...)\u001b[0m\n\u001b[1;32m    <a href='file:///home/elias/miniconda3/envs/265_2/lib/python3.10/site-packages/torch/_tensor.py?line=360'>361</a>\u001b[0m         create_graph\u001b[39m=\u001b[39mcreate_graph,\n\u001b[1;32m    <a href='file:///home/elias/miniconda3/envs/265_2/lib/python3.10/site-packages/torch/_tensor.py?line=361'>362</a>\u001b[0m         inputs\u001b[39m=\u001b[39minputs)\n\u001b[0;32m--> <a href='file:///home/elias/miniconda3/envs/265_2/lib/python3.10/site-packages/torch/_tensor.py?line=362'>363</a>\u001b[0m torch\u001b[39m.\u001b[39;49mautograd\u001b[39m.\u001b[39;49mbackward(\u001b[39mself\u001b[39;49m, gradient, retain_graph, create_graph, inputs\u001b[39m=\u001b[39;49minputs)\n",
      "File \u001b[0;32m~/miniconda3/envs/265_2/lib/python3.10/site-packages/torch/autograd/__init__.py:173\u001b[0m, in \u001b[0;36mbackward\u001b[0;34m(tensors, grad_tensors, retain_graph, create_graph, grad_variables, inputs)\u001b[0m\n\u001b[1;32m    <a href='file:///home/elias/miniconda3/envs/265_2/lib/python3.10/site-packages/torch/autograd/__init__.py?line=167'>168</a>\u001b[0m     retain_graph \u001b[39m=\u001b[39m create_graph\n\u001b[1;32m    <a href='file:///home/elias/miniconda3/envs/265_2/lib/python3.10/site-packages/torch/autograd/__init__.py?line=169'>170</a>\u001b[0m \u001b[39m# The reason we repeat same the comment below is that\u001b[39;00m\n\u001b[1;32m    <a href='file:///home/elias/miniconda3/envs/265_2/lib/python3.10/site-packages/torch/autograd/__init__.py?line=170'>171</a>\u001b[0m \u001b[39m# some Python versions print out the first line of a multi-line function\u001b[39;00m\n\u001b[1;32m    <a href='file:///home/elias/miniconda3/envs/265_2/lib/python3.10/site-packages/torch/autograd/__init__.py?line=171'>172</a>\u001b[0m \u001b[39m# calls in the traceback and some print out the last line\u001b[39;00m\n\u001b[0;32m--> <a href='file:///home/elias/miniconda3/envs/265_2/lib/python3.10/site-packages/torch/autograd/__init__.py?line=172'>173</a>\u001b[0m Variable\u001b[39m.\u001b[39;49m_execution_engine\u001b[39m.\u001b[39;49mrun_backward(  \u001b[39m# Calls into the C++ engine to run the backward pass\u001b[39;49;00m\n\u001b[1;32m    <a href='file:///home/elias/miniconda3/envs/265_2/lib/python3.10/site-packages/torch/autograd/__init__.py?line=173'>174</a>\u001b[0m     tensors, grad_tensors_, retain_graph, create_graph, inputs,\n\u001b[1;32m    <a href='file:///home/elias/miniconda3/envs/265_2/lib/python3.10/site-packages/torch/autograd/__init__.py?line=174'>175</a>\u001b[0m     allow_unreachable\u001b[39m=\u001b[39;49m\u001b[39mTrue\u001b[39;49;00m, accumulate_grad\u001b[39m=\u001b[39;49m\u001b[39mTrue\u001b[39;49;00m)\n",
      "\u001b[0;31mRuntimeError\u001b[0m: Trying to backward through the graph a second time (or directly access saved tensors after they have already been freed). Saved intermediate values of the graph are freed when you call .backward() or autograd.grad(). Specify retain_graph=True if you need to backward through the graph a second time or if you need to access saved tensors after calling backward."
     ]
    }
   ],
   "source": [
    "n_hidden = 128\n",
    "\n",
    "loss_fn = nn.NLLLoss()\n",
    "n_epochs = 15\n",
    "lr = 0.001\n",
    "embedding_dim = 64\n",
    "\n",
    "RNN_model = RNN(vocab_size, embedding_dim, best_model_weights, 4, n_hidden).to(device=device)\n",
    "optimizer = optim.Adam(RNN_model.parameters(), lr=lr)\n",
    "\n",
    "\n",
    "train_rnn(n_epochs,optimizer,RNN_model,loss_fn,train_conjugate_data_loader)"
   ]
  },
  {
   "cell_type": "markdown",
   "metadata": {},
   "source": [
    "#### 2 - Train several models, select the best one and evaluate its performance. \n",
    "Comment the differences in terms of performances/training time between the MLP architecture and the RNN\n",
    "architecture."
   ]
  },
  {
   "cell_type": "code",
   "execution_count": 59,
   "metadata": {},
   "outputs": [
    {
     "data": {
      "text/html": [
       "<pre style=\"white-space:pre;overflow-x:auto;line-height:normal;font-family:Menlo,'DejaVu Sans Mono',consolas,'Courier New',monospace\"><span style=\"color: #00ff00; text-decoration-color: #00ff00; font-weight: bold\">21:20:38</span>.<span style=\"color: #008080; text-decoration-color: #008080; font-weight: bold\">848590</span>  |  Epoch <span style=\"color: #008080; text-decoration-color: #008080; font-weight: bold\">1</span>  |  Training loss <span style=\"color: #008080; text-decoration-color: #008080; font-weight: bold\">2.28300</span>\n",
       "</pre>\n"
      ],
      "text/plain": [
       "\u001b[1;92m21:20:38\u001b[0m.\u001b[1;36m848590\u001b[0m  |  Epoch \u001b[1;36m1\u001b[0m  |  Training loss \u001b[1;36m2.28300\u001b[0m\n"
      ]
     },
     "metadata": {},
     "output_type": "display_data"
    },
    {
     "data": {
      "text/html": [
       "<pre style=\"white-space:pre;overflow-x:auto;line-height:normal;font-family:Menlo,'DejaVu Sans Mono',consolas,'Courier New',monospace\"><span style=\"color: #00ff00; text-decoration-color: #00ff00; font-weight: bold\">21:20:41</span>.<span style=\"color: #008080; text-decoration-color: #008080; font-weight: bold\">052539</span>  |  Epoch <span style=\"color: #008080; text-decoration-color: #008080; font-weight: bold\">2</span>  |  Training loss <span style=\"color: #008080; text-decoration-color: #008080; font-weight: bold\">2.19912</span>\n",
       "</pre>\n"
      ],
      "text/plain": [
       "\u001b[1;92m21:20:41\u001b[0m.\u001b[1;36m052539\u001b[0m  |  Epoch \u001b[1;36m2\u001b[0m  |  Training loss \u001b[1;36m2.19912\u001b[0m\n"
      ]
     },
     "metadata": {},
     "output_type": "display_data"
    },
    {
     "data": {
      "text/html": [
       "<pre style=\"white-space:pre;overflow-x:auto;line-height:normal;font-family:Menlo,'DejaVu Sans Mono',consolas,'Courier New',monospace\"><span style=\"color: #00ff00; text-decoration-color: #00ff00; font-weight: bold\">21:20:43</span>.<span style=\"color: #008080; text-decoration-color: #008080; font-weight: bold\">453493</span>  |  Epoch <span style=\"color: #008080; text-decoration-color: #008080; font-weight: bold\">3</span>  |  Training loss <span style=\"color: #008080; text-decoration-color: #008080; font-weight: bold\">2.17517</span>\n",
       "</pre>\n"
      ],
      "text/plain": [
       "\u001b[1;92m21:20:43\u001b[0m.\u001b[1;36m453493\u001b[0m  |  Epoch \u001b[1;36m3\u001b[0m  |  Training loss \u001b[1;36m2.17517\u001b[0m\n"
      ]
     },
     "metadata": {},
     "output_type": "display_data"
    },
    {
     "data": {
      "text/html": [
       "<pre style=\"white-space:pre;overflow-x:auto;line-height:normal;font-family:Menlo,'DejaVu Sans Mono',consolas,'Courier New',monospace\"><span style=\"color: #00ff00; text-decoration-color: #00ff00; font-weight: bold\">21:20:45</span>.<span style=\"color: #008080; text-decoration-color: #008080; font-weight: bold\">939716</span>  |  Epoch <span style=\"color: #008080; text-decoration-color: #008080; font-weight: bold\">4</span>  |  Training loss <span style=\"color: #008080; text-decoration-color: #008080; font-weight: bold\">2.15952</span>\n",
       "</pre>\n"
      ],
      "text/plain": [
       "\u001b[1;92m21:20:45\u001b[0m.\u001b[1;36m939716\u001b[0m  |  Epoch \u001b[1;36m4\u001b[0m  |  Training loss \u001b[1;36m2.15952\u001b[0m\n"
      ]
     },
     "metadata": {},
     "output_type": "display_data"
    }
   ],
   "source": [
    "loss_fn = nn.NLLLoss()\n",
    "n_epochs = 4\n",
    "lr = 0.1\n",
    "embedding_dim = 64\n",
    "\n",
    "MLP_model = MLP(vocab_size, embedding_dim, best_model_weights, 4).to(device=device)\n",
    "optimizer = optim.SGD(MLP_model.parameters(), lr=lr)\n",
    "\n",
    "\n",
    "train(n_epochs,optimizer,MLP_model,loss_fn,train_conjugate_data_loader)"
   ]
  },
  {
   "cell_type": "code",
   "execution_count": 60,
   "metadata": {},
   "outputs": [
    {
     "data": {
      "text/html": [
       "<pre style=\"white-space:pre;overflow-x:auto;line-height:normal;font-family:Menlo,'DejaVu Sans Mono',consolas,'Courier New',monospace\"><span style=\"color: #00ff00; text-decoration-color: #00ff00; font-weight: bold\">21:20:48</span>.<span style=\"color: #008080; text-decoration-color: #008080; font-weight: bold\">282030</span>  |  Epoch <span style=\"color: #008080; text-decoration-color: #008080; font-weight: bold\">1</span>  |  Training loss <span style=\"color: #008080; text-decoration-color: #008080; font-weight: bold\">1.72271</span>\n",
       "</pre>\n"
      ],
      "text/plain": [
       "\u001b[1;92m21:20:48\u001b[0m.\u001b[1;36m282030\u001b[0m  |  Epoch \u001b[1;36m1\u001b[0m  |  Training loss \u001b[1;36m1.72271\u001b[0m\n"
      ]
     },
     "metadata": {},
     "output_type": "display_data"
    },
    {
     "data": {
      "text/html": [
       "<pre style=\"white-space:pre;overflow-x:auto;line-height:normal;font-family:Menlo,'DejaVu Sans Mono',consolas,'Courier New',monospace\"><span style=\"color: #00ff00; text-decoration-color: #00ff00; font-weight: bold\">21:20:50</span>.<span style=\"color: #008080; text-decoration-color: #008080; font-weight: bold\">436303</span>  |  Epoch <span style=\"color: #008080; text-decoration-color: #008080; font-weight: bold\">2</span>  |  Training loss <span style=\"color: #008080; text-decoration-color: #008080; font-weight: bold\">1.53482</span>\n",
       "</pre>\n"
      ],
      "text/plain": [
       "\u001b[1;92m21:20:50\u001b[0m.\u001b[1;36m436303\u001b[0m  |  Epoch \u001b[1;36m2\u001b[0m  |  Training loss \u001b[1;36m1.53482\u001b[0m\n"
      ]
     },
     "metadata": {},
     "output_type": "display_data"
    },
    {
     "data": {
      "text/html": [
       "<pre style=\"white-space:pre;overflow-x:auto;line-height:normal;font-family:Menlo,'DejaVu Sans Mono',consolas,'Courier New',monospace\"><span style=\"color: #00ff00; text-decoration-color: #00ff00; font-weight: bold\">21:20:52</span>.<span style=\"color: #008080; text-decoration-color: #008080; font-weight: bold\">692624</span>  |  Epoch <span style=\"color: #008080; text-decoration-color: #008080; font-weight: bold\">3</span>  |  Training loss <span style=\"color: #008080; text-decoration-color: #008080; font-weight: bold\">1.45404</span>\n",
       "</pre>\n"
      ],
      "text/plain": [
       "\u001b[1;92m21:20:52\u001b[0m.\u001b[1;36m692624\u001b[0m  |  Epoch \u001b[1;36m3\u001b[0m  |  Training loss \u001b[1;36m1.45404\u001b[0m\n"
      ]
     },
     "metadata": {},
     "output_type": "display_data"
    },
    {
     "data": {
      "text/html": [
       "<pre style=\"white-space:pre;overflow-x:auto;line-height:normal;font-family:Menlo,'DejaVu Sans Mono',consolas,'Courier New',monospace\"><span style=\"color: #00ff00; text-decoration-color: #00ff00; font-weight: bold\">21:20:55</span>.<span style=\"color: #008080; text-decoration-color: #008080; font-weight: bold\">036968</span>  |  Epoch <span style=\"color: #008080; text-decoration-color: #008080; font-weight: bold\">4</span>  |  Training loss <span style=\"color: #008080; text-decoration-color: #008080; font-weight: bold\">1.39490</span>\n",
       "</pre>\n"
      ],
      "text/plain": [
       "\u001b[1;92m21:20:55\u001b[0m.\u001b[1;36m036968\u001b[0m  |  Epoch \u001b[1;36m4\u001b[0m  |  Training loss \u001b[1;36m1.39490\u001b[0m\n"
      ]
     },
     "metadata": {},
     "output_type": "display_data"
    },
    {
     "data": {
      "text/html": [
       "<pre style=\"white-space:pre;overflow-x:auto;line-height:normal;font-family:Menlo,'DejaVu Sans Mono',consolas,'Courier New',monospace\"><span style=\"color: #00ff00; text-decoration-color: #00ff00; font-weight: bold\">21:20:56</span>.<span style=\"color: #008080; text-decoration-color: #008080; font-weight: bold\">996417</span>  |  Epoch <span style=\"color: #008080; text-decoration-color: #008080; font-weight: bold\">5</span>  |  Training loss <span style=\"color: #008080; text-decoration-color: #008080; font-weight: bold\">1.34539</span>\n",
       "</pre>\n"
      ],
      "text/plain": [
       "\u001b[1;92m21:20:56\u001b[0m.\u001b[1;36m996417\u001b[0m  |  Epoch \u001b[1;36m5\u001b[0m  |  Training loss \u001b[1;36m1.34539\u001b[0m\n"
      ]
     },
     "metadata": {},
     "output_type": "display_data"
    },
    {
     "data": {
      "text/html": [
       "<pre style=\"white-space:pre;overflow-x:auto;line-height:normal;font-family:Menlo,'DejaVu Sans Mono',consolas,'Courier New',monospace\"><span style=\"color: #00ff00; text-decoration-color: #00ff00; font-weight: bold\">21:20:58</span>.<span style=\"color: #008080; text-decoration-color: #008080; font-weight: bold\">981618</span>  |  Epoch <span style=\"color: #008080; text-decoration-color: #008080; font-weight: bold\">6</span>  |  Training loss <span style=\"color: #008080; text-decoration-color: #008080; font-weight: bold\">1.30191</span>\n",
       "</pre>\n"
      ],
      "text/plain": [
       "\u001b[1;92m21:20:58\u001b[0m.\u001b[1;36m981618\u001b[0m  |  Epoch \u001b[1;36m6\u001b[0m  |  Training loss \u001b[1;36m1.30191\u001b[0m\n"
      ]
     },
     "metadata": {},
     "output_type": "display_data"
    },
    {
     "data": {
      "text/html": [
       "<pre style=\"white-space:pre;overflow-x:auto;line-height:normal;font-family:Menlo,'DejaVu Sans Mono',consolas,'Courier New',monospace\"><span style=\"color: #00ff00; text-decoration-color: #00ff00; font-weight: bold\">21:21:01</span>.<span style=\"color: #008080; text-decoration-color: #008080; font-weight: bold\">559201</span>  |  Epoch <span style=\"color: #008080; text-decoration-color: #008080; font-weight: bold\">7</span>  |  Training loss <span style=\"color: #008080; text-decoration-color: #008080; font-weight: bold\">1.26203</span>\n",
       "</pre>\n"
      ],
      "text/plain": [
       "\u001b[1;92m21:21:01\u001b[0m.\u001b[1;36m559201\u001b[0m  |  Epoch \u001b[1;36m7\u001b[0m  |  Training loss \u001b[1;36m1.26203\u001b[0m\n"
      ]
     },
     "metadata": {},
     "output_type": "display_data"
    },
    {
     "data": {
      "text/html": [
       "<pre style=\"white-space:pre;overflow-x:auto;line-height:normal;font-family:Menlo,'DejaVu Sans Mono',consolas,'Courier New',monospace\"><span style=\"color: #00ff00; text-decoration-color: #00ff00; font-weight: bold\">21:21:03</span>.<span style=\"color: #008080; text-decoration-color: #008080; font-weight: bold\">826062</span>  |  Epoch <span style=\"color: #008080; text-decoration-color: #008080; font-weight: bold\">8</span>  |  Training loss <span style=\"color: #008080; text-decoration-color: #008080; font-weight: bold\">1.22615</span>\n",
       "</pre>\n"
      ],
      "text/plain": [
       "\u001b[1;92m21:21:03\u001b[0m.\u001b[1;36m826062\u001b[0m  |  Epoch \u001b[1;36m8\u001b[0m  |  Training loss \u001b[1;36m1.22615\u001b[0m\n"
      ]
     },
     "metadata": {},
     "output_type": "display_data"
    },
    {
     "data": {
      "text/html": [
       "<pre style=\"white-space:pre;overflow-x:auto;line-height:normal;font-family:Menlo,'DejaVu Sans Mono',consolas,'Courier New',monospace\"><span style=\"color: #00ff00; text-decoration-color: #00ff00; font-weight: bold\">21:21:06</span>.<span style=\"color: #008080; text-decoration-color: #008080; font-weight: bold\">303947</span>  |  Epoch <span style=\"color: #008080; text-decoration-color: #008080; font-weight: bold\">9</span>  |  Training loss <span style=\"color: #008080; text-decoration-color: #008080; font-weight: bold\">1.19268</span>\n",
       "</pre>\n"
      ],
      "text/plain": [
       "\u001b[1;92m21:21:06\u001b[0m.\u001b[1;36m303947\u001b[0m  |  Epoch \u001b[1;36m9\u001b[0m  |  Training loss \u001b[1;36m1.19268\u001b[0m\n"
      ]
     },
     "metadata": {},
     "output_type": "display_data"
    },
    {
     "data": {
      "text/html": [
       "<pre style=\"white-space:pre;overflow-x:auto;line-height:normal;font-family:Menlo,'DejaVu Sans Mono',consolas,'Courier New',monospace\"><span style=\"color: #00ff00; text-decoration-color: #00ff00; font-weight: bold\">21:21:08</span>.<span style=\"color: #008080; text-decoration-color: #008080; font-weight: bold\">775956</span>  |  Epoch <span style=\"color: #008080; text-decoration-color: #008080; font-weight: bold\">10</span>  |  Training loss <span style=\"color: #008080; text-decoration-color: #008080; font-weight: bold\">1.16164</span>\n",
       "</pre>\n"
      ],
      "text/plain": [
       "\u001b[1;92m21:21:08\u001b[0m.\u001b[1;36m775956\u001b[0m  |  Epoch \u001b[1;36m10\u001b[0m  |  Training loss \u001b[1;36m1.16164\u001b[0m\n"
      ]
     },
     "metadata": {},
     "output_type": "display_data"
    },
    {
     "data": {
      "text/html": [
       "<pre style=\"white-space:pre;overflow-x:auto;line-height:normal;font-family:Menlo,'DejaVu Sans Mono',consolas,'Courier New',monospace\"><span style=\"color: #00ff00; text-decoration-color: #00ff00; font-weight: bold\">21:21:10</span>.<span style=\"color: #008080; text-decoration-color: #008080; font-weight: bold\">858182</span>  |  Epoch <span style=\"color: #008080; text-decoration-color: #008080; font-weight: bold\">11</span>  |  Training loss <span style=\"color: #008080; text-decoration-color: #008080; font-weight: bold\">1.13227</span>\n",
       "</pre>\n"
      ],
      "text/plain": [
       "\u001b[1;92m21:21:10\u001b[0m.\u001b[1;36m858182\u001b[0m  |  Epoch \u001b[1;36m11\u001b[0m  |  Training loss \u001b[1;36m1.13227\u001b[0m\n"
      ]
     },
     "metadata": {},
     "output_type": "display_data"
    },
    {
     "data": {
      "text/html": [
       "<pre style=\"white-space:pre;overflow-x:auto;line-height:normal;font-family:Menlo,'DejaVu Sans Mono',consolas,'Courier New',monospace\"><span style=\"color: #00ff00; text-decoration-color: #00ff00; font-weight: bold\">21:21:13</span>.<span style=\"color: #008080; text-decoration-color: #008080; font-weight: bold\">060120</span>  |  Epoch <span style=\"color: #008080; text-decoration-color: #008080; font-weight: bold\">12</span>  |  Training loss <span style=\"color: #008080; text-decoration-color: #008080; font-weight: bold\">1.10498</span>\n",
       "</pre>\n"
      ],
      "text/plain": [
       "\u001b[1;92m21:21:13\u001b[0m.\u001b[1;36m060120\u001b[0m  |  Epoch \u001b[1;36m12\u001b[0m  |  Training loss \u001b[1;36m1.10498\u001b[0m\n"
      ]
     },
     "metadata": {},
     "output_type": "display_data"
    },
    {
     "data": {
      "text/html": [
       "<pre style=\"white-space:pre;overflow-x:auto;line-height:normal;font-family:Menlo,'DejaVu Sans Mono',consolas,'Courier New',monospace\"><span style=\"color: #00ff00; text-decoration-color: #00ff00; font-weight: bold\">21:21:15</span>.<span style=\"color: #008080; text-decoration-color: #008080; font-weight: bold\">737758</span>  |  Epoch <span style=\"color: #008080; text-decoration-color: #008080; font-weight: bold\">13</span>  |  Training loss <span style=\"color: #008080; text-decoration-color: #008080; font-weight: bold\">1.07936</span>\n",
       "</pre>\n"
      ],
      "text/plain": [
       "\u001b[1;92m21:21:15\u001b[0m.\u001b[1;36m737758\u001b[0m  |  Epoch \u001b[1;36m13\u001b[0m  |  Training loss \u001b[1;36m1.07936\u001b[0m\n"
      ]
     },
     "metadata": {},
     "output_type": "display_data"
    },
    {
     "data": {
      "text/html": [
       "<pre style=\"white-space:pre;overflow-x:auto;line-height:normal;font-family:Menlo,'DejaVu Sans Mono',consolas,'Courier New',monospace\"><span style=\"color: #00ff00; text-decoration-color: #00ff00; font-weight: bold\">21:21:18</span>.<span style=\"color: #008080; text-decoration-color: #008080; font-weight: bold\">693131</span>  |  Epoch <span style=\"color: #008080; text-decoration-color: #008080; font-weight: bold\">14</span>  |  Training loss <span style=\"color: #008080; text-decoration-color: #008080; font-weight: bold\">1.05433</span>\n",
       "</pre>\n"
      ],
      "text/plain": [
       "\u001b[1;92m21:21:18\u001b[0m.\u001b[1;36m693131\u001b[0m  |  Epoch \u001b[1;36m14\u001b[0m  |  Training loss \u001b[1;36m1.05433\u001b[0m\n"
      ]
     },
     "metadata": {},
     "output_type": "display_data"
    },
    {
     "data": {
      "text/html": [
       "<pre style=\"white-space:pre;overflow-x:auto;line-height:normal;font-family:Menlo,'DejaVu Sans Mono',consolas,'Courier New',monospace\"><span style=\"color: #00ff00; text-decoration-color: #00ff00; font-weight: bold\">21:21:21</span>.<span style=\"color: #008080; text-decoration-color: #008080; font-weight: bold\">536317</span>  |  Epoch <span style=\"color: #008080; text-decoration-color: #008080; font-weight: bold\">15</span>  |  Training loss <span style=\"color: #008080; text-decoration-color: #008080; font-weight: bold\">1.03159</span>\n",
       "</pre>\n"
      ],
      "text/plain": [
       "\u001b[1;92m21:21:21\u001b[0m.\u001b[1;36m536317\u001b[0m  |  Epoch \u001b[1;36m15\u001b[0m  |  Training loss \u001b[1;36m1.03159\u001b[0m\n"
      ]
     },
     "metadata": {},
     "output_type": "display_data"
    }
   ],
   "source": [
    "loss_fn = nn.NLLLoss()\n",
    "n_epochs = 15\n",
    "lr = 0.001\n",
    "embedding_dim = 64\n",
    "\n",
    "MLP_model_2 = MLP(vocab_size, embedding_dim, best_model_weights, 4).to(device=device)\n",
    "optimizer = optim.Adam(MLP_model_2.parameters(), lr=lr)\n",
    "\n",
    "\n",
    "train(n_epochs,optimizer,MLP_model_2,loss_fn,train_conjugate_data_loader)"
   ]
  },
  {
   "cell_type": "markdown",
   "metadata": {},
   "source": [
    "## 2.3 Text generation"
   ]
  },
  {
   "cell_type": "markdown",
   "metadata": {},
   "source": [
    "#### 1 -  Use your trained word embedding and define a RNN architecture that can predict the next word given the context before the target.\n"
   ]
  },
  {
   "cell_type": "code",
   "execution_count": null,
   "metadata": {},
   "outputs": [],
   "source": []
  },
  {
   "cell_type": "markdown",
   "metadata": {},
   "source": [
    "#### 2 - Train several models, select the best one and evaluate its performance.\n",
    "Note that the accuracy here is potentially very low.\n"
   ]
  },
  {
   "cell_type": "code",
   "execution_count": null,
   "metadata": {},
   "outputs": [],
   "source": []
  },
  {
   "cell_type": "markdown",
   "metadata": {},
   "source": [
    "#### 3 - Implement the beam search algorithm."
   ]
  },
  {
   "cell_type": "code",
   "execution_count": null,
   "metadata": {},
   "outputs": [],
   "source": []
  },
  {
   "cell_type": "markdown",
   "metadata": {},
   "source": [
    "#### 4 - Have fun playing with your model. \n",
    "Start a sentence, give it to your model, and let it complete the next n words using the beam search algorithm. Report and comment your results."
   ]
  }
 ],
 "metadata": {
  "interpreter": {
   "hash": "f2237f2d220ad310471ebc7a3ba2d52d32f1f45a06155c1490d637beab9bd187"
  },
  "kernelspec": {
   "display_name": "Python 3.9.7 ('INF265_gpu')",
   "language": "python",
   "name": "python3"
  },
  "language_info": {
   "codemirror_mode": {
    "name": "ipython",
    "version": 3
   },
   "file_extension": ".py",
   "mimetype": "text/x-python",
   "name": "python",
   "nbconvert_exporter": "python",
   "pygments_lexer": "ipython3",
   "version": "3.10.4"
  },
  "orig_nbformat": 4
 },
 "nbformat": 4,
 "nbformat_minor": 2
}

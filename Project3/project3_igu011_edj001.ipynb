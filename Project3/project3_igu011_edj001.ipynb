{
 "cells": [
  {
   "cell_type": "markdown",
   "metadata": {},
   "source": [
    "# Project 3 - Sequence models\n",
    "\n",
    "igu011 and edj001"
   ]
  },
  {
   "cell_type": "code",
   "execution_count": 1,
   "metadata": {},
   "outputs": [
    {
     "data": {
      "text/html": [
       "<pre style=\"white-space:pre;overflow-x:auto;line-height:normal;font-family:Menlo,'DejaVu Sans Mono',consolas,'Courier New',monospace\">Device cpu.\n",
       "</pre>\n"
      ],
      "text/plain": [
       "Device cpu.\n"
      ]
     },
     "metadata": {},
     "output_type": "display_data"
    }
   ],
   "source": [
    "import torch\n",
    "from torch import nn, optim\n",
    "import torch.nn.functional as F\n",
    "from datetime import datetime\n",
    "from torch.utils.data import DataLoader, TensorDataset\n",
    "from rich import print\n",
    "\n",
    "import numpy as np\n",
    "import torchtext\n",
    "from os import listdir\n",
    "import re\n",
    "from torchtext.data.utils import get_tokenizer\n",
    "from torchtext.vocab import build_vocab_from_iterator\n",
    "\n",
    "torch.manual_seed(265)\n",
    "torch.set_default_dtype(torch.double)\n",
    "\n",
    "device = torch.device(\"cpu\")\n",
    "print(f\"Device {device}.\")\n"
   ]
  },
  {
   "cell_type": "markdown",
   "metadata": {},
   "source": [
    "## 2.1 Word embedding"
   ]
  },
  {
   "cell_type": "markdown",
   "metadata": {},
   "source": [
    "#### 1 - Read txt files and tokenize them to obtain train/validation/test lists of words.\n"
   ]
  },
  {
   "cell_type": "code",
   "execution_count": 2,
   "metadata": {},
   "outputs": [],
   "source": [
    "tokenizer = get_tokenizer(\"basic_english\")\n",
    "\n",
    "\n",
    "def read_files(datapath=\"./\"):\n",
    "    \"\"\"\n",
    "    Return a list of strings, one for each line in each .txt files in 'datapath'\n",
    "    \"\"\"\n",
    "    files = listdir(datapath)\n",
    "    files = [datapath + f for f in files if f.endswith(\".txt\")]\n",
    "\n",
    "    lines = []\n",
    "    for f_name in files:\n",
    "        with open(f_name) as f:\n",
    "            lines += f.readlines()\n",
    "    return lines\n",
    "\n",
    "\n",
    "no_digits = \"\\w*[0-9]+\\w*\"\n",
    "no_names = \"\\w*[A-Z]+\\w*\"\n",
    "no_spaces = \"\\s+\"\n",
    "\n",
    "\n",
    "def tokenize(lines):\n",
    "    \"\"\"\n",
    "    Tokenize the list of lines\n",
    "    \"\"\"\n",
    "    list_text = []\n",
    "    for line in lines:\n",
    "        list_text += tokenizer(line)\n",
    "    return list_text\n",
    "\n",
    "\n",
    "def yield_tokens(lines):\n",
    "    \"\"\"\n",
    "    Yield tokens, ignoring names and digits to build vocabulary\n",
    "    \"\"\"\n",
    "    for line in lines:\n",
    "        line = re.sub(no_digits + \"|\" + no_names, \" \", line)\n",
    "        line = re.sub(no_spaces, \" \", line)\n",
    "        yield tokenizer(line)\n",
    "\n",
    "\n",
    "def count_freqs(data, vocab):\n",
    "    \"\"\"\n",
    "    Count occurrences of each word in vocabulary in the data\n",
    "    \"\"\"\n",
    "    freqs = torch.zeros(len(vocab), dtype=torch.int)\n",
    "    for w in data:\n",
    "        freqs[vocab[w]] += 1\n",
    "    return freqs\n",
    "\n",
    "\n",
    "train_books = read_files(datapath=\"./data_train/\")\n",
    "train_tokenized = tokenize(train_books)\n",
    "\n",
    "val_books = read_files(datapath=\"./data_val/\")\n",
    "val_tokenized = tokenize(val_books)\n",
    "\n",
    "test_books = read_files(datapath=\"./data_test/\")\n",
    "test_tokenized = tokenize(test_books)\n"
   ]
  },
  {
   "cell_type": "markdown",
   "metadata": {},
   "source": [
    "#### 2 - Define a vocabulary based on the training dataset\n",
    "To avoid getting a too large vocabulary, a solution can be to keep only words that appear at least 100 times in the training dataset.\n",
    "Report the total number of words in the training dataset, the number of distinct words in the\n",
    "training dataset and the size the defined vocabulary. Comment your results."
   ]
  },
  {
   "cell_type": "code",
   "execution_count": 8,
   "metadata": {},
   "outputs": [
    {
     "data": {
      "text/html": [
       "<pre style=\"white-space:pre;overflow-x:auto;line-height:normal;font-family:Menlo,'DejaVu Sans Mono',consolas,'Courier New',monospace\">Total number of words in the dataset:    <span style=\"color: #008080; text-decoration-color: #008080; font-weight: bold\">1368807</span>\n",
       "</pre>\n"
      ],
      "text/plain": [
       "Total number of words in the dataset:    \u001b[1;36m1368807\u001b[0m\n"
      ]
     },
     "metadata": {},
     "output_type": "display_data"
    },
    {
     "data": {
      "text/html": [
       "<pre style=\"white-space:pre;overflow-x:auto;line-height:normal;font-family:Menlo,'DejaVu Sans Mono',consolas,'Courier New',monospace\">Number of distinct words in the dataset: <span style=\"color: #008080; text-decoration-color: #008080; font-weight: bold\">30374</span>\n",
       "</pre>\n"
      ],
      "text/plain": [
       "Number of distinct words in the dataset: \u001b[1;36m30374\u001b[0m\n"
      ]
     },
     "metadata": {},
     "output_type": "display_data"
    },
    {
     "data": {
      "text/html": [
       "<pre style=\"white-space:pre;overflow-x:auto;line-height:normal;font-family:Menlo,'DejaVu Sans Mono',consolas,'Courier New',monospace\">Size the defined vocabular:              <span style=\"color: #008080; text-decoration-color: #008080; font-weight: bold\">1050</span>\n",
       "</pre>\n"
      ],
      "text/plain": [
       "Size the defined vocabular:              \u001b[1;36m1050\u001b[0m\n"
      ]
     },
     "metadata": {},
     "output_type": "display_data"
    },
    {
     "data": {
      "text/html": [
       "<pre style=\"white-space:pre;overflow-x:auto;line-height:normal;font-family:Menlo,'DejaVu Sans Mono',consolas,'Courier New',monospace\">Top <span style=\"color: #008080; text-decoration-color: #008080; font-weight: bold\">20</span> occurences:\n",
       "\n",
       "<span style=\"font-weight: bold\">[</span>\n",
       "    <span style=\"font-weight: bold\">(</span><span style=\"color: #008080; text-decoration-color: #008080; font-weight: bold\">71106</span>, <span style=\"color: #008000; text-decoration-color: #008000\">'the'</span><span style=\"font-weight: bold\">)</span>,\n",
       "    <span style=\"font-weight: bold\">(</span><span style=\"color: #008080; text-decoration-color: #008080; font-weight: bold\">43426</span>, <span style=\"color: #008000; text-decoration-color: #008000\">'and'</span><span style=\"font-weight: bold\">)</span>,\n",
       "    <span style=\"font-weight: bold\">(</span><span style=\"color: #008080; text-decoration-color: #008080; font-weight: bold\">33952</span>, <span style=\"color: #008000; text-decoration-color: #008000\">'to'</span><span style=\"font-weight: bold\">)</span>,\n",
       "    <span style=\"font-weight: bold\">(</span><span style=\"color: #008080; text-decoration-color: #008080; font-weight: bold\">30061</span>, <span style=\"color: #008000; text-decoration-color: #008000\">'of'</span><span style=\"font-weight: bold\">)</span>,\n",
       "    <span style=\"font-weight: bold\">(</span><span style=\"color: #008080; text-decoration-color: #008080; font-weight: bold\">23575</span>, <span style=\"color: #008000; text-decoration-color: #008000\">'a'</span><span style=\"font-weight: bold\">)</span>,\n",
       "    <span style=\"font-weight: bold\">(</span><span style=\"color: #008080; text-decoration-color: #008080; font-weight: bold\">18657</span>, <span style=\"color: #008000; text-decoration-color: #008000\">'in'</span><span style=\"font-weight: bold\">)</span>,\n",
       "    <span style=\"font-weight: bold\">(</span><span style=\"color: #008080; text-decoration-color: #008080; font-weight: bold\">20755</span>, <span style=\"color: #008000; text-decoration-color: #008000\">'he'</span><span style=\"font-weight: bold\">)</span>,\n",
       "    <span style=\"font-weight: bold\">(</span><span style=\"color: #008080; text-decoration-color: #008080; font-weight: bold\">16814</span>, <span style=\"color: #008000; text-decoration-color: #008000\">'that'</span><span style=\"font-weight: bold\">)</span>,\n",
       "    <span style=\"font-weight: bold\">(</span><span style=\"color: #008080; text-decoration-color: #008080; font-weight: bold\">15056</span>, <span style=\"color: #008000; text-decoration-color: #008000\">'was'</span><span style=\"font-weight: bold\">)</span>,\n",
       "    <span style=\"font-weight: bold\">(</span><span style=\"color: #008080; text-decoration-color: #008080; font-weight: bold\">14400</span>, <span style=\"color: #008000; text-decoration-color: #008000\">'his'</span><span style=\"font-weight: bold\">)</span>,\n",
       "    <span style=\"font-weight: bold\">(</span><span style=\"color: #008080; text-decoration-color: #008080; font-weight: bold\">13815</span>, <span style=\"color: #008000; text-decoration-color: #008000\">'it'</span><span style=\"font-weight: bold\">)</span>,\n",
       "    <span style=\"font-weight: bold\">(</span><span style=\"color: #008080; text-decoration-color: #008080; font-weight: bold\">10997</span>, <span style=\"color: #008000; text-decoration-color: #008000\">'with'</span><span style=\"font-weight: bold\">)</span>,\n",
       "    <span style=\"font-weight: bold\">(</span><span style=\"color: #008080; text-decoration-color: #008080; font-weight: bold\">10735</span>, <span style=\"color: #008000; text-decoration-color: #008000\">'had'</span><span style=\"font-weight: bold\">)</span>,\n",
       "    <span style=\"font-weight: bold\">(</span><span style=\"color: #008080; text-decoration-color: #008080; font-weight: bold\">9430</span>, <span style=\"color: #008000; text-decoration-color: #008000\">'her'</span><span style=\"font-weight: bold\">)</span>,\n",
       "    <span style=\"font-weight: bold\">(</span><span style=\"color: #008080; text-decoration-color: #008080; font-weight: bold\">9334</span>, <span style=\"color: #008000; text-decoration-color: #008000\">'not'</span><span style=\"font-weight: bold\">)</span>,\n",
       "    <span style=\"font-weight: bold\">(</span><span style=\"color: #008080; text-decoration-color: #008080; font-weight: bold\">10562</span>, <span style=\"color: #008000; text-decoration-color: #008000\">'you'</span><span style=\"font-weight: bold\">)</span>,\n",
       "    <span style=\"font-weight: bold\">(</span><span style=\"color: #008080; text-decoration-color: #008080; font-weight: bold\">9198</span>, <span style=\"color: #008000; text-decoration-color: #008000\">'as'</span><span style=\"font-weight: bold\">)</span>,\n",
       "    <span style=\"font-weight: bold\">(</span><span style=\"color: #008080; text-decoration-color: #008080; font-weight: bold\">9152</span>, <span style=\"color: #008000; text-decoration-color: #008000\">'at'</span><span style=\"font-weight: bold\">)</span>,\n",
       "    <span style=\"font-weight: bold\">(</span><span style=\"color: #008080; text-decoration-color: #008080; font-weight: bold\">8447</span>, <span style=\"color: #008000; text-decoration-color: #008000\">'him'</span><span style=\"font-weight: bold\">)</span>\n",
       "<span style=\"font-weight: bold\">]</span>\n",
       "</pre>\n"
      ],
      "text/plain": [
       "Top \u001b[1;36m20\u001b[0m occurences:\n",
       "\n",
       "\u001b[1m[\u001b[0m\n",
       "    \u001b[1m(\u001b[0m\u001b[1;36m71106\u001b[0m, \u001b[32m'the'\u001b[0m\u001b[1m)\u001b[0m,\n",
       "    \u001b[1m(\u001b[0m\u001b[1;36m43426\u001b[0m, \u001b[32m'and'\u001b[0m\u001b[1m)\u001b[0m,\n",
       "    \u001b[1m(\u001b[0m\u001b[1;36m33952\u001b[0m, \u001b[32m'to'\u001b[0m\u001b[1m)\u001b[0m,\n",
       "    \u001b[1m(\u001b[0m\u001b[1;36m30061\u001b[0m, \u001b[32m'of'\u001b[0m\u001b[1m)\u001b[0m,\n",
       "    \u001b[1m(\u001b[0m\u001b[1;36m23575\u001b[0m, \u001b[32m'a'\u001b[0m\u001b[1m)\u001b[0m,\n",
       "    \u001b[1m(\u001b[0m\u001b[1;36m18657\u001b[0m, \u001b[32m'in'\u001b[0m\u001b[1m)\u001b[0m,\n",
       "    \u001b[1m(\u001b[0m\u001b[1;36m20755\u001b[0m, \u001b[32m'he'\u001b[0m\u001b[1m)\u001b[0m,\n",
       "    \u001b[1m(\u001b[0m\u001b[1;36m16814\u001b[0m, \u001b[32m'that'\u001b[0m\u001b[1m)\u001b[0m,\n",
       "    \u001b[1m(\u001b[0m\u001b[1;36m15056\u001b[0m, \u001b[32m'was'\u001b[0m\u001b[1m)\u001b[0m,\n",
       "    \u001b[1m(\u001b[0m\u001b[1;36m14400\u001b[0m, \u001b[32m'his'\u001b[0m\u001b[1m)\u001b[0m,\n",
       "    \u001b[1m(\u001b[0m\u001b[1;36m13815\u001b[0m, \u001b[32m'it'\u001b[0m\u001b[1m)\u001b[0m,\n",
       "    \u001b[1m(\u001b[0m\u001b[1;36m10997\u001b[0m, \u001b[32m'with'\u001b[0m\u001b[1m)\u001b[0m,\n",
       "    \u001b[1m(\u001b[0m\u001b[1;36m10735\u001b[0m, \u001b[32m'had'\u001b[0m\u001b[1m)\u001b[0m,\n",
       "    \u001b[1m(\u001b[0m\u001b[1;36m9430\u001b[0m, \u001b[32m'her'\u001b[0m\u001b[1m)\u001b[0m,\n",
       "    \u001b[1m(\u001b[0m\u001b[1;36m9334\u001b[0m, \u001b[32m'not'\u001b[0m\u001b[1m)\u001b[0m,\n",
       "    \u001b[1m(\u001b[0m\u001b[1;36m10562\u001b[0m, \u001b[32m'you'\u001b[0m\u001b[1m)\u001b[0m,\n",
       "    \u001b[1m(\u001b[0m\u001b[1;36m9198\u001b[0m, \u001b[32m'as'\u001b[0m\u001b[1m)\u001b[0m,\n",
       "    \u001b[1m(\u001b[0m\u001b[1;36m9152\u001b[0m, \u001b[32m'at'\u001b[0m\u001b[1m)\u001b[0m,\n",
       "    \u001b[1m(\u001b[0m\u001b[1;36m8447\u001b[0m, \u001b[32m'him'\u001b[0m\u001b[1m)\u001b[0m\n",
       "\u001b[1m]\u001b[0m\n"
      ]
     },
     "metadata": {},
     "output_type": "display_data"
    }
   ],
   "source": [
    "specials = [\"<unk>\", \",\", \".\", \"!\", \"?\"]\n",
    "vocab = build_vocab_from_iterator(yield_tokens(train_books), min_freq=100, specials=specials)\n",
    "\n",
    "vocab.append_token(\"i\")\n",
    "\n",
    "vocab.set_default_index(vocab[\"<unk>\"])\n",
    "vocab_size = len(vocab)\n",
    "\n",
    "print(\"Total number of words in the dataset:   \", len(train_tokenized))\n",
    "print(\"Number of distinct words in the dataset:\", len(set(train_tokenized)))\n",
    "print(\"Size the defined vocabular:             \", vocab_size)\n",
    "\n",
    "\n",
    "freqs = count_freqs(train_tokenized, vocab)\n",
    "top20 = freqs[len(specials) : len(specials) + 19]\n",
    "print(\n",
    "    \"Top 20 occurences:\\n\",\n",
    "    [\n",
    "        (f.item(), w)\n",
    "        for (f, w) in zip(top20, vocab.lookup_tokens(range(len(specials), len(specials) + 19)))\n",
    "    ],\n",
    ")\n"
   ]
  },
  {
   "cell_type": "code",
   "execution_count": 17,
   "metadata": {},
   "outputs": [],
   "source": [
    "def create_dataset(text, vocab, context_size=3):\n",
    "    \"\"\"\n",
    "    Create a dataset from a list of context words and a list of target words\n",
    "    \"\"\"\n",
    "\n",
    "    contexts = []\n",
    "    targets = []\n",
    "    n_text = len(text)\n",
    "\n",
    "    txt = [vocab[w] for w in text]\n",
    "\n",
    "    for i in range(n_text - context_size):\n",
    "\n",
    "        t = txt[i + context_size]\n",
    "\n",
    "        c = torch.Tensor(txt[i : i + context_size]).type(torch.long)\n",
    "\n",
    "        targets.append(t)\n",
    "\n",
    "        contexts.append(c)\n",
    "\n",
    "    contexts = torch.stack(contexts)\n",
    "    targets = torch.tensor(targets)\n",
    "    return TensorDataset(contexts, targets)\n",
    "\n",
    "\n",
    "context_size = 3\n",
    "\n",
    "train_data = create_dataset(train_tokenized, vocab, context_size=context_size)\n",
    "val_data = create_dataset(val_tokenized, vocab, context_size=context_size)\n",
    "test_data = create_dataset(test_tokenized, vocab, context_size=context_size)\n",
    "\n",
    "batch_size = 64\n",
    "\n",
    "train_loader = DataLoader(train_data, batch_size=batch_size, shuffle=False)\n",
    "val_loader = DataLoader(val_data, batch_size=batch_size, shuffle=False)\n",
    "test_loader = DataLoader(test_data, batch_size=batch_size, shuffle=False)\n"
   ]
  },
  {
   "cell_type": "markdown",
   "metadata": {},
   "source": [
    "#### 3 - Define a n-gram language model architecture based on this vocabulary that contains an embedding layer.\n",
    "To drastically reduce computational cost, the dimension of the embedding can be as low as 16 even though in a real setting a larger space would be used."
   ]
  },
  {
   "cell_type": "code",
   "execution_count": 18,
   "metadata": {},
   "outputs": [],
   "source": [
    "class NGram(nn.Module):\n",
    "    def __init__(self, vocab_size, embedding_dim, context_size):\n",
    "        super(NGram, self).__init__()\n",
    "        self.embeddings = nn.Embedding(vocab_size, embedding_dim)\n",
    "        self.linear1 = nn.Linear(context_size * embedding_dim, 128)\n",
    "        self.linear2 = nn.Linear(128, vocab_size)\n",
    "\n",
    "    def forward(self, inputs):\n",
    "        embeds = self.embeddings(inputs).view((inputs.shape[0], -1))\n",
    "        out = self.linear1(embeds)\n",
    "        out = self.linear2(out)\n",
    "        log_probs = F.log_softmax(out, dim=1)\n",
    "        return log_probs\n"
   ]
  },
  {
   "cell_type": "markdown",
   "metadata": {},
   "source": [
    "#### 4 - Train several models, select the best one and evaluate its performance.\n",
    "Note that the accuracy here is potentially extremely low, but the real objective is not to train a good predictor, only\n",
    "to have a good representation of the semantic of each word in the vocabulary"
   ]
  },
  {
   "cell_type": "code",
   "execution_count": 19,
   "metadata": {},
   "outputs": [],
   "source": [
    "def train(n_epochs, optimizer, model, loss_fn, train_loader):\n",
    "    \"\"\"\n",
    "    Train our model and save weight values\n",
    "    \"\"\"\n",
    "    n_batch = len(train_loader)\n",
    "    losses_train = []\n",
    "    model.train()\n",
    "    optimizer.zero_grad(set_to_none=True)\n",
    "\n",
    "    for epoch in range(1, n_epochs + 1):\n",
    "\n",
    "        loss_train = 0.0\n",
    "        for contexts, labels in train_loader:\n",
    "\n",
    "            contexts = contexts.to(device=device)\n",
    "            labels = labels.to(device=device)\n",
    "\n",
    "            outputs = model(contexts)\n",
    "\n",
    "            loss = loss_fn(outputs, labels)\n",
    "            loss.backward()\n",
    "            optimizer.step()\n",
    "            optimizer.zero_grad()\n",
    "\n",
    "            loss_train += loss.item()\n",
    "\n",
    "        losses_train.append(loss_train / n_batch)\n",
    "\n",
    "        print(\n",
    "            \"{}  |  Epoch {}  |  Training loss {:.5f}\".format(\n",
    "                datetime.now().time(), epoch, loss_train / n_batch\n",
    "            )\n",
    "        )\n",
    "    return\n",
    "\n",
    "\n",
    "def relative_error(a, b):\n",
    "    return torch.norm(a - b) / torch.norm(a)\n"
   ]
  },
  {
   "cell_type": "code",
   "execution_count": 20,
   "metadata": {},
   "outputs": [
    {
     "data": {
      "text/html": [
       "<pre style=\"white-space:pre;overflow-x:auto;line-height:normal;font-family:Menlo,'DejaVu Sans Mono',consolas,'Courier New',monospace\"><span style=\"color: #00ff00; text-decoration-color: #00ff00; font-weight: bold\">22:03:24</span>.<span style=\"color: #008080; text-decoration-color: #008080; font-weight: bold\">323818</span>  |  Epoch <span style=\"color: #008080; text-decoration-color: #008080; font-weight: bold\">1</span>  |  Training loss <span style=\"color: #008080; text-decoration-color: #008080; font-weight: bold\">4.17109</span>\n",
       "</pre>\n"
      ],
      "text/plain": [
       "\u001b[1;92m22:03:24\u001b[0m.\u001b[1;36m323818\u001b[0m  |  Epoch \u001b[1;36m1\u001b[0m  |  Training loss \u001b[1;36m4.17109\u001b[0m\n"
      ]
     },
     "metadata": {},
     "output_type": "display_data"
    },
    {
     "data": {
      "text/html": [
       "<pre style=\"white-space:pre;overflow-x:auto;line-height:normal;font-family:Menlo,'DejaVu Sans Mono',consolas,'Courier New',monospace\"><span style=\"color: #00ff00; text-decoration-color: #00ff00; font-weight: bold\">22:04:19</span>.<span style=\"color: #008080; text-decoration-color: #008080; font-weight: bold\">398517</span>  |  Epoch <span style=\"color: #008080; text-decoration-color: #008080; font-weight: bold\">2</span>  |  Training loss <span style=\"color: #008080; text-decoration-color: #008080; font-weight: bold\">3.96512</span>\n",
       "</pre>\n"
      ],
      "text/plain": [
       "\u001b[1;92m22:04:19\u001b[0m.\u001b[1;36m398517\u001b[0m  |  Epoch \u001b[1;36m2\u001b[0m  |  Training loss \u001b[1;36m3.96512\u001b[0m\n"
      ]
     },
     "metadata": {},
     "output_type": "display_data"
    },
    {
     "data": {
      "text/html": [
       "<pre style=\"white-space:pre;overflow-x:auto;line-height:normal;font-family:Menlo,'DejaVu Sans Mono',consolas,'Courier New',monospace\"><span style=\"color: #00ff00; text-decoration-color: #00ff00; font-weight: bold\">22:05:15</span>.<span style=\"color: #008080; text-decoration-color: #008080; font-weight: bold\">127855</span>  |  Epoch <span style=\"color: #008080; text-decoration-color: #008080; font-weight: bold\">3</span>  |  Training loss <span style=\"color: #008080; text-decoration-color: #008080; font-weight: bold\">3.89744</span>\n",
       "</pre>\n"
      ],
      "text/plain": [
       "\u001b[1;92m22:05:15\u001b[0m.\u001b[1;36m127855\u001b[0m  |  Epoch \u001b[1;36m3\u001b[0m  |  Training loss \u001b[1;36m3.89744\u001b[0m\n"
      ]
     },
     "metadata": {},
     "output_type": "display_data"
    },
    {
     "data": {
      "text/html": [
       "<pre style=\"white-space:pre;overflow-x:auto;line-height:normal;font-family:Menlo,'DejaVu Sans Mono',consolas,'Courier New',monospace\"><span style=\"color: #00ff00; text-decoration-color: #00ff00; font-weight: bold\">22:06:10</span>.<span style=\"color: #008080; text-decoration-color: #008080; font-weight: bold\">091023</span>  |  Epoch <span style=\"color: #008080; text-decoration-color: #008080; font-weight: bold\">4</span>  |  Training loss <span style=\"color: #008080; text-decoration-color: #008080; font-weight: bold\">3.85711</span>\n",
       "</pre>\n"
      ],
      "text/plain": [
       "\u001b[1;92m22:06:10\u001b[0m.\u001b[1;36m091023\u001b[0m  |  Epoch \u001b[1;36m4\u001b[0m  |  Training loss \u001b[1;36m3.85711\u001b[0m\n"
      ]
     },
     "metadata": {},
     "output_type": "display_data"
    }
   ],
   "source": [
    "loss_fn = nn.NLLLoss()\n",
    "\n",
    "n_epochs = 4\n",
    "lr = 0.1\n",
    "embedding_dim = 16\n",
    "\n",
    "NGram_model = NGram(vocab_size, embedding_dim, context_size).to(device=device)\n",
    "optimizer = optim.SGD(NGram_model.parameters(), lr=lr)\n",
    "\n",
    "weight = train(\n",
    "    n_epochs=n_epochs,\n",
    "    optimizer=optimizer,\n",
    "    model=NGram_model,\n",
    "    loss_fn=loss_fn,\n",
    "    train_loader=train_loader,\n",
    ")\n"
   ]
  },
  {
   "cell_type": "code",
   "execution_count": 22,
   "metadata": {},
   "outputs": [
    {
     "data": {
      "text/html": [
       "<pre style=\"white-space:pre;overflow-x:auto;line-height:normal;font-family:Menlo,'DejaVu Sans Mono',consolas,'Courier New',monospace\"><span style=\"color: #00ff00; text-decoration-color: #00ff00; font-weight: bold\">22:10:17</span>.<span style=\"color: #008080; text-decoration-color: #008080; font-weight: bold\">976390</span>  |  Epoch <span style=\"color: #008080; text-decoration-color: #008080; font-weight: bold\">1</span>  |  Training loss <span style=\"color: #008080; text-decoration-color: #008080; font-weight: bold\">4.00733</span>\n",
       "</pre>\n"
      ],
      "text/plain": [
       "\u001b[1;92m22:10:17\u001b[0m.\u001b[1;36m976390\u001b[0m  |  Epoch \u001b[1;36m1\u001b[0m  |  Training loss \u001b[1;36m4.00733\u001b[0m\n"
      ]
     },
     "metadata": {},
     "output_type": "display_data"
    },
    {
     "data": {
      "text/html": [
       "<pre style=\"white-space:pre;overflow-x:auto;line-height:normal;font-family:Menlo,'DejaVu Sans Mono',consolas,'Courier New',monospace\"><span style=\"color: #00ff00; text-decoration-color: #00ff00; font-weight: bold\">22:11:14</span>.<span style=\"color: #008080; text-decoration-color: #008080; font-weight: bold\">258512</span>  |  Epoch <span style=\"color: #008080; text-decoration-color: #008080; font-weight: bold\">2</span>  |  Training loss <span style=\"color: #008080; text-decoration-color: #008080; font-weight: bold\">3.83581</span>\n",
       "</pre>\n"
      ],
      "text/plain": [
       "\u001b[1;92m22:11:14\u001b[0m.\u001b[1;36m258512\u001b[0m  |  Epoch \u001b[1;36m2\u001b[0m  |  Training loss \u001b[1;36m3.83581\u001b[0m\n"
      ]
     },
     "metadata": {},
     "output_type": "display_data"
    },
    {
     "data": {
      "text/html": [
       "<pre style=\"white-space:pre;overflow-x:auto;line-height:normal;font-family:Menlo,'DejaVu Sans Mono',consolas,'Courier New',monospace\"><span style=\"color: #00ff00; text-decoration-color: #00ff00; font-weight: bold\">22:12:05</span>.<span style=\"color: #008080; text-decoration-color: #008080; font-weight: bold\">433564</span>  |  Epoch <span style=\"color: #008080; text-decoration-color: #008080; font-weight: bold\">3</span>  |  Training loss <span style=\"color: #008080; text-decoration-color: #008080; font-weight: bold\">3.78053</span>\n",
       "</pre>\n"
      ],
      "text/plain": [
       "\u001b[1;92m22:12:05\u001b[0m.\u001b[1;36m433564\u001b[0m  |  Epoch \u001b[1;36m3\u001b[0m  |  Training loss \u001b[1;36m3.78053\u001b[0m\n"
      ]
     },
     "metadata": {},
     "output_type": "display_data"
    },
    {
     "data": {
      "text/html": [
       "<pre style=\"white-space:pre;overflow-x:auto;line-height:normal;font-family:Menlo,'DejaVu Sans Mono',consolas,'Courier New',monospace\"><span style=\"color: #00ff00; text-decoration-color: #00ff00; font-weight: bold\">22:12:54</span>.<span style=\"color: #008080; text-decoration-color: #008080; font-weight: bold\">034753</span>  |  Epoch <span style=\"color: #008080; text-decoration-color: #008080; font-weight: bold\">4</span>  |  Training loss <span style=\"color: #008080; text-decoration-color: #008080; font-weight: bold\">3.74690</span>\n",
       "</pre>\n"
      ],
      "text/plain": [
       "\u001b[1;92m22:12:54\u001b[0m.\u001b[1;36m034753\u001b[0m  |  Epoch \u001b[1;36m4\u001b[0m  |  Training loss \u001b[1;36m3.74690\u001b[0m\n"
      ]
     },
     "metadata": {},
     "output_type": "display_data"
    },
    {
     "data": {
      "text/html": [
       "<pre style=\"white-space:pre;overflow-x:auto;line-height:normal;font-family:Menlo,'DejaVu Sans Mono',consolas,'Courier New',monospace\"><span style=\"color: #00ff00; text-decoration-color: #00ff00; font-weight: bold\">22:13:54</span>.<span style=\"color: #008080; text-decoration-color: #008080; font-weight: bold\">970527</span>  |  Epoch <span style=\"color: #008080; text-decoration-color: #008080; font-weight: bold\">5</span>  |  Training loss <span style=\"color: #008080; text-decoration-color: #008080; font-weight: bold\">3.72303</span>\n",
       "</pre>\n"
      ],
      "text/plain": [
       "\u001b[1;92m22:13:54\u001b[0m.\u001b[1;36m970527\u001b[0m  |  Epoch \u001b[1;36m5\u001b[0m  |  Training loss \u001b[1;36m3.72303\u001b[0m\n"
      ]
     },
     "metadata": {},
     "output_type": "display_data"
    },
    {
     "data": {
      "text/html": [
       "<pre style=\"white-space:pre;overflow-x:auto;line-height:normal;font-family:Menlo,'DejaVu Sans Mono',consolas,'Courier New',monospace\"><span style=\"color: #00ff00; text-decoration-color: #00ff00; font-weight: bold\">22:14:56</span>.<span style=\"color: #008080; text-decoration-color: #008080; font-weight: bold\">885092</span>  |  Epoch <span style=\"color: #008080; text-decoration-color: #008080; font-weight: bold\">6</span>  |  Training loss <span style=\"color: #008080; text-decoration-color: #008080; font-weight: bold\">3.70467</span>\n",
       "</pre>\n"
      ],
      "text/plain": [
       "\u001b[1;92m22:14:56\u001b[0m.\u001b[1;36m885092\u001b[0m  |  Epoch \u001b[1;36m6\u001b[0m  |  Training loss \u001b[1;36m3.70467\u001b[0m\n"
      ]
     },
     "metadata": {},
     "output_type": "display_data"
    },
    {
     "data": {
      "text/html": [
       "<pre style=\"white-space:pre;overflow-x:auto;line-height:normal;font-family:Menlo,'DejaVu Sans Mono',consolas,'Courier New',monospace\"><span style=\"color: #00ff00; text-decoration-color: #00ff00; font-weight: bold\">22:16:06</span>.<span style=\"color: #008080; text-decoration-color: #008080; font-weight: bold\">179523</span>  |  Epoch <span style=\"color: #008080; text-decoration-color: #008080; font-weight: bold\">7</span>  |  Training loss <span style=\"color: #008080; text-decoration-color: #008080; font-weight: bold\">3.68985</span>\n",
       "</pre>\n"
      ],
      "text/plain": [
       "\u001b[1;92m22:16:06\u001b[0m.\u001b[1;36m179523\u001b[0m  |  Epoch \u001b[1;36m7\u001b[0m  |  Training loss \u001b[1;36m3.68985\u001b[0m\n"
      ]
     },
     "metadata": {},
     "output_type": "display_data"
    },
    {
     "data": {
      "text/html": [
       "<pre style=\"white-space:pre;overflow-x:auto;line-height:normal;font-family:Menlo,'DejaVu Sans Mono',consolas,'Courier New',monospace\"><span style=\"color: #00ff00; text-decoration-color: #00ff00; font-weight: bold\">22:17:36</span>.<span style=\"color: #008080; text-decoration-color: #008080; font-weight: bold\">352001</span>  |  Epoch <span style=\"color: #008080; text-decoration-color: #008080; font-weight: bold\">8</span>  |  Training loss <span style=\"color: #008080; text-decoration-color: #008080; font-weight: bold\">3.67750</span>\n",
       "</pre>\n"
      ],
      "text/plain": [
       "\u001b[1;92m22:17:36\u001b[0m.\u001b[1;36m352001\u001b[0m  |  Epoch \u001b[1;36m8\u001b[0m  |  Training loss \u001b[1;36m3.67750\u001b[0m\n"
      ]
     },
     "metadata": {},
     "output_type": "display_data"
    },
    {
     "data": {
      "text/html": [
       "<pre style=\"white-space:pre;overflow-x:auto;line-height:normal;font-family:Menlo,'DejaVu Sans Mono',consolas,'Courier New',monospace\"><span style=\"color: #00ff00; text-decoration-color: #00ff00; font-weight: bold\">22:18:54</span>.<span style=\"color: #008080; text-decoration-color: #008080; font-weight: bold\">066694</span>  |  Epoch <span style=\"color: #008080; text-decoration-color: #008080; font-weight: bold\">9</span>  |  Training loss <span style=\"color: #008080; text-decoration-color: #008080; font-weight: bold\">3.66695</span>\n",
       "</pre>\n"
      ],
      "text/plain": [
       "\u001b[1;92m22:18:54\u001b[0m.\u001b[1;36m066694\u001b[0m  |  Epoch \u001b[1;36m9\u001b[0m  |  Training loss \u001b[1;36m3.66695\u001b[0m\n"
      ]
     },
     "metadata": {},
     "output_type": "display_data"
    },
    {
     "data": {
      "text/html": [
       "<pre style=\"white-space:pre;overflow-x:auto;line-height:normal;font-family:Menlo,'DejaVu Sans Mono',consolas,'Courier New',monospace\"><span style=\"color: #00ff00; text-decoration-color: #00ff00; font-weight: bold\">22:20:16</span>.<span style=\"color: #008080; text-decoration-color: #008080; font-weight: bold\">964355</span>  |  Epoch <span style=\"color: #008080; text-decoration-color: #008080; font-weight: bold\">10</span>  |  Training loss <span style=\"color: #008080; text-decoration-color: #008080; font-weight: bold\">3.65780</span>\n",
       "</pre>\n"
      ],
      "text/plain": [
       "\u001b[1;92m22:20:16\u001b[0m.\u001b[1;36m964355\u001b[0m  |  Epoch \u001b[1;36m10\u001b[0m  |  Training loss \u001b[1;36m3.65780\u001b[0m\n"
      ]
     },
     "metadata": {},
     "output_type": "display_data"
    },
    {
     "data": {
      "text/html": [
       "<pre style=\"white-space:pre;overflow-x:auto;line-height:normal;font-family:Menlo,'DejaVu Sans Mono',consolas,'Courier New',monospace\"><span style=\"color: #00ff00; text-decoration-color: #00ff00; font-weight: bold\">22:21:33</span>.<span style=\"color: #008080; text-decoration-color: #008080; font-weight: bold\">158373</span>  |  Epoch <span style=\"color: #008080; text-decoration-color: #008080; font-weight: bold\">11</span>  |  Training loss <span style=\"color: #008080; text-decoration-color: #008080; font-weight: bold\">3.64975</span>\n",
       "</pre>\n"
      ],
      "text/plain": [
       "\u001b[1;92m22:21:33\u001b[0m.\u001b[1;36m158373\u001b[0m  |  Epoch \u001b[1;36m11\u001b[0m  |  Training loss \u001b[1;36m3.64975\u001b[0m\n"
      ]
     },
     "metadata": {},
     "output_type": "display_data"
    },
    {
     "data": {
      "text/html": [
       "<pre style=\"white-space:pre;overflow-x:auto;line-height:normal;font-family:Menlo,'DejaVu Sans Mono',consolas,'Courier New',monospace\"><span style=\"color: #00ff00; text-decoration-color: #00ff00; font-weight: bold\">22:22:59</span>.<span style=\"color: #008080; text-decoration-color: #008080; font-weight: bold\">468252</span>  |  Epoch <span style=\"color: #008080; text-decoration-color: #008080; font-weight: bold\">12</span>  |  Training loss <span style=\"color: #008080; text-decoration-color: #008080; font-weight: bold\">3.64257</span>\n",
       "</pre>\n"
      ],
      "text/plain": [
       "\u001b[1;92m22:22:59\u001b[0m.\u001b[1;36m468252\u001b[0m  |  Epoch \u001b[1;36m12\u001b[0m  |  Training loss \u001b[1;36m3.64257\u001b[0m\n"
      ]
     },
     "metadata": {},
     "output_type": "display_data"
    },
    {
     "data": {
      "text/html": [
       "<pre style=\"white-space:pre;overflow-x:auto;line-height:normal;font-family:Menlo,'DejaVu Sans Mono',consolas,'Courier New',monospace\"><span style=\"color: #00ff00; text-decoration-color: #00ff00; font-weight: bold\">22:24:02</span>.<span style=\"color: #008080; text-decoration-color: #008080; font-weight: bold\">836666</span>  |  Epoch <span style=\"color: #008080; text-decoration-color: #008080; font-weight: bold\">13</span>  |  Training loss <span style=\"color: #008080; text-decoration-color: #008080; font-weight: bold\">3.63613</span>\n",
       "</pre>\n"
      ],
      "text/plain": [
       "\u001b[1;92m22:24:02\u001b[0m.\u001b[1;36m836666\u001b[0m  |  Epoch \u001b[1;36m13\u001b[0m  |  Training loss \u001b[1;36m3.63613\u001b[0m\n"
      ]
     },
     "metadata": {},
     "output_type": "display_data"
    },
    {
     "data": {
      "text/html": [
       "<pre style=\"white-space:pre;overflow-x:auto;line-height:normal;font-family:Menlo,'DejaVu Sans Mono',consolas,'Courier New',monospace\"><span style=\"color: #00ff00; text-decoration-color: #00ff00; font-weight: bold\">22:25:05</span>.<span style=\"color: #008080; text-decoration-color: #008080; font-weight: bold\">612254</span>  |  Epoch <span style=\"color: #008080; text-decoration-color: #008080; font-weight: bold\">14</span>  |  Training loss <span style=\"color: #008080; text-decoration-color: #008080; font-weight: bold\">3.63028</span>\n",
       "</pre>\n"
      ],
      "text/plain": [
       "\u001b[1;92m22:25:05\u001b[0m.\u001b[1;36m612254\u001b[0m  |  Epoch \u001b[1;36m14\u001b[0m  |  Training loss \u001b[1;36m3.63028\u001b[0m\n"
      ]
     },
     "metadata": {},
     "output_type": "display_data"
    },
    {
     "data": {
      "text/html": [
       "<pre style=\"white-space:pre;overflow-x:auto;line-height:normal;font-family:Menlo,'DejaVu Sans Mono',consolas,'Courier New',monospace\"><span style=\"color: #00ff00; text-decoration-color: #00ff00; font-weight: bold\">22:26:08</span>.<span style=\"color: #008080; text-decoration-color: #008080; font-weight: bold\">133481</span>  |  Epoch <span style=\"color: #008080; text-decoration-color: #008080; font-weight: bold\">15</span>  |  Training loss <span style=\"color: #008080; text-decoration-color: #008080; font-weight: bold\">3.62495</span>\n",
       "</pre>\n"
      ],
      "text/plain": [
       "\u001b[1;92m22:26:08\u001b[0m.\u001b[1;36m133481\u001b[0m  |  Epoch \u001b[1;36m15\u001b[0m  |  Training loss \u001b[1;36m3.62495\u001b[0m\n"
      ]
     },
     "metadata": {},
     "output_type": "display_data"
    }
   ],
   "source": [
    "n_epochs = 15\n",
    "lr = 0.1\n",
    "embedding_dim = 64\n",
    "\n",
    "NGram_larger_model = NGram(vocab_size, embedding_dim, context_size).to(device=device)\n",
    "NGram_larger_optimizer = optim.SGD(NGram_larger_model.parameters(), lr=lr)\n",
    "\n",
    "NGram_larger_model_weight = train(\n",
    "    n_epochs=n_epochs,\n",
    "    optimizer=NGram_larger_optimizer,\n",
    "    model=NGram_larger_model,\n",
    "    loss_fn=loss_fn,\n",
    "    train_loader=train_loader,\n",
    ")\n"
   ]
  },
  {
   "cell_type": "code",
   "execution_count": 23,
   "metadata": {},
   "outputs": [],
   "source": [
    "def accuracy(model, loader):\n",
    "    \"\"\"\n",
    "    Compute the accuracy of model with given data loader\n",
    "    \"\"\"\n",
    "    model.eval()\n",
    "    correct = 0\n",
    "    with torch.no_grad():\n",
    "        for contexts, labels in loader:\n",
    "            contexts = contexts.to(device=device)\n",
    "            labels = labels.to(device=device)\n",
    "\n",
    "            outputs = model(contexts)\n",
    "            _, predicted = torch.max(outputs.data, 1)\n",
    "            correct += (predicted == labels).sum().item()\n",
    "\n",
    "    return correct / len(loader.dataset)"
   ]
  },
  {
   "cell_type": "code",
   "execution_count": 24,
   "metadata": {},
   "outputs": [],
   "source": [
    "def model_selection(models, titles, train_loader, val_loader):\n",
    "    \"\"\"\n",
    "    Choose the best model from the list of models based on validation accuracy\n",
    "    \"\"\"\n",
    "    best_model = None\n",
    "    best_acc = 0\n",
    "    for model, title in zip(models, titles):\n",
    "        acc = accuracy(model, val_loader)\n",
    "        train_acc = accuracy(model, train_loader)\n",
    "        print(f\"{title} | Train accuracy {train_acc:.2%} |  Validation accuracy {acc:.2%}\")\n",
    "        if acc > best_acc:\n",
    "            best_model = model\n",
    "            best_acc = acc\n",
    "    return best_model\n"
   ]
  },
  {
   "cell_type": "code",
   "execution_count": 25,
   "metadata": {},
   "outputs": [
    {
     "data": {
      "text/html": [
       "<pre style=\"white-space:pre;overflow-x:auto;line-height:normal;font-family:Menlo,'DejaVu Sans Mono',consolas,'Courier New',monospace\">NGram | Train accuracy <span style=\"color: #008080; text-decoration-color: #008080; font-weight: bold\">20.35</span>% |  Validation accuracy <span style=\"color: #008080; text-decoration-color: #008080; font-weight: bold\">21.59</span>%\n",
       "</pre>\n"
      ],
      "text/plain": [
       "NGram | Train accuracy \u001b[1;36m20.35\u001b[0m% |  Validation accuracy \u001b[1;36m21.59\u001b[0m%\n"
      ]
     },
     "metadata": {},
     "output_type": "display_data"
    },
    {
     "data": {
      "text/html": [
       "<pre style=\"white-space:pre;overflow-x:auto;line-height:normal;font-family:Menlo,'DejaVu Sans Mono',consolas,'Courier New',monospace\">NGram_larger | Train accuracy <span style=\"color: #008080; text-decoration-color: #008080; font-weight: bold\">21.80</span>% |  Validation accuracy <span style=\"color: #008080; text-decoration-color: #008080; font-weight: bold\">22.79</span>%\n",
       "</pre>\n"
      ],
      "text/plain": [
       "NGram_larger | Train accuracy \u001b[1;36m21.80\u001b[0m% |  Validation accuracy \u001b[1;36m22.79\u001b[0m%\n"
      ]
     },
     "metadata": {},
     "output_type": "display_data"
    }
   ],
   "source": [
    "best_model = model_selection(\n",
    "    [NGram_model, NGram_larger_model], [\"NGram\", \"NGram_larger\"], train_loader, val_loader\n",
    ")\n",
    "\n",
    "\n",
    "best_model_acc = accuracy(best_model, val_loader)\n"
   ]
  },
  {
   "cell_type": "markdown",
   "metadata": {},
   "source": [
    "#### 5 - Compute the cosine similarity matrix of the vocabulary based on the trained embedding.\n",
    "For some words of your choice (e.g. me, white, man, have, be, child, yes, what etc.), report the 10\n",
    "most similar words. Comment your results."
   ]
  },
  {
   "cell_type": "code",
   "execution_count": 26,
   "metadata": {},
   "outputs": [],
   "source": [
    "best_model_weights = best_model.embeddings.weight.detach()\n",
    "\n",
    "sim_matrix = np.zeros(shape=(len(best_model_weights), len(best_model_weights)))\n",
    "\n",
    "for w1 in range(0, len(best_model_weights)):\n",
    "    for w2 in range(0, len(best_model_weights)):\n",
    "        # Cosine similarity\n",
    "        sim_matrix[w1][w2] = np.dot(best_model_weights[w1], best_model_weights[w2]) / (\n",
    "            np.linalg.norm(best_model_weights[w1]) * np.linalg.norm(best_model_weights[w2])\n",
    "        )\n"
   ]
  },
  {
   "cell_type": "code",
   "execution_count": 29,
   "metadata": {},
   "outputs": [
    {
     "data": {
      "text/html": [
       "<pre style=\"white-space:pre;overflow-x:auto;line-height:normal;font-family:Menlo,'DejaVu Sans Mono',consolas,'Courier New',monospace\"><span style=\"font-weight: bold\">(</span><span style=\"color: #008000; text-decoration-color: #008000\">'me'</span>, <span style=\"color: #008080; text-decoration-color: #008080; font-weight: bold\">36</span><span style=\"font-weight: bold\">)</span> most similar words:\n",
       "</pre>\n"
      ],
      "text/plain": [
       "\u001b[1m(\u001b[0m\u001b[32m'me'\u001b[0m, \u001b[1;36m36\u001b[0m\u001b[1m)\u001b[0m most similar words:\n"
      ]
     },
     "metadata": {},
     "output_type": "display_data"
    },
    {
     "data": {
      "text/html": [
       "<pre style=\"white-space:pre;overflow-x:auto;line-height:normal;font-family:Menlo,'DejaVu Sans Mono',consolas,'Courier New',monospace\">        <span style=\"font-weight: bold\">(</span><span style=\"color: #008000; text-decoration-color: #008000\">'me'</span>, <span style=\"color: #008080; text-decoration-color: #008080; font-weight: bold\">1.0000000000000002</span><span style=\"font-weight: bold\">)</span>\n",
       "</pre>\n"
      ],
      "text/plain": [
       "        \u001b[1m(\u001b[0m\u001b[32m'me'\u001b[0m, \u001b[1;36m1.0000000000000002\u001b[0m\u001b[1m)\u001b[0m\n"
      ]
     },
     "metadata": {},
     "output_type": "display_data"
    },
    {
     "data": {
      "text/html": [
       "<pre style=\"white-space:pre;overflow-x:auto;line-height:normal;font-family:Menlo,'DejaVu Sans Mono',consolas,'Courier New',monospace\">        <span style=\"font-weight: bold\">(</span><span style=\"color: #008000; text-decoration-color: #008000\">'wish'</span>, <span style=\"color: #008080; text-decoration-color: #008080; font-weight: bold\">0.4193623266798826</span><span style=\"font-weight: bold\">)</span>\n",
       "</pre>\n"
      ],
      "text/plain": [
       "        \u001b[1m(\u001b[0m\u001b[32m'wish'\u001b[0m, \u001b[1;36m0.4193623266798826\u001b[0m\u001b[1m)\u001b[0m\n"
      ]
     },
     "metadata": {},
     "output_type": "display_data"
    },
    {
     "data": {
      "text/html": [
       "<pre style=\"white-space:pre;overflow-x:auto;line-height:normal;font-family:Menlo,'DejaVu Sans Mono',consolas,'Courier New',monospace\">        <span style=\"font-weight: bold\">(</span><span style=\"color: #008000; text-decoration-color: #008000\">'him'</span>, <span style=\"color: #008080; text-decoration-color: #008080; font-weight: bold\">0.40000229386481717</span><span style=\"font-weight: bold\">)</span>\n",
       "</pre>\n"
      ],
      "text/plain": [
       "        \u001b[1m(\u001b[0m\u001b[32m'him'\u001b[0m, \u001b[1;36m0.40000229386481717\u001b[0m\u001b[1m)\u001b[0m\n"
      ]
     },
     "metadata": {},
     "output_type": "display_data"
    },
    {
     "data": {
      "text/html": [
       "<pre style=\"white-space:pre;overflow-x:auto;line-height:normal;font-family:Menlo,'DejaVu Sans Mono',consolas,'Courier New',monospace\">        <span style=\"font-weight: bold\">(</span><span style=\"color: #008000; text-decoration-color: #008000\">'start'</span>, <span style=\"color: #008080; text-decoration-color: #008080; font-weight: bold\">0.39847470893917614</span><span style=\"font-weight: bold\">)</span>\n",
       "</pre>\n"
      ],
      "text/plain": [
       "        \u001b[1m(\u001b[0m\u001b[32m'start'\u001b[0m, \u001b[1;36m0.39847470893917614\u001b[0m\u001b[1m)\u001b[0m\n"
      ]
     },
     "metadata": {},
     "output_type": "display_data"
    },
    {
     "data": {
      "text/html": [
       "<pre style=\"white-space:pre;overflow-x:auto;line-height:normal;font-family:Menlo,'DejaVu Sans Mono',consolas,'Courier New',monospace\">        <span style=\"font-weight: bold\">(</span><span style=\"color: #008000; text-decoration-color: #008000\">'them'</span>, <span style=\"color: #008080; text-decoration-color: #008080; font-weight: bold\">0.38809740514123076</span><span style=\"font-weight: bold\">)</span>\n",
       "</pre>\n"
      ],
      "text/plain": [
       "        \u001b[1m(\u001b[0m\u001b[32m'them'\u001b[0m, \u001b[1;36m0.38809740514123076\u001b[0m\u001b[1m)\u001b[0m\n"
      ]
     },
     "metadata": {},
     "output_type": "display_data"
    },
    {
     "data": {
      "text/html": [
       "<pre style=\"white-space:pre;overflow-x:auto;line-height:normal;font-family:Menlo,'DejaVu Sans Mono',consolas,'Courier New',monospace\">        <span style=\"font-weight: bold\">(</span><span style=\"color: #008000; text-decoration-color: #008000\">'yes'</span>, <span style=\"color: #008080; text-decoration-color: #008080; font-weight: bold\">0.33698716421506164</span><span style=\"font-weight: bold\">)</span>\n",
       "</pre>\n"
      ],
      "text/plain": [
       "        \u001b[1m(\u001b[0m\u001b[32m'yes'\u001b[0m, \u001b[1;36m0.33698716421506164\u001b[0m\u001b[1m)\u001b[0m\n"
      ]
     },
     "metadata": {},
     "output_type": "display_data"
    },
    {
     "data": {
      "text/html": [
       "<pre style=\"white-space:pre;overflow-x:auto;line-height:normal;font-family:Menlo,'DejaVu Sans Mono',consolas,'Courier New',monospace\">        <span style=\"font-weight: bold\">(</span><span style=\"color: #008000; text-decoration-color: #008000\">'mind'</span>, <span style=\"color: #008080; text-decoration-color: #008080; font-weight: bold\">0.3309429666886338</span><span style=\"font-weight: bold\">)</span>\n",
       "</pre>\n"
      ],
      "text/plain": [
       "        \u001b[1m(\u001b[0m\u001b[32m'mind'\u001b[0m, \u001b[1;36m0.3309429666886338\u001b[0m\u001b[1m)\u001b[0m\n"
      ]
     },
     "metadata": {},
     "output_type": "display_data"
    },
    {
     "data": {
      "text/html": [
       "<pre style=\"white-space:pre;overflow-x:auto;line-height:normal;font-family:Menlo,'DejaVu Sans Mono',consolas,'Courier New',monospace\">        <span style=\"font-weight: bold\">(</span><span style=\"color: #008000; text-decoration-color: #008000\">'you'</span>, <span style=\"color: #008080; text-decoration-color: #008080; font-weight: bold\">0.32441599503460156</span><span style=\"font-weight: bold\">)</span>\n",
       "</pre>\n"
      ],
      "text/plain": [
       "        \u001b[1m(\u001b[0m\u001b[32m'you'\u001b[0m, \u001b[1;36m0.32441599503460156\u001b[0m\u001b[1m)\u001b[0m\n"
      ]
     },
     "metadata": {},
     "output_type": "display_data"
    },
    {
     "data": {
      "text/html": [
       "<pre style=\"white-space:pre;overflow-x:auto;line-height:normal;font-family:Menlo,'DejaVu Sans Mono',consolas,'Courier New',monospace\">        <span style=\"font-weight: bold\">(</span><span style=\"color: #008000; text-decoration-color: #008000\">'gone'</span>, <span style=\"color: #008080; text-decoration-color: #008080; font-weight: bold\">0.31764300781122096</span><span style=\"font-weight: bold\">)</span>\n",
       "</pre>\n"
      ],
      "text/plain": [
       "        \u001b[1m(\u001b[0m\u001b[32m'gone'\u001b[0m, \u001b[1;36m0.31764300781122096\u001b[0m\u001b[1m)\u001b[0m\n"
      ]
     },
     "metadata": {},
     "output_type": "display_data"
    },
    {
     "data": {
      "text/html": [
       "<pre style=\"white-space:pre;overflow-x:auto;line-height:normal;font-family:Menlo,'DejaVu Sans Mono',consolas,'Courier New',monospace\">        <span style=\"font-weight: bold\">(</span><span style=\"color: #008000; text-decoration-color: #008000\">'thing'</span>, <span style=\"color: #008080; text-decoration-color: #008080; font-weight: bold\">0.3172680952139496</span><span style=\"font-weight: bold\">)</span>\n",
       "</pre>\n"
      ],
      "text/plain": [
       "        \u001b[1m(\u001b[0m\u001b[32m'thing'\u001b[0m, \u001b[1;36m0.3172680952139496\u001b[0m\u001b[1m)\u001b[0m\n"
      ]
     },
     "metadata": {},
     "output_type": "display_data"
    },
    {
     "data": {
      "text/html": [
       "<pre style=\"white-space:pre;overflow-x:auto;line-height:normal;font-family:Menlo,'DejaVu Sans Mono',consolas,'Courier New',monospace\"><span style=\"font-weight: bold\">(</span><span style=\"color: #008000; text-decoration-color: #008000\">'white'</span>, <span style=\"color: #008080; text-decoration-color: #008080; font-weight: bold\">264</span><span style=\"font-weight: bold\">)</span> most similar words:\n",
       "</pre>\n"
      ],
      "text/plain": [
       "\u001b[1m(\u001b[0m\u001b[32m'white'\u001b[0m, \u001b[1;36m264\u001b[0m\u001b[1m)\u001b[0m most similar words:\n"
      ]
     },
     "metadata": {},
     "output_type": "display_data"
    },
    {
     "data": {
      "text/html": [
       "<pre style=\"white-space:pre;overflow-x:auto;line-height:normal;font-family:Menlo,'DejaVu Sans Mono',consolas,'Courier New',monospace\">        <span style=\"font-weight: bold\">(</span><span style=\"color: #008000; text-decoration-color: #008000\">'white'</span>, <span style=\"color: #008080; text-decoration-color: #008080; font-weight: bold\">1.0</span><span style=\"font-weight: bold\">)</span>\n",
       "</pre>\n"
      ],
      "text/plain": [
       "        \u001b[1m(\u001b[0m\u001b[32m'white'\u001b[0m, \u001b[1;36m1.0\u001b[0m\u001b[1m)\u001b[0m\n"
      ]
     },
     "metadata": {},
     "output_type": "display_data"
    },
    {
     "data": {
      "text/html": [
       "<pre style=\"white-space:pre;overflow-x:auto;line-height:normal;font-family:Menlo,'DejaVu Sans Mono',consolas,'Courier New',monospace\">        <span style=\"font-weight: bold\">(</span><span style=\"color: #008000; text-decoration-color: #008000\">'other'</span>, <span style=\"color: #008080; text-decoration-color: #008080; font-weight: bold\">0.37967006088697725</span><span style=\"font-weight: bold\">)</span>\n",
       "</pre>\n"
      ],
      "text/plain": [
       "        \u001b[1m(\u001b[0m\u001b[32m'other'\u001b[0m, \u001b[1;36m0.37967006088697725\u001b[0m\u001b[1m)\u001b[0m\n"
      ]
     },
     "metadata": {},
     "output_type": "display_data"
    },
    {
     "data": {
      "text/html": [
       "<pre style=\"white-space:pre;overflow-x:auto;line-height:normal;font-family:Menlo,'DejaVu Sans Mono',consolas,'Courier New',monospace\">        <span style=\"font-weight: bold\">(</span><span style=\"color: #008000; text-decoration-color: #008000\">'neither'</span>, <span style=\"color: #008080; text-decoration-color: #008080; font-weight: bold\">0.3794005606295373</span><span style=\"font-weight: bold\">)</span>\n",
       "</pre>\n"
      ],
      "text/plain": [
       "        \u001b[1m(\u001b[0m\u001b[32m'neither'\u001b[0m, \u001b[1;36m0.3794005606295373\u001b[0m\u001b[1m)\u001b[0m\n"
      ]
     },
     "metadata": {},
     "output_type": "display_data"
    },
    {
     "data": {
      "text/html": [
       "<pre style=\"white-space:pre;overflow-x:auto;line-height:normal;font-family:Menlo,'DejaVu Sans Mono',consolas,'Courier New',monospace\">        <span style=\"font-weight: bold\">(</span><span style=\"color: #008000; text-decoration-color: #008000\">'special'</span>, <span style=\"color: #008080; text-decoration-color: #008080; font-weight: bold\">0.32218599115357954</span><span style=\"font-weight: bold\">)</span>\n",
       "</pre>\n"
      ],
      "text/plain": [
       "        \u001b[1m(\u001b[0m\u001b[32m'special'\u001b[0m, \u001b[1;36m0.32218599115357954\u001b[0m\u001b[1m)\u001b[0m\n"
      ]
     },
     "metadata": {},
     "output_type": "display_data"
    },
    {
     "data": {
      "text/html": [
       "<pre style=\"white-space:pre;overflow-x:auto;line-height:normal;font-family:Menlo,'DejaVu Sans Mono',consolas,'Courier New',monospace\">        <span style=\"font-weight: bold\">(</span><span style=\"color: #008000; text-decoration-color: #008000\">'campaign'</span>, <span style=\"color: #008080; text-decoration-color: #008080; font-weight: bold\">0.2955272827662363</span><span style=\"font-weight: bold\">)</span>\n",
       "</pre>\n"
      ],
      "text/plain": [
       "        \u001b[1m(\u001b[0m\u001b[32m'campaign'\u001b[0m, \u001b[1;36m0.2955272827662363\u001b[0m\u001b[1m)\u001b[0m\n"
      ]
     },
     "metadata": {},
     "output_type": "display_data"
    },
    {
     "data": {
      "text/html": [
       "<pre style=\"white-space:pre;overflow-x:auto;line-height:normal;font-family:Menlo,'DejaVu Sans Mono',consolas,'Courier New',monospace\">        <span style=\"font-weight: bold\">(</span><span style=\"color: #008000; text-decoration-color: #008000\">'cry'</span>, <span style=\"color: #008080; text-decoration-color: #008080; font-weight: bold\">0.29422895004443905</span><span style=\"font-weight: bold\">)</span>\n",
       "</pre>\n"
      ],
      "text/plain": [
       "        \u001b[1m(\u001b[0m\u001b[32m'cry'\u001b[0m, \u001b[1;36m0.29422895004443905\u001b[0m\u001b[1m)\u001b[0m\n"
      ]
     },
     "metadata": {},
     "output_type": "display_data"
    },
    {
     "data": {
      "text/html": [
       "<pre style=\"white-space:pre;overflow-x:auto;line-height:normal;font-family:Menlo,'DejaVu Sans Mono',consolas,'Courier New',monospace\">        <span style=\"font-weight: bold\">(</span><span style=\"color: #008000; text-decoration-color: #008000\">'attention'</span>, <span style=\"color: #008080; text-decoration-color: #008080; font-weight: bold\">0.2882272601380514</span><span style=\"font-weight: bold\">)</span>\n",
       "</pre>\n"
      ],
      "text/plain": [
       "        \u001b[1m(\u001b[0m\u001b[32m'attention'\u001b[0m, \u001b[1;36m0.2882272601380514\u001b[0m\u001b[1m)\u001b[0m\n"
      ]
     },
     "metadata": {},
     "output_type": "display_data"
    },
    {
     "data": {
      "text/html": [
       "<pre style=\"white-space:pre;overflow-x:auto;line-height:normal;font-family:Menlo,'DejaVu Sans Mono',consolas,'Courier New',monospace\">        <span style=\"font-weight: bold\">(</span><span style=\"color: #008000; text-decoration-color: #008000\">'note'</span>, <span style=\"color: #008080; text-decoration-color: #008080; font-weight: bold\">0.28802594149342675</span><span style=\"font-weight: bold\">)</span>\n",
       "</pre>\n"
      ],
      "text/plain": [
       "        \u001b[1m(\u001b[0m\u001b[32m'note'\u001b[0m, \u001b[1;36m0.28802594149342675\u001b[0m\u001b[1m)\u001b[0m\n"
      ]
     },
     "metadata": {},
     "output_type": "display_data"
    },
    {
     "data": {
      "text/html": [
       "<pre style=\"white-space:pre;overflow-x:auto;line-height:normal;font-family:Menlo,'DejaVu Sans Mono',consolas,'Courier New',monospace\">        <span style=\"font-weight: bold\">(</span><span style=\"color: #008000; text-decoration-color: #008000\">'shook'</span>, <span style=\"color: #008080; text-decoration-color: #008080; font-weight: bold\">0.2865846513968805</span><span style=\"font-weight: bold\">)</span>\n",
       "</pre>\n"
      ],
      "text/plain": [
       "        \u001b[1m(\u001b[0m\u001b[32m'shook'\u001b[0m, \u001b[1;36m0.2865846513968805\u001b[0m\u001b[1m)\u001b[0m\n"
      ]
     },
     "metadata": {},
     "output_type": "display_data"
    },
    {
     "data": {
      "text/html": [
       "<pre style=\"white-space:pre;overflow-x:auto;line-height:normal;font-family:Menlo,'DejaVu Sans Mono',consolas,'Courier New',monospace\">        <span style=\"font-weight: bold\">(</span><span style=\"color: #008000; text-decoration-color: #008000\">'except'</span>, <span style=\"color: #008080; text-decoration-color: #008080; font-weight: bold\">0.28444516813388465</span><span style=\"font-weight: bold\">)</span>\n",
       "</pre>\n"
      ],
      "text/plain": [
       "        \u001b[1m(\u001b[0m\u001b[32m'except'\u001b[0m, \u001b[1;36m0.28444516813388465\u001b[0m\u001b[1m)\u001b[0m\n"
      ]
     },
     "metadata": {},
     "output_type": "display_data"
    },
    {
     "data": {
      "text/html": [
       "<pre style=\"white-space:pre;overflow-x:auto;line-height:normal;font-family:Menlo,'DejaVu Sans Mono',consolas,'Courier New',monospace\"><span style=\"font-weight: bold\">(</span><span style=\"color: #008000; text-decoration-color: #008000\">'man'</span>, <span style=\"color: #008080; text-decoration-color: #008080; font-weight: bold\">60</span><span style=\"font-weight: bold\">)</span> most similar words:\n",
       "</pre>\n"
      ],
      "text/plain": [
       "\u001b[1m(\u001b[0m\u001b[32m'man'\u001b[0m, \u001b[1;36m60\u001b[0m\u001b[1m)\u001b[0m most similar words:\n"
      ]
     },
     "metadata": {},
     "output_type": "display_data"
    },
    {
     "data": {
      "text/html": [
       "<pre style=\"white-space:pre;overflow-x:auto;line-height:normal;font-family:Menlo,'DejaVu Sans Mono',consolas,'Courier New',monospace\">        <span style=\"font-weight: bold\">(</span><span style=\"color: #008000; text-decoration-color: #008000\">'man'</span>, <span style=\"color: #008080; text-decoration-color: #008080; font-weight: bold\">1.0</span><span style=\"font-weight: bold\">)</span>\n",
       "</pre>\n"
      ],
      "text/plain": [
       "        \u001b[1m(\u001b[0m\u001b[32m'man'\u001b[0m, \u001b[1;36m1.0\u001b[0m\u001b[1m)\u001b[0m\n"
      ]
     },
     "metadata": {},
     "output_type": "display_data"
    },
    {
     "data": {
      "text/html": [
       "<pre style=\"white-space:pre;overflow-x:auto;line-height:normal;font-family:Menlo,'DejaVu Sans Mono',consolas,'Courier New',monospace\">        <span style=\"font-weight: bold\">(</span><span style=\"color: #008000; text-decoration-color: #008000\">'hat'</span>, <span style=\"color: #008080; text-decoration-color: #008080; font-weight: bold\">0.38694696518503524</span><span style=\"font-weight: bold\">)</span>\n",
       "</pre>\n"
      ],
      "text/plain": [
       "        \u001b[1m(\u001b[0m\u001b[32m'hat'\u001b[0m, \u001b[1;36m0.38694696518503524\u001b[0m\u001b[1m)\u001b[0m\n"
      ]
     },
     "metadata": {},
     "output_type": "display_data"
    },
    {
     "data": {
      "text/html": [
       "<pre style=\"white-space:pre;overflow-x:auto;line-height:normal;font-family:Menlo,'DejaVu Sans Mono',consolas,'Courier New',monospace\">        <span style=\"font-weight: bold\">(</span><span style=\"color: #008000; text-decoration-color: #008000\">'countess'</span>, <span style=\"color: #008080; text-decoration-color: #008080; font-weight: bold\">0.33823336621392297</span><span style=\"font-weight: bold\">)</span>\n",
       "</pre>\n"
      ],
      "text/plain": [
       "        \u001b[1m(\u001b[0m\u001b[32m'countess'\u001b[0m, \u001b[1;36m0.33823336621392297\u001b[0m\u001b[1m)\u001b[0m\n"
      ]
     },
     "metadata": {},
     "output_type": "display_data"
    },
    {
     "data": {
      "text/html": [
       "<pre style=\"white-space:pre;overflow-x:auto;line-height:normal;font-family:Menlo,'DejaVu Sans Mono',consolas,'Courier New',monospace\">        <span style=\"font-weight: bold\">(</span><span style=\"color: #008000; text-decoration-color: #008000\">'field'</span>, <span style=\"color: #008080; text-decoration-color: #008080; font-weight: bold\">0.3321471763233969</span><span style=\"font-weight: bold\">)</span>\n",
       "</pre>\n"
      ],
      "text/plain": [
       "        \u001b[1m(\u001b[0m\u001b[32m'field'\u001b[0m, \u001b[1;36m0.3321471763233969\u001b[0m\u001b[1m)\u001b[0m\n"
      ]
     },
     "metadata": {},
     "output_type": "display_data"
    },
    {
     "data": {
      "text/html": [
       "<pre style=\"white-space:pre;overflow-x:auto;line-height:normal;font-family:Menlo,'DejaVu Sans Mono',consolas,'Courier New',monospace\">        <span style=\"font-weight: bold\">(</span><span style=\"color: #008000; text-decoration-color: #008000\">'alone'</span>, <span style=\"color: #008080; text-decoration-color: #008080; font-weight: bold\">0.3213743777681248</span><span style=\"font-weight: bold\">)</span>\n",
       "</pre>\n"
      ],
      "text/plain": [
       "        \u001b[1m(\u001b[0m\u001b[32m'alone'\u001b[0m, \u001b[1;36m0.3213743777681248\u001b[0m\u001b[1m)\u001b[0m\n"
      ]
     },
     "metadata": {},
     "output_type": "display_data"
    },
    {
     "data": {
      "text/html": [
       "<pre style=\"white-space:pre;overflow-x:auto;line-height:normal;font-family:Menlo,'DejaVu Sans Mono',consolas,'Courier New',monospace\">        <span style=\"font-weight: bold\">(</span><span style=\"color: #008000; text-decoration-color: #008000\">'lips'</span>, <span style=\"color: #008080; text-decoration-color: #008080; font-weight: bold\">0.3195981087271362</span><span style=\"font-weight: bold\">)</span>\n",
       "</pre>\n"
      ],
      "text/plain": [
       "        \u001b[1m(\u001b[0m\u001b[32m'lips'\u001b[0m, \u001b[1;36m0.3195981087271362\u001b[0m\u001b[1m)\u001b[0m\n"
      ]
     },
     "metadata": {},
     "output_type": "display_data"
    },
    {
     "data": {
      "text/html": [
       "<pre style=\"white-space:pre;overflow-x:auto;line-height:normal;font-family:Menlo,'DejaVu Sans Mono',consolas,'Courier New',monospace\">        <span style=\"font-weight: bold\">(</span><span style=\"color: #008000; text-decoration-color: #008000\">'instead'</span>, <span style=\"color: #008080; text-decoration-color: #008080; font-weight: bold\">0.3117488367473901</span><span style=\"font-weight: bold\">)</span>\n",
       "</pre>\n"
      ],
      "text/plain": [
       "        \u001b[1m(\u001b[0m\u001b[32m'instead'\u001b[0m, \u001b[1;36m0.3117488367473901\u001b[0m\u001b[1m)\u001b[0m\n"
      ]
     },
     "metadata": {},
     "output_type": "display_data"
    },
    {
     "data": {
      "text/html": [
       "<pre style=\"white-space:pre;overflow-x:auto;line-height:normal;font-family:Menlo,'DejaVu Sans Mono',consolas,'Courier New',monospace\">        <span style=\"font-weight: bold\">(</span><span style=\"color: #008000; text-decoration-color: #008000\">'shot'</span>, <span style=\"color: #008080; text-decoration-color: #008080; font-weight: bold\">0.30104504181198133</span><span style=\"font-weight: bold\">)</span>\n",
       "</pre>\n"
      ],
      "text/plain": [
       "        \u001b[1m(\u001b[0m\u001b[32m'shot'\u001b[0m, \u001b[1;36m0.30104504181198133\u001b[0m\u001b[1m)\u001b[0m\n"
      ]
     },
     "metadata": {},
     "output_type": "display_data"
    },
    {
     "data": {
      "text/html": [
       "<pre style=\"white-space:pre;overflow-x:auto;line-height:normal;font-family:Menlo,'DejaVu Sans Mono',consolas,'Courier New',monospace\">        <span style=\"font-weight: bold\">(</span><span style=\"color: #008000; text-decoration-color: #008000\">'need'</span>, <span style=\"color: #008080; text-decoration-color: #008080; font-weight: bold\">0.29954219946413496</span><span style=\"font-weight: bold\">)</span>\n",
       "</pre>\n"
      ],
      "text/plain": [
       "        \u001b[1m(\u001b[0m\u001b[32m'need'\u001b[0m, \u001b[1;36m0.29954219946413496\u001b[0m\u001b[1m)\u001b[0m\n"
      ]
     },
     "metadata": {},
     "output_type": "display_data"
    },
    {
     "data": {
      "text/html": [
       "<pre style=\"white-space:pre;overflow-x:auto;line-height:normal;font-family:Menlo,'DejaVu Sans Mono',consolas,'Courier New',monospace\">        <span style=\"font-weight: bold\">(</span><span style=\"color: #008000; text-decoration-color: #008000\">'girl'</span>, <span style=\"color: #008080; text-decoration-color: #008080; font-weight: bold\">0.2992851617226353</span><span style=\"font-weight: bold\">)</span>\n",
       "</pre>\n"
      ],
      "text/plain": [
       "        \u001b[1m(\u001b[0m\u001b[32m'girl'\u001b[0m, \u001b[1;36m0.2992851617226353\u001b[0m\u001b[1m)\u001b[0m\n"
      ]
     },
     "metadata": {},
     "output_type": "display_data"
    },
    {
     "data": {
      "text/html": [
       "<pre style=\"white-space:pre;overflow-x:auto;line-height:normal;font-family:Menlo,'DejaVu Sans Mono',consolas,'Courier New',monospace\"><span style=\"font-weight: bold\">(</span><span style=\"color: #008000; text-decoration-color: #008000\">'have'</span>, <span style=\"color: #008080; text-decoration-color: #008080; font-weight: bold\">33</span><span style=\"font-weight: bold\">)</span> most similar words:\n",
       "</pre>\n"
      ],
      "text/plain": [
       "\u001b[1m(\u001b[0m\u001b[32m'have'\u001b[0m, \u001b[1;36m33\u001b[0m\u001b[1m)\u001b[0m most similar words:\n"
      ]
     },
     "metadata": {},
     "output_type": "display_data"
    },
    {
     "data": {
      "text/html": [
       "<pre style=\"white-space:pre;overflow-x:auto;line-height:normal;font-family:Menlo,'DejaVu Sans Mono',consolas,'Courier New',monospace\">        <span style=\"font-weight: bold\">(</span><span style=\"color: #008000; text-decoration-color: #008000\">'have'</span>, <span style=\"color: #008080; text-decoration-color: #008080; font-weight: bold\">1.0000000000000002</span><span style=\"font-weight: bold\">)</span>\n",
       "</pre>\n"
      ],
      "text/plain": [
       "        \u001b[1m(\u001b[0m\u001b[32m'have'\u001b[0m, \u001b[1;36m1.0000000000000002\u001b[0m\u001b[1m)\u001b[0m\n"
      ]
     },
     "metadata": {},
     "output_type": "display_data"
    },
    {
     "data": {
      "text/html": [
       "<pre style=\"white-space:pre;overflow-x:auto;line-height:normal;font-family:Menlo,'DejaVu Sans Mono',consolas,'Courier New',monospace\">        <span style=\"font-weight: bold\">(</span><span style=\"color: #008000; text-decoration-color: #008000\">'had'</span>, <span style=\"color: #008080; text-decoration-color: #008080; font-weight: bold\">0.4444481130399153</span><span style=\"font-weight: bold\">)</span>\n",
       "</pre>\n"
      ],
      "text/plain": [
       "        \u001b[1m(\u001b[0m\u001b[32m'had'\u001b[0m, \u001b[1;36m0.4444481130399153\u001b[0m\u001b[1m)\u001b[0m\n"
      ]
     },
     "metadata": {},
     "output_type": "display_data"
    },
    {
     "data": {
      "text/html": [
       "<pre style=\"white-space:pre;overflow-x:auto;line-height:normal;font-family:Menlo,'DejaVu Sans Mono',consolas,'Courier New',monospace\">        <span style=\"font-weight: bold\">(</span><span style=\"color: #008000; text-decoration-color: #008000\">'has'</span>, <span style=\"color: #008080; text-decoration-color: #008080; font-weight: bold\">0.41030032115278814</span><span style=\"font-weight: bold\">)</span>\n",
       "</pre>\n"
      ],
      "text/plain": [
       "        \u001b[1m(\u001b[0m\u001b[32m'has'\u001b[0m, \u001b[1;36m0.41030032115278814\u001b[0m\u001b[1m)\u001b[0m\n"
      ]
     },
     "metadata": {},
     "output_type": "display_data"
    },
    {
     "data": {
      "text/html": [
       "<pre style=\"white-space:pre;overflow-x:auto;line-height:normal;font-family:Menlo,'DejaVu Sans Mono',consolas,'Courier New',monospace\">        <span style=\"font-weight: bold\">(</span><span style=\"color: #008000; text-decoration-color: #008000\">'evidently'</span>, <span style=\"color: #008080; text-decoration-color: #008080; font-weight: bold\">0.35225546590356305</span><span style=\"font-weight: bold\">)</span>\n",
       "</pre>\n"
      ],
      "text/plain": [
       "        \u001b[1m(\u001b[0m\u001b[32m'evidently'\u001b[0m, \u001b[1;36m0.35225546590356305\u001b[0m\u001b[1m)\u001b[0m\n"
      ]
     },
     "metadata": {},
     "output_type": "display_data"
    },
    {
     "data": {
      "text/html": [
       "<pre style=\"white-space:pre;overflow-x:auto;line-height:normal;font-family:Menlo,'DejaVu Sans Mono',consolas,'Courier New',monospace\">        <span style=\"font-weight: bold\">(</span><span style=\"color: #008000; text-decoration-color: #008000\">'ve'</span>, <span style=\"color: #008080; text-decoration-color: #008080; font-weight: bold\">0.3370217010867245</span><span style=\"font-weight: bold\">)</span>\n",
       "</pre>\n"
      ],
      "text/plain": [
       "        \u001b[1m(\u001b[0m\u001b[32m've'\u001b[0m, \u001b[1;36m0.3370217010867245\u001b[0m\u001b[1m)\u001b[0m\n"
      ]
     },
     "metadata": {},
     "output_type": "display_data"
    },
    {
     "data": {
      "text/html": [
       "<pre style=\"white-space:pre;overflow-x:auto;line-height:normal;font-family:Menlo,'DejaVu Sans Mono',consolas,'Courier New',monospace\">        <span style=\"font-weight: bold\">(</span><span style=\"color: #008000; text-decoration-color: #008000\">'through'</span>, <span style=\"color: #008080; text-decoration-color: #008080; font-weight: bold\">0.33573640243114466</span><span style=\"font-weight: bold\">)</span>\n",
       "</pre>\n"
      ],
      "text/plain": [
       "        \u001b[1m(\u001b[0m\u001b[32m'through'\u001b[0m, \u001b[1;36m0.33573640243114466\u001b[0m\u001b[1m)\u001b[0m\n"
      ]
     },
     "metadata": {},
     "output_type": "display_data"
    },
    {
     "data": {
      "text/html": [
       "<pre style=\"white-space:pre;overflow-x:auto;line-height:normal;font-family:Menlo,'DejaVu Sans Mono',consolas,'Courier New',monospace\">        <span style=\"font-weight: bold\">(</span><span style=\"color: #008000; text-decoration-color: #008000\">'having'</span>, <span style=\"color: #008080; text-decoration-color: #008080; font-weight: bold\">0.3274381522388325</span><span style=\"font-weight: bold\">)</span>\n",
       "</pre>\n"
      ],
      "text/plain": [
       "        \u001b[1m(\u001b[0m\u001b[32m'having'\u001b[0m, \u001b[1;36m0.3274381522388325\u001b[0m\u001b[1m)\u001b[0m\n"
      ]
     },
     "metadata": {},
     "output_type": "display_data"
    },
    {
     "data": {
      "text/html": [
       "<pre style=\"white-space:pre;overflow-x:auto;line-height:normal;font-family:Menlo,'DejaVu Sans Mono',consolas,'Courier New',monospace\">        <span style=\"font-weight: bold\">(</span><span style=\"color: #008000; text-decoration-color: #008000\">'lit'</span>, <span style=\"color: #008080; text-decoration-color: #008080; font-weight: bold\">0.3197523287576934</span><span style=\"font-weight: bold\">)</span>\n",
       "</pre>\n"
      ],
      "text/plain": [
       "        \u001b[1m(\u001b[0m\u001b[32m'lit'\u001b[0m, \u001b[1;36m0.3197523287576934\u001b[0m\u001b[1m)\u001b[0m\n"
      ]
     },
     "metadata": {},
     "output_type": "display_data"
    },
    {
     "data": {
      "text/html": [
       "<pre style=\"white-space:pre;overflow-x:auto;line-height:normal;font-family:Menlo,'DejaVu Sans Mono',consolas,'Courier New',monospace\">        <span style=\"font-weight: bold\">(</span><span style=\"color: #008000; text-decoration-color: #008000\">'duty'</span>, <span style=\"color: #008080; text-decoration-color: #008080; font-weight: bold\">0.31521406502570876</span><span style=\"font-weight: bold\">)</span>\n",
       "</pre>\n"
      ],
      "text/plain": [
       "        \u001b[1m(\u001b[0m\u001b[32m'duty'\u001b[0m, \u001b[1;36m0.31521406502570876\u001b[0m\u001b[1m)\u001b[0m\n"
      ]
     },
     "metadata": {},
     "output_type": "display_data"
    },
    {
     "data": {
      "text/html": [
       "<pre style=\"white-space:pre;overflow-x:auto;line-height:normal;font-family:Menlo,'DejaVu Sans Mono',consolas,'Courier New',monospace\">        <span style=\"font-weight: bold\">(</span><span style=\"color: #008000; text-decoration-color: #008000\">'key'</span>, <span style=\"color: #008080; text-decoration-color: #008080; font-weight: bold\">0.3082858466307473</span><span style=\"font-weight: bold\">)</span>\n",
       "</pre>\n"
      ],
      "text/plain": [
       "        \u001b[1m(\u001b[0m\u001b[32m'key'\u001b[0m, \u001b[1;36m0.3082858466307473\u001b[0m\u001b[1m)\u001b[0m\n"
      ]
     },
     "metadata": {},
     "output_type": "display_data"
    },
    {
     "data": {
      "text/html": [
       "<pre style=\"white-space:pre;overflow-x:auto;line-height:normal;font-family:Menlo,'DejaVu Sans Mono',consolas,'Courier New',monospace\"><span style=\"font-weight: bold\">(</span><span style=\"color: #008000; text-decoration-color: #008000\">'be'</span>, <span style=\"color: #008080; text-decoration-color: #008080; font-weight: bold\">29</span><span style=\"font-weight: bold\">)</span> most similar words:\n",
       "</pre>\n"
      ],
      "text/plain": [
       "\u001b[1m(\u001b[0m\u001b[32m'be'\u001b[0m, \u001b[1;36m29\u001b[0m\u001b[1m)\u001b[0m most similar words:\n"
      ]
     },
     "metadata": {},
     "output_type": "display_data"
    },
    {
     "data": {
      "text/html": [
       "<pre style=\"white-space:pre;overflow-x:auto;line-height:normal;font-family:Menlo,'DejaVu Sans Mono',consolas,'Courier New',monospace\">        <span style=\"font-weight: bold\">(</span><span style=\"color: #008000; text-decoration-color: #008000\">'be'</span>, <span style=\"color: #008080; text-decoration-color: #008080; font-weight: bold\">0.9999999999999999</span><span style=\"font-weight: bold\">)</span>\n",
       "</pre>\n"
      ],
      "text/plain": [
       "        \u001b[1m(\u001b[0m\u001b[32m'be'\u001b[0m, \u001b[1;36m0.9999999999999999\u001b[0m\u001b[1m)\u001b[0m\n"
      ]
     },
     "metadata": {},
     "output_type": "display_data"
    },
    {
     "data": {
      "text/html": [
       "<pre style=\"white-space:pre;overflow-x:auto;line-height:normal;font-family:Menlo,'DejaVu Sans Mono',consolas,'Courier New',monospace\">        <span style=\"font-weight: bold\">(</span><span style=\"color: #008000; text-decoration-color: #008000\">'is'</span>, <span style=\"color: #008080; text-decoration-color: #008080; font-weight: bold\">0.48488707415878457</span><span style=\"font-weight: bold\">)</span>\n",
       "</pre>\n"
      ],
      "text/plain": [
       "        \u001b[1m(\u001b[0m\u001b[32m'is'\u001b[0m, \u001b[1;36m0.48488707415878457\u001b[0m\u001b[1m)\u001b[0m\n"
      ]
     },
     "metadata": {},
     "output_type": "display_data"
    },
    {
     "data": {
      "text/html": [
       "<pre style=\"white-space:pre;overflow-x:auto;line-height:normal;font-family:Menlo,'DejaVu Sans Mono',consolas,'Courier New',monospace\">        <span style=\"font-weight: bold\">(</span><span style=\"color: #008000; text-decoration-color: #008000\">'been'</span>, <span style=\"color: #008080; text-decoration-color: #008080; font-weight: bold\">0.4485076350635029</span><span style=\"font-weight: bold\">)</span>\n",
       "</pre>\n"
      ],
      "text/plain": [
       "        \u001b[1m(\u001b[0m\u001b[32m'been'\u001b[0m, \u001b[1;36m0.4485076350635029\u001b[0m\u001b[1m)\u001b[0m\n"
      ]
     },
     "metadata": {},
     "output_type": "display_data"
    },
    {
     "data": {
      "text/html": [
       "<pre style=\"white-space:pre;overflow-x:auto;line-height:normal;font-family:Menlo,'DejaVu Sans Mono',consolas,'Courier New',monospace\">        <span style=\"font-weight: bold\">(</span><span style=\"color: #008000; text-decoration-color: #008000\">'was'</span>, <span style=\"color: #008080; text-decoration-color: #008080; font-weight: bold\">0.4455371792765709</span><span style=\"font-weight: bold\">)</span>\n",
       "</pre>\n"
      ],
      "text/plain": [
       "        \u001b[1m(\u001b[0m\u001b[32m'was'\u001b[0m, \u001b[1;36m0.4455371792765709\u001b[0m\u001b[1m)\u001b[0m\n"
      ]
     },
     "metadata": {},
     "output_type": "display_data"
    },
    {
     "data": {
      "text/html": [
       "<pre style=\"white-space:pre;overflow-x:auto;line-height:normal;font-family:Menlo,'DejaVu Sans Mono',consolas,'Courier New',monospace\">        <span style=\"font-weight: bold\">(</span><span style=\"color: #008000; text-decoration-color: #008000\">'plan'</span>, <span style=\"color: #008080; text-decoration-color: #008080; font-weight: bold\">0.37295619632837573</span><span style=\"font-weight: bold\">)</span>\n",
       "</pre>\n"
      ],
      "text/plain": [
       "        \u001b[1m(\u001b[0m\u001b[32m'plan'\u001b[0m, \u001b[1;36m0.37295619632837573\u001b[0m\u001b[1m)\u001b[0m\n"
      ]
     },
     "metadata": {},
     "output_type": "display_data"
    },
    {
     "data": {
      "text/html": [
       "<pre style=\"white-space:pre;overflow-x:auto;line-height:normal;font-family:Menlo,'DejaVu Sans Mono',consolas,'Courier New',monospace\">        <span style=\"font-weight: bold\">(</span><span style=\"color: #008000; text-decoration-color: #008000\">'clock'</span>, <span style=\"color: #008080; text-decoration-color: #008080; font-weight: bold\">0.3700632718110151</span><span style=\"font-weight: bold\">)</span>\n",
       "</pre>\n"
      ],
      "text/plain": [
       "        \u001b[1m(\u001b[0m\u001b[32m'clock'\u001b[0m, \u001b[1;36m0.3700632718110151\u001b[0m\u001b[1m)\u001b[0m\n"
      ]
     },
     "metadata": {},
     "output_type": "display_data"
    },
    {
     "data": {
      "text/html": [
       "<pre style=\"white-space:pre;overflow-x:auto;line-height:normal;font-family:Menlo,'DejaVu Sans Mono',consolas,'Courier New',monospace\">        <span style=\"font-weight: bold\">(</span><span style=\"color: #008000; text-decoration-color: #008000\">'are'</span>, <span style=\"color: #008080; text-decoration-color: #008080; font-weight: bold\">0.3496545370492287</span><span style=\"font-weight: bold\">)</span>\n",
       "</pre>\n"
      ],
      "text/plain": [
       "        \u001b[1m(\u001b[0m\u001b[32m'are'\u001b[0m, \u001b[1;36m0.3496545370492287\u001b[0m\u001b[1m)\u001b[0m\n"
      ]
     },
     "metadata": {},
     "output_type": "display_data"
    },
    {
     "data": {
      "text/html": [
       "<pre style=\"white-space:pre;overflow-x:auto;line-height:normal;font-family:Menlo,'DejaVu Sans Mono',consolas,'Courier New',monospace\">        <span style=\"font-weight: bold\">(</span><span style=\"color: #008000; text-decoration-color: #008000\">'whilst'</span>, <span style=\"color: #008080; text-decoration-color: #008080; font-weight: bold\">0.3463162671021157</span><span style=\"font-weight: bold\">)</span>\n",
       "</pre>\n"
      ],
      "text/plain": [
       "        \u001b[1m(\u001b[0m\u001b[32m'whilst'\u001b[0m, \u001b[1;36m0.3463162671021157\u001b[0m\u001b[1m)\u001b[0m\n"
      ]
     },
     "metadata": {},
     "output_type": "display_data"
    },
    {
     "data": {
      "text/html": [
       "<pre style=\"white-space:pre;overflow-x:auto;line-height:normal;font-family:Menlo,'DejaVu Sans Mono',consolas,'Courier New',monospace\">        <span style=\"font-weight: bold\">(</span><span style=\"color: #008000; text-decoration-color: #008000\">'legs'</span>, <span style=\"color: #008080; text-decoration-color: #008080; font-weight: bold\">0.341200998731839</span><span style=\"font-weight: bold\">)</span>\n",
       "</pre>\n"
      ],
      "text/plain": [
       "        \u001b[1m(\u001b[0m\u001b[32m'legs'\u001b[0m, \u001b[1;36m0.341200998731839\u001b[0m\u001b[1m)\u001b[0m\n"
      ]
     },
     "metadata": {},
     "output_type": "display_data"
    },
    {
     "data": {
      "text/html": [
       "<pre style=\"white-space:pre;overflow-x:auto;line-height:normal;font-family:Menlo,'DejaVu Sans Mono',consolas,'Courier New',monospace\">        <span style=\"font-weight: bold\">(</span><span style=\"color: #008000; text-decoration-color: #008000\">'tone'</span>, <span style=\"color: #008080; text-decoration-color: #008080; font-weight: bold\">0.32864582751354077</span><span style=\"font-weight: bold\">)</span>\n",
       "</pre>\n"
      ],
      "text/plain": [
       "        \u001b[1m(\u001b[0m\u001b[32m'tone'\u001b[0m, \u001b[1;36m0.32864582751354077\u001b[0m\u001b[1m)\u001b[0m\n"
      ]
     },
     "metadata": {},
     "output_type": "display_data"
    },
    {
     "data": {
      "text/html": [
       "<pre style=\"white-space:pre;overflow-x:auto;line-height:normal;font-family:Menlo,'DejaVu Sans Mono',consolas,'Courier New',monospace\"><span style=\"font-weight: bold\">(</span><span style=\"color: #008000; text-decoration-color: #008000\">'child'</span>, <span style=\"color: #008080; text-decoration-color: #008080; font-weight: bold\">363</span><span style=\"font-weight: bold\">)</span> most similar words:\n",
       "</pre>\n"
      ],
      "text/plain": [
       "\u001b[1m(\u001b[0m\u001b[32m'child'\u001b[0m, \u001b[1;36m363\u001b[0m\u001b[1m)\u001b[0m most similar words:\n"
      ]
     },
     "metadata": {},
     "output_type": "display_data"
    },
    {
     "data": {
      "text/html": [
       "<pre style=\"white-space:pre;overflow-x:auto;line-height:normal;font-family:Menlo,'DejaVu Sans Mono',consolas,'Courier New',monospace\">        <span style=\"font-weight: bold\">(</span><span style=\"color: #008000; text-decoration-color: #008000\">'child'</span>, <span style=\"color: #008080; text-decoration-color: #008080; font-weight: bold\">0.9999999999999998</span><span style=\"font-weight: bold\">)</span>\n",
       "</pre>\n"
      ],
      "text/plain": [
       "        \u001b[1m(\u001b[0m\u001b[32m'child'\u001b[0m, \u001b[1;36m0.9999999999999998\u001b[0m\u001b[1m)\u001b[0m\n"
      ]
     },
     "metadata": {},
     "output_type": "display_data"
    },
    {
     "data": {
      "text/html": [
       "<pre style=\"white-space:pre;overflow-x:auto;line-height:normal;font-family:Menlo,'DejaVu Sans Mono',consolas,'Courier New',monospace\">        <span style=\"font-weight: bold\">(</span><span style=\"color: #008000; text-decoration-color: #008000\">'wanted'</span>, <span style=\"color: #008080; text-decoration-color: #008080; font-weight: bold\">0.3724288610077709</span><span style=\"font-weight: bold\">)</span>\n",
       "</pre>\n"
      ],
      "text/plain": [
       "        \u001b[1m(\u001b[0m\u001b[32m'wanted'\u001b[0m, \u001b[1;36m0.3724288610077709\u001b[0m\u001b[1m)\u001b[0m\n"
      ]
     },
     "metadata": {},
     "output_type": "display_data"
    },
    {
     "data": {
      "text/html": [
       "<pre style=\"white-space:pre;overflow-x:auto;line-height:normal;font-family:Menlo,'DejaVu Sans Mono',consolas,'Courier New',monospace\">        <span style=\"font-weight: bold\">(</span><span style=\"color: #008000; text-decoration-color: #008000\">'reason'</span>, <span style=\"color: #008080; text-decoration-color: #008080; font-weight: bold\">0.36900457195565894</span><span style=\"font-weight: bold\">)</span>\n",
       "</pre>\n"
      ],
      "text/plain": [
       "        \u001b[1m(\u001b[0m\u001b[32m'reason'\u001b[0m, \u001b[1;36m0.36900457195565894\u001b[0m\u001b[1m)\u001b[0m\n"
      ]
     },
     "metadata": {},
     "output_type": "display_data"
    },
    {
     "data": {
      "text/html": [
       "<pre style=\"white-space:pre;overflow-x:auto;line-height:normal;font-family:Menlo,'DejaVu Sans Mono',consolas,'Courier New',monospace\">        <span style=\"font-weight: bold\">(</span><span style=\"color: #008000; text-decoration-color: #008000\">'loved'</span>, <span style=\"color: #008080; text-decoration-color: #008080; font-weight: bold\">0.3671762903349729</span><span style=\"font-weight: bold\">)</span>\n",
       "</pre>\n"
      ],
      "text/plain": [
       "        \u001b[1m(\u001b[0m\u001b[32m'loved'\u001b[0m, \u001b[1;36m0.3671762903349729\u001b[0m\u001b[1m)\u001b[0m\n"
      ]
     },
     "metadata": {},
     "output_type": "display_data"
    },
    {
     "data": {
      "text/html": [
       "<pre style=\"white-space:pre;overflow-x:auto;line-height:normal;font-family:Menlo,'DejaVu Sans Mono',consolas,'Courier New',monospace\">        <span style=\"font-weight: bold\">(</span><span style=\"color: #008000; text-decoration-color: #008000\">'nor'</span>, <span style=\"color: #008080; text-decoration-color: #008080; font-weight: bold\">0.3305957294504589</span><span style=\"font-weight: bold\">)</span>\n",
       "</pre>\n"
      ],
      "text/plain": [
       "        \u001b[1m(\u001b[0m\u001b[32m'nor'\u001b[0m, \u001b[1;36m0.3305957294504589\u001b[0m\u001b[1m)\u001b[0m\n"
      ]
     },
     "metadata": {},
     "output_type": "display_data"
    },
    {
     "data": {
      "text/html": [
       "<pre style=\"white-space:pre;overflow-x:auto;line-height:normal;font-family:Menlo,'DejaVu Sans Mono',consolas,'Courier New',monospace\">        <span style=\"font-weight: bold\">(</span><span style=\"color: #008000; text-decoration-color: #008000\">'fingers'</span>, <span style=\"color: #008080; text-decoration-color: #008080; font-weight: bold\">0.32344018669757396</span><span style=\"font-weight: bold\">)</span>\n",
       "</pre>\n"
      ],
      "text/plain": [
       "        \u001b[1m(\u001b[0m\u001b[32m'fingers'\u001b[0m, \u001b[1;36m0.32344018669757396\u001b[0m\u001b[1m)\u001b[0m\n"
      ]
     },
     "metadata": {},
     "output_type": "display_data"
    },
    {
     "data": {
      "text/html": [
       "<pre style=\"white-space:pre;overflow-x:auto;line-height:normal;font-family:Menlo,'DejaVu Sans Mono',consolas,'Courier New',monospace\">        <span style=\"font-weight: bold\">(</span><span style=\"color: #008000; text-decoration-color: #008000\">'room'</span>, <span style=\"color: #008080; text-decoration-color: #008080; font-weight: bold\">0.3225640686705275</span><span style=\"font-weight: bold\">)</span>\n",
       "</pre>\n"
      ],
      "text/plain": [
       "        \u001b[1m(\u001b[0m\u001b[32m'room'\u001b[0m, \u001b[1;36m0.3225640686705275\u001b[0m\u001b[1m)\u001b[0m\n"
      ]
     },
     "metadata": {},
     "output_type": "display_data"
    },
    {
     "data": {
      "text/html": [
       "<pre style=\"white-space:pre;overflow-x:auto;line-height:normal;font-family:Menlo,'DejaVu Sans Mono',consolas,'Courier New',monospace\">        <span style=\"font-weight: bold\">(</span><span style=\"color: #008000; text-decoration-color: #008000\">'contrary'</span>, <span style=\"color: #008080; text-decoration-color: #008080; font-weight: bold\">0.31467019562969706</span><span style=\"font-weight: bold\">)</span>\n",
       "</pre>\n"
      ],
      "text/plain": [
       "        \u001b[1m(\u001b[0m\u001b[32m'contrary'\u001b[0m, \u001b[1;36m0.31467019562969706\u001b[0m\u001b[1m)\u001b[0m\n"
      ]
     },
     "metadata": {},
     "output_type": "display_data"
    },
    {
     "data": {
      "text/html": [
       "<pre style=\"white-space:pre;overflow-x:auto;line-height:normal;font-family:Menlo,'DejaVu Sans Mono',consolas,'Courier New',monospace\">        <span style=\"font-weight: bold\">(</span><span style=\"color: #008000; text-decoration-color: #008000\">'law'</span>, <span style=\"color: #008080; text-decoration-color: #008080; font-weight: bold\">0.30816354600539814</span><span style=\"font-weight: bold\">)</span>\n",
       "</pre>\n"
      ],
      "text/plain": [
       "        \u001b[1m(\u001b[0m\u001b[32m'law'\u001b[0m, \u001b[1;36m0.30816354600539814\u001b[0m\u001b[1m)\u001b[0m\n"
      ]
     },
     "metadata": {},
     "output_type": "display_data"
    },
    {
     "data": {
      "text/html": [
       "<pre style=\"white-space:pre;overflow-x:auto;line-height:normal;font-family:Menlo,'DejaVu Sans Mono',consolas,'Courier New',monospace\">        <span style=\"font-weight: bold\">(</span><span style=\"color: #008000; text-decoration-color: #008000\">'plan'</span>, <span style=\"color: #008080; text-decoration-color: #008080; font-weight: bold\">0.3077667821647719</span><span style=\"font-weight: bold\">)</span>\n",
       "</pre>\n"
      ],
      "text/plain": [
       "        \u001b[1m(\u001b[0m\u001b[32m'plan'\u001b[0m, \u001b[1;36m0.3077667821647719\u001b[0m\u001b[1m)\u001b[0m\n"
      ]
     },
     "metadata": {},
     "output_type": "display_data"
    },
    {
     "data": {
      "text/html": [
       "<pre style=\"white-space:pre;overflow-x:auto;line-height:normal;font-family:Menlo,'DejaVu Sans Mono',consolas,'Courier New',monospace\"><span style=\"font-weight: bold\">(</span><span style=\"color: #008000; text-decoration-color: #008000\">'yes'</span>, <span style=\"color: #008080; text-decoration-color: #008080; font-weight: bold\">497</span><span style=\"font-weight: bold\">)</span> most similar words:\n",
       "</pre>\n"
      ],
      "text/plain": [
       "\u001b[1m(\u001b[0m\u001b[32m'yes'\u001b[0m, \u001b[1;36m497\u001b[0m\u001b[1m)\u001b[0m most similar words:\n"
      ]
     },
     "metadata": {},
     "output_type": "display_data"
    },
    {
     "data": {
      "text/html": [
       "<pre style=\"white-space:pre;overflow-x:auto;line-height:normal;font-family:Menlo,'DejaVu Sans Mono',consolas,'Courier New',monospace\">        <span style=\"font-weight: bold\">(</span><span style=\"color: #008000; text-decoration-color: #008000\">'yes'</span>, <span style=\"color: #008080; text-decoration-color: #008080; font-weight: bold\">1.0000000000000002</span><span style=\"font-weight: bold\">)</span>\n",
       "</pre>\n"
      ],
      "text/plain": [
       "        \u001b[1m(\u001b[0m\u001b[32m'yes'\u001b[0m, \u001b[1;36m1.0000000000000002\u001b[0m\u001b[1m)\u001b[0m\n"
      ]
     },
     "metadata": {},
     "output_type": "display_data"
    },
    {
     "data": {
      "text/html": [
       "<pre style=\"white-space:pre;overflow-x:auto;line-height:normal;font-family:Menlo,'DejaVu Sans Mono',consolas,'Courier New',monospace\">        <span style=\"font-weight: bold\">(</span><span style=\"color: #008000; text-decoration-color: #008000\">'ship'</span>, <span style=\"color: #008080; text-decoration-color: #008080; font-weight: bold\">0.34193031382615396</span><span style=\"font-weight: bold\">)</span>\n",
       "</pre>\n"
      ],
      "text/plain": [
       "        \u001b[1m(\u001b[0m\u001b[32m'ship'\u001b[0m, \u001b[1;36m0.34193031382615396\u001b[0m\u001b[1m)\u001b[0m\n"
      ]
     },
     "metadata": {},
     "output_type": "display_data"
    },
    {
     "data": {
      "text/html": [
       "<pre style=\"white-space:pre;overflow-x:auto;line-height:normal;font-family:Menlo,'DejaVu Sans Mono',consolas,'Courier New',monospace\">        <span style=\"font-weight: bold\">(</span><span style=\"color: #008000; text-decoration-color: #008000\">'me'</span>, <span style=\"color: #008080; text-decoration-color: #008080; font-weight: bold\">0.33698716421506164</span><span style=\"font-weight: bold\">)</span>\n",
       "</pre>\n"
      ],
      "text/plain": [
       "        \u001b[1m(\u001b[0m\u001b[32m'me'\u001b[0m, \u001b[1;36m0.33698716421506164\u001b[0m\u001b[1m)\u001b[0m\n"
      ]
     },
     "metadata": {},
     "output_type": "display_data"
    },
    {
     "data": {
      "text/html": [
       "<pre style=\"white-space:pre;overflow-x:auto;line-height:normal;font-family:Menlo,'DejaVu Sans Mono',consolas,'Courier New',monospace\">        <span style=\"font-weight: bold\">(</span><span style=\"color: #008000; text-decoration-color: #008000\">'says'</span>, <span style=\"color: #008080; text-decoration-color: #008080; font-weight: bold\">0.33641262092127505</span><span style=\"font-weight: bold\">)</span>\n",
       "</pre>\n"
      ],
      "text/plain": [
       "        \u001b[1m(\u001b[0m\u001b[32m'says'\u001b[0m, \u001b[1;36m0.33641262092127505\u001b[0m\u001b[1m)\u001b[0m\n"
      ]
     },
     "metadata": {},
     "output_type": "display_data"
    },
    {
     "data": {
      "text/html": [
       "<pre style=\"white-space:pre;overflow-x:auto;line-height:normal;font-family:Menlo,'DejaVu Sans Mono',consolas,'Courier New',monospace\">        <span style=\"font-weight: bold\">(</span><span style=\"color: #008000; text-decoration-color: #008000\">'leaving'</span>, <span style=\"color: #008080; text-decoration-color: #008080; font-weight: bold\">0.32885304641838753</span><span style=\"font-weight: bold\">)</span>\n",
       "</pre>\n"
      ],
      "text/plain": [
       "        \u001b[1m(\u001b[0m\u001b[32m'leaving'\u001b[0m, \u001b[1;36m0.32885304641838753\u001b[0m\u001b[1m)\u001b[0m\n"
      ]
     },
     "metadata": {},
     "output_type": "display_data"
    },
    {
     "data": {
      "text/html": [
       "<pre style=\"white-space:pre;overflow-x:auto;line-height:normal;font-family:Menlo,'DejaVu Sans Mono',consolas,'Courier New',monospace\">        <span style=\"font-weight: bold\">(</span><span style=\"color: #008000; text-decoration-color: #008000\">'commander'</span>, <span style=\"color: #008080; text-decoration-color: #008080; font-weight: bold\">0.32337921942210957</span><span style=\"font-weight: bold\">)</span>\n",
       "</pre>\n"
      ],
      "text/plain": [
       "        \u001b[1m(\u001b[0m\u001b[32m'commander'\u001b[0m, \u001b[1;36m0.32337921942210957\u001b[0m\u001b[1m)\u001b[0m\n"
      ]
     },
     "metadata": {},
     "output_type": "display_data"
    },
    {
     "data": {
      "text/html": [
       "<pre style=\"white-space:pre;overflow-x:auto;line-height:normal;font-family:Menlo,'DejaVu Sans Mono',consolas,'Courier New',monospace\">        <span style=\"font-weight: bold\">(</span><span style=\"color: #008000; text-decoration-color: #008000\">'tomorrow'</span>, <span style=\"color: #008080; text-decoration-color: #008080; font-weight: bold\">0.30965889810917313</span><span style=\"font-weight: bold\">)</span>\n",
       "</pre>\n"
      ],
      "text/plain": [
       "        \u001b[1m(\u001b[0m\u001b[32m'tomorrow'\u001b[0m, \u001b[1;36m0.30965889810917313\u001b[0m\u001b[1m)\u001b[0m\n"
      ]
     },
     "metadata": {},
     "output_type": "display_data"
    },
    {
     "data": {
      "text/html": [
       "<pre style=\"white-space:pre;overflow-x:auto;line-height:normal;font-family:Menlo,'DejaVu Sans Mono',consolas,'Courier New',monospace\">        <span style=\"font-weight: bold\">(</span><span style=\"color: #008000; text-decoration-color: #008000\">'faces'</span>, <span style=\"color: #008080; text-decoration-color: #008080; font-weight: bold\">0.30608055219593033</span><span style=\"font-weight: bold\">)</span>\n",
       "</pre>\n"
      ],
      "text/plain": [
       "        \u001b[1m(\u001b[0m\u001b[32m'faces'\u001b[0m, \u001b[1;36m0.30608055219593033\u001b[0m\u001b[1m)\u001b[0m\n"
      ]
     },
     "metadata": {},
     "output_type": "display_data"
    },
    {
     "data": {
      "text/html": [
       "<pre style=\"white-space:pre;overflow-x:auto;line-height:normal;font-family:Menlo,'DejaVu Sans Mono',consolas,'Courier New',monospace\">        <span style=\"font-weight: bold\">(</span><span style=\"color: #008000; text-decoration-color: #008000\">'replied'</span>, <span style=\"color: #008080; text-decoration-color: #008080; font-weight: bold\">0.30370490496050134</span><span style=\"font-weight: bold\">)</span>\n",
       "</pre>\n"
      ],
      "text/plain": [
       "        \u001b[1m(\u001b[0m\u001b[32m'replied'\u001b[0m, \u001b[1;36m0.30370490496050134\u001b[0m\u001b[1m)\u001b[0m\n"
      ]
     },
     "metadata": {},
     "output_type": "display_data"
    },
    {
     "data": {
      "text/html": [
       "<pre style=\"white-space:pre;overflow-x:auto;line-height:normal;font-family:Menlo,'DejaVu Sans Mono',consolas,'Courier New',monospace\">        <span style=\"font-weight: bold\">(</span><span style=\"color: #008000; text-decoration-color: #008000\">'windows'</span>, <span style=\"color: #008080; text-decoration-color: #008080; font-weight: bold\">0.3008941014064413</span><span style=\"font-weight: bold\">)</span>\n",
       "</pre>\n"
      ],
      "text/plain": [
       "        \u001b[1m(\u001b[0m\u001b[32m'windows'\u001b[0m, \u001b[1;36m0.3008941014064413\u001b[0m\u001b[1m)\u001b[0m\n"
      ]
     },
     "metadata": {},
     "output_type": "display_data"
    },
    {
     "data": {
      "text/html": [
       "<pre style=\"white-space:pre;overflow-x:auto;line-height:normal;font-family:Menlo,'DejaVu Sans Mono',consolas,'Courier New',monospace\"><span style=\"font-weight: bold\">(</span><span style=\"color: #008000; text-decoration-color: #008000\">'what'</span>, <span style=\"color: #008080; text-decoration-color: #008080; font-weight: bold\">45</span><span style=\"font-weight: bold\">)</span> most similar words:\n",
       "</pre>\n"
      ],
      "text/plain": [
       "\u001b[1m(\u001b[0m\u001b[32m'what'\u001b[0m, \u001b[1;36m45\u001b[0m\u001b[1m)\u001b[0m most similar words:\n"
      ]
     },
     "metadata": {},
     "output_type": "display_data"
    },
    {
     "data": {
      "text/html": [
       "<pre style=\"white-space:pre;overflow-x:auto;line-height:normal;font-family:Menlo,'DejaVu Sans Mono',consolas,'Courier New',monospace\">        <span style=\"font-weight: bold\">(</span><span style=\"color: #008000; text-decoration-color: #008000\">'what'</span>, <span style=\"color: #008080; text-decoration-color: #008080; font-weight: bold\">0.9999999999999998</span><span style=\"font-weight: bold\">)</span>\n",
       "</pre>\n"
      ],
      "text/plain": [
       "        \u001b[1m(\u001b[0m\u001b[32m'what'\u001b[0m, \u001b[1;36m0.9999999999999998\u001b[0m\u001b[1m)\u001b[0m\n"
      ]
     },
     "metadata": {},
     "output_type": "display_data"
    },
    {
     "data": {
      "text/html": [
       "<pre style=\"white-space:pre;overflow-x:auto;line-height:normal;font-family:Menlo,'DejaVu Sans Mono',consolas,'Courier New',monospace\">        <span style=\"font-weight: bold\">(</span><span style=\"color: #008000; text-decoration-color: #008000\">'freedom'</span>, <span style=\"color: #008080; text-decoration-color: #008080; font-weight: bold\">0.44981485238863994</span><span style=\"font-weight: bold\">)</span>\n",
       "</pre>\n"
      ],
      "text/plain": [
       "        \u001b[1m(\u001b[0m\u001b[32m'freedom'\u001b[0m, \u001b[1;36m0.44981485238863994\u001b[0m\u001b[1m)\u001b[0m\n"
      ]
     },
     "metadata": {},
     "output_type": "display_data"
    },
    {
     "data": {
      "text/html": [
       "<pre style=\"white-space:pre;overflow-x:auto;line-height:normal;font-family:Menlo,'DejaVu Sans Mono',consolas,'Courier New',monospace\">        <span style=\"font-weight: bold\">(</span><span style=\"color: #008000; text-decoration-color: #008000\">'how'</span>, <span style=\"color: #008080; text-decoration-color: #008080; font-weight: bold\">0.3993667615556158</span><span style=\"font-weight: bold\">)</span>\n",
       "</pre>\n"
      ],
      "text/plain": [
       "        \u001b[1m(\u001b[0m\u001b[32m'how'\u001b[0m, \u001b[1;36m0.3993667615556158\u001b[0m\u001b[1m)\u001b[0m\n"
      ]
     },
     "metadata": {},
     "output_type": "display_data"
    },
    {
     "data": {
      "text/html": [
       "<pre style=\"white-space:pre;overflow-x:auto;line-height:normal;font-family:Menlo,'DejaVu Sans Mono',consolas,'Courier New',monospace\">        <span style=\"font-weight: bold\">(</span><span style=\"color: #008000; text-decoration-color: #008000\">'third'</span>, <span style=\"color: #008080; text-decoration-color: #008080; font-weight: bold\">0.3592114528142378</span><span style=\"font-weight: bold\">)</span>\n",
       "</pre>\n"
      ],
      "text/plain": [
       "        \u001b[1m(\u001b[0m\u001b[32m'third'\u001b[0m, \u001b[1;36m0.3592114528142378\u001b[0m\u001b[1m)\u001b[0m\n"
      ]
     },
     "metadata": {},
     "output_type": "display_data"
    },
    {
     "data": {
      "text/html": [
       "<pre style=\"white-space:pre;overflow-x:auto;line-height:normal;font-family:Menlo,'DejaVu Sans Mono',consolas,'Courier New',monospace\">        <span style=\"font-weight: bold\">(</span><span style=\"color: #008000; text-decoration-color: #008000\">'passage'</span>, <span style=\"color: #008080; text-decoration-color: #008080; font-weight: bold\">0.33247082049105825</span><span style=\"font-weight: bold\">)</span>\n",
       "</pre>\n"
      ],
      "text/plain": [
       "        \u001b[1m(\u001b[0m\u001b[32m'passage'\u001b[0m, \u001b[1;36m0.33247082049105825\u001b[0m\u001b[1m)\u001b[0m\n"
      ]
     },
     "metadata": {},
     "output_type": "display_data"
    },
    {
     "data": {
      "text/html": [
       "<pre style=\"white-space:pre;overflow-x:auto;line-height:normal;font-family:Menlo,'DejaVu Sans Mono',consolas,'Courier New',monospace\">        <span style=\"font-weight: bold\">(</span><span style=\"color: #008000; text-decoration-color: #008000\">'act'</span>, <span style=\"color: #008080; text-decoration-color: #008080; font-weight: bold\">0.3224882860219756</span><span style=\"font-weight: bold\">)</span>\n",
       "</pre>\n"
      ],
      "text/plain": [
       "        \u001b[1m(\u001b[0m\u001b[32m'act'\u001b[0m, \u001b[1;36m0.3224882860219756\u001b[0m\u001b[1m)\u001b[0m\n"
      ]
     },
     "metadata": {},
     "output_type": "display_data"
    },
    {
     "data": {
      "text/html": [
       "<pre style=\"white-space:pre;overflow-x:auto;line-height:normal;font-family:Menlo,'DejaVu Sans Mono',consolas,'Courier New',monospace\">        <span style=\"font-weight: bold\">(</span><span style=\"color: #008000; text-decoration-color: #008000\">'guns'</span>, <span style=\"color: #008080; text-decoration-color: #008080; font-weight: bold\">0.3124082989122353</span><span style=\"font-weight: bold\">)</span>\n",
       "</pre>\n"
      ],
      "text/plain": [
       "        \u001b[1m(\u001b[0m\u001b[32m'guns'\u001b[0m, \u001b[1;36m0.3124082989122353\u001b[0m\u001b[1m)\u001b[0m\n"
      ]
     },
     "metadata": {},
     "output_type": "display_data"
    },
    {
     "data": {
      "text/html": [
       "<pre style=\"white-space:pre;overflow-x:auto;line-height:normal;font-family:Menlo,'DejaVu Sans Mono',consolas,'Courier New',monospace\">        <span style=\"font-weight: bold\">(</span><span style=\"color: #008000; text-decoration-color: #008000\">'position'</span>, <span style=\"color: #008080; text-decoration-color: #008080; font-weight: bold\">0.3097287048350473</span><span style=\"font-weight: bold\">)</span>\n",
       "</pre>\n"
      ],
      "text/plain": [
       "        \u001b[1m(\u001b[0m\u001b[32m'position'\u001b[0m, \u001b[1;36m0.3097287048350473\u001b[0m\u001b[1m)\u001b[0m\n"
      ]
     },
     "metadata": {},
     "output_type": "display_data"
    },
    {
     "data": {
      "text/html": [
       "<pre style=\"white-space:pre;overflow-x:auto;line-height:normal;font-family:Menlo,'DejaVu Sans Mono',consolas,'Courier New',monospace\">        <span style=\"font-weight: bold\">(</span><span style=\"color: #008000; text-decoration-color: #008000\">'whether'</span>, <span style=\"color: #008080; text-decoration-color: #008080; font-weight: bold\">0.29957600440574095</span><span style=\"font-weight: bold\">)</span>\n",
       "</pre>\n"
      ],
      "text/plain": [
       "        \u001b[1m(\u001b[0m\u001b[32m'whether'\u001b[0m, \u001b[1;36m0.29957600440574095\u001b[0m\u001b[1m)\u001b[0m\n"
      ]
     },
     "metadata": {},
     "output_type": "display_data"
    },
    {
     "data": {
      "text/html": [
       "<pre style=\"white-space:pre;overflow-x:auto;line-height:normal;font-family:Menlo,'DejaVu Sans Mono',consolas,'Courier New',monospace\">        <span style=\"font-weight: bold\">(</span><span style=\"color: #008000; text-decoration-color: #008000\">'such'</span>, <span style=\"color: #008080; text-decoration-color: #008080; font-weight: bold\">0.2964352709393147</span><span style=\"font-weight: bold\">)</span>\n",
       "</pre>\n"
      ],
      "text/plain": [
       "        \u001b[1m(\u001b[0m\u001b[32m'such'\u001b[0m, \u001b[1;36m0.2964352709393147\u001b[0m\u001b[1m)\u001b[0m\n"
      ]
     },
     "metadata": {},
     "output_type": "display_data"
    }
   ],
   "source": [
    "testing_words = [\"me\", \"white\", \"man\", \"have\", \"be\", \"child\", \"yes\", \"what\"]\n",
    "testing_words_idx = [(i, vocab.get_stoi()[i]) for i in testing_words]\n",
    "\n",
    "n_most_similar = 10\n",
    "for w in testing_words_idx:\n",
    "\n",
    "    indices = (-sim_matrix[w[1]]).argsort()[:n_most_similar]\n",
    "    sim_words = [(vocab.get_itos()[i], sim_matrix[w[1]][i]) for i in indices]\n",
    "    print(f\"{w} most similar words:\")\n",
    "\n",
    "    for sim_w in sim_words:\n",
    "        print(f\"\\t{sim_w}\")\n"
   ]
  },
  {
   "cell_type": "markdown",
   "metadata": {},
   "source": [
    "TODO: COMMENT HERE"
   ]
  },
  {
   "cell_type": "markdown",
   "metadata": {},
   "source": [
    "#### 6 -Visualize the embedding space.\n",
    "To do so, upload the vocabulary and their corresponding values in the embedding space as tsv files. Try to find\n",
    "and select clusters. Report both plots and their corresponding selections for some meaningful\n",
    "clusters."
   ]
  },
  {
   "cell_type": "code",
   "execution_count": 30,
   "metadata": {},
   "outputs": [],
   "source": [
    "import csv\n",
    "\n",
    "embedding_weights = NGram_larger_model.embeddings.weight.detach()\n",
    "\n",
    "with open(\"./weights.tsv\", \"wt\") as out_file:\n",
    "    tsv_writer = csv.writer(out_file, delimiter=\"\\t\")\n",
    "    for i in embedding_weights:\n",
    "        tsv_writer.writerow(i.numpy())\n",
    "\n",
    "\n",
    "with open(\"./metadata.tsv\", \"wt\") as out_file:\n",
    "    tsv_writer = csv.writer(out_file, delimiter=\"\\t\")\n",
    "    vocab_dict = vocab.get_itos()\n",
    "    for i in vocab_dict:\n",
    "        tsv_writer.writerow([i])\n"
   ]
  },
  {
   "cell_type": "markdown",
   "metadata": {},
   "source": [
    "TODO: PUT VISUALIZATIONS HERE\n",
    "\n",
    "TODO: COMMENT IN REGARDS TO 5"
   ]
  },
  {
   "cell_type": "markdown",
   "metadata": {},
   "source": [
    "## 2.2 Conjugating *be* and *have*"
   ]
  },
  {
   "cell_type": "markdown",
   "metadata": {},
   "source": [
    "#### 1 - Use your trained word embedding and define a MLP architecture as well as a RNN architecture to predict be and have conjugation given the context around the missing target. \n",
    "Use the same context size for both MLPs and RNNs, even though RNNs could take a context size of arbitrary\n",
    "length."
   ]
  },
  {
   "cell_type": "code",
   "execution_count": null,
   "metadata": {},
   "outputs": [],
   "source": []
  },
  {
   "cell_type": "markdown",
   "metadata": {},
   "source": [
    "#### 2 - Train several models, select the best one and evaluate its performance. \n",
    "Comment the differences in terms of performances/training time between the MLP architecture and the RNN\n",
    "architecture."
   ]
  },
  {
   "cell_type": "markdown",
   "metadata": {},
   "source": [
    "## 2.3 Text generation"
   ]
  },
  {
   "cell_type": "markdown",
   "metadata": {},
   "source": [
    "#### 1 -  Use your trained word embedding and define a RNN architecture that can predict the next word given the context before the target.\n"
   ]
  },
  {
   "cell_type": "code",
   "execution_count": null,
   "metadata": {},
   "outputs": [],
   "source": []
  },
  {
   "cell_type": "markdown",
   "metadata": {},
   "source": [
    "#### 2 - Train several models, select the best one and evaluate its performance.\n",
    "Note that the accuracy here is potentially very low.\n"
   ]
  },
  {
   "cell_type": "code",
   "execution_count": null,
   "metadata": {},
   "outputs": [],
   "source": []
  },
  {
   "cell_type": "markdown",
   "metadata": {},
   "source": [
    "#### 3 - Implement the beam search algorithm."
   ]
  },
  {
   "cell_type": "code",
   "execution_count": null,
   "metadata": {},
   "outputs": [],
   "source": []
  },
  {
   "cell_type": "markdown",
   "metadata": {},
   "source": [
    "#### 4 - Have fun playing with your model. \n",
    "Start a sentence, give it to your model, and let it complete the next n words using the beam search algorithm. Report and comment your results."
   ]
  }
 ],
 "metadata": {
  "interpreter": {
   "hash": "f2237f2d220ad310471ebc7a3ba2d52d32f1f45a06155c1490d637beab9bd187"
  },
  "kernelspec": {
   "display_name": "Python 3.9.7 ('INF265_gpu')",
   "language": "python",
   "name": "python3"
  },
  "language_info": {
   "codemirror_mode": {
    "name": "ipython",
    "version": 3
   },
   "file_extension": ".py",
   "mimetype": "text/x-python",
   "name": "python",
   "nbconvert_exporter": "python",
   "pygments_lexer": "ipython3",
   "version": "3.10.4"
  },
  "orig_nbformat": 4
 },
 "nbformat": 4,
 "nbformat_minor": 2
}

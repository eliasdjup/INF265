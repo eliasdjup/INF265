{
 "cells": [
  {
   "cell_type": "markdown",
   "metadata": {},
   "source": [
    "# Project 3 - Sequence models\n",
    "\n",
    "igu011 and edj001"
   ]
  },
  {
   "cell_type": "code",
   "execution_count": 1,
   "metadata": {},
   "outputs": [
    {
     "name": "stderr",
     "output_type": "stream",
     "text": [
      "/home/elias/miniconda3/envs/265_2/lib/python3.10/site-packages/tqdm/auto.py:22: TqdmWarning: IProgress not found. Please update jupyter and ipywidgets. See https://ipywidgets.readthedocs.io/en/stable/user_install.html\n",
      "  from .autonotebook import tqdm as notebook_tqdm\n"
     ]
    },
    {
     "data": {
      "text/html": [
       "<pre style=\"white-space:pre;overflow-x:auto;line-height:normal;font-family:Menlo,'DejaVu Sans Mono',consolas,'Courier New',monospace\">Device cpu.\n",
       "</pre>\n"
      ],
      "text/plain": [
       "Device cpu.\n"
      ]
     },
     "metadata": {},
     "output_type": "display_data"
    }
   ],
   "source": [
    "import torch\n",
    "from torch import nn, optim\n",
    "import torch.nn.functional as F\n",
    "from datetime import datetime\n",
    "from torch.utils.data import DataLoader, TensorDataset\n",
    "from rich import print\n",
    "\n",
    "import numpy as np\n",
    "import torchtext\n",
    "from os import listdir\n",
    "import re\n",
    "from torchtext.data.utils import get_tokenizer\n",
    "from torchtext.vocab import build_vocab_from_iterator\n",
    "\n",
    "torch.manual_seed(265)\n",
    "torch.set_default_dtype(torch.double)\n",
    "\n",
    "device = torch.device(\"cpu\")\n",
    "print(f\"Device {device}.\")\n"
   ]
  },
  {
   "cell_type": "markdown",
   "metadata": {},
   "source": [
    "## 2.1 Word embedding"
   ]
  },
  {
   "cell_type": "markdown",
   "metadata": {},
   "source": [
    "#### 1 - Read txt files and tokenize them to obtain train/validation/test lists of words.\n"
   ]
  },
  {
   "cell_type": "code",
   "execution_count": 2,
   "metadata": {},
   "outputs": [],
   "source": [
    "# tokenizer will split a long text into a list of english words\n",
    "tokenizer = get_tokenizer(\"basic_english\")\n",
    "\n",
    "\n",
    "def read_files(datapath=\"./\"):\n",
    "    \"\"\"\n",
    "    Return a list of strings, one for each line in each .txt files in 'datapath'\n",
    "    \"\"\"\n",
    "    # Find all txt files in directory\n",
    "    files = listdir(datapath)\n",
    "    files = [datapath + f for f in files if f.endswith(\".txt\")]\n",
    "\n",
    "    # Stores each line of each book in a list\n",
    "    lines = []\n",
    "    for f_name in files:\n",
    "        with open(f_name) as f:\n",
    "            lines += f.readlines()\n",
    "    return lines\n",
    "\n",
    "\n",
    "# Match any word containing digit\n",
    "no_digits = \"\\w*[0-9]+\\w*\"\n",
    "# Match word containing a uppercase\n",
    "no_names = \"\\w*[A-Z]+\\w*\"\n",
    "# Match any sequence containing more than one space\n",
    "no_spaces = \"\\s+\"\n",
    "\n",
    "\n",
    "def tokenize(lines):\n",
    "    \"\"\"\n",
    "    Tokenize the list of lines\n",
    "    \"\"\"\n",
    "    list_text = []\n",
    "    for line in lines:\n",
    "        list_text += tokenizer(line)\n",
    "    return list_text\n",
    "\n",
    "\n",
    "def yield_tokens(lines):\n",
    "    \"\"\"\n",
    "    Yield tokens, ignoring names and digits to build vocabulary\n",
    "    \"\"\"\n",
    "    for line in lines:\n",
    "        line = re.sub(no_digits + \"|\" + no_names, \" \", line)\n",
    "        line = re.sub(no_spaces, \" \", line)\n",
    "        yield tokenizer(line)\n",
    "\n",
    "\n",
    "def count_freqs(data, vocab):\n",
    "    \"\"\"\n",
    "    Count occurrences of each word in vocabulary in the data\n",
    "    \"\"\"\n",
    "    freqs = torch.zeros(len(vocab), dtype=torch.int)\n",
    "    for w in data:\n",
    "        freqs[vocab[w]] += 1\n",
    "    return freqs\n",
    "\n",
    "\n",
    "train_books = read_files(datapath=\"./data_train/\")\n",
    "train_tokenized = tokenize(train_books)\n",
    "\n",
    "val_books = read_files(datapath=\"./data_val/\")\n",
    "val_tokenized = tokenize(val_books)\n",
    "\n",
    "test_books = read_files(datapath=\"./data_test/\")\n",
    "test_tokenized = tokenize(test_books)\n"
   ]
  },
  {
   "cell_type": "markdown",
   "metadata": {},
   "source": [
    "#### 2 - Define a vocabulary based on the training dataset\n",
    "To avoid getting a too large vocabulary, a solution can be to keep only words that appear at least 100 times in the training dataset.\n",
    "Report the total number of words in the training dataset, the number of distinct words in the\n",
    "training dataset and the size the defined vocabulary. Comment your results."
   ]
  },
  {
   "cell_type": "code",
   "execution_count": 3,
   "metadata": {},
   "outputs": [
    {
     "data": {
      "text/html": [
       "<pre style=\"white-space:pre;overflow-x:auto;line-height:normal;font-family:Menlo,'DejaVu Sans Mono',consolas,'Courier New',monospace\">Total number of words in the dataset:    <span style=\"color: #008080; text-decoration-color: #008080; font-weight: bold\">1368807</span>\n",
       "</pre>\n"
      ],
      "text/plain": [
       "Total number of words in the dataset:    \u001b[1;36m1368807\u001b[0m\n"
      ]
     },
     "metadata": {},
     "output_type": "display_data"
    },
    {
     "data": {
      "text/html": [
       "<pre style=\"white-space:pre;overflow-x:auto;line-height:normal;font-family:Menlo,'DejaVu Sans Mono',consolas,'Courier New',monospace\">Number of distinct words in the dataset: <span style=\"color: #008080; text-decoration-color: #008080; font-weight: bold\">30374</span>\n",
       "</pre>\n"
      ],
      "text/plain": [
       "Number of distinct words in the dataset: \u001b[1;36m30374\u001b[0m\n"
      ]
     },
     "metadata": {},
     "output_type": "display_data"
    },
    {
     "data": {
      "text/html": [
       "<pre style=\"white-space:pre;overflow-x:auto;line-height:normal;font-family:Menlo,'DejaVu Sans Mono',consolas,'Courier New',monospace\">Size the defined vocabular:              <span style=\"color: #008080; text-decoration-color: #008080; font-weight: bold\">1053</span>\n",
       "</pre>\n"
      ],
      "text/plain": [
       "Size the defined vocabular:              \u001b[1;36m1053\u001b[0m\n"
      ]
     },
     "metadata": {},
     "output_type": "display_data"
    },
    {
     "data": {
      "text/html": [
       "<pre style=\"white-space:pre;overflow-x:auto;line-height:normal;font-family:Menlo,'DejaVu Sans Mono',consolas,'Courier New',monospace\">occurences:\n",
       "\n",
       "<span style=\"font-weight: bold\">[</span>\n",
       "    <span style=\"font-weight: bold\">(</span><span style=\"color: #008080; text-decoration-color: #008080; font-weight: bold\">251033</span>, <span style=\"color: #008000; text-decoration-color: #008000\">'&lt;unk&gt;'</span><span style=\"font-weight: bold\">)</span>,\n",
       "    <span style=\"font-weight: bold\">(</span><span style=\"color: #008080; text-decoration-color: #008080; font-weight: bold\">89904</span>, <span style=\"color: #008000; text-decoration-color: #008000\">','</span><span style=\"font-weight: bold\">)</span>,\n",
       "    <span style=\"font-weight: bold\">(</span><span style=\"color: #008080; text-decoration-color: #008080; font-weight: bold\">63121</span>, <span style=\"color: #008000; text-decoration-color: #008000\">'.'</span><span style=\"font-weight: bold\">)</span>,\n",
       "    <span style=\"font-weight: bold\">(</span><span style=\"color: #008080; text-decoration-color: #008080; font-weight: bold\">7122</span>, <span style=\"color: #008000; text-decoration-color: #008000\">'!'</span><span style=\"font-weight: bold\">)</span>,\n",
       "    <span style=\"font-weight: bold\">(</span><span style=\"color: #008080; text-decoration-color: #008080; font-weight: bold\">6510</span>, <span style=\"color: #008000; text-decoration-color: #008000\">'?'</span><span style=\"font-weight: bold\">)</span>,\n",
       "    <span style=\"font-weight: bold\">(</span><span style=\"color: #008080; text-decoration-color: #008080; font-weight: bold\">7</span>, <span style=\"color: #008000; text-decoration-color: #008000\">'-'</span><span style=\"font-weight: bold\">)</span>,\n",
       "    <span style=\"font-weight: bold\">(</span><span style=\"color: #008080; text-decoration-color: #008080; font-weight: bold\">0</span>, <span style=\"color: #008000; text-decoration-color: #008000\">'_'</span><span style=\"font-weight: bold\">)</span>,\n",
       "    <span style=\"font-weight: bold\">(</span><span style=\"color: #008080; text-decoration-color: #008080; font-weight: bold\">0</span>, <span style=\"color: #008000; text-decoration-color: #008000\">\"'\"</span><span style=\"font-weight: bold\">)</span>,\n",
       "    <span style=\"font-weight: bold\">(</span><span style=\"color: #008080; text-decoration-color: #008080; font-weight: bold\">22</span>, <span style=\"color: #008000; text-decoration-color: #008000\">'&amp;'</span><span style=\"font-weight: bold\">)</span>,\n",
       "    <span style=\"font-weight: bold\">(</span><span style=\"color: #008080; text-decoration-color: #008080; font-weight: bold\">71106</span>, <span style=\"color: #008000; text-decoration-color: #008000\">'the'</span><span style=\"font-weight: bold\">)</span>,\n",
       "    <span style=\"font-weight: bold\">(</span><span style=\"color: #008080; text-decoration-color: #008080; font-weight: bold\">43426</span>, <span style=\"color: #008000; text-decoration-color: #008000\">'and'</span><span style=\"font-weight: bold\">)</span>,\n",
       "    <span style=\"font-weight: bold\">(</span><span style=\"color: #008080; text-decoration-color: #008080; font-weight: bold\">33952</span>, <span style=\"color: #008000; text-decoration-color: #008000\">'to'</span><span style=\"font-weight: bold\">)</span>,\n",
       "    <span style=\"font-weight: bold\">(</span><span style=\"color: #008080; text-decoration-color: #008080; font-weight: bold\">30061</span>, <span style=\"color: #008000; text-decoration-color: #008000\">'of'</span><span style=\"font-weight: bold\">)</span>,\n",
       "    <span style=\"font-weight: bold\">(</span><span style=\"color: #008080; text-decoration-color: #008080; font-weight: bold\">23575</span>, <span style=\"color: #008000; text-decoration-color: #008000\">'a'</span><span style=\"font-weight: bold\">)</span>,\n",
       "    <span style=\"font-weight: bold\">(</span><span style=\"color: #008080; text-decoration-color: #008080; font-weight: bold\">18657</span>, <span style=\"color: #008000; text-decoration-color: #008000\">'in'</span><span style=\"font-weight: bold\">)</span>,\n",
       "    <span style=\"font-weight: bold\">(</span><span style=\"color: #008080; text-decoration-color: #008080; font-weight: bold\">20755</span>, <span style=\"color: #008000; text-decoration-color: #008000\">'he'</span><span style=\"font-weight: bold\">)</span>,\n",
       "    <span style=\"font-weight: bold\">(</span><span style=\"color: #008080; text-decoration-color: #008080; font-weight: bold\">16814</span>, <span style=\"color: #008000; text-decoration-color: #008000\">'that'</span><span style=\"font-weight: bold\">)</span>,\n",
       "    <span style=\"font-weight: bold\">(</span><span style=\"color: #008080; text-decoration-color: #008080; font-weight: bold\">15056</span>, <span style=\"color: #008000; text-decoration-color: #008000\">'was'</span><span style=\"font-weight: bold\">)</span>,\n",
       "    <span style=\"font-weight: bold\">(</span><span style=\"color: #008080; text-decoration-color: #008080; font-weight: bold\">14400</span>, <span style=\"color: #008000; text-decoration-color: #008000\">'his'</span><span style=\"font-weight: bold\">)</span>\n",
       "<span style=\"font-weight: bold\">]</span>\n",
       "</pre>\n"
      ],
      "text/plain": [
       "occurences:\n",
       "\n",
       "\u001b[1m[\u001b[0m\n",
       "    \u001b[1m(\u001b[0m\u001b[1;36m251033\u001b[0m, \u001b[32m'\u001b[0m\u001b[32m<\u001b[0m\u001b[32munk\u001b[0m\u001b[32m>\u001b[0m\u001b[32m'\u001b[0m\u001b[1m)\u001b[0m,\n",
       "    \u001b[1m(\u001b[0m\u001b[1;36m89904\u001b[0m, \u001b[32m','\u001b[0m\u001b[1m)\u001b[0m,\n",
       "    \u001b[1m(\u001b[0m\u001b[1;36m63121\u001b[0m, \u001b[32m'.'\u001b[0m\u001b[1m)\u001b[0m,\n",
       "    \u001b[1m(\u001b[0m\u001b[1;36m7122\u001b[0m, \u001b[32m'!'\u001b[0m\u001b[1m)\u001b[0m,\n",
       "    \u001b[1m(\u001b[0m\u001b[1;36m6510\u001b[0m, \u001b[32m'?'\u001b[0m\u001b[1m)\u001b[0m,\n",
       "    \u001b[1m(\u001b[0m\u001b[1;36m7\u001b[0m, \u001b[32m'-'\u001b[0m\u001b[1m)\u001b[0m,\n",
       "    \u001b[1m(\u001b[0m\u001b[1;36m0\u001b[0m, \u001b[32m'_'\u001b[0m\u001b[1m)\u001b[0m,\n",
       "    \u001b[1m(\u001b[0m\u001b[1;36m0\u001b[0m, \u001b[32m\"'\"\u001b[0m\u001b[1m)\u001b[0m,\n",
       "    \u001b[1m(\u001b[0m\u001b[1;36m22\u001b[0m, \u001b[32m'&'\u001b[0m\u001b[1m)\u001b[0m,\n",
       "    \u001b[1m(\u001b[0m\u001b[1;36m71106\u001b[0m, \u001b[32m'the'\u001b[0m\u001b[1m)\u001b[0m,\n",
       "    \u001b[1m(\u001b[0m\u001b[1;36m43426\u001b[0m, \u001b[32m'and'\u001b[0m\u001b[1m)\u001b[0m,\n",
       "    \u001b[1m(\u001b[0m\u001b[1;36m33952\u001b[0m, \u001b[32m'to'\u001b[0m\u001b[1m)\u001b[0m,\n",
       "    \u001b[1m(\u001b[0m\u001b[1;36m30061\u001b[0m, \u001b[32m'of'\u001b[0m\u001b[1m)\u001b[0m,\n",
       "    \u001b[1m(\u001b[0m\u001b[1;36m23575\u001b[0m, \u001b[32m'a'\u001b[0m\u001b[1m)\u001b[0m,\n",
       "    \u001b[1m(\u001b[0m\u001b[1;36m18657\u001b[0m, \u001b[32m'in'\u001b[0m\u001b[1m)\u001b[0m,\n",
       "    \u001b[1m(\u001b[0m\u001b[1;36m20755\u001b[0m, \u001b[32m'he'\u001b[0m\u001b[1m)\u001b[0m,\n",
       "    \u001b[1m(\u001b[0m\u001b[1;36m16814\u001b[0m, \u001b[32m'that'\u001b[0m\u001b[1m)\u001b[0m,\n",
       "    \u001b[1m(\u001b[0m\u001b[1;36m15056\u001b[0m, \u001b[32m'was'\u001b[0m\u001b[1m)\u001b[0m,\n",
       "    \u001b[1m(\u001b[0m\u001b[1;36m14400\u001b[0m, \u001b[32m'his'\u001b[0m\u001b[1m)\u001b[0m\n",
       "\u001b[1m]\u001b[0m\n"
      ]
     },
     "metadata": {},
     "output_type": "display_data"
    }
   ],
   "source": [
    "# vocab contains the vocabulary found in the data, associating an index to each word\n",
    "specials = [\"<unk>\", \",\", \".\", \"!\", \"?\", \"-\", \"&\"]\n",
    "vocab = build_vocab_from_iterator(yield_tokens(train_books), min_freq=100, specials=specials)\n",
    "# Since we removed all words with an uppercase when building the vocabulary, we skipped the word \"I\"\n",
    "vocab.append_token(\"i\")\n",
    "\n",
    "# Value of default index. This index will be returned when OOV (Out Of Vocabulary) token is queried.\n",
    "vocab.set_default_index(vocab[\"<unk>\"])\n",
    "vocab_size = len(vocab)\n",
    "\n",
    "print(\"Total number of words in the dataset:   \", len(train_tokenized))\n",
    "print(\"Number of distinct words in the dataset:\", len(set(train_tokenized)))\n",
    "print(\"Size the defined vocabular:             \", vocab_size)\n",
    "\n",
    "\n",
    "freqs = count_freqs(train_tokenized, vocab)\n",
    "top20 = freqs[len(specials) : len(specials) + 19]\n",
    "print(\n",
    "    \"Top 20 occurences:\\n\",\n",
    "    [\n",
    "        (f.item(), w)\n",
    "        for (f, w) in zip(top20, vocab.lookup_tokens(range(len(specials), len(specials) + 19)))\n",
    "    ],\n",
    ")\n"
   ]
  },
  {
   "cell_type": "code",
   "execution_count": 4,
   "metadata": {},
   "outputs": [],
   "source": [
    "def create_dataset(text, vocab, context_size=3):\n",
    "    contexts = []\n",
    "    targets = []\n",
    "    n_text = len(text)\n",
    "\n",
    "    # Transform the text as a list of integers.\n",
    "    txt = [vocab[w] for w in text]\n",
    "\n",
    "    for i in range(n_text - context_size):\n",
    "\n",
    "        t = txt[i + context_size]\n",
    "\n",
    "        c = torch.Tensor(txt[i : i + context_size]).type(torch.long)\n",
    "\n",
    "        targets.append(t)\n",
    "\n",
    "        contexts.append(c)\n",
    "\n",
    "    contexts = torch.stack(contexts)\n",
    "    targets = torch.tensor(targets)\n",
    "    return TensorDataset(contexts, targets)\n",
    "\n",
    "\n",
    "data = create_dataset(train_tokenized, vocab)\n"
   ]
  },
  {
   "cell_type": "markdown",
   "metadata": {},
   "source": [
    "#### 3 - Define a n-gram language model architecture based on this vocabulary that contains an embedding layer.\n",
    "To drastically reduce computational cost, the dimension of the embedding can be as low as 16 even though in a real setting a larger space would be used."
   ]
  },
  {
   "cell_type": "code",
   "execution_count": 5,
   "metadata": {},
   "outputs": [],
   "source": [
    "class NGram(nn.Module):\n",
    "    def __init__(self, vocab_size, embedding_dim, context_size):\n",
    "        super(NGram, self).__init__()\n",
    "        self.embeddings = nn.Embedding(vocab_size, embedding_dim)\n",
    "        self.linear1 = nn.Linear(context_size * embedding_dim, 128)\n",
    "        self.linear2 = nn.Linear(128, vocab_size)\n",
    "\n",
    "    def forward(self, inputs):\n",
    "        embeds = self.embeddings(inputs).view((inputs.shape[0], -1))\n",
    "        out = self.linear1(embeds)\n",
    "        out = self.linear2(out)\n",
    "        log_probs = F.log_softmax(out, dim=1)\n",
    "        return log_probs\n"
   ]
  },
  {
   "cell_type": "markdown",
   "metadata": {},
   "source": [
    "#### 4 - Train several models, select the best one and evaluate its performance.\n",
    "Note that the accuracy here is potentially extremely low, but the real objective is not to train a good predictor, only\n",
    "to have a good representation of the semantic of each word in the vocabulary"
   ]
  },
  {
   "cell_type": "code",
   "execution_count": 6,
   "metadata": {},
   "outputs": [],
   "source": [
    "def train(n_epochs, optimizer, model, loss_fn, train_loader):\n",
    "    \"\"\"\n",
    "    Train our model and save weight values\n",
    "    \"\"\"\n",
    "    n_batch = len(train_loader)\n",
    "    losses_train = []\n",
    "    model.train()\n",
    "    optimizer.zero_grad(set_to_none=True)\n",
    "\n",
    "    for epoch in range(1, n_epochs + 1):\n",
    "\n",
    "        loss_train = 0.0\n",
    "        for contexts, labels in train_loader:\n",
    "\n",
    "            contexts = contexts.to(device=device)\n",
    "            labels = labels.to(device=device)\n",
    "\n",
    "            outputs = model(contexts)\n",
    "\n",
    "            loss = loss_fn(outputs, labels)\n",
    "            loss.backward()\n",
    "            optimizer.step()\n",
    "            optimizer.zero_grad()\n",
    "\n",
    "            loss_train += loss.item()\n",
    "\n",
    "        losses_train.append(loss_train / n_batch)\n",
    "\n",
    "        print(\n",
    "            \"{}  |  Epoch {}  |  Training loss {:.5f}\".format(\n",
    "                datetime.now().time(), epoch, loss_train / n_batch\n",
    "            )\n",
    "        )\n",
    "    return\n",
    "\n",
    "\n",
    "def relative_error(a, b):\n",
    "    return torch.norm(a - b) / torch.norm(a)\n"
   ]
  },
  {
   "cell_type": "code",
   "execution_count": 7,
   "metadata": {},
   "outputs": [
    {
     "data": {
      "text/html": [
       "<pre style=\"white-space:pre;overflow-x:auto;line-height:normal;font-family:Menlo,'DejaVu Sans Mono',consolas,'Courier New',monospace\"><span style=\"color: #00ff00; text-decoration-color: #00ff00; font-weight: bold\">18:19:27</span>.<span style=\"color: #008080; text-decoration-color: #008080; font-weight: bold\">976049</span>  |  Epoch <span style=\"color: #008080; text-decoration-color: #008080; font-weight: bold\">1</span>  |  Training loss <span style=\"color: #008080; text-decoration-color: #008080; font-weight: bold\">4.16732</span>\n",
       "</pre>\n"
      ],
      "text/plain": [
       "\u001b[1;92m18:19:27\u001b[0m.\u001b[1;36m976049\u001b[0m  |  Epoch \u001b[1;36m1\u001b[0m  |  Training loss \u001b[1;36m4.16732\u001b[0m\n"
      ]
     },
     "metadata": {},
     "output_type": "display_data"
    },
    {
     "data": {
      "text/html": [
       "<pre style=\"white-space:pre;overflow-x:auto;line-height:normal;font-family:Menlo,'DejaVu Sans Mono',consolas,'Courier New',monospace\"><span style=\"color: #00ff00; text-decoration-color: #00ff00; font-weight: bold\">18:20:29</span>.<span style=\"color: #008080; text-decoration-color: #008080; font-weight: bold\">579370</span>  |  Epoch <span style=\"color: #008080; text-decoration-color: #008080; font-weight: bold\">2</span>  |  Training loss <span style=\"color: #008080; text-decoration-color: #008080; font-weight: bold\">3.96308</span>\n",
       "</pre>\n"
      ],
      "text/plain": [
       "\u001b[1;92m18:20:29\u001b[0m.\u001b[1;36m579370\u001b[0m  |  Epoch \u001b[1;36m2\u001b[0m  |  Training loss \u001b[1;36m3.96308\u001b[0m\n"
      ]
     },
     "metadata": {},
     "output_type": "display_data"
    },
    {
     "data": {
      "text/html": [
       "<pre style=\"white-space:pre;overflow-x:auto;line-height:normal;font-family:Menlo,'DejaVu Sans Mono',consolas,'Courier New',monospace\"><span style=\"color: #00ff00; text-decoration-color: #00ff00; font-weight: bold\">18:21:35</span>.<span style=\"color: #008080; text-decoration-color: #008080; font-weight: bold\">413986</span>  |  Epoch <span style=\"color: #008080; text-decoration-color: #008080; font-weight: bold\">3</span>  |  Training loss <span style=\"color: #008080; text-decoration-color: #008080; font-weight: bold\">3.89900</span>\n",
       "</pre>\n"
      ],
      "text/plain": [
       "\u001b[1;92m18:21:35\u001b[0m.\u001b[1;36m413986\u001b[0m  |  Epoch \u001b[1;36m3\u001b[0m  |  Training loss \u001b[1;36m3.89900\u001b[0m\n"
      ]
     },
     "metadata": {},
     "output_type": "display_data"
    },
    {
     "data": {
      "text/html": [
       "<pre style=\"white-space:pre;overflow-x:auto;line-height:normal;font-family:Menlo,'DejaVu Sans Mono',consolas,'Courier New',monospace\"><span style=\"color: #00ff00; text-decoration-color: #00ff00; font-weight: bold\">18:22:40</span>.<span style=\"color: #008080; text-decoration-color: #008080; font-weight: bold\">719907</span>  |  Epoch <span style=\"color: #008080; text-decoration-color: #008080; font-weight: bold\">4</span>  |  Training loss <span style=\"color: #008080; text-decoration-color: #008080; font-weight: bold\">3.86028</span>\n",
       "</pre>\n"
      ],
      "text/plain": [
       "\u001b[1;92m18:22:40\u001b[0m.\u001b[1;36m719907\u001b[0m  |  Epoch \u001b[1;36m4\u001b[0m  |  Training loss \u001b[1;36m3.86028\u001b[0m\n"
      ]
     },
     "metadata": {},
     "output_type": "display_data"
    }
   ],
   "source": [
    "train_loader = DataLoader(data, batch_size=64, shuffle=False)\n",
    "loss_fn = nn.NLLLoss()\n",
    "\n",
    "n_epochs = 4\n",
    "lr = 0.1\n",
    "\n",
    "NGram_model = NGram(vocab_size, 16, 3).to(device=device)\n",
    "optimizer = optim.SGD(NGram_model.parameters(), lr=lr)\n",
    "\n",
    "weight = train(\n",
    "    n_epochs=n_epochs,\n",
    "    optimizer=optimizer,\n",
    "    model=NGram_model,\n",
    "    loss_fn=loss_fn,\n",
    "    train_loader=train_loader,\n",
    ")\n"
   ]
  },
  {
   "cell_type": "code",
   "execution_count": 8,
   "metadata": {},
   "outputs": [
    {
     "data": {
      "text/html": [
       "<pre style=\"white-space:pre;overflow-x:auto;line-height:normal;font-family:Menlo,'DejaVu Sans Mono',consolas,'Courier New',monospace\"><span style=\"color: #00ff00; text-decoration-color: #00ff00; font-weight: bold\">18:23:50</span>.<span style=\"color: #008080; text-decoration-color: #008080; font-weight: bold\">942429</span>  |  Epoch <span style=\"color: #008080; text-decoration-color: #008080; font-weight: bold\">1</span>  |  Training loss <span style=\"color: #008080; text-decoration-color: #008080; font-weight: bold\">4.01377</span>\n",
       "</pre>\n"
      ],
      "text/plain": [
       "\u001b[1;92m18:23:50\u001b[0m.\u001b[1;36m942429\u001b[0m  |  Epoch \u001b[1;36m1\u001b[0m  |  Training loss \u001b[1;36m4.01377\u001b[0m\n"
      ]
     },
     "metadata": {},
     "output_type": "display_data"
    },
    {
     "data": {
      "text/html": [
       "<pre style=\"white-space:pre;overflow-x:auto;line-height:normal;font-family:Menlo,'DejaVu Sans Mono',consolas,'Courier New',monospace\"><span style=\"color: #00ff00; text-decoration-color: #00ff00; font-weight: bold\">18:24:54</span>.<span style=\"color: #008080; text-decoration-color: #008080; font-weight: bold\">074422</span>  |  Epoch <span style=\"color: #008080; text-decoration-color: #008080; font-weight: bold\">2</span>  |  Training loss <span style=\"color: #008080; text-decoration-color: #008080; font-weight: bold\">3.83470</span>\n",
       "</pre>\n"
      ],
      "text/plain": [
       "\u001b[1;92m18:24:54\u001b[0m.\u001b[1;36m074422\u001b[0m  |  Epoch \u001b[1;36m2\u001b[0m  |  Training loss \u001b[1;36m3.83470\u001b[0m\n"
      ]
     },
     "metadata": {},
     "output_type": "display_data"
    },
    {
     "data": {
      "text/html": [
       "<pre style=\"white-space:pre;overflow-x:auto;line-height:normal;font-family:Menlo,'DejaVu Sans Mono',consolas,'Courier New',monospace\"><span style=\"color: #00ff00; text-decoration-color: #00ff00; font-weight: bold\">18:25:56</span>.<span style=\"color: #008080; text-decoration-color: #008080; font-weight: bold\">106352</span>  |  Epoch <span style=\"color: #008080; text-decoration-color: #008080; font-weight: bold\">3</span>  |  Training loss <span style=\"color: #008080; text-decoration-color: #008080; font-weight: bold\">3.77931</span>\n",
       "</pre>\n"
      ],
      "text/plain": [
       "\u001b[1;92m18:25:56\u001b[0m.\u001b[1;36m106352\u001b[0m  |  Epoch \u001b[1;36m3\u001b[0m  |  Training loss \u001b[1;36m3.77931\u001b[0m\n"
      ]
     },
     "metadata": {},
     "output_type": "display_data"
    },
    {
     "data": {
      "text/html": [
       "<pre style=\"white-space:pre;overflow-x:auto;line-height:normal;font-family:Menlo,'DejaVu Sans Mono',consolas,'Courier New',monospace\"><span style=\"color: #00ff00; text-decoration-color: #00ff00; font-weight: bold\">18:27:00</span>.<span style=\"color: #008080; text-decoration-color: #008080; font-weight: bold\">906138</span>  |  Epoch <span style=\"color: #008080; text-decoration-color: #008080; font-weight: bold\">4</span>  |  Training loss <span style=\"color: #008080; text-decoration-color: #008080; font-weight: bold\">3.74572</span>\n",
       "</pre>\n"
      ],
      "text/plain": [
       "\u001b[1;92m18:27:00\u001b[0m.\u001b[1;36m906138\u001b[0m  |  Epoch \u001b[1;36m4\u001b[0m  |  Training loss \u001b[1;36m3.74572\u001b[0m\n"
      ]
     },
     "metadata": {},
     "output_type": "display_data"
    },
    {
     "data": {
      "text/html": [
       "<pre style=\"white-space:pre;overflow-x:auto;line-height:normal;font-family:Menlo,'DejaVu Sans Mono',consolas,'Courier New',monospace\"><span style=\"color: #00ff00; text-decoration-color: #00ff00; font-weight: bold\">18:28:05</span>.<span style=\"color: #008080; text-decoration-color: #008080; font-weight: bold\">167979</span>  |  Epoch <span style=\"color: #008080; text-decoration-color: #008080; font-weight: bold\">5</span>  |  Training loss <span style=\"color: #008080; text-decoration-color: #008080; font-weight: bold\">3.72192</span>\n",
       "</pre>\n"
      ],
      "text/plain": [
       "\u001b[1;92m18:28:05\u001b[0m.\u001b[1;36m167979\u001b[0m  |  Epoch \u001b[1;36m5\u001b[0m  |  Training loss \u001b[1;36m3.72192\u001b[0m\n"
      ]
     },
     "metadata": {},
     "output_type": "display_data"
    },
    {
     "data": {
      "text/html": [
       "<pre style=\"white-space:pre;overflow-x:auto;line-height:normal;font-family:Menlo,'DejaVu Sans Mono',consolas,'Courier New',monospace\"><span style=\"color: #00ff00; text-decoration-color: #00ff00; font-weight: bold\">18:29:11</span>.<span style=\"color: #008080; text-decoration-color: #008080; font-weight: bold\">062835</span>  |  Epoch <span style=\"color: #008080; text-decoration-color: #008080; font-weight: bold\">6</span>  |  Training loss <span style=\"color: #008080; text-decoration-color: #008080; font-weight: bold\">3.70368</span>\n",
       "</pre>\n"
      ],
      "text/plain": [
       "\u001b[1;92m18:29:11\u001b[0m.\u001b[1;36m062835\u001b[0m  |  Epoch \u001b[1;36m6\u001b[0m  |  Training loss \u001b[1;36m3.70368\u001b[0m\n"
      ]
     },
     "metadata": {},
     "output_type": "display_data"
    },
    {
     "data": {
      "text/html": [
       "<pre style=\"white-space:pre;overflow-x:auto;line-height:normal;font-family:Menlo,'DejaVu Sans Mono',consolas,'Courier New',monospace\"><span style=\"color: #00ff00; text-decoration-color: #00ff00; font-weight: bold\">18:30:14</span>.<span style=\"color: #008080; text-decoration-color: #008080; font-weight: bold\">736792</span>  |  Epoch <span style=\"color: #008080; text-decoration-color: #008080; font-weight: bold\">7</span>  |  Training loss <span style=\"color: #008080; text-decoration-color: #008080; font-weight: bold\">3.68904</span>\n",
       "</pre>\n"
      ],
      "text/plain": [
       "\u001b[1;92m18:30:14\u001b[0m.\u001b[1;36m736792\u001b[0m  |  Epoch \u001b[1;36m7\u001b[0m  |  Training loss \u001b[1;36m3.68904\u001b[0m\n"
      ]
     },
     "metadata": {},
     "output_type": "display_data"
    },
    {
     "data": {
      "text/html": [
       "<pre style=\"white-space:pre;overflow-x:auto;line-height:normal;font-family:Menlo,'DejaVu Sans Mono',consolas,'Courier New',monospace\"><span style=\"color: #00ff00; text-decoration-color: #00ff00; font-weight: bold\">18:31:15</span>.<span style=\"color: #008080; text-decoration-color: #008080; font-weight: bold\">953488</span>  |  Epoch <span style=\"color: #008080; text-decoration-color: #008080; font-weight: bold\">8</span>  |  Training loss <span style=\"color: #008080; text-decoration-color: #008080; font-weight: bold\">3.67689</span>\n",
       "</pre>\n"
      ],
      "text/plain": [
       "\u001b[1;92m18:31:15\u001b[0m.\u001b[1;36m953488\u001b[0m  |  Epoch \u001b[1;36m8\u001b[0m  |  Training loss \u001b[1;36m3.67689\u001b[0m\n"
      ]
     },
     "metadata": {},
     "output_type": "display_data"
    },
    {
     "data": {
      "text/html": [
       "<pre style=\"white-space:pre;overflow-x:auto;line-height:normal;font-family:Menlo,'DejaVu Sans Mono',consolas,'Courier New',monospace\"><span style=\"color: #00ff00; text-decoration-color: #00ff00; font-weight: bold\">18:32:22</span>.<span style=\"color: #008080; text-decoration-color: #008080; font-weight: bold\">878187</span>  |  Epoch <span style=\"color: #008080; text-decoration-color: #008080; font-weight: bold\">9</span>  |  Training loss <span style=\"color: #008080; text-decoration-color: #008080; font-weight: bold\">3.66655</span>\n",
       "</pre>\n"
      ],
      "text/plain": [
       "\u001b[1;92m18:32:22\u001b[0m.\u001b[1;36m878187\u001b[0m  |  Epoch \u001b[1;36m9\u001b[0m  |  Training loss \u001b[1;36m3.66655\u001b[0m\n"
      ]
     },
     "metadata": {},
     "output_type": "display_data"
    },
    {
     "data": {
      "text/html": [
       "<pre style=\"white-space:pre;overflow-x:auto;line-height:normal;font-family:Menlo,'DejaVu Sans Mono',consolas,'Courier New',monospace\"><span style=\"color: #00ff00; text-decoration-color: #00ff00; font-weight: bold\">18:33:26</span>.<span style=\"color: #008080; text-decoration-color: #008080; font-weight: bold\">472874</span>  |  Epoch <span style=\"color: #008080; text-decoration-color: #008080; font-weight: bold\">10</span>  |  Training loss <span style=\"color: #008080; text-decoration-color: #008080; font-weight: bold\">3.65759</span>\n",
       "</pre>\n"
      ],
      "text/plain": [
       "\u001b[1;92m18:33:26\u001b[0m.\u001b[1;36m472874\u001b[0m  |  Epoch \u001b[1;36m10\u001b[0m  |  Training loss \u001b[1;36m3.65759\u001b[0m\n"
      ]
     },
     "metadata": {},
     "output_type": "display_data"
    },
    {
     "data": {
      "text/html": [
       "<pre style=\"white-space:pre;overflow-x:auto;line-height:normal;font-family:Menlo,'DejaVu Sans Mono',consolas,'Courier New',monospace\"><span style=\"color: #00ff00; text-decoration-color: #00ff00; font-weight: bold\">18:34:33</span>.<span style=\"color: #008080; text-decoration-color: #008080; font-weight: bold\">401388</span>  |  Epoch <span style=\"color: #008080; text-decoration-color: #008080; font-weight: bold\">11</span>  |  Training loss <span style=\"color: #008080; text-decoration-color: #008080; font-weight: bold\">3.64971</span>\n",
       "</pre>\n"
      ],
      "text/plain": [
       "\u001b[1;92m18:34:33\u001b[0m.\u001b[1;36m401388\u001b[0m  |  Epoch \u001b[1;36m11\u001b[0m  |  Training loss \u001b[1;36m3.64971\u001b[0m\n"
      ]
     },
     "metadata": {},
     "output_type": "display_data"
    },
    {
     "data": {
      "text/html": [
       "<pre style=\"white-space:pre;overflow-x:auto;line-height:normal;font-family:Menlo,'DejaVu Sans Mono',consolas,'Courier New',monospace\"><span style=\"color: #00ff00; text-decoration-color: #00ff00; font-weight: bold\">18:35:34</span>.<span style=\"color: #008080; text-decoration-color: #008080; font-weight: bold\">077173</span>  |  Epoch <span style=\"color: #008080; text-decoration-color: #008080; font-weight: bold\">12</span>  |  Training loss <span style=\"color: #008080; text-decoration-color: #008080; font-weight: bold\">3.64268</span>\n",
       "</pre>\n"
      ],
      "text/plain": [
       "\u001b[1;92m18:35:34\u001b[0m.\u001b[1;36m077173\u001b[0m  |  Epoch \u001b[1;36m12\u001b[0m  |  Training loss \u001b[1;36m3.64268\u001b[0m\n"
      ]
     },
     "metadata": {},
     "output_type": "display_data"
    },
    {
     "data": {
      "text/html": [
       "<pre style=\"white-space:pre;overflow-x:auto;line-height:normal;font-family:Menlo,'DejaVu Sans Mono',consolas,'Courier New',monospace\"><span style=\"color: #00ff00; text-decoration-color: #00ff00; font-weight: bold\">18:36:26</span>.<span style=\"color: #008080; text-decoration-color: #008080; font-weight: bold\">086427</span>  |  Epoch <span style=\"color: #008080; text-decoration-color: #008080; font-weight: bold\">13</span>  |  Training loss <span style=\"color: #008080; text-decoration-color: #008080; font-weight: bold\">3.63636</span>\n",
       "</pre>\n"
      ],
      "text/plain": [
       "\u001b[1;92m18:36:26\u001b[0m.\u001b[1;36m086427\u001b[0m  |  Epoch \u001b[1;36m13\u001b[0m  |  Training loss \u001b[1;36m3.63636\u001b[0m\n"
      ]
     },
     "metadata": {},
     "output_type": "display_data"
    },
    {
     "data": {
      "text/html": [
       "<pre style=\"white-space:pre;overflow-x:auto;line-height:normal;font-family:Menlo,'DejaVu Sans Mono',consolas,'Courier New',monospace\"><span style=\"color: #00ff00; text-decoration-color: #00ff00; font-weight: bold\">18:37:14</span>.<span style=\"color: #008080; text-decoration-color: #008080; font-weight: bold\">582582</span>  |  Epoch <span style=\"color: #008080; text-decoration-color: #008080; font-weight: bold\">14</span>  |  Training loss <span style=\"color: #008080; text-decoration-color: #008080; font-weight: bold\">3.63062</span>\n",
       "</pre>\n"
      ],
      "text/plain": [
       "\u001b[1;92m18:37:14\u001b[0m.\u001b[1;36m582582\u001b[0m  |  Epoch \u001b[1;36m14\u001b[0m  |  Training loss \u001b[1;36m3.63062\u001b[0m\n"
      ]
     },
     "metadata": {},
     "output_type": "display_data"
    },
    {
     "data": {
      "text/html": [
       "<pre style=\"white-space:pre;overflow-x:auto;line-height:normal;font-family:Menlo,'DejaVu Sans Mono',consolas,'Courier New',monospace\"><span style=\"color: #00ff00; text-decoration-color: #00ff00; font-weight: bold\">18:38:01</span>.<span style=\"color: #008080; text-decoration-color: #008080; font-weight: bold\">914395</span>  |  Epoch <span style=\"color: #008080; text-decoration-color: #008080; font-weight: bold\">15</span>  |  Training loss <span style=\"color: #008080; text-decoration-color: #008080; font-weight: bold\">3.62538</span>\n",
       "</pre>\n"
      ],
      "text/plain": [
       "\u001b[1;92m18:38:01\u001b[0m.\u001b[1;36m914395\u001b[0m  |  Epoch \u001b[1;36m15\u001b[0m  |  Training loss \u001b[1;36m3.62538\u001b[0m\n"
      ]
     },
     "metadata": {},
     "output_type": "display_data"
    }
   ],
   "source": [
    "n_epochs = 15\n",
    "lr = 0.1\n",
    "\n",
    "NGram_larger_model = NGram(vocab_size, 64, 3).to(device=device)\n",
    "NGram_larger_optimizer = optim.SGD(NGram_larger_model.parameters(), lr=lr)\n",
    "\n",
    "NGram_larger_model_weight = train(\n",
    "    n_epochs=n_epochs,\n",
    "    optimizer=NGram_larger_optimizer,\n",
    "    model=NGram_larger_model,\n",
    "    loss_fn=loss_fn,\n",
    "    train_loader=train_loader,\n",
    ")\n"
   ]
  },
  {
   "cell_type": "code",
   "execution_count": 18,
   "metadata": {},
   "outputs": [],
   "source": [
    "def accuracy(model, val_loader):\n",
    "    \"\"\"\n",
    "    Compute the accuracy of our model on the validation set\n",
    "    \"\"\"\n",
    "    model.eval()\n",
    "    correct = 0\n",
    "    with torch.no_grad():\n",
    "        for contexts, labels in val_loader:\n",
    "            contexts = contexts.to(device=device)\n",
    "            labels = labels.to(device=device)\n",
    "\n",
    "            outputs = model(contexts)\n",
    "            _, predicted = torch.max(outputs.data, 1)\n",
    "            correct += (predicted == labels).sum().item()\n",
    "\n",
    "    return correct / len(val_loader.dataset)"
   ]
  },
  {
   "cell_type": "markdown",
   "metadata": {},
   "source": [
    "TODO: SELECT BEST MODEL BASED ON VAL AND CHECH TEST PERFORMANCE."
   ]
  },
  {
   "cell_type": "code",
   "execution_count": 24,
   "metadata": {},
   "outputs": [
    {
     "data": {
      "text/html": [
       "<pre style=\"white-space:pre;overflow-x:auto;line-height:normal;font-family:Menlo,'DejaVu Sans Mono',consolas,'Courier New',monospace\">Training accuracy: <span style=\"color: #008080; text-decoration-color: #008080; font-weight: bold\">21.8</span>%\n",
       "</pre>\n"
      ],
      "text/plain": [
       "Training accuracy: \u001b[1;36m21.8\u001b[0m%\n"
      ]
     },
     "metadata": {},
     "output_type": "display_data"
    },
    {
     "data": {
      "text/html": [
       "<pre style=\"white-space:pre;overflow-x:auto;line-height:normal;font-family:Menlo,'DejaVu Sans Mono',consolas,'Courier New',monospace\">Validation accuracy: <span style=\"color: #008080; text-decoration-color: #008080; font-weight: bold\">22.9</span>%\n",
       "</pre>\n"
      ],
      "text/plain": [
       "Validation accuracy: \u001b[1;36m22.9\u001b[0m%\n"
      ]
     },
     "metadata": {},
     "output_type": "display_data"
    }
   ],
   "source": [
    "val_data = create_dataset(val_tokenized, vocab)\n",
    "val_loader = DataLoader(val_data, batch_size=64, shuffle=False) # Maybe create loaders at the top\n",
    "\n",
    "train_acc = accuracy(NGram_larger_model, train_loader)\n",
    "val_acc = accuracy(NGram_larger_model, val_loader)\n",
    "\n",
    "print(f\"Training accuracy: {train_acc:.1%}\")\n",
    "print(f\"Validation accuracy: {val_acc:.1%}\")"
   ]
  },
  {
   "cell_type": "markdown",
   "metadata": {},
   "source": [
    "#### 5 - Compute the cosine similarity matrix of the vocabulary based on the trained embedding.\n",
    "For some words of your choice (e.g. me, white, man, have, be, child, yes, what etc.), report the 10\n",
    "most similar words. Comment your results."
   ]
  },
  {
   "cell_type": "code",
   "execution_count": 9,
   "metadata": {},
   "outputs": [],
   "source": [
    "wheights = NGram_larger_model.embeddings.weight.detach()\n",
    "\n",
    "sim_matrix = np.zeros(shape=(len(wheights), len(wheights)))\n",
    "\n",
    "for w1 in range(0, len(wheights)):\n",
    "    for w2 in range(0, len(wheights)):\n",
    "        # Cosine similarity\n",
    "        sim_matrix[w1][w2] = np.dot(wheights[w1], wheights[w2]) / (\n",
    "            np.linalg.norm(wheights[w1]) * np.linalg.norm(wheights[w2])\n",
    "        )\n"
   ]
  },
  {
   "cell_type": "code",
   "execution_count": 16,
   "metadata": {},
   "outputs": [
    {
     "data": {
      "text/html": [
       "<pre style=\"white-space:pre;overflow-x:auto;line-height:normal;font-family:Menlo,'DejaVu Sans Mono',consolas,'Courier New',monospace\"><span style=\"font-weight: bold\">(</span><span style=\"color: #008000; text-decoration-color: #008000\">'me'</span>, <span style=\"color: #008080; text-decoration-color: #008080; font-weight: bold\">40</span><span style=\"font-weight: bold\">)</span> most similar words:\n",
       "</pre>\n"
      ],
      "text/plain": [
       "\u001b[1m(\u001b[0m\u001b[32m'me'\u001b[0m, \u001b[1;36m40\u001b[0m\u001b[1m)\u001b[0m most similar words:\n"
      ]
     },
     "metadata": {},
     "output_type": "display_data"
    },
    {
     "data": {
      "text/html": [
       "<pre style=\"white-space:pre;overflow-x:auto;line-height:normal;font-family:Menlo,'DejaVu Sans Mono',consolas,'Courier New',monospace\">        <span style=\"font-weight: bold\">(</span><span style=\"color: #008000; text-decoration-color: #008000\">'me'</span>, <span style=\"color: #008080; text-decoration-color: #008080; font-weight: bold\">1.0</span><span style=\"font-weight: bold\">)</span>\n",
       "</pre>\n"
      ],
      "text/plain": [
       "        \u001b[1m(\u001b[0m\u001b[32m'me'\u001b[0m, \u001b[1;36m1.0\u001b[0m\u001b[1m)\u001b[0m\n"
      ]
     },
     "metadata": {},
     "output_type": "display_data"
    },
    {
     "data": {
      "text/html": [
       "<pre style=\"white-space:pre;overflow-x:auto;line-height:normal;font-family:Menlo,'DejaVu Sans Mono',consolas,'Courier New',monospace\">        <span style=\"font-weight: bold\">(</span><span style=\"color: #008000; text-decoration-color: #008000\">'lifted'</span>, <span style=\"color: #008080; text-decoration-color: #008080; font-weight: bold\">0.37033130282712134</span><span style=\"font-weight: bold\">)</span>\n",
       "</pre>\n"
      ],
      "text/plain": [
       "        \u001b[1m(\u001b[0m\u001b[32m'lifted'\u001b[0m, \u001b[1;36m0.37033130282712134\u001b[0m\u001b[1m)\u001b[0m\n"
      ]
     },
     "metadata": {},
     "output_type": "display_data"
    },
    {
     "data": {
      "text/html": [
       "<pre style=\"white-space:pre;overflow-x:auto;line-height:normal;font-family:Menlo,'DejaVu Sans Mono',consolas,'Courier New',monospace\">        <span style=\"font-weight: bold\">(</span><span style=\"color: #008000; text-decoration-color: #008000\">'indeed'</span>, <span style=\"color: #008080; text-decoration-color: #008080; font-weight: bold\">0.320596876343763</span><span style=\"font-weight: bold\">)</span>\n",
       "</pre>\n"
      ],
      "text/plain": [
       "        \u001b[1m(\u001b[0m\u001b[32m'indeed'\u001b[0m, \u001b[1;36m0.320596876343763\u001b[0m\u001b[1m)\u001b[0m\n"
      ]
     },
     "metadata": {},
     "output_type": "display_data"
    },
    {
     "data": {
      "text/html": [
       "<pre style=\"white-space:pre;overflow-x:auto;line-height:normal;font-family:Menlo,'DejaVu Sans Mono',consolas,'Courier New',monospace\">        <span style=\"font-weight: bold\">(</span><span style=\"color: #008000; text-decoration-color: #008000\">'activity'</span>, <span style=\"color: #008080; text-decoration-color: #008080; font-weight: bold\">0.31892116863226155</span><span style=\"font-weight: bold\">)</span>\n",
       "</pre>\n"
      ],
      "text/plain": [
       "        \u001b[1m(\u001b[0m\u001b[32m'activity'\u001b[0m, \u001b[1;36m0.31892116863226155\u001b[0m\u001b[1m)\u001b[0m\n"
      ]
     },
     "metadata": {},
     "output_type": "display_data"
    },
    {
     "data": {
      "text/html": [
       "<pre style=\"white-space:pre;overflow-x:auto;line-height:normal;font-family:Menlo,'DejaVu Sans Mono',consolas,'Courier New',monospace\">        <span style=\"font-weight: bold\">(</span><span style=\"color: #008000; text-decoration-color: #008000\">'journey'</span>, <span style=\"color: #008080; text-decoration-color: #008080; font-weight: bold\">0.3186932433781059</span><span style=\"font-weight: bold\">)</span>\n",
       "</pre>\n"
      ],
      "text/plain": [
       "        \u001b[1m(\u001b[0m\u001b[32m'journey'\u001b[0m, \u001b[1;36m0.3186932433781059\u001b[0m\u001b[1m)\u001b[0m\n"
      ]
     },
     "metadata": {},
     "output_type": "display_data"
    },
    {
     "data": {
      "text/html": [
       "<pre style=\"white-space:pre;overflow-x:auto;line-height:normal;font-family:Menlo,'DejaVu Sans Mono',consolas,'Courier New',monospace\">        <span style=\"font-weight: bold\">(</span><span style=\"color: #008000; text-decoration-color: #008000\">'meeting'</span>, <span style=\"color: #008080; text-decoration-color: #008080; font-weight: bold\">0.3157636565256881</span><span style=\"font-weight: bold\">)</span>\n",
       "</pre>\n"
      ],
      "text/plain": [
       "        \u001b[1m(\u001b[0m\u001b[32m'meeting'\u001b[0m, \u001b[1;36m0.3157636565256881\u001b[0m\u001b[1m)\u001b[0m\n"
      ]
     },
     "metadata": {},
     "output_type": "display_data"
    },
    {
     "data": {
      "text/html": [
       "<pre style=\"white-space:pre;overflow-x:auto;line-height:normal;font-family:Menlo,'DejaVu Sans Mono',consolas,'Courier New',monospace\">        <span style=\"font-weight: bold\">(</span><span style=\"color: #008000; text-decoration-color: #008000\">'anger'</span>, <span style=\"color: #008080; text-decoration-color: #008080; font-weight: bold\">0.3109125339647492</span><span style=\"font-weight: bold\">)</span>\n",
       "</pre>\n"
      ],
      "text/plain": [
       "        \u001b[1m(\u001b[0m\u001b[32m'anger'\u001b[0m, \u001b[1;36m0.3109125339647492\u001b[0m\u001b[1m)\u001b[0m\n"
      ]
     },
     "metadata": {},
     "output_type": "display_data"
    },
    {
     "data": {
      "text/html": [
       "<pre style=\"white-space:pre;overflow-x:auto;line-height:normal;font-family:Menlo,'DejaVu Sans Mono',consolas,'Courier New',monospace\">        <span style=\"font-weight: bold\">(</span><span style=\"color: #008000; text-decoration-color: #008000\">'uniform'</span>, <span style=\"color: #008080; text-decoration-color: #008080; font-weight: bold\">0.3059303339976833</span><span style=\"font-weight: bold\">)</span>\n",
       "</pre>\n"
      ],
      "text/plain": [
       "        \u001b[1m(\u001b[0m\u001b[32m'uniform'\u001b[0m, \u001b[1;36m0.3059303339976833\u001b[0m\u001b[1m)\u001b[0m\n"
      ]
     },
     "metadata": {},
     "output_type": "display_data"
    },
    {
     "data": {
      "text/html": [
       "<pre style=\"white-space:pre;overflow-x:auto;line-height:normal;font-family:Menlo,'DejaVu Sans Mono',consolas,'Courier New',monospace\">        <span style=\"font-weight: bold\">(</span><span style=\"color: #008000; text-decoration-color: #008000\">'o'</span>, <span style=\"color: #008080; text-decoration-color: #008080; font-weight: bold\">0.30102330259627486</span><span style=\"font-weight: bold\">)</span>\n",
       "</pre>\n"
      ],
      "text/plain": [
       "        \u001b[1m(\u001b[0m\u001b[32m'o'\u001b[0m, \u001b[1;36m0.30102330259627486\u001b[0m\u001b[1m)\u001b[0m\n"
      ]
     },
     "metadata": {},
     "output_type": "display_data"
    },
    {
     "data": {
      "text/html": [
       "<pre style=\"white-space:pre;overflow-x:auto;line-height:normal;font-family:Menlo,'DejaVu Sans Mono',consolas,'Courier New',monospace\">        <span style=\"font-weight: bold\">(</span><span style=\"color: #008000; text-decoration-color: #008000\">'twice'</span>, <span style=\"color: #008080; text-decoration-color: #008080; font-weight: bold\">0.3008001020400014</span><span style=\"font-weight: bold\">)</span>\n",
       "</pre>\n"
      ],
      "text/plain": [
       "        \u001b[1m(\u001b[0m\u001b[32m'twice'\u001b[0m, \u001b[1;36m0.3008001020400014\u001b[0m\u001b[1m)\u001b[0m\n"
      ]
     },
     "metadata": {},
     "output_type": "display_data"
    },
    {
     "data": {
      "text/html": [
       "<pre style=\"white-space:pre;overflow-x:auto;line-height:normal;font-family:Menlo,'DejaVu Sans Mono',consolas,'Courier New',monospace\"><span style=\"font-weight: bold\">(</span><span style=\"color: #008000; text-decoration-color: #008000\">'white'</span>, <span style=\"color: #008080; text-decoration-color: #008080; font-weight: bold\">268</span><span style=\"font-weight: bold\">)</span> most similar words:\n",
       "</pre>\n"
      ],
      "text/plain": [
       "\u001b[1m(\u001b[0m\u001b[32m'white'\u001b[0m, \u001b[1;36m268\u001b[0m\u001b[1m)\u001b[0m most similar words:\n"
      ]
     },
     "metadata": {},
     "output_type": "display_data"
    },
    {
     "data": {
      "text/html": [
       "<pre style=\"white-space:pre;overflow-x:auto;line-height:normal;font-family:Menlo,'DejaVu Sans Mono',consolas,'Courier New',monospace\">        <span style=\"font-weight: bold\">(</span><span style=\"color: #008000; text-decoration-color: #008000\">'white'</span>, <span style=\"color: #008080; text-decoration-color: #008080; font-weight: bold\">1.0</span><span style=\"font-weight: bold\">)</span>\n",
       "</pre>\n"
      ],
      "text/plain": [
       "        \u001b[1m(\u001b[0m\u001b[32m'white'\u001b[0m, \u001b[1;36m1.0\u001b[0m\u001b[1m)\u001b[0m\n"
      ]
     },
     "metadata": {},
     "output_type": "display_data"
    },
    {
     "data": {
      "text/html": [
       "<pre style=\"white-space:pre;overflow-x:auto;line-height:normal;font-family:Menlo,'DejaVu Sans Mono',consolas,'Courier New',monospace\">        <span style=\"font-weight: bold\">(</span><span style=\"color: #008000; text-decoration-color: #008000\">'slept'</span>, <span style=\"color: #008080; text-decoration-color: #008080; font-weight: bold\">0.38107278035516673</span><span style=\"font-weight: bold\">)</span>\n",
       "</pre>\n"
      ],
      "text/plain": [
       "        \u001b[1m(\u001b[0m\u001b[32m'slept'\u001b[0m, \u001b[1;36m0.38107278035516673\u001b[0m\u001b[1m)\u001b[0m\n"
      ]
     },
     "metadata": {},
     "output_type": "display_data"
    },
    {
     "data": {
      "text/html": [
       "<pre style=\"white-space:pre;overflow-x:auto;line-height:normal;font-family:Menlo,'DejaVu Sans Mono',consolas,'Courier New',monospace\">        <span style=\"font-weight: bold\">(</span><span style=\"color: #008000; text-decoration-color: #008000\">'condition'</span>, <span style=\"color: #008080; text-decoration-color: #008080; font-weight: bold\">0.36391869447421976</span><span style=\"font-weight: bold\">)</span>\n",
       "</pre>\n"
      ],
      "text/plain": [
       "        \u001b[1m(\u001b[0m\u001b[32m'condition'\u001b[0m, \u001b[1;36m0.36391869447421976\u001b[0m\u001b[1m)\u001b[0m\n"
      ]
     },
     "metadata": {},
     "output_type": "display_data"
    },
    {
     "data": {
      "text/html": [
       "<pre style=\"white-space:pre;overflow-x:auto;line-height:normal;font-family:Menlo,'DejaVu Sans Mono',consolas,'Courier New',monospace\">        <span style=\"font-weight: bold\">(</span><span style=\"color: #008000; text-decoration-color: #008000\">'after'</span>, <span style=\"color: #008080; text-decoration-color: #008080; font-weight: bold\">0.3522125412221812</span><span style=\"font-weight: bold\">)</span>\n",
       "</pre>\n"
      ],
      "text/plain": [
       "        \u001b[1m(\u001b[0m\u001b[32m'after'\u001b[0m, \u001b[1;36m0.3522125412221812\u001b[0m\u001b[1m)\u001b[0m\n"
      ]
     },
     "metadata": {},
     "output_type": "display_data"
    },
    {
     "data": {
      "text/html": [
       "<pre style=\"white-space:pre;overflow-x:auto;line-height:normal;font-family:Menlo,'DejaVu Sans Mono',consolas,'Courier New',monospace\">        <span style=\"font-weight: bold\">(</span><span style=\"color: #008000; text-decoration-color: #008000\">'blue'</span>, <span style=\"color: #008080; text-decoration-color: #008080; font-weight: bold\">0.35189493943161454</span><span style=\"font-weight: bold\">)</span>\n",
       "</pre>\n"
      ],
      "text/plain": [
       "        \u001b[1m(\u001b[0m\u001b[32m'blue'\u001b[0m, \u001b[1;36m0.35189493943161454\u001b[0m\u001b[1m)\u001b[0m\n"
      ]
     },
     "metadata": {},
     "output_type": "display_data"
    },
    {
     "data": {
      "text/html": [
       "<pre style=\"white-space:pre;overflow-x:auto;line-height:normal;font-family:Menlo,'DejaVu Sans Mono',consolas,'Courier New',monospace\">        <span style=\"font-weight: bold\">(</span><span style=\"color: #008000; text-decoration-color: #008000\">'remarked'</span>, <span style=\"color: #008080; text-decoration-color: #008080; font-weight: bold\">0.34071989341031006</span><span style=\"font-weight: bold\">)</span>\n",
       "</pre>\n"
      ],
      "text/plain": [
       "        \u001b[1m(\u001b[0m\u001b[32m'remarked'\u001b[0m, \u001b[1;36m0.34071989341031006\u001b[0m\u001b[1m)\u001b[0m\n"
      ]
     },
     "metadata": {},
     "output_type": "display_data"
    },
    {
     "data": {
      "text/html": [
       "<pre style=\"white-space:pre;overflow-x:auto;line-height:normal;font-family:Menlo,'DejaVu Sans Mono',consolas,'Courier New',monospace\">        <span style=\"font-weight: bold\">(</span><span style=\"color: #008000; text-decoration-color: #008000\">'special'</span>, <span style=\"color: #008080; text-decoration-color: #008080; font-weight: bold\">0.3263389675089661</span><span style=\"font-weight: bold\">)</span>\n",
       "</pre>\n"
      ],
      "text/plain": [
       "        \u001b[1m(\u001b[0m\u001b[32m'special'\u001b[0m, \u001b[1;36m0.3263389675089661\u001b[0m\u001b[1m)\u001b[0m\n"
      ]
     },
     "metadata": {},
     "output_type": "display_data"
    },
    {
     "data": {
      "text/html": [
       "<pre style=\"white-space:pre;overflow-x:auto;line-height:normal;font-family:Menlo,'DejaVu Sans Mono',consolas,'Courier New',monospace\">        <span style=\"font-weight: bold\">(</span><span style=\"color: #008000; text-decoration-color: #008000\">'officers'</span>, <span style=\"color: #008080; text-decoration-color: #008080; font-weight: bold\">0.31046301210076227</span><span style=\"font-weight: bold\">)</span>\n",
       "</pre>\n"
      ],
      "text/plain": [
       "        \u001b[1m(\u001b[0m\u001b[32m'officers'\u001b[0m, \u001b[1;36m0.31046301210076227\u001b[0m\u001b[1m)\u001b[0m\n"
      ]
     },
     "metadata": {},
     "output_type": "display_data"
    },
    {
     "data": {
      "text/html": [
       "<pre style=\"white-space:pre;overflow-x:auto;line-height:normal;font-family:Menlo,'DejaVu Sans Mono',consolas,'Courier New',monospace\">        <span style=\"font-weight: bold\">(</span><span style=\"color: #008000; text-decoration-color: #008000\">'dark'</span>, <span style=\"color: #008080; text-decoration-color: #008080; font-weight: bold\">0.3065317383805478</span><span style=\"font-weight: bold\">)</span>\n",
       "</pre>\n"
      ],
      "text/plain": [
       "        \u001b[1m(\u001b[0m\u001b[32m'dark'\u001b[0m, \u001b[1;36m0.3065317383805478\u001b[0m\u001b[1m)\u001b[0m\n"
      ]
     },
     "metadata": {},
     "output_type": "display_data"
    },
    {
     "data": {
      "text/html": [
       "<pre style=\"white-space:pre;overflow-x:auto;line-height:normal;font-family:Menlo,'DejaVu Sans Mono',consolas,'Courier New',monospace\">        <span style=\"font-weight: bold\">(</span><span style=\"color: #008000; text-decoration-color: #008000\">'probably'</span>, <span style=\"color: #008080; text-decoration-color: #008080; font-weight: bold\">0.30127954370955634</span><span style=\"font-weight: bold\">)</span>\n",
       "</pre>\n"
      ],
      "text/plain": [
       "        \u001b[1m(\u001b[0m\u001b[32m'probably'\u001b[0m, \u001b[1;36m0.30127954370955634\u001b[0m\u001b[1m)\u001b[0m\n"
      ]
     },
     "metadata": {},
     "output_type": "display_data"
    },
    {
     "data": {
      "text/html": [
       "<pre style=\"white-space:pre;overflow-x:auto;line-height:normal;font-family:Menlo,'DejaVu Sans Mono',consolas,'Courier New',monospace\"><span style=\"font-weight: bold\">(</span><span style=\"color: #008000; text-decoration-color: #008000\">'man'</span>, <span style=\"color: #008080; text-decoration-color: #008080; font-weight: bold\">64</span><span style=\"font-weight: bold\">)</span> most similar words:\n",
       "</pre>\n"
      ],
      "text/plain": [
       "\u001b[1m(\u001b[0m\u001b[32m'man'\u001b[0m, \u001b[1;36m64\u001b[0m\u001b[1m)\u001b[0m most similar words:\n"
      ]
     },
     "metadata": {},
     "output_type": "display_data"
    },
    {
     "data": {
      "text/html": [
       "<pre style=\"white-space:pre;overflow-x:auto;line-height:normal;font-family:Menlo,'DejaVu Sans Mono',consolas,'Courier New',monospace\">        <span style=\"font-weight: bold\">(</span><span style=\"color: #008000; text-decoration-color: #008000\">'man'</span>, <span style=\"color: #008080; text-decoration-color: #008080; font-weight: bold\">0.9999999999999999</span><span style=\"font-weight: bold\">)</span>\n",
       "</pre>\n"
      ],
      "text/plain": [
       "        \u001b[1m(\u001b[0m\u001b[32m'man'\u001b[0m, \u001b[1;36m0.9999999999999999\u001b[0m\u001b[1m)\u001b[0m\n"
      ]
     },
     "metadata": {},
     "output_type": "display_data"
    },
    {
     "data": {
      "text/html": [
       "<pre style=\"white-space:pre;overflow-x:auto;line-height:normal;font-family:Menlo,'DejaVu Sans Mono',consolas,'Courier New',monospace\">        <span style=\"font-weight: bold\">(</span><span style=\"color: #008000; text-decoration-color: #008000\">'woman'</span>, <span style=\"color: #008080; text-decoration-color: #008080; font-weight: bold\">0.42018314908313564</span><span style=\"font-weight: bold\">)</span>\n",
       "</pre>\n"
      ],
      "text/plain": [
       "        \u001b[1m(\u001b[0m\u001b[32m'woman'\u001b[0m, \u001b[1;36m0.42018314908313564\u001b[0m\u001b[1m)\u001b[0m\n"
      ]
     },
     "metadata": {},
     "output_type": "display_data"
    },
    {
     "data": {
      "text/html": [
       "<pre style=\"white-space:pre;overflow-x:auto;line-height:normal;font-family:Menlo,'DejaVu Sans Mono',consolas,'Courier New',monospace\">        <span style=\"font-weight: bold\">(</span><span style=\"color: #008000; text-decoration-color: #008000\">'immediately'</span>, <span style=\"color: #008080; text-decoration-color: #008080; font-weight: bold\">0.3926877197871303</span><span style=\"font-weight: bold\">)</span>\n",
       "</pre>\n"
      ],
      "text/plain": [
       "        \u001b[1m(\u001b[0m\u001b[32m'immediately'\u001b[0m, \u001b[1;36m0.3926877197871303\u001b[0m\u001b[1m)\u001b[0m\n"
      ]
     },
     "metadata": {},
     "output_type": "display_data"
    },
    {
     "data": {
      "text/html": [
       "<pre style=\"white-space:pre;overflow-x:auto;line-height:normal;font-family:Menlo,'DejaVu Sans Mono',consolas,'Courier New',monospace\">        <span style=\"font-weight: bold\">(</span><span style=\"color: #008000; text-decoration-color: #008000\">'bear'</span>, <span style=\"color: #008080; text-decoration-color: #008080; font-weight: bold\">0.38145917448301514</span><span style=\"font-weight: bold\">)</span>\n",
       "</pre>\n"
      ],
      "text/plain": [
       "        \u001b[1m(\u001b[0m\u001b[32m'bear'\u001b[0m, \u001b[1;36m0.38145917448301514\u001b[0m\u001b[1m)\u001b[0m\n"
      ]
     },
     "metadata": {},
     "output_type": "display_data"
    },
    {
     "data": {
      "text/html": [
       "<pre style=\"white-space:pre;overflow-x:auto;line-height:normal;font-family:Menlo,'DejaVu Sans Mono',consolas,'Courier New',monospace\">        <span style=\"font-weight: bold\">(</span><span style=\"color: #008000; text-decoration-color: #008000\">'commander'</span>, <span style=\"color: #008080; text-decoration-color: #008080; font-weight: bold\">0.36760949123059444</span><span style=\"font-weight: bold\">)</span>\n",
       "</pre>\n"
      ],
      "text/plain": [
       "        \u001b[1m(\u001b[0m\u001b[32m'commander'\u001b[0m, \u001b[1;36m0.36760949123059444\u001b[0m\u001b[1m)\u001b[0m\n"
      ]
     },
     "metadata": {},
     "output_type": "display_data"
    },
    {
     "data": {
      "text/html": [
       "<pre style=\"white-space:pre;overflow-x:auto;line-height:normal;font-family:Menlo,'DejaVu Sans Mono',consolas,'Courier New',monospace\">        <span style=\"font-weight: bold\">(</span><span style=\"color: #008000; text-decoration-color: #008000\">'shut'</span>, <span style=\"color: #008080; text-decoration-color: #008080; font-weight: bold\">0.3646185060281068</span><span style=\"font-weight: bold\">)</span>\n",
       "</pre>\n"
      ],
      "text/plain": [
       "        \u001b[1m(\u001b[0m\u001b[32m'shut'\u001b[0m, \u001b[1;36m0.3646185060281068\u001b[0m\u001b[1m)\u001b[0m\n"
      ]
     },
     "metadata": {},
     "output_type": "display_data"
    },
    {
     "data": {
      "text/html": [
       "<pre style=\"white-space:pre;overflow-x:auto;line-height:normal;font-family:Menlo,'DejaVu Sans Mono',consolas,'Courier New',monospace\">        <span style=\"font-weight: bold\">(</span><span style=\"color: #008000; text-decoration-color: #008000\">'wrong'</span>, <span style=\"color: #008080; text-decoration-color: #008080; font-weight: bold\">0.3567615901577873</span><span style=\"font-weight: bold\">)</span>\n",
       "</pre>\n"
      ],
      "text/plain": [
       "        \u001b[1m(\u001b[0m\u001b[32m'wrong'\u001b[0m, \u001b[1;36m0.3567615901577873\u001b[0m\u001b[1m)\u001b[0m\n"
      ]
     },
     "metadata": {},
     "output_type": "display_data"
    },
    {
     "data": {
      "text/html": [
       "<pre style=\"white-space:pre;overflow-x:auto;line-height:normal;font-family:Menlo,'DejaVu Sans Mono',consolas,'Courier New',monospace\">        <span style=\"font-weight: bold\">(</span><span style=\"color: #008000; text-decoration-color: #008000\">'matter'</span>, <span style=\"color: #008080; text-decoration-color: #008080; font-weight: bold\">0.3406976387895206</span><span style=\"font-weight: bold\">)</span>\n",
       "</pre>\n"
      ],
      "text/plain": [
       "        \u001b[1m(\u001b[0m\u001b[32m'matter'\u001b[0m, \u001b[1;36m0.3406976387895206\u001b[0m\u001b[1m)\u001b[0m\n"
      ]
     },
     "metadata": {},
     "output_type": "display_data"
    },
    {
     "data": {
      "text/html": [
       "<pre style=\"white-space:pre;overflow-x:auto;line-height:normal;font-family:Menlo,'DejaVu Sans Mono',consolas,'Courier New',monospace\">        <span style=\"font-weight: bold\">(</span><span style=\"color: #008000; text-decoration-color: #008000\">'bright'</span>, <span style=\"color: #008080; text-decoration-color: #008080; font-weight: bold\">0.3397807687663359</span><span style=\"font-weight: bold\">)</span>\n",
       "</pre>\n"
      ],
      "text/plain": [
       "        \u001b[1m(\u001b[0m\u001b[32m'bright'\u001b[0m, \u001b[1;36m0.3397807687663359\u001b[0m\u001b[1m)\u001b[0m\n"
      ]
     },
     "metadata": {},
     "output_type": "display_data"
    },
    {
     "data": {
      "text/html": [
       "<pre style=\"white-space:pre;overflow-x:auto;line-height:normal;font-family:Menlo,'DejaVu Sans Mono',consolas,'Courier New',monospace\">        <span style=\"font-weight: bold\">(</span><span style=\"color: #008000; text-decoration-color: #008000\">'because'</span>, <span style=\"color: #008080; text-decoration-color: #008080; font-weight: bold\">0.33186012068536674</span><span style=\"font-weight: bold\">)</span>\n",
       "</pre>\n"
      ],
      "text/plain": [
       "        \u001b[1m(\u001b[0m\u001b[32m'because'\u001b[0m, \u001b[1;36m0.33186012068536674\u001b[0m\u001b[1m)\u001b[0m\n"
      ]
     },
     "metadata": {},
     "output_type": "display_data"
    },
    {
     "data": {
      "text/html": [
       "<pre style=\"white-space:pre;overflow-x:auto;line-height:normal;font-family:Menlo,'DejaVu Sans Mono',consolas,'Courier New',monospace\"><span style=\"font-weight: bold\">(</span><span style=\"color: #008000; text-decoration-color: #008000\">'have'</span>, <span style=\"color: #008080; text-decoration-color: #008080; font-weight: bold\">37</span><span style=\"font-weight: bold\">)</span> most similar words:\n",
       "</pre>\n"
      ],
      "text/plain": [
       "\u001b[1m(\u001b[0m\u001b[32m'have'\u001b[0m, \u001b[1;36m37\u001b[0m\u001b[1m)\u001b[0m most similar words:\n"
      ]
     },
     "metadata": {},
     "output_type": "display_data"
    },
    {
     "data": {
      "text/html": [
       "<pre style=\"white-space:pre;overflow-x:auto;line-height:normal;font-family:Menlo,'DejaVu Sans Mono',consolas,'Courier New',monospace\">        <span style=\"font-weight: bold\">(</span><span style=\"color: #008000; text-decoration-color: #008000\">'have'</span>, <span style=\"color: #008080; text-decoration-color: #008080; font-weight: bold\">1.0000000000000002</span><span style=\"font-weight: bold\">)</span>\n",
       "</pre>\n"
      ],
      "text/plain": [
       "        \u001b[1m(\u001b[0m\u001b[32m'have'\u001b[0m, \u001b[1;36m1.0000000000000002\u001b[0m\u001b[1m)\u001b[0m\n"
      ]
     },
     "metadata": {},
     "output_type": "display_data"
    },
    {
     "data": {
      "text/html": [
       "<pre style=\"white-space:pre;overflow-x:auto;line-height:normal;font-family:Menlo,'DejaVu Sans Mono',consolas,'Courier New',monospace\">        <span style=\"font-weight: bold\">(</span><span style=\"color: #008000; text-decoration-color: #008000\">'had'</span>, <span style=\"color: #008080; text-decoration-color: #008080; font-weight: bold\">0.4803346349821613</span><span style=\"font-weight: bold\">)</span>\n",
       "</pre>\n"
      ],
      "text/plain": [
       "        \u001b[1m(\u001b[0m\u001b[32m'had'\u001b[0m, \u001b[1;36m0.4803346349821613\u001b[0m\u001b[1m)\u001b[0m\n"
      ]
     },
     "metadata": {},
     "output_type": "display_data"
    },
    {
     "data": {
      "text/html": [
       "<pre style=\"white-space:pre;overflow-x:auto;line-height:normal;font-family:Menlo,'DejaVu Sans Mono',consolas,'Courier New',monospace\">        <span style=\"font-weight: bold\">(</span><span style=\"color: #008000; text-decoration-color: #008000\">'has'</span>, <span style=\"color: #008080; text-decoration-color: #008080; font-weight: bold\">0.4071250017175294</span><span style=\"font-weight: bold\">)</span>\n",
       "</pre>\n"
      ],
      "text/plain": [
       "        \u001b[1m(\u001b[0m\u001b[32m'has'\u001b[0m, \u001b[1;36m0.4071250017175294\u001b[0m\u001b[1m)\u001b[0m\n"
      ]
     },
     "metadata": {},
     "output_type": "display_data"
    },
    {
     "data": {
      "text/html": [
       "<pre style=\"white-space:pre;overflow-x:auto;line-height:normal;font-family:Menlo,'DejaVu Sans Mono',consolas,'Courier New',monospace\">        <span style=\"font-weight: bold\">(</span><span style=\"color: #008000; text-decoration-color: #008000\">'once'</span>, <span style=\"color: #008080; text-decoration-color: #008080; font-weight: bold\">0.33154059774728956</span><span style=\"font-weight: bold\">)</span>\n",
       "</pre>\n"
      ],
      "text/plain": [
       "        \u001b[1m(\u001b[0m\u001b[32m'once'\u001b[0m, \u001b[1;36m0.33154059774728956\u001b[0m\u001b[1m)\u001b[0m\n"
      ]
     },
     "metadata": {},
     "output_type": "display_data"
    },
    {
     "data": {
      "text/html": [
       "<pre style=\"white-space:pre;overflow-x:auto;line-height:normal;font-family:Menlo,'DejaVu Sans Mono',consolas,'Courier New',monospace\">        <span style=\"font-weight: bold\">(</span><span style=\"color: #008000; text-decoration-color: #008000\">'party'</span>, <span style=\"color: #008080; text-decoration-color: #008080; font-weight: bold\">0.31143827465312757</span><span style=\"font-weight: bold\">)</span>\n",
       "</pre>\n"
      ],
      "text/plain": [
       "        \u001b[1m(\u001b[0m\u001b[32m'party'\u001b[0m, \u001b[1;36m0.31143827465312757\u001b[0m\u001b[1m)\u001b[0m\n"
      ]
     },
     "metadata": {},
     "output_type": "display_data"
    },
    {
     "data": {
      "text/html": [
       "<pre style=\"white-space:pre;overflow-x:auto;line-height:normal;font-family:Menlo,'DejaVu Sans Mono',consolas,'Courier New',monospace\">        <span style=\"font-weight: bold\">(</span><span style=\"color: #008000; text-decoration-color: #008000\">'interest'</span>, <span style=\"color: #008080; text-decoration-color: #008080; font-weight: bold\">0.306561005305417</span><span style=\"font-weight: bold\">)</span>\n",
       "</pre>\n"
      ],
      "text/plain": [
       "        \u001b[1m(\u001b[0m\u001b[32m'interest'\u001b[0m, \u001b[1;36m0.306561005305417\u001b[0m\u001b[1m)\u001b[0m\n"
      ]
     },
     "metadata": {},
     "output_type": "display_data"
    },
    {
     "data": {
      "text/html": [
       "<pre style=\"white-space:pre;overflow-x:auto;line-height:normal;font-family:Menlo,'DejaVu Sans Mono',consolas,'Courier New',monospace\">        <span style=\"font-weight: bold\">(</span><span style=\"color: #008000; text-decoration-color: #008000\">'duty'</span>, <span style=\"color: #008080; text-decoration-color: #008080; font-weight: bold\">0.30509843669244585</span><span style=\"font-weight: bold\">)</span>\n",
       "</pre>\n"
      ],
      "text/plain": [
       "        \u001b[1m(\u001b[0m\u001b[32m'duty'\u001b[0m, \u001b[1;36m0.30509843669244585\u001b[0m\u001b[1m)\u001b[0m\n"
      ]
     },
     "metadata": {},
     "output_type": "display_data"
    },
    {
     "data": {
      "text/html": [
       "<pre style=\"white-space:pre;overflow-x:auto;line-height:normal;font-family:Menlo,'DejaVu Sans Mono',consolas,'Courier New',monospace\">        <span style=\"font-weight: bold\">(</span><span style=\"color: #008000; text-decoration-color: #008000\">'having'</span>, <span style=\"color: #008080; text-decoration-color: #008080; font-weight: bold\">0.3014096721279318</span><span style=\"font-weight: bold\">)</span>\n",
       "</pre>\n"
      ],
      "text/plain": [
       "        \u001b[1m(\u001b[0m\u001b[32m'having'\u001b[0m, \u001b[1;36m0.3014096721279318\u001b[0m\u001b[1m)\u001b[0m\n"
      ]
     },
     "metadata": {},
     "output_type": "display_data"
    },
    {
     "data": {
      "text/html": [
       "<pre style=\"white-space:pre;overflow-x:auto;line-height:normal;font-family:Menlo,'DejaVu Sans Mono',consolas,'Courier New',monospace\">        <span style=\"font-weight: bold\">(</span><span style=\"color: #008000; text-decoration-color: #008000\">'command'</span>, <span style=\"color: #008080; text-decoration-color: #008080; font-weight: bold\">0.2997852394706731</span><span style=\"font-weight: bold\">)</span>\n",
       "</pre>\n"
      ],
      "text/plain": [
       "        \u001b[1m(\u001b[0m\u001b[32m'command'\u001b[0m, \u001b[1;36m0.2997852394706731\u001b[0m\u001b[1m)\u001b[0m\n"
      ]
     },
     "metadata": {},
     "output_type": "display_data"
    },
    {
     "data": {
      "text/html": [
       "<pre style=\"white-space:pre;overflow-x:auto;line-height:normal;font-family:Menlo,'DejaVu Sans Mono',consolas,'Courier New',monospace\">        <span style=\"font-weight: bold\">(</span><span style=\"color: #008000; text-decoration-color: #008000\">'horse'</span>, <span style=\"color: #008080; text-decoration-color: #008080; font-weight: bold\">0.2979782858982988</span><span style=\"font-weight: bold\">)</span>\n",
       "</pre>\n"
      ],
      "text/plain": [
       "        \u001b[1m(\u001b[0m\u001b[32m'horse'\u001b[0m, \u001b[1;36m0.2979782858982988\u001b[0m\u001b[1m)\u001b[0m\n"
      ]
     },
     "metadata": {},
     "output_type": "display_data"
    },
    {
     "data": {
      "text/html": [
       "<pre style=\"white-space:pre;overflow-x:auto;line-height:normal;font-family:Menlo,'DejaVu Sans Mono',consolas,'Courier New',monospace\"><span style=\"font-weight: bold\">(</span><span style=\"color: #008000; text-decoration-color: #008000\">'be'</span>, <span style=\"color: #008080; text-decoration-color: #008080; font-weight: bold\">33</span><span style=\"font-weight: bold\">)</span> most similar words:\n",
       "</pre>\n"
      ],
      "text/plain": [
       "\u001b[1m(\u001b[0m\u001b[32m'be'\u001b[0m, \u001b[1;36m33\u001b[0m\u001b[1m)\u001b[0m most similar words:\n"
      ]
     },
     "metadata": {},
     "output_type": "display_data"
    },
    {
     "data": {
      "text/html": [
       "<pre style=\"white-space:pre;overflow-x:auto;line-height:normal;font-family:Menlo,'DejaVu Sans Mono',consolas,'Courier New',monospace\">        <span style=\"font-weight: bold\">(</span><span style=\"color: #008000; text-decoration-color: #008000\">'be'</span>, <span style=\"color: #008080; text-decoration-color: #008080; font-weight: bold\">1.0</span><span style=\"font-weight: bold\">)</span>\n",
       "</pre>\n"
      ],
      "text/plain": [
       "        \u001b[1m(\u001b[0m\u001b[32m'be'\u001b[0m, \u001b[1;36m1.0\u001b[0m\u001b[1m)\u001b[0m\n"
      ]
     },
     "metadata": {},
     "output_type": "display_data"
    },
    {
     "data": {
      "text/html": [
       "<pre style=\"white-space:pre;overflow-x:auto;line-height:normal;font-family:Menlo,'DejaVu Sans Mono',consolas,'Courier New',monospace\">        <span style=\"font-weight: bold\">(</span><span style=\"color: #008000; text-decoration-color: #008000\">'was'</span>, <span style=\"color: #008080; text-decoration-color: #008080; font-weight: bold\">0.3515870350914504</span><span style=\"font-weight: bold\">)</span>\n",
       "</pre>\n"
      ],
      "text/plain": [
       "        \u001b[1m(\u001b[0m\u001b[32m'was'\u001b[0m, \u001b[1;36m0.3515870350914504\u001b[0m\u001b[1m)\u001b[0m\n"
      ]
     },
     "metadata": {},
     "output_type": "display_data"
    },
    {
     "data": {
      "text/html": [
       "<pre style=\"white-space:pre;overflow-x:auto;line-height:normal;font-family:Menlo,'DejaVu Sans Mono',consolas,'Courier New',monospace\">        <span style=\"font-weight: bold\">(</span><span style=\"color: #008000; text-decoration-color: #008000\">'been'</span>, <span style=\"color: #008080; text-decoration-color: #008080; font-weight: bold\">0.35078028374866616</span><span style=\"font-weight: bold\">)</span>\n",
       "</pre>\n"
      ],
      "text/plain": [
       "        \u001b[1m(\u001b[0m\u001b[32m'been'\u001b[0m, \u001b[1;36m0.35078028374866616\u001b[0m\u001b[1m)\u001b[0m\n"
      ]
     },
     "metadata": {},
     "output_type": "display_data"
    },
    {
     "data": {
      "text/html": [
       "<pre style=\"white-space:pre;overflow-x:auto;line-height:normal;font-family:Menlo,'DejaVu Sans Mono',consolas,'Courier New',monospace\">        <span style=\"font-weight: bold\">(</span><span style=\"color: #008000; text-decoration-color: #008000\">'are'</span>, <span style=\"color: #008080; text-decoration-color: #008080; font-weight: bold\">0.3447063324024492</span><span style=\"font-weight: bold\">)</span>\n",
       "</pre>\n"
      ],
      "text/plain": [
       "        \u001b[1m(\u001b[0m\u001b[32m'are'\u001b[0m, \u001b[1;36m0.3447063324024492\u001b[0m\u001b[1m)\u001b[0m\n"
      ]
     },
     "metadata": {},
     "output_type": "display_data"
    },
    {
     "data": {
      "text/html": [
       "<pre style=\"white-space:pre;overflow-x:auto;line-height:normal;font-family:Menlo,'DejaVu Sans Mono',consolas,'Courier New',monospace\">        <span style=\"font-weight: bold\">(</span><span style=\"color: #008000; text-decoration-color: #008000\">'lay'</span>, <span style=\"color: #008080; text-decoration-color: #008080; font-weight: bold\">0.3364861127950423</span><span style=\"font-weight: bold\">)</span>\n",
       "</pre>\n"
      ],
      "text/plain": [
       "        \u001b[1m(\u001b[0m\u001b[32m'lay'\u001b[0m, \u001b[1;36m0.3364861127950423\u001b[0m\u001b[1m)\u001b[0m\n"
      ]
     },
     "metadata": {},
     "output_type": "display_data"
    },
    {
     "data": {
      "text/html": [
       "<pre style=\"white-space:pre;overflow-x:auto;line-height:normal;font-family:Menlo,'DejaVu Sans Mono',consolas,'Courier New',monospace\">        <span style=\"font-weight: bold\">(</span><span style=\"color: #008000; text-decoration-color: #008000\">'is'</span>, <span style=\"color: #008080; text-decoration-color: #008080; font-weight: bold\">0.3364424203211968</span><span style=\"font-weight: bold\">)</span>\n",
       "</pre>\n"
      ],
      "text/plain": [
       "        \u001b[1m(\u001b[0m\u001b[32m'is'\u001b[0m, \u001b[1;36m0.3364424203211968\u001b[0m\u001b[1m)\u001b[0m\n"
      ]
     },
     "metadata": {},
     "output_type": "display_data"
    },
    {
     "data": {
      "text/html": [
       "<pre style=\"white-space:pre;overflow-x:auto;line-height:normal;font-family:Menlo,'DejaVu Sans Mono',consolas,'Courier New',monospace\">        <span style=\"font-weight: bold\">(</span><span style=\"color: #008000; text-decoration-color: #008000\">'remembered'</span>, <span style=\"color: #008080; text-decoration-color: #008080; font-weight: bold\">0.33510247921699926</span><span style=\"font-weight: bold\">)</span>\n",
       "</pre>\n"
      ],
      "text/plain": [
       "        \u001b[1m(\u001b[0m\u001b[32m'remembered'\u001b[0m, \u001b[1;36m0.33510247921699926\u001b[0m\u001b[1m)\u001b[0m\n"
      ]
     },
     "metadata": {},
     "output_type": "display_data"
    },
    {
     "data": {
      "text/html": [
       "<pre style=\"white-space:pre;overflow-x:auto;line-height:normal;font-family:Menlo,'DejaVu Sans Mono',consolas,'Courier New',monospace\">        <span style=\"font-weight: bold\">(</span><span style=\"color: #008000; text-decoration-color: #008000\">'learn'</span>, <span style=\"color: #008080; text-decoration-color: #008080; font-weight: bold\">0.3309183290902686</span><span style=\"font-weight: bold\">)</span>\n",
       "</pre>\n"
      ],
      "text/plain": [
       "        \u001b[1m(\u001b[0m\u001b[32m'learn'\u001b[0m, \u001b[1;36m0.3309183290902686\u001b[0m\u001b[1m)\u001b[0m\n"
      ]
     },
     "metadata": {},
     "output_type": "display_data"
    },
    {
     "data": {
      "text/html": [
       "<pre style=\"white-space:pre;overflow-x:auto;line-height:normal;font-family:Menlo,'DejaVu Sans Mono',consolas,'Courier New',monospace\">        <span style=\"font-weight: bold\">(</span><span style=\"color: #008000; text-decoration-color: #008000\">'safe'</span>, <span style=\"color: #008080; text-decoration-color: #008080; font-weight: bold\">0.3296296134904326</span><span style=\"font-weight: bold\">)</span>\n",
       "</pre>\n"
      ],
      "text/plain": [
       "        \u001b[1m(\u001b[0m\u001b[32m'safe'\u001b[0m, \u001b[1;36m0.3296296134904326\u001b[0m\u001b[1m)\u001b[0m\n"
      ]
     },
     "metadata": {},
     "output_type": "display_data"
    },
    {
     "data": {
      "text/html": [
       "<pre style=\"white-space:pre;overflow-x:auto;line-height:normal;font-family:Menlo,'DejaVu Sans Mono',consolas,'Courier New',monospace\">        <span style=\"font-weight: bold\">(</span><span style=\"color: #008000; text-decoration-color: #008000\">'passed'</span>, <span style=\"color: #008080; text-decoration-color: #008080; font-weight: bold\">0.3140575222831012</span><span style=\"font-weight: bold\">)</span>\n",
       "</pre>\n"
      ],
      "text/plain": [
       "        \u001b[1m(\u001b[0m\u001b[32m'passed'\u001b[0m, \u001b[1;36m0.3140575222831012\u001b[0m\u001b[1m)\u001b[0m\n"
      ]
     },
     "metadata": {},
     "output_type": "display_data"
    },
    {
     "data": {
      "text/html": [
       "<pre style=\"white-space:pre;overflow-x:auto;line-height:normal;font-family:Menlo,'DejaVu Sans Mono',consolas,'Courier New',monospace\"><span style=\"font-weight: bold\">(</span><span style=\"color: #008000; text-decoration-color: #008000\">'child'</span>, <span style=\"color: #008080; text-decoration-color: #008080; font-weight: bold\">367</span><span style=\"font-weight: bold\">)</span> most similar words:\n",
       "</pre>\n"
      ],
      "text/plain": [
       "\u001b[1m(\u001b[0m\u001b[32m'child'\u001b[0m, \u001b[1;36m367\u001b[0m\u001b[1m)\u001b[0m most similar words:\n"
      ]
     },
     "metadata": {},
     "output_type": "display_data"
    },
    {
     "data": {
      "text/html": [
       "<pre style=\"white-space:pre;overflow-x:auto;line-height:normal;font-family:Menlo,'DejaVu Sans Mono',consolas,'Courier New',monospace\">        <span style=\"font-weight: bold\">(</span><span style=\"color: #008000; text-decoration-color: #008000\">'child'</span>, <span style=\"color: #008080; text-decoration-color: #008080; font-weight: bold\">0.9999999999999998</span><span style=\"font-weight: bold\">)</span>\n",
       "</pre>\n"
      ],
      "text/plain": [
       "        \u001b[1m(\u001b[0m\u001b[32m'child'\u001b[0m, \u001b[1;36m0.9999999999999998\u001b[0m\u001b[1m)\u001b[0m\n"
      ]
     },
     "metadata": {},
     "output_type": "display_data"
    },
    {
     "data": {
      "text/html": [
       "<pre style=\"white-space:pre;overflow-x:auto;line-height:normal;font-family:Menlo,'DejaVu Sans Mono',consolas,'Courier New',monospace\">        <span style=\"font-weight: bold\">(</span><span style=\"color: #008000; text-decoration-color: #008000\">'children'</span>, <span style=\"color: #008080; text-decoration-color: #008080; font-weight: bold\">0.38197050064685584</span><span style=\"font-weight: bold\">)</span>\n",
       "</pre>\n"
      ],
      "text/plain": [
       "        \u001b[1m(\u001b[0m\u001b[32m'children'\u001b[0m, \u001b[1;36m0.38197050064685584\u001b[0m\u001b[1m)\u001b[0m\n"
      ]
     },
     "metadata": {},
     "output_type": "display_data"
    },
    {
     "data": {
      "text/html": [
       "<pre style=\"white-space:pre;overflow-x:auto;line-height:normal;font-family:Menlo,'DejaVu Sans Mono',consolas,'Courier New',monospace\">        <span style=\"font-weight: bold\">(</span><span style=\"color: #008000; text-decoration-color: #008000\">'wolf'</span>, <span style=\"color: #008080; text-decoration-color: #008080; font-weight: bold\">0.3354596911398587</span><span style=\"font-weight: bold\">)</span>\n",
       "</pre>\n"
      ],
      "text/plain": [
       "        \u001b[1m(\u001b[0m\u001b[32m'wolf'\u001b[0m, \u001b[1;36m0.3354596911398587\u001b[0m\u001b[1m)\u001b[0m\n"
      ]
     },
     "metadata": {},
     "output_type": "display_data"
    },
    {
     "data": {
      "text/html": [
       "<pre style=\"white-space:pre;overflow-x:auto;line-height:normal;font-family:Menlo,'DejaVu Sans Mono',consolas,'Courier New',monospace\">        <span style=\"font-weight: bold\">(</span><span style=\"color: #008000; text-decoration-color: #008000\">'direction'</span>, <span style=\"color: #008080; text-decoration-color: #008080; font-weight: bold\">0.3290426052691873</span><span style=\"font-weight: bold\">)</span>\n",
       "</pre>\n"
      ],
      "text/plain": [
       "        \u001b[1m(\u001b[0m\u001b[32m'direction'\u001b[0m, \u001b[1;36m0.3290426052691873\u001b[0m\u001b[1m)\u001b[0m\n"
      ]
     },
     "metadata": {},
     "output_type": "display_data"
    },
    {
     "data": {
      "text/html": [
       "<pre style=\"white-space:pre;overflow-x:auto;line-height:normal;font-family:Menlo,'DejaVu Sans Mono',consolas,'Courier New',monospace\">        <span style=\"font-weight: bold\">(</span><span style=\"color: #008000; text-decoration-color: #008000\">'lady'</span>, <span style=\"color: #008080; text-decoration-color: #008080; font-weight: bold\">0.32608359362016637</span><span style=\"font-weight: bold\">)</span>\n",
       "</pre>\n"
      ],
      "text/plain": [
       "        \u001b[1m(\u001b[0m\u001b[32m'lady'\u001b[0m, \u001b[1;36m0.32608359362016637\u001b[0m\u001b[1m)\u001b[0m\n"
      ]
     },
     "metadata": {},
     "output_type": "display_data"
    },
    {
     "data": {
      "text/html": [
       "<pre style=\"white-space:pre;overflow-x:auto;line-height:normal;font-family:Menlo,'DejaVu Sans Mono',consolas,'Courier New',monospace\">        <span style=\"font-weight: bold\">(</span><span style=\"color: #008000; text-decoration-color: #008000\">'afraid'</span>, <span style=\"color: #008080; text-decoration-color: #008080; font-weight: bold\">0.32473436730146843</span><span style=\"font-weight: bold\">)</span>\n",
       "</pre>\n"
      ],
      "text/plain": [
       "        \u001b[1m(\u001b[0m\u001b[32m'afraid'\u001b[0m, \u001b[1;36m0.32473436730146843\u001b[0m\u001b[1m)\u001b[0m\n"
      ]
     },
     "metadata": {},
     "output_type": "display_data"
    },
    {
     "data": {
      "text/html": [
       "<pre style=\"white-space:pre;overflow-x:auto;line-height:normal;font-family:Menlo,'DejaVu Sans Mono',consolas,'Courier New',monospace\">        <span style=\"font-weight: bold\">(</span><span style=\"color: #008000; text-decoration-color: #008000\">'bring'</span>, <span style=\"color: #008080; text-decoration-color: #008080; font-weight: bold\">0.3083042100453726</span><span style=\"font-weight: bold\">)</span>\n",
       "</pre>\n"
      ],
      "text/plain": [
       "        \u001b[1m(\u001b[0m\u001b[32m'bring'\u001b[0m, \u001b[1;36m0.3083042100453726\u001b[0m\u001b[1m)\u001b[0m\n"
      ]
     },
     "metadata": {},
     "output_type": "display_data"
    },
    {
     "data": {
      "text/html": [
       "<pre style=\"white-space:pre;overflow-x:auto;line-height:normal;font-family:Menlo,'DejaVu Sans Mono',consolas,'Courier New',monospace\">        <span style=\"font-weight: bold\">(</span><span style=\"color: #008000; text-decoration-color: #008000\">'pleasure'</span>, <span style=\"color: #008080; text-decoration-color: #008080; font-weight: bold\">0.30618056316690906</span><span style=\"font-weight: bold\">)</span>\n",
       "</pre>\n"
      ],
      "text/plain": [
       "        \u001b[1m(\u001b[0m\u001b[32m'pleasure'\u001b[0m, \u001b[1;36m0.30618056316690906\u001b[0m\u001b[1m)\u001b[0m\n"
      ]
     },
     "metadata": {},
     "output_type": "display_data"
    },
    {
     "data": {
      "text/html": [
       "<pre style=\"white-space:pre;overflow-x:auto;line-height:normal;font-family:Menlo,'DejaVu Sans Mono',consolas,'Courier New',monospace\">        <span style=\"font-weight: bold\">(</span><span style=\"color: #008000; text-decoration-color: #008000\">'chief'</span>, <span style=\"color: #008080; text-decoration-color: #008080; font-weight: bold\">0.3008054499260831</span><span style=\"font-weight: bold\">)</span>\n",
       "</pre>\n"
      ],
      "text/plain": [
       "        \u001b[1m(\u001b[0m\u001b[32m'chief'\u001b[0m, \u001b[1;36m0.3008054499260831\u001b[0m\u001b[1m)\u001b[0m\n"
      ]
     },
     "metadata": {},
     "output_type": "display_data"
    },
    {
     "data": {
      "text/html": [
       "<pre style=\"white-space:pre;overflow-x:auto;line-height:normal;font-family:Menlo,'DejaVu Sans Mono',consolas,'Courier New',monospace\">        <span style=\"font-weight: bold\">(</span><span style=\"color: #008000; text-decoration-color: #008000\">'bit'</span>, <span style=\"color: #008080; text-decoration-color: #008080; font-weight: bold\">0.29174235609402677</span><span style=\"font-weight: bold\">)</span>\n",
       "</pre>\n"
      ],
      "text/plain": [
       "        \u001b[1m(\u001b[0m\u001b[32m'bit'\u001b[0m, \u001b[1;36m0.29174235609402677\u001b[0m\u001b[1m)\u001b[0m\n"
      ]
     },
     "metadata": {},
     "output_type": "display_data"
    },
    {
     "data": {
      "text/html": [
       "<pre style=\"white-space:pre;overflow-x:auto;line-height:normal;font-family:Menlo,'DejaVu Sans Mono',consolas,'Courier New',monospace\"><span style=\"font-weight: bold\">(</span><span style=\"color: #008000; text-decoration-color: #008000\">'yes'</span>, <span style=\"color: #008080; text-decoration-color: #008080; font-weight: bold\">501</span><span style=\"font-weight: bold\">)</span> most similar words:\n",
       "</pre>\n"
      ],
      "text/plain": [
       "\u001b[1m(\u001b[0m\u001b[32m'yes'\u001b[0m, \u001b[1;36m501\u001b[0m\u001b[1m)\u001b[0m most similar words:\n"
      ]
     },
     "metadata": {},
     "output_type": "display_data"
    },
    {
     "data": {
      "text/html": [
       "<pre style=\"white-space:pre;overflow-x:auto;line-height:normal;font-family:Menlo,'DejaVu Sans Mono',consolas,'Courier New',monospace\">        <span style=\"font-weight: bold\">(</span><span style=\"color: #008000; text-decoration-color: #008000\">'yes'</span>, <span style=\"color: #008080; text-decoration-color: #008080; font-weight: bold\">0.9999999999999998</span><span style=\"font-weight: bold\">)</span>\n",
       "</pre>\n"
      ],
      "text/plain": [
       "        \u001b[1m(\u001b[0m\u001b[32m'yes'\u001b[0m, \u001b[1;36m0.9999999999999998\u001b[0m\u001b[1m)\u001b[0m\n"
      ]
     },
     "metadata": {},
     "output_type": "display_data"
    },
    {
     "data": {
      "text/html": [
       "<pre style=\"white-space:pre;overflow-x:auto;line-height:normal;font-family:Menlo,'DejaVu Sans Mono',consolas,'Courier New',monospace\">        <span style=\"font-weight: bold\">(</span><span style=\"color: #008000; text-decoration-color: #008000\">'uniform'</span>, <span style=\"color: #008080; text-decoration-color: #008080; font-weight: bold\">0.40043036306744906</span><span style=\"font-weight: bold\">)</span>\n",
       "</pre>\n"
      ],
      "text/plain": [
       "        \u001b[1m(\u001b[0m\u001b[32m'uniform'\u001b[0m, \u001b[1;36m0.40043036306744906\u001b[0m\u001b[1m)\u001b[0m\n"
      ]
     },
     "metadata": {},
     "output_type": "display_data"
    },
    {
     "data": {
      "text/html": [
       "<pre style=\"white-space:pre;overflow-x:auto;line-height:normal;font-family:Menlo,'DejaVu Sans Mono',consolas,'Courier New',monospace\">        <span style=\"font-weight: bold\">(</span><span style=\"color: #008000; text-decoration-color: #008000\">'knowing'</span>, <span style=\"color: #008080; text-decoration-color: #008080; font-weight: bold\">0.39029238785360504</span><span style=\"font-weight: bold\">)</span>\n",
       "</pre>\n"
      ],
      "text/plain": [
       "        \u001b[1m(\u001b[0m\u001b[32m'knowing'\u001b[0m, \u001b[1;36m0.39029238785360504\u001b[0m\u001b[1m)\u001b[0m\n"
      ]
     },
     "metadata": {},
     "output_type": "display_data"
    },
    {
     "data": {
      "text/html": [
       "<pre style=\"white-space:pre;overflow-x:auto;line-height:normal;font-family:Menlo,'DejaVu Sans Mono',consolas,'Courier New',monospace\">        <span style=\"font-weight: bold\">(</span><span style=\"color: #008000; text-decoration-color: #008000\">'law'</span>, <span style=\"color: #008080; text-decoration-color: #008080; font-weight: bold\">0.36588426052955664</span><span style=\"font-weight: bold\">)</span>\n",
       "</pre>\n"
      ],
      "text/plain": [
       "        \u001b[1m(\u001b[0m\u001b[32m'law'\u001b[0m, \u001b[1;36m0.36588426052955664\u001b[0m\u001b[1m)\u001b[0m\n"
      ]
     },
     "metadata": {},
     "output_type": "display_data"
    },
    {
     "data": {
      "text/html": [
       "<pre style=\"white-space:pre;overflow-x:auto;line-height:normal;font-family:Menlo,'DejaVu Sans Mono',consolas,'Courier New',monospace\">        <span style=\"font-weight: bold\">(</span><span style=\"color: #008000; text-decoration-color: #008000\">'no'</span>, <span style=\"color: #008080; text-decoration-color: #008080; font-weight: bold\">0.3551471067021926</span><span style=\"font-weight: bold\">)</span>\n",
       "</pre>\n"
      ],
      "text/plain": [
       "        \u001b[1m(\u001b[0m\u001b[32m'no'\u001b[0m, \u001b[1;36m0.3551471067021926\u001b[0m\u001b[1m)\u001b[0m\n"
      ]
     },
     "metadata": {},
     "output_type": "display_data"
    },
    {
     "data": {
      "text/html": [
       "<pre style=\"white-space:pre;overflow-x:auto;line-height:normal;font-family:Menlo,'DejaVu Sans Mono',consolas,'Courier New',monospace\">        <span style=\"font-weight: bold\">(</span><span style=\"color: #008000; text-decoration-color: #008000\">'someone'</span>, <span style=\"color: #008080; text-decoration-color: #008080; font-weight: bold\">0.3449906123758801</span><span style=\"font-weight: bold\">)</span>\n",
       "</pre>\n"
      ],
      "text/plain": [
       "        \u001b[1m(\u001b[0m\u001b[32m'someone'\u001b[0m, \u001b[1;36m0.3449906123758801\u001b[0m\u001b[1m)\u001b[0m\n"
      ]
     },
     "metadata": {},
     "output_type": "display_data"
    },
    {
     "data": {
      "text/html": [
       "<pre style=\"white-space:pre;overflow-x:auto;line-height:normal;font-family:Menlo,'DejaVu Sans Mono',consolas,'Courier New',monospace\">        <span style=\"font-weight: bold\">(</span><span style=\"color: #008000; text-decoration-color: #008000\">'changed'</span>, <span style=\"color: #008080; text-decoration-color: #008080; font-weight: bold\">0.3174537309134312</span><span style=\"font-weight: bold\">)</span>\n",
       "</pre>\n"
      ],
      "text/plain": [
       "        \u001b[1m(\u001b[0m\u001b[32m'changed'\u001b[0m, \u001b[1;36m0.3174537309134312\u001b[0m\u001b[1m)\u001b[0m\n"
      ]
     },
     "metadata": {},
     "output_type": "display_data"
    },
    {
     "data": {
      "text/html": [
       "<pre style=\"white-space:pre;overflow-x:auto;line-height:normal;font-family:Menlo,'DejaVu Sans Mono',consolas,'Courier New',monospace\">        <span style=\"font-weight: bold\">(</span><span style=\"color: #008000; text-decoration-color: #008000\">'galloped'</span>, <span style=\"color: #008080; text-decoration-color: #008080; font-weight: bold\">0.31607375929880205</span><span style=\"font-weight: bold\">)</span>\n",
       "</pre>\n"
      ],
      "text/plain": [
       "        \u001b[1m(\u001b[0m\u001b[32m'galloped'\u001b[0m, \u001b[1;36m0.31607375929880205\u001b[0m\u001b[1m)\u001b[0m\n"
      ]
     },
     "metadata": {},
     "output_type": "display_data"
    },
    {
     "data": {
      "text/html": [
       "<pre style=\"white-space:pre;overflow-x:auto;line-height:normal;font-family:Menlo,'DejaVu Sans Mono',consolas,'Courier New',monospace\">        <span style=\"font-weight: bold\">(</span><span style=\"color: #008000; text-decoration-color: #008000\">'know'</span>, <span style=\"color: #008080; text-decoration-color: #008080; font-weight: bold\">0.312362651329415</span><span style=\"font-weight: bold\">)</span>\n",
       "</pre>\n"
      ],
      "text/plain": [
       "        \u001b[1m(\u001b[0m\u001b[32m'know'\u001b[0m, \u001b[1;36m0.312362651329415\u001b[0m\u001b[1m)\u001b[0m\n"
      ]
     },
     "metadata": {},
     "output_type": "display_data"
    },
    {
     "data": {
      "text/html": [
       "<pre style=\"white-space:pre;overflow-x:auto;line-height:normal;font-family:Menlo,'DejaVu Sans Mono',consolas,'Courier New',monospace\">        <span style=\"font-weight: bold\">(</span><span style=\"color: #008000; text-decoration-color: #008000\">'silent'</span>, <span style=\"color: #008080; text-decoration-color: #008080; font-weight: bold\">0.3103295635778829</span><span style=\"font-weight: bold\">)</span>\n",
       "</pre>\n"
      ],
      "text/plain": [
       "        \u001b[1m(\u001b[0m\u001b[32m'silent'\u001b[0m, \u001b[1;36m0.3103295635778829\u001b[0m\u001b[1m)\u001b[0m\n"
      ]
     },
     "metadata": {},
     "output_type": "display_data"
    },
    {
     "data": {
      "text/html": [
       "<pre style=\"white-space:pre;overflow-x:auto;line-height:normal;font-family:Menlo,'DejaVu Sans Mono',consolas,'Courier New',monospace\"><span style=\"font-weight: bold\">(</span><span style=\"color: #008000; text-decoration-color: #008000\">'what'</span>, <span style=\"color: #008080; text-decoration-color: #008080; font-weight: bold\">49</span><span style=\"font-weight: bold\">)</span> most similar words:\n",
       "</pre>\n"
      ],
      "text/plain": [
       "\u001b[1m(\u001b[0m\u001b[32m'what'\u001b[0m, \u001b[1;36m49\u001b[0m\u001b[1m)\u001b[0m most similar words:\n"
      ]
     },
     "metadata": {},
     "output_type": "display_data"
    },
    {
     "data": {
      "text/html": [
       "<pre style=\"white-space:pre;overflow-x:auto;line-height:normal;font-family:Menlo,'DejaVu Sans Mono',consolas,'Courier New',monospace\">        <span style=\"font-weight: bold\">(</span><span style=\"color: #008000; text-decoration-color: #008000\">'what'</span>, <span style=\"color: #008080; text-decoration-color: #008080; font-weight: bold\">1.0</span><span style=\"font-weight: bold\">)</span>\n",
       "</pre>\n"
      ],
      "text/plain": [
       "        \u001b[1m(\u001b[0m\u001b[32m'what'\u001b[0m, \u001b[1;36m1.0\u001b[0m\u001b[1m)\u001b[0m\n"
      ]
     },
     "metadata": {},
     "output_type": "display_data"
    },
    {
     "data": {
      "text/html": [
       "<pre style=\"white-space:pre;overflow-x:auto;line-height:normal;font-family:Menlo,'DejaVu Sans Mono',consolas,'Courier New',monospace\">        <span style=\"font-weight: bold\">(</span><span style=\"color: #008000; text-decoration-color: #008000\">'because'</span>, <span style=\"color: #008080; text-decoration-color: #008080; font-weight: bold\">0.4291769493715391</span><span style=\"font-weight: bold\">)</span>\n",
       "</pre>\n"
      ],
      "text/plain": [
       "        \u001b[1m(\u001b[0m\u001b[32m'because'\u001b[0m, \u001b[1;36m0.4291769493715391\u001b[0m\u001b[1m)\u001b[0m\n"
      ]
     },
     "metadata": {},
     "output_type": "display_data"
    },
    {
     "data": {
      "text/html": [
       "<pre style=\"white-space:pre;overflow-x:auto;line-height:normal;font-family:Menlo,'DejaVu Sans Mono',consolas,'Courier New',monospace\">        <span style=\"font-weight: bold\">(</span><span style=\"color: #008000; text-decoration-color: #008000\">'how'</span>, <span style=\"color: #008080; text-decoration-color: #008080; font-weight: bold\">0.3760138005908068</span><span style=\"font-weight: bold\">)</span>\n",
       "</pre>\n"
      ],
      "text/plain": [
       "        \u001b[1m(\u001b[0m\u001b[32m'how'\u001b[0m, \u001b[1;36m0.3760138005908068\u001b[0m\u001b[1m)\u001b[0m\n"
      ]
     },
     "metadata": {},
     "output_type": "display_data"
    },
    {
     "data": {
      "text/html": [
       "<pre style=\"white-space:pre;overflow-x:auto;line-height:normal;font-family:Menlo,'DejaVu Sans Mono',consolas,'Courier New',monospace\">        <span style=\"font-weight: bold\">(</span><span style=\"color: #008000; text-decoration-color: #008000\">'habit'</span>, <span style=\"color: #008080; text-decoration-color: #008080; font-weight: bold\">0.3656860930193002</span><span style=\"font-weight: bold\">)</span>\n",
       "</pre>\n"
      ],
      "text/plain": [
       "        \u001b[1m(\u001b[0m\u001b[32m'habit'\u001b[0m, \u001b[1;36m0.3656860930193002\u001b[0m\u001b[1m)\u001b[0m\n"
      ]
     },
     "metadata": {},
     "output_type": "display_data"
    },
    {
     "data": {
      "text/html": [
       "<pre style=\"white-space:pre;overflow-x:auto;line-height:normal;font-family:Menlo,'DejaVu Sans Mono',consolas,'Courier New',monospace\">        <span style=\"font-weight: bold\">(</span><span style=\"color: #008000; text-decoration-color: #008000\">'until'</span>, <span style=\"color: #008080; text-decoration-color: #008080; font-weight: bold\">0.3553949883669502</span><span style=\"font-weight: bold\">)</span>\n",
       "</pre>\n"
      ],
      "text/plain": [
       "        \u001b[1m(\u001b[0m\u001b[32m'until'\u001b[0m, \u001b[1;36m0.3553949883669502\u001b[0m\u001b[1m)\u001b[0m\n"
      ]
     },
     "metadata": {},
     "output_type": "display_data"
    },
    {
     "data": {
      "text/html": [
       "<pre style=\"white-space:pre;overflow-x:auto;line-height:normal;font-family:Menlo,'DejaVu Sans Mono',consolas,'Courier New',monospace\">        <span style=\"font-weight: bold\">(</span><span style=\"color: #008000; text-decoration-color: #008000\">'start'</span>, <span style=\"color: #008080; text-decoration-color: #008080; font-weight: bold\">0.3448425148437706</span><span style=\"font-weight: bold\">)</span>\n",
       "</pre>\n"
      ],
      "text/plain": [
       "        \u001b[1m(\u001b[0m\u001b[32m'start'\u001b[0m, \u001b[1;36m0.3448425148437706\u001b[0m\u001b[1m)\u001b[0m\n"
      ]
     },
     "metadata": {},
     "output_type": "display_data"
    },
    {
     "data": {
      "text/html": [
       "<pre style=\"white-space:pre;overflow-x:auto;line-height:normal;font-family:Menlo,'DejaVu Sans Mono',consolas,'Courier New',monospace\">        <span style=\"font-weight: bold\">(</span><span style=\"color: #008000; text-decoration-color: #008000\">'whom'</span>, <span style=\"color: #008080; text-decoration-color: #008080; font-weight: bold\">0.33315547531447476</span><span style=\"font-weight: bold\">)</span>\n",
       "</pre>\n"
      ],
      "text/plain": [
       "        \u001b[1m(\u001b[0m\u001b[32m'whom'\u001b[0m, \u001b[1;36m0.33315547531447476\u001b[0m\u001b[1m)\u001b[0m\n"
      ]
     },
     "metadata": {},
     "output_type": "display_data"
    },
    {
     "data": {
      "text/html": [
       "<pre style=\"white-space:pre;overflow-x:auto;line-height:normal;font-family:Menlo,'DejaVu Sans Mono',consolas,'Courier New',monospace\">        <span style=\"font-weight: bold\">(</span><span style=\"color: #008000; text-decoration-color: #008000\">'various'</span>, <span style=\"color: #008080; text-decoration-color: #008080; font-weight: bold\">0.329404409269461</span><span style=\"font-weight: bold\">)</span>\n",
       "</pre>\n"
      ],
      "text/plain": [
       "        \u001b[1m(\u001b[0m\u001b[32m'various'\u001b[0m, \u001b[1;36m0.329404409269461\u001b[0m\u001b[1m)\u001b[0m\n"
      ]
     },
     "metadata": {},
     "output_type": "display_data"
    },
    {
     "data": {
      "text/html": [
       "<pre style=\"white-space:pre;overflow-x:auto;line-height:normal;font-family:Menlo,'DejaVu Sans Mono',consolas,'Courier New',monospace\">        <span style=\"font-weight: bold\">(</span><span style=\"color: #008000; text-decoration-color: #008000\">'stand'</span>, <span style=\"color: #008080; text-decoration-color: #008080; font-weight: bold\">0.32341906141438814</span><span style=\"font-weight: bold\">)</span>\n",
       "</pre>\n"
      ],
      "text/plain": [
       "        \u001b[1m(\u001b[0m\u001b[32m'stand'\u001b[0m, \u001b[1;36m0.32341906141438814\u001b[0m\u001b[1m)\u001b[0m\n"
      ]
     },
     "metadata": {},
     "output_type": "display_data"
    },
    {
     "data": {
      "text/html": [
       "<pre style=\"white-space:pre;overflow-x:auto;line-height:normal;font-family:Menlo,'DejaVu Sans Mono',consolas,'Courier New',monospace\">        <span style=\"font-weight: bold\">(</span><span style=\"color: #008000; text-decoration-color: #008000\">'everything'</span>, <span style=\"color: #008080; text-decoration-color: #008080; font-weight: bold\">0.31233032787460996</span><span style=\"font-weight: bold\">)</span>\n",
       "</pre>\n"
      ],
      "text/plain": [
       "        \u001b[1m(\u001b[0m\u001b[32m'everything'\u001b[0m, \u001b[1;36m0.31233032787460996\u001b[0m\u001b[1m)\u001b[0m\n"
      ]
     },
     "metadata": {},
     "output_type": "display_data"
    }
   ],
   "source": [
    "testing_words = [\"me\", \"white\", \"man\", \"have\", \"be\", \"child\", \"yes\", \"what\"]\n",
    "testing_words_idx = [(i, vocab.get_stoi()[i]) for i in testing_words]\n",
    "\n",
    "n_most_similar = 10\n",
    "for w in testing_words_idx:\n",
    "\n",
    "    indices = (-sim_matrix[w[1]]).argsort()[:n_most_similar]\n",
    "    sim_words = [(vocab.get_itos()[i], sim_matrix[w[1]][i]) for i in indices]\n",
    "    print(f\"{w} most similar words:\")\n",
    "\n",
    "    for sim_w in sim_words:\n",
    "        print(f\"\\t{sim_w}\")\n"
   ]
  },
  {
   "cell_type": "markdown",
   "metadata": {},
   "source": [
    "TODO: COMMENT HERE"
   ]
  },
  {
   "cell_type": "markdown",
   "metadata": {},
   "source": [
    "#### 6 -Visualize the embedding space.\n",
    "To do so, upload the vocabulary and their corresponding values in the embedding space as tsv files. Try to find\n",
    "and select clusters. Report both plots and their corresponding selections for some meaningful\n",
    "clusters."
   ]
  },
  {
   "cell_type": "code",
   "execution_count": null,
   "metadata": {},
   "outputs": [],
   "source": [
    "import csv\n",
    "\n",
    "embedding_wheights = NGram_larger_model.embeddings.weight.detach()\n",
    "\n",
    "with open(\"./wheights.tsv\", \"wt\") as out_file:\n",
    "    tsv_writer = csv.writer(out_file, delimiter=\"\\t\")\n",
    "    for i in embedding_wheights:\n",
    "        tsv_writer.writerow(i.numpy())\n",
    "\n",
    "\n",
    "with open(\"./metadata.tsv\", \"wt\") as out_file:\n",
    "    tsv_writer = csv.writer(out_file, delimiter=\"\\t\")\n",
    "    vocab_dict = vocab.get_itos()\n",
    "    for i in vocab_dict:\n",
    "        tsv_writer.writerow([i])\n"
   ]
  },
  {
   "cell_type": "markdown",
   "metadata": {},
   "source": [
    "TODO: PUT VISUALIZATIONS HERE"
   ]
  },
  {
   "cell_type": "markdown",
   "metadata": {},
   "source": [
    "## 2.2 Conjugating *be* and *have*"
   ]
  },
  {
   "cell_type": "markdown",
   "metadata": {},
   "source": [
    "#### 1 - Use your trained word embedding and define a MLP architecture as well as a RNN architecture to predict be and have conjugation given the context around the missing target. \n",
    "Use the same context size for both MLPs and RNNs, even though RNNs could take a context size of arbitrary\n",
    "length."
   ]
  },
  {
   "cell_type": "code",
   "execution_count": null,
   "metadata": {},
   "outputs": [],
   "source": []
  },
  {
   "cell_type": "markdown",
   "metadata": {},
   "source": [
    "#### 2 - Train several models, select the best one and evaluate its performance. \n",
    "Comment the differences in terms of performances/training time between the MLP architecture and the RNN\n",
    "architecture."
   ]
  },
  {
   "cell_type": "markdown",
   "metadata": {},
   "source": [
    "## 2.3 Text generation"
   ]
  },
  {
   "cell_type": "markdown",
   "metadata": {},
   "source": [
    "#### 1 -  Use your trained word embedding and define a RNN architecture that can predict the next word given the context before the target.\n"
   ]
  },
  {
   "cell_type": "code",
   "execution_count": null,
   "metadata": {},
   "outputs": [],
   "source": []
  },
  {
   "cell_type": "markdown",
   "metadata": {},
   "source": [
    "#### 2 - Train several models, select the best one and evaluate its performance.\n",
    "Note that the accuracy here is potentially very low.\n"
   ]
  },
  {
   "cell_type": "code",
   "execution_count": null,
   "metadata": {},
   "outputs": [],
   "source": []
  },
  {
   "cell_type": "markdown",
   "metadata": {},
   "source": [
    "#### 3 - Implement the beam search algorithm."
   ]
  },
  {
   "cell_type": "code",
   "execution_count": null,
   "metadata": {},
   "outputs": [],
   "source": []
  },
  {
   "cell_type": "markdown",
   "metadata": {},
   "source": [
    "#### 4 - Have fun playing with your model. \n",
    "Start a sentence, give it to your model, and let it complete the next n words using the beam search algorithm. Report and comment your results."
   ]
  }
 ],
 "metadata": {
  "interpreter": {
   "hash": "f2237f2d220ad310471ebc7a3ba2d52d32f1f45a06155c1490d637beab9bd187"
  },
  "kernelspec": {
   "display_name": "Python 3.9.7 ('INF265_gpu')",
   "language": "python",
   "name": "python3"
  },
  "language_info": {
   "codemirror_mode": {
    "name": "ipython",
    "version": 3
   },
   "file_extension": ".py",
   "mimetype": "text/x-python",
   "name": "python",
   "nbconvert_exporter": "python",
   "pygments_lexer": "ipython3",
   "version": "3.10.4"
  },
  "orig_nbformat": 4
 },
 "nbformat": 4,
 "nbformat_minor": 2
}

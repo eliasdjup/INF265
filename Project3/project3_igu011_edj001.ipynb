{
 "cells": [
  {
   "cell_type": "markdown",
   "metadata": {},
   "source": [
    "# Project 3 - Sequence models\n",
    "\n",
    "igu011 and edj001"
   ]
  },
  {
   "cell_type": "code",
   "execution_count": 1,
   "metadata": {},
   "outputs": [
    {
     "data": {
      "text/html": [
       "<pre style=\"white-space:pre;overflow-x:auto;line-height:normal;font-family:Menlo,'DejaVu Sans Mono',consolas,'Courier New',monospace\">Device cpu.\n",
       "</pre>\n"
      ],
      "text/plain": [
       "Device cpu.\n"
      ]
     },
     "metadata": {},
     "output_type": "display_data"
    }
   ],
   "source": [
    "import torch\n",
    "from torch import nn, optim\n",
    "import torch.nn.functional as F\n",
    "from datetime import datetime\n",
    "from torch.utils.data import DataLoader, TensorDataset\n",
    "from rich import print\n",
    "\n",
    "import numpy as np\n",
    "import torchtext\n",
    "from os import listdir\n",
    "import re\n",
    "from torchtext.data.utils import get_tokenizer\n",
    "from torchtext.vocab import build_vocab_from_iterator\n",
    "\n",
    "torch.manual_seed(265)\n",
    "torch.set_default_dtype(torch.double)\n",
    "\n",
    "device = torch.device(\"cpu\")\n",
    "print(f\"Device {device}.\")\n"
   ]
  },
  {
   "cell_type": "markdown",
   "metadata": {},
   "source": [
    "## 2.1 Word embedding"
   ]
  },
  {
   "cell_type": "markdown",
   "metadata": {},
   "source": [
    "#### 1 - Read txt files and tokenize them to obtain train/validation/test lists of words.\n"
   ]
  },
  {
   "cell_type": "code",
   "execution_count": 2,
   "metadata": {},
   "outputs": [],
   "source": [
    "tokenizer = get_tokenizer(\"basic_english\")\n",
    "\n",
    "\n",
    "def read_files(datapath=\"./\"):\n",
    "    files = listdir(datapath)\n",
    "    files = [datapath + f for f in files if f.endswith(\".txt\")]\n",
    "\n",
    "    lines = []\n",
    "    for f_name in files:\n",
    "        with open(f_name) as f:\n",
    "            lines += f.readlines()\n",
    "    return lines\n",
    "\n",
    "\n",
    "no_digits = \"\\w*[0-9]+\\w*\"\n",
    "no_names = \"\\w*[A-Z]+\\w*\"\n",
    "no_spaces = \"\\s+\"\n",
    "\n",
    "\n",
    "def tokenize(lines):\n",
    "    list_text = []\n",
    "    for line in lines:\n",
    "        list_text += tokenizer(line)\n",
    "    return list_text\n",
    "\n",
    "\n",
    "def yield_tokens(lines):\n",
    "    for line in lines:\n",
    "        line = re.sub(no_digits + \"|\" + no_names, \" \", line)\n",
    "        line = re.sub(no_spaces, \" \", line)\n",
    "        yield tokenizer(line)\n",
    "\n",
    "\n",
    "def count_freqs(data, vocab):\n",
    "    freqs = torch.zeros(len(vocab), dtype=torch.int)\n",
    "    for w in data:\n",
    "        freqs[vocab[w]] += 1\n",
    "    return freqs\n",
    "\n",
    "\n",
    "train_books = read_files(datapath=\"./data_train/\")\n",
    "train_tokenized = tokenize(train_books)\n",
    "\n",
    "val_books = read_files(datapath=\"./data_val/\")\n",
    "val_tokenized = tokenize(val_books)\n",
    "\n",
    "test_books = read_files(datapath=\"./data_test/\")\n",
    "test_tokenized = tokenize(test_books)\n"
   ]
  },
  {
   "cell_type": "markdown",
   "metadata": {},
   "source": [
    "#### 2 - Define a vocabulary based on the training dataset\n",
    "To avoid getting a too large vocabulary, a solution can be to keep only words that appear at least 100 times in the training dataset.\n",
    "Report the total number of words in the training dataset, the number of distinct words in the\n",
    "training dataset and the size the defined vocabulary. Comment your results."
   ]
  },
  {
   "cell_type": "code",
   "execution_count": 3,
   "metadata": {},
   "outputs": [
    {
     "data": {
      "text/html": [
       "<pre style=\"white-space:pre;overflow-x:auto;line-height:normal;font-family:Menlo,'DejaVu Sans Mono',consolas,'Courier New',monospace\">Total number of words in the dataset:    <span style=\"color: #008080; text-decoration-color: #008080; font-weight: bold\">1368807</span>\n",
       "</pre>\n"
      ],
      "text/plain": [
       "Total number of words in the dataset:    \u001b[1;36m1368807\u001b[0m\n"
      ]
     },
     "metadata": {},
     "output_type": "display_data"
    },
    {
     "data": {
      "text/html": [
       "<pre style=\"white-space:pre;overflow-x:auto;line-height:normal;font-family:Menlo,'DejaVu Sans Mono',consolas,'Courier New',monospace\">Number of distinct words in the dataset: <span style=\"color: #008080; text-decoration-color: #008080; font-weight: bold\">30374</span>\n",
       "</pre>\n"
      ],
      "text/plain": [
       "Number of distinct words in the dataset: \u001b[1;36m30374\u001b[0m\n"
      ]
     },
     "metadata": {},
     "output_type": "display_data"
    },
    {
     "data": {
      "text/html": [
       "<pre style=\"white-space:pre;overflow-x:auto;line-height:normal;font-family:Menlo,'DejaVu Sans Mono',consolas,'Courier New',monospace\">Size the defined vocabular:              <span style=\"color: #008080; text-decoration-color: #008080; font-weight: bold\">1050</span>\n",
       "</pre>\n"
      ],
      "text/plain": [
       "Size the defined vocabular:              \u001b[1;36m1050\u001b[0m\n"
      ]
     },
     "metadata": {},
     "output_type": "display_data"
    },
    {
     "data": {
      "text/html": [
       "<pre style=\"white-space:pre;overflow-x:auto;line-height:normal;font-family:Menlo,'DejaVu Sans Mono',consolas,'Courier New',monospace\">Top <span style=\"color: #008080; text-decoration-color: #008080; font-weight: bold\">20</span> occurences <span style=\"font-weight: bold\">(</span>without special characters<span style=\"font-weight: bold\">)</span>:\n",
       "\n",
       "<span style=\"font-weight: bold\">[</span>\n",
       "    <span style=\"font-weight: bold\">(</span><span style=\"color: #008080; text-decoration-color: #008080; font-weight: bold\">71106</span>, <span style=\"color: #008000; text-decoration-color: #008000\">'the'</span><span style=\"font-weight: bold\">)</span>,\n",
       "    <span style=\"font-weight: bold\">(</span><span style=\"color: #008080; text-decoration-color: #008080; font-weight: bold\">43426</span>, <span style=\"color: #008000; text-decoration-color: #008000\">'and'</span><span style=\"font-weight: bold\">)</span>,\n",
       "    <span style=\"font-weight: bold\">(</span><span style=\"color: #008080; text-decoration-color: #008080; font-weight: bold\">33952</span>, <span style=\"color: #008000; text-decoration-color: #008000\">'to'</span><span style=\"font-weight: bold\">)</span>,\n",
       "    <span style=\"font-weight: bold\">(</span><span style=\"color: #008080; text-decoration-color: #008080; font-weight: bold\">30061</span>, <span style=\"color: #008000; text-decoration-color: #008000\">'of'</span><span style=\"font-weight: bold\">)</span>,\n",
       "    <span style=\"font-weight: bold\">(</span><span style=\"color: #008080; text-decoration-color: #008080; font-weight: bold\">23575</span>, <span style=\"color: #008000; text-decoration-color: #008000\">'a'</span><span style=\"font-weight: bold\">)</span>,\n",
       "    <span style=\"font-weight: bold\">(</span><span style=\"color: #008080; text-decoration-color: #008080; font-weight: bold\">18657</span>, <span style=\"color: #008000; text-decoration-color: #008000\">'in'</span><span style=\"font-weight: bold\">)</span>,\n",
       "    <span style=\"font-weight: bold\">(</span><span style=\"color: #008080; text-decoration-color: #008080; font-weight: bold\">20755</span>, <span style=\"color: #008000; text-decoration-color: #008000\">'he'</span><span style=\"font-weight: bold\">)</span>,\n",
       "    <span style=\"font-weight: bold\">(</span><span style=\"color: #008080; text-decoration-color: #008080; font-weight: bold\">16814</span>, <span style=\"color: #008000; text-decoration-color: #008000\">'that'</span><span style=\"font-weight: bold\">)</span>,\n",
       "    <span style=\"font-weight: bold\">(</span><span style=\"color: #008080; text-decoration-color: #008080; font-weight: bold\">15056</span>, <span style=\"color: #008000; text-decoration-color: #008000\">'was'</span><span style=\"font-weight: bold\">)</span>,\n",
       "    <span style=\"font-weight: bold\">(</span><span style=\"color: #008080; text-decoration-color: #008080; font-weight: bold\">14400</span>, <span style=\"color: #008000; text-decoration-color: #008000\">'his'</span><span style=\"font-weight: bold\">)</span>,\n",
       "    <span style=\"font-weight: bold\">(</span><span style=\"color: #008080; text-decoration-color: #008080; font-weight: bold\">13815</span>, <span style=\"color: #008000; text-decoration-color: #008000\">'it'</span><span style=\"font-weight: bold\">)</span>,\n",
       "    <span style=\"font-weight: bold\">(</span><span style=\"color: #008080; text-decoration-color: #008080; font-weight: bold\">10997</span>, <span style=\"color: #008000; text-decoration-color: #008000\">'with'</span><span style=\"font-weight: bold\">)</span>,\n",
       "    <span style=\"font-weight: bold\">(</span><span style=\"color: #008080; text-decoration-color: #008080; font-weight: bold\">10735</span>, <span style=\"color: #008000; text-decoration-color: #008000\">'had'</span><span style=\"font-weight: bold\">)</span>,\n",
       "    <span style=\"font-weight: bold\">(</span><span style=\"color: #008080; text-decoration-color: #008080; font-weight: bold\">9430</span>, <span style=\"color: #008000; text-decoration-color: #008000\">'her'</span><span style=\"font-weight: bold\">)</span>,\n",
       "    <span style=\"font-weight: bold\">(</span><span style=\"color: #008080; text-decoration-color: #008080; font-weight: bold\">9334</span>, <span style=\"color: #008000; text-decoration-color: #008000\">'not'</span><span style=\"font-weight: bold\">)</span>,\n",
       "    <span style=\"font-weight: bold\">(</span><span style=\"color: #008080; text-decoration-color: #008080; font-weight: bold\">10562</span>, <span style=\"color: #008000; text-decoration-color: #008000\">'you'</span><span style=\"font-weight: bold\">)</span>,\n",
       "    <span style=\"font-weight: bold\">(</span><span style=\"color: #008080; text-decoration-color: #008080; font-weight: bold\">9198</span>, <span style=\"color: #008000; text-decoration-color: #008000\">'as'</span><span style=\"font-weight: bold\">)</span>,\n",
       "    <span style=\"font-weight: bold\">(</span><span style=\"color: #008080; text-decoration-color: #008080; font-weight: bold\">9152</span>, <span style=\"color: #008000; text-decoration-color: #008000\">'at'</span><span style=\"font-weight: bold\">)</span>,\n",
       "    <span style=\"font-weight: bold\">(</span><span style=\"color: #008080; text-decoration-color: #008080; font-weight: bold\">8447</span>, <span style=\"color: #008000; text-decoration-color: #008000\">'him'</span><span style=\"font-weight: bold\">)</span>\n",
       "<span style=\"font-weight: bold\">]</span>\n",
       "</pre>\n"
      ],
      "text/plain": [
       "Top \u001b[1;36m20\u001b[0m occurences \u001b[1m(\u001b[0mwithout special characters\u001b[1m)\u001b[0m:\n",
       "\n",
       "\u001b[1m[\u001b[0m\n",
       "    \u001b[1m(\u001b[0m\u001b[1;36m71106\u001b[0m, \u001b[32m'the'\u001b[0m\u001b[1m)\u001b[0m,\n",
       "    \u001b[1m(\u001b[0m\u001b[1;36m43426\u001b[0m, \u001b[32m'and'\u001b[0m\u001b[1m)\u001b[0m,\n",
       "    \u001b[1m(\u001b[0m\u001b[1;36m33952\u001b[0m, \u001b[32m'to'\u001b[0m\u001b[1m)\u001b[0m,\n",
       "    \u001b[1m(\u001b[0m\u001b[1;36m30061\u001b[0m, \u001b[32m'of'\u001b[0m\u001b[1m)\u001b[0m,\n",
       "    \u001b[1m(\u001b[0m\u001b[1;36m23575\u001b[0m, \u001b[32m'a'\u001b[0m\u001b[1m)\u001b[0m,\n",
       "    \u001b[1m(\u001b[0m\u001b[1;36m18657\u001b[0m, \u001b[32m'in'\u001b[0m\u001b[1m)\u001b[0m,\n",
       "    \u001b[1m(\u001b[0m\u001b[1;36m20755\u001b[0m, \u001b[32m'he'\u001b[0m\u001b[1m)\u001b[0m,\n",
       "    \u001b[1m(\u001b[0m\u001b[1;36m16814\u001b[0m, \u001b[32m'that'\u001b[0m\u001b[1m)\u001b[0m,\n",
       "    \u001b[1m(\u001b[0m\u001b[1;36m15056\u001b[0m, \u001b[32m'was'\u001b[0m\u001b[1m)\u001b[0m,\n",
       "    \u001b[1m(\u001b[0m\u001b[1;36m14400\u001b[0m, \u001b[32m'his'\u001b[0m\u001b[1m)\u001b[0m,\n",
       "    \u001b[1m(\u001b[0m\u001b[1;36m13815\u001b[0m, \u001b[32m'it'\u001b[0m\u001b[1m)\u001b[0m,\n",
       "    \u001b[1m(\u001b[0m\u001b[1;36m10997\u001b[0m, \u001b[32m'with'\u001b[0m\u001b[1m)\u001b[0m,\n",
       "    \u001b[1m(\u001b[0m\u001b[1;36m10735\u001b[0m, \u001b[32m'had'\u001b[0m\u001b[1m)\u001b[0m,\n",
       "    \u001b[1m(\u001b[0m\u001b[1;36m9430\u001b[0m, \u001b[32m'her'\u001b[0m\u001b[1m)\u001b[0m,\n",
       "    \u001b[1m(\u001b[0m\u001b[1;36m9334\u001b[0m, \u001b[32m'not'\u001b[0m\u001b[1m)\u001b[0m,\n",
       "    \u001b[1m(\u001b[0m\u001b[1;36m10562\u001b[0m, \u001b[32m'you'\u001b[0m\u001b[1m)\u001b[0m,\n",
       "    \u001b[1m(\u001b[0m\u001b[1;36m9198\u001b[0m, \u001b[32m'as'\u001b[0m\u001b[1m)\u001b[0m,\n",
       "    \u001b[1m(\u001b[0m\u001b[1;36m9152\u001b[0m, \u001b[32m'at'\u001b[0m\u001b[1m)\u001b[0m,\n",
       "    \u001b[1m(\u001b[0m\u001b[1;36m8447\u001b[0m, \u001b[32m'him'\u001b[0m\u001b[1m)\u001b[0m\n",
       "\u001b[1m]\u001b[0m\n"
      ]
     },
     "metadata": {},
     "output_type": "display_data"
    }
   ],
   "source": [
    "specials = [\"<unk>\", \",\", \".\", \"!\", \"?\"]\n",
    "vocab = build_vocab_from_iterator(yield_tokens(train_books), min_freq=100, specials=specials)\n",
    "\n",
    "vocab.append_token(\"i\")\n",
    "\n",
    "vocab.set_default_index(vocab[\"<unk>\"])\n",
    "vocab_size = len(vocab)\n",
    "\n",
    "print(\"Total number of words in the dataset:   \", len(train_tokenized))\n",
    "print(\"Number of distinct words in the dataset:\", len(set(train_tokenized)))\n",
    "print(\"Size the defined vocabular:             \", vocab_size)\n",
    "\n",
    "\n",
    "freqs = count_freqs(train_tokenized, vocab)\n",
    "top20 = freqs[len(specials) : len(specials) + 19]\n",
    "print(\n",
    "    \"Top 20 occurences (without special characters):\\n\",\n",
    "    [\n",
    "        (f.item(), w)\n",
    "        for (f, w) in zip(top20, vocab.lookup_tokens(range(len(specials), len(specials) + 19)))\n",
    "    ],\n",
    ")\n"
   ]
  },
  {
   "cell_type": "markdown",
   "metadata": {},
   "source": [
    "We see the top 20 occurences match with what we would expect with words like and, a, that, it and the. The vocabulary has a total of 1050 words when the minimum frequency is set to 100. There are a total of 30374 distinct words, so only 1050 of these may not be good enough to create a complete text generation model."
   ]
  },
  {
   "cell_type": "code",
   "execution_count": 4,
   "metadata": {},
   "outputs": [],
   "source": [
    "def create_dataset(text, vocab, context_size=3):\n",
    "    \"\"\"\n",
    "    Create a dataset from a list of context words and a list of target words\n",
    "    \"\"\"\n",
    "    contexts = []\n",
    "    targets = []\n",
    "    n_text = len(text)\n",
    "\n",
    "    txt = [vocab[w] for w in text]\n",
    "\n",
    "    for i in range(n_text - context_size):\n",
    "\n",
    "        t = txt[i + context_size]\n",
    "\n",
    "        c = torch.Tensor(txt[i : i + context_size]).type(torch.long)\n",
    "\n",
    "        targets.append(t)\n",
    "\n",
    "        contexts.append(c)\n",
    "\n",
    "    contexts = torch.stack(contexts)\n",
    "    targets = torch.tensor(targets)\n",
    "    return TensorDataset(contexts, targets)\n",
    "\n",
    "\n",
    "context_size = 3\n",
    "\n",
    "train_data = create_dataset(train_tokenized, vocab, context_size=context_size)\n",
    "val_data = create_dataset(val_tokenized, vocab, context_size=context_size)\n",
    "test_data = create_dataset(test_tokenized, vocab, context_size=context_size)\n",
    "\n",
    "batch_size = 64\n",
    "\n",
    "train_loader = DataLoader(train_data, batch_size=batch_size, shuffle=False)\n",
    "val_loader = DataLoader(val_data, batch_size=batch_size, shuffle=False)\n",
    "test_loader = DataLoader(test_data, batch_size=batch_size, shuffle=False)\n"
   ]
  },
  {
   "cell_type": "markdown",
   "metadata": {},
   "source": [
    "#### 3 - Define a n-gram language model architecture based on this vocabulary that contains an embedding layer.\n",
    "To drastically reduce computational cost, the dimension of the embedding can be as low as 16 even though in a real setting a larger space would be used."
   ]
  },
  {
   "cell_type": "code",
   "execution_count": 5,
   "metadata": {},
   "outputs": [],
   "source": [
    "class NGram(nn.Module):\n",
    "    def __init__(self, vocab_size, embedding_dim, context_size):\n",
    "        super(NGram, self).__init__()\n",
    "        self.embeddings = nn.Embedding(vocab_size, embedding_dim)\n",
    "        self.linear1 = nn.Linear(context_size * embedding_dim, 128)\n",
    "        self.linear2 = nn.Linear(128, vocab_size)\n",
    "\n",
    "    def forward(self, inputs):\n",
    "        embeds = self.embeddings(inputs).view((inputs.shape[0], -1))\n",
    "        out = self.linear1(embeds)\n",
    "        out = self.linear2(out)\n",
    "        log_probs = F.log_softmax(out, dim=1)\n",
    "        return log_probs\n"
   ]
  },
  {
   "cell_type": "markdown",
   "metadata": {},
   "source": [
    "#### 4 - Train several models, select the best one and evaluate its performance.\n",
    "Note that the accuracy here is potentially extremely low, but the real objective is not to train a good predictor, only\n",
    "to have a good representation of the semantic of each word in the vocabulary"
   ]
  },
  {
   "cell_type": "code",
   "execution_count": 6,
   "metadata": {},
   "outputs": [],
   "source": [
    "def train(n_epochs, optimizer, model, loss_fn, train_loader):\n",
    "    \"\"\"\n",
    "    Train our model and save weight values\n",
    "    \"\"\"\n",
    "    n_batch = len(train_loader)\n",
    "    losses_train = []\n",
    "    model.train()\n",
    "    optimizer.zero_grad(set_to_none=True)\n",
    "\n",
    "    for epoch in range(1, n_epochs + 1):\n",
    "\n",
    "        loss_train = 0.0\n",
    "        for contexts, labels in train_loader:\n",
    "\n",
    "            contexts = contexts.to(device=device)\n",
    "            labels = labels.to(device=device)\n",
    "            outputs = model(contexts)\n",
    "\n",
    "            loss = loss_fn(outputs, labels)\n",
    "            loss.backward()\n",
    "            optimizer.step()\n",
    "            optimizer.zero_grad()\n",
    "\n",
    "            loss_train += loss.item()\n",
    "\n",
    "        losses_train.append(loss_train / n_batch)\n",
    "\n",
    "        print(\n",
    "            \"{}  |  Epoch {}  |  Training loss {:.5f}\".format(\n",
    "                datetime.now().time(), epoch, loss_train / n_batch\n",
    "            )\n",
    "        )\n",
    "    return\n",
    "\n",
    "\n",
    "def relative_error(a, b):\n",
    "    return torch.norm(a - b) / torch.norm(a)\n"
   ]
  },
  {
   "cell_type": "code",
   "execution_count": 7,
   "metadata": {},
   "outputs": [
    {
     "data": {
      "text/html": [
       "<pre style=\"white-space:pre;overflow-x:auto;line-height:normal;font-family:Menlo,'DejaVu Sans Mono',consolas,'Courier New',monospace\"><span style=\"color: #00ff00; text-decoration-color: #00ff00; font-weight: bold\">18:28:35</span>.<span style=\"color: #008080; text-decoration-color: #008080; font-weight: bold\">582709</span>  |  Epoch <span style=\"color: #008080; text-decoration-color: #008080; font-weight: bold\">1</span>  |  Training loss <span style=\"color: #008080; text-decoration-color: #008080; font-weight: bold\">4.16915</span>\n",
       "</pre>\n"
      ],
      "text/plain": [
       "\u001b[1;92m18:28:35\u001b[0m.\u001b[1;36m582709\u001b[0m  |  Epoch \u001b[1;36m1\u001b[0m  |  Training loss \u001b[1;36m4.16915\u001b[0m\n"
      ]
     },
     "metadata": {},
     "output_type": "display_data"
    },
    {
     "data": {
      "text/html": [
       "<pre style=\"white-space:pre;overflow-x:auto;line-height:normal;font-family:Menlo,'DejaVu Sans Mono',consolas,'Courier New',monospace\"><span style=\"color: #00ff00; text-decoration-color: #00ff00; font-weight: bold\">18:29:30</span>.<span style=\"color: #008080; text-decoration-color: #008080; font-weight: bold\">849879</span>  |  Epoch <span style=\"color: #008080; text-decoration-color: #008080; font-weight: bold\">2</span>  |  Training loss <span style=\"color: #008080; text-decoration-color: #008080; font-weight: bold\">3.96583</span>\n",
       "</pre>\n"
      ],
      "text/plain": [
       "\u001b[1;92m18:29:30\u001b[0m.\u001b[1;36m849879\u001b[0m  |  Epoch \u001b[1;36m2\u001b[0m  |  Training loss \u001b[1;36m3.96583\u001b[0m\n"
      ]
     },
     "metadata": {},
     "output_type": "display_data"
    },
    {
     "data": {
      "text/html": [
       "<pre style=\"white-space:pre;overflow-x:auto;line-height:normal;font-family:Menlo,'DejaVu Sans Mono',consolas,'Courier New',monospace\"><span style=\"color: #00ff00; text-decoration-color: #00ff00; font-weight: bold\">18:30:34</span>.<span style=\"color: #008080; text-decoration-color: #008080; font-weight: bold\">283026</span>  |  Epoch <span style=\"color: #008080; text-decoration-color: #008080; font-weight: bold\">3</span>  |  Training loss <span style=\"color: #008080; text-decoration-color: #008080; font-weight: bold\">3.89680</span>\n",
       "</pre>\n"
      ],
      "text/plain": [
       "\u001b[1;92m18:30:34\u001b[0m.\u001b[1;36m283026\u001b[0m  |  Epoch \u001b[1;36m3\u001b[0m  |  Training loss \u001b[1;36m3.89680\u001b[0m\n"
      ]
     },
     "metadata": {},
     "output_type": "display_data"
    },
    {
     "data": {
      "text/html": [
       "<pre style=\"white-space:pre;overflow-x:auto;line-height:normal;font-family:Menlo,'DejaVu Sans Mono',consolas,'Courier New',monospace\"><span style=\"color: #00ff00; text-decoration-color: #00ff00; font-weight: bold\">18:31:37</span>.<span style=\"color: #008080; text-decoration-color: #008080; font-weight: bold\">259850</span>  |  Epoch <span style=\"color: #008080; text-decoration-color: #008080; font-weight: bold\">4</span>  |  Training loss <span style=\"color: #008080; text-decoration-color: #008080; font-weight: bold\">3.85587</span>\n",
       "</pre>\n"
      ],
      "text/plain": [
       "\u001b[1;92m18:31:37\u001b[0m.\u001b[1;36m259850\u001b[0m  |  Epoch \u001b[1;36m4\u001b[0m  |  Training loss \u001b[1;36m3.85587\u001b[0m\n"
      ]
     },
     "metadata": {},
     "output_type": "display_data"
    }
   ],
   "source": [
    "loss_fn = nn.NLLLoss()\n",
    "\n",
    "n_epochs = 4\n",
    "lr = 0.1\n",
    "embedding_dim = 16\n",
    "\n",
    "NGram_model = NGram(vocab_size, embedding_dim, context_size).to(device=device)\n",
    "optimizer = optim.SGD(NGram_model.parameters(), lr=lr)\n",
    "\n",
    "weight = train(\n",
    "    n_epochs=n_epochs,\n",
    "    optimizer=optimizer,\n",
    "    model=NGram_model,\n",
    "    loss_fn=loss_fn,\n",
    "    train_loader=train_loader,\n",
    ")\n"
   ]
  },
  {
   "cell_type": "code",
   "execution_count": 8,
   "metadata": {},
   "outputs": [
    {
     "data": {
      "text/html": [
       "<pre style=\"white-space:pre;overflow-x:auto;line-height:normal;font-family:Menlo,'DejaVu Sans Mono',consolas,'Courier New',monospace\"><span style=\"color: #00ff00; text-decoration-color: #00ff00; font-weight: bold\">18:32:41</span>.<span style=\"color: #008080; text-decoration-color: #008080; font-weight: bold\">957077</span>  |  Epoch <span style=\"color: #008080; text-decoration-color: #008080; font-weight: bold\">1</span>  |  Training loss <span style=\"color: #008080; text-decoration-color: #008080; font-weight: bold\">4.01066</span>\n",
       "</pre>\n"
      ],
      "text/plain": [
       "\u001b[1;92m18:32:41\u001b[0m.\u001b[1;36m957077\u001b[0m  |  Epoch \u001b[1;36m1\u001b[0m  |  Training loss \u001b[1;36m4.01066\u001b[0m\n"
      ]
     },
     "metadata": {},
     "output_type": "display_data"
    },
    {
     "data": {
      "text/html": [
       "<pre style=\"white-space:pre;overflow-x:auto;line-height:normal;font-family:Menlo,'DejaVu Sans Mono',consolas,'Courier New',monospace\"><span style=\"color: #00ff00; text-decoration-color: #00ff00; font-weight: bold\">18:33:55</span>.<span style=\"color: #008080; text-decoration-color: #008080; font-weight: bold\">291865</span>  |  Epoch <span style=\"color: #008080; text-decoration-color: #008080; font-weight: bold\">2</span>  |  Training loss <span style=\"color: #008080; text-decoration-color: #008080; font-weight: bold\">3.83627</span>\n",
       "</pre>\n"
      ],
      "text/plain": [
       "\u001b[1;92m18:33:55\u001b[0m.\u001b[1;36m291865\u001b[0m  |  Epoch \u001b[1;36m2\u001b[0m  |  Training loss \u001b[1;36m3.83627\u001b[0m\n"
      ]
     },
     "metadata": {},
     "output_type": "display_data"
    },
    {
     "data": {
      "text/html": [
       "<pre style=\"white-space:pre;overflow-x:auto;line-height:normal;font-family:Menlo,'DejaVu Sans Mono',consolas,'Courier New',monospace\"><span style=\"color: #00ff00; text-decoration-color: #00ff00; font-weight: bold\">18:34:52</span>.<span style=\"color: #008080; text-decoration-color: #008080; font-weight: bold\">259712</span>  |  Epoch <span style=\"color: #008080; text-decoration-color: #008080; font-weight: bold\">3</span>  |  Training loss <span style=\"color: #008080; text-decoration-color: #008080; font-weight: bold\">3.78048</span>\n",
       "</pre>\n"
      ],
      "text/plain": [
       "\u001b[1;92m18:34:52\u001b[0m.\u001b[1;36m259712\u001b[0m  |  Epoch \u001b[1;36m3\u001b[0m  |  Training loss \u001b[1;36m3.78048\u001b[0m\n"
      ]
     },
     "metadata": {},
     "output_type": "display_data"
    },
    {
     "data": {
      "text/html": [
       "<pre style=\"white-space:pre;overflow-x:auto;line-height:normal;font-family:Menlo,'DejaVu Sans Mono',consolas,'Courier New',monospace\"><span style=\"color: #00ff00; text-decoration-color: #00ff00; font-weight: bold\">18:36:01</span>.<span style=\"color: #008080; text-decoration-color: #008080; font-weight: bold\">236538</span>  |  Epoch <span style=\"color: #008080; text-decoration-color: #008080; font-weight: bold\">4</span>  |  Training loss <span style=\"color: #008080; text-decoration-color: #008080; font-weight: bold\">3.74683</span>\n",
       "</pre>\n"
      ],
      "text/plain": [
       "\u001b[1;92m18:36:01\u001b[0m.\u001b[1;36m236538\u001b[0m  |  Epoch \u001b[1;36m4\u001b[0m  |  Training loss \u001b[1;36m3.74683\u001b[0m\n"
      ]
     },
     "metadata": {},
     "output_type": "display_data"
    },
    {
     "data": {
      "text/html": [
       "<pre style=\"white-space:pre;overflow-x:auto;line-height:normal;font-family:Menlo,'DejaVu Sans Mono',consolas,'Courier New',monospace\"><span style=\"color: #00ff00; text-decoration-color: #00ff00; font-weight: bold\">18:37:02</span>.<span style=\"color: #008080; text-decoration-color: #008080; font-weight: bold\">191608</span>  |  Epoch <span style=\"color: #008080; text-decoration-color: #008080; font-weight: bold\">5</span>  |  Training loss <span style=\"color: #008080; text-decoration-color: #008080; font-weight: bold\">3.72301</span>\n",
       "</pre>\n"
      ],
      "text/plain": [
       "\u001b[1;92m18:37:02\u001b[0m.\u001b[1;36m191608\u001b[0m  |  Epoch \u001b[1;36m5\u001b[0m  |  Training loss \u001b[1;36m3.72301\u001b[0m\n"
      ]
     },
     "metadata": {},
     "output_type": "display_data"
    },
    {
     "data": {
      "text/html": [
       "<pre style=\"white-space:pre;overflow-x:auto;line-height:normal;font-family:Menlo,'DejaVu Sans Mono',consolas,'Courier New',monospace\"><span style=\"color: #00ff00; text-decoration-color: #00ff00; font-weight: bold\">18:38:01</span>.<span style=\"color: #008080; text-decoration-color: #008080; font-weight: bold\">242855</span>  |  Epoch <span style=\"color: #008080; text-decoration-color: #008080; font-weight: bold\">6</span>  |  Training loss <span style=\"color: #008080; text-decoration-color: #008080; font-weight: bold\">3.70470</span>\n",
       "</pre>\n"
      ],
      "text/plain": [
       "\u001b[1;92m18:38:01\u001b[0m.\u001b[1;36m242855\u001b[0m  |  Epoch \u001b[1;36m6\u001b[0m  |  Training loss \u001b[1;36m3.70470\u001b[0m\n"
      ]
     },
     "metadata": {},
     "output_type": "display_data"
    },
    {
     "data": {
      "text/html": [
       "<pre style=\"white-space:pre;overflow-x:auto;line-height:normal;font-family:Menlo,'DejaVu Sans Mono',consolas,'Courier New',monospace\"><span style=\"color: #00ff00; text-decoration-color: #00ff00; font-weight: bold\">18:39:10</span>.<span style=\"color: #008080; text-decoration-color: #008080; font-weight: bold\">102761</span>  |  Epoch <span style=\"color: #008080; text-decoration-color: #008080; font-weight: bold\">7</span>  |  Training loss <span style=\"color: #008080; text-decoration-color: #008080; font-weight: bold\">3.68993</span>\n",
       "</pre>\n"
      ],
      "text/plain": [
       "\u001b[1;92m18:39:10\u001b[0m.\u001b[1;36m102761\u001b[0m  |  Epoch \u001b[1;36m7\u001b[0m  |  Training loss \u001b[1;36m3.68993\u001b[0m\n"
      ]
     },
     "metadata": {},
     "output_type": "display_data"
    },
    {
     "data": {
      "text/html": [
       "<pre style=\"white-space:pre;overflow-x:auto;line-height:normal;font-family:Menlo,'DejaVu Sans Mono',consolas,'Courier New',monospace\"><span style=\"color: #00ff00; text-decoration-color: #00ff00; font-weight: bold\">18:40:13</span>.<span style=\"color: #008080; text-decoration-color: #008080; font-weight: bold\">983463</span>  |  Epoch <span style=\"color: #008080; text-decoration-color: #008080; font-weight: bold\">8</span>  |  Training loss <span style=\"color: #008080; text-decoration-color: #008080; font-weight: bold\">3.67761</span>\n",
       "</pre>\n"
      ],
      "text/plain": [
       "\u001b[1;92m18:40:13\u001b[0m.\u001b[1;36m983463\u001b[0m  |  Epoch \u001b[1;36m8\u001b[0m  |  Training loss \u001b[1;36m3.67761\u001b[0m\n"
      ]
     },
     "metadata": {},
     "output_type": "display_data"
    },
    {
     "data": {
      "text/html": [
       "<pre style=\"white-space:pre;overflow-x:auto;line-height:normal;font-family:Menlo,'DejaVu Sans Mono',consolas,'Courier New',monospace\"><span style=\"color: #00ff00; text-decoration-color: #00ff00; font-weight: bold\">18:41:17</span>.<span style=\"color: #008080; text-decoration-color: #008080; font-weight: bold\">980344</span>  |  Epoch <span style=\"color: #008080; text-decoration-color: #008080; font-weight: bold\">9</span>  |  Training loss <span style=\"color: #008080; text-decoration-color: #008080; font-weight: bold\">3.66711</span>\n",
       "</pre>\n"
      ],
      "text/plain": [
       "\u001b[1;92m18:41:17\u001b[0m.\u001b[1;36m980344\u001b[0m  |  Epoch \u001b[1;36m9\u001b[0m  |  Training loss \u001b[1;36m3.66711\u001b[0m\n"
      ]
     },
     "metadata": {},
     "output_type": "display_data"
    },
    {
     "data": {
      "text/html": [
       "<pre style=\"white-space:pre;overflow-x:auto;line-height:normal;font-family:Menlo,'DejaVu Sans Mono',consolas,'Courier New',monospace\"><span style=\"color: #00ff00; text-decoration-color: #00ff00; font-weight: bold\">18:42:18</span>.<span style=\"color: #008080; text-decoration-color: #008080; font-weight: bold\">256658</span>  |  Epoch <span style=\"color: #008080; text-decoration-color: #008080; font-weight: bold\">10</span>  |  Training loss <span style=\"color: #008080; text-decoration-color: #008080; font-weight: bold\">3.65800</span>\n",
       "</pre>\n"
      ],
      "text/plain": [
       "\u001b[1;92m18:42:18\u001b[0m.\u001b[1;36m256658\u001b[0m  |  Epoch \u001b[1;36m10\u001b[0m  |  Training loss \u001b[1;36m3.65800\u001b[0m\n"
      ]
     },
     "metadata": {},
     "output_type": "display_data"
    },
    {
     "data": {
      "text/html": [
       "<pre style=\"white-space:pre;overflow-x:auto;line-height:normal;font-family:Menlo,'DejaVu Sans Mono',consolas,'Courier New',monospace\"><span style=\"color: #00ff00; text-decoration-color: #00ff00; font-weight: bold\">18:43:18</span>.<span style=\"color: #008080; text-decoration-color: #008080; font-weight: bold\">045912</span>  |  Epoch <span style=\"color: #008080; text-decoration-color: #008080; font-weight: bold\">11</span>  |  Training loss <span style=\"color: #008080; text-decoration-color: #008080; font-weight: bold\">3.64998</span>\n",
       "</pre>\n"
      ],
      "text/plain": [
       "\u001b[1;92m18:43:18\u001b[0m.\u001b[1;36m045912\u001b[0m  |  Epoch \u001b[1;36m11\u001b[0m  |  Training loss \u001b[1;36m3.64998\u001b[0m\n"
      ]
     },
     "metadata": {},
     "output_type": "display_data"
    },
    {
     "data": {
      "text/html": [
       "<pre style=\"white-space:pre;overflow-x:auto;line-height:normal;font-family:Menlo,'DejaVu Sans Mono',consolas,'Courier New',monospace\"><span style=\"color: #00ff00; text-decoration-color: #00ff00; font-weight: bold\">18:44:18</span>.<span style=\"color: #008080; text-decoration-color: #008080; font-weight: bold\">758054</span>  |  Epoch <span style=\"color: #008080; text-decoration-color: #008080; font-weight: bold\">12</span>  |  Training loss <span style=\"color: #008080; text-decoration-color: #008080; font-weight: bold\">3.64285</span>\n",
       "</pre>\n"
      ],
      "text/plain": [
       "\u001b[1;92m18:44:18\u001b[0m.\u001b[1;36m758054\u001b[0m  |  Epoch \u001b[1;36m12\u001b[0m  |  Training loss \u001b[1;36m3.64285\u001b[0m\n"
      ]
     },
     "metadata": {},
     "output_type": "display_data"
    },
    {
     "data": {
      "text/html": [
       "<pre style=\"white-space:pre;overflow-x:auto;line-height:normal;font-family:Menlo,'DejaVu Sans Mono',consolas,'Courier New',monospace\"><span style=\"color: #00ff00; text-decoration-color: #00ff00; font-weight: bold\">18:45:18</span>.<span style=\"color: #008080; text-decoration-color: #008080; font-weight: bold\">933645</span>  |  Epoch <span style=\"color: #008080; text-decoration-color: #008080; font-weight: bold\">13</span>  |  Training loss <span style=\"color: #008080; text-decoration-color: #008080; font-weight: bold\">3.63644</span>\n",
       "</pre>\n"
      ],
      "text/plain": [
       "\u001b[1;92m18:45:18\u001b[0m.\u001b[1;36m933645\u001b[0m  |  Epoch \u001b[1;36m13\u001b[0m  |  Training loss \u001b[1;36m3.63644\u001b[0m\n"
      ]
     },
     "metadata": {},
     "output_type": "display_data"
    },
    {
     "data": {
      "text/html": [
       "<pre style=\"white-space:pre;overflow-x:auto;line-height:normal;font-family:Menlo,'DejaVu Sans Mono',consolas,'Courier New',monospace\"><span style=\"color: #00ff00; text-decoration-color: #00ff00; font-weight: bold\">18:46:18</span>.<span style=\"color: #008080; text-decoration-color: #008080; font-weight: bold\">954148</span>  |  Epoch <span style=\"color: #008080; text-decoration-color: #008080; font-weight: bold\">14</span>  |  Training loss <span style=\"color: #008080; text-decoration-color: #008080; font-weight: bold\">3.63063</span>\n",
       "</pre>\n"
      ],
      "text/plain": [
       "\u001b[1;92m18:46:18\u001b[0m.\u001b[1;36m954148\u001b[0m  |  Epoch \u001b[1;36m14\u001b[0m  |  Training loss \u001b[1;36m3.63063\u001b[0m\n"
      ]
     },
     "metadata": {},
     "output_type": "display_data"
    },
    {
     "data": {
      "text/html": [
       "<pre style=\"white-space:pre;overflow-x:auto;line-height:normal;font-family:Menlo,'DejaVu Sans Mono',consolas,'Courier New',monospace\"><span style=\"color: #00ff00; text-decoration-color: #00ff00; font-weight: bold\">18:47:19</span>.<span style=\"color: #008080; text-decoration-color: #008080; font-weight: bold\">081227</span>  |  Epoch <span style=\"color: #008080; text-decoration-color: #008080; font-weight: bold\">15</span>  |  Training loss <span style=\"color: #008080; text-decoration-color: #008080; font-weight: bold\">3.62533</span>\n",
       "</pre>\n"
      ],
      "text/plain": [
       "\u001b[1;92m18:47:19\u001b[0m.\u001b[1;36m081227\u001b[0m  |  Epoch \u001b[1;36m15\u001b[0m  |  Training loss \u001b[1;36m3.62533\u001b[0m\n"
      ]
     },
     "metadata": {},
     "output_type": "display_data"
    },
    {
     "data": {
      "text/html": [
       "<pre style=\"white-space:pre;overflow-x:auto;line-height:normal;font-family:Menlo,'DejaVu Sans Mono',consolas,'Courier New',monospace\"><span style=\"color: #00ff00; text-decoration-color: #00ff00; font-weight: bold\">18:48:19</span>.<span style=\"color: #008080; text-decoration-color: #008080; font-weight: bold\">019160</span>  |  Epoch <span style=\"color: #008080; text-decoration-color: #008080; font-weight: bold\">16</span>  |  Training loss <span style=\"color: #008080; text-decoration-color: #008080; font-weight: bold\">3.62045</span>\n",
       "</pre>\n"
      ],
      "text/plain": [
       "\u001b[1;92m18:48:19\u001b[0m.\u001b[1;36m019160\u001b[0m  |  Epoch \u001b[1;36m16\u001b[0m  |  Training loss \u001b[1;36m3.62045\u001b[0m\n"
      ]
     },
     "metadata": {},
     "output_type": "display_data"
    },
    {
     "data": {
      "text/html": [
       "<pre style=\"white-space:pre;overflow-x:auto;line-height:normal;font-family:Menlo,'DejaVu Sans Mono',consolas,'Courier New',monospace\"><span style=\"color: #00ff00; text-decoration-color: #00ff00; font-weight: bold\">18:49:19</span>.<span style=\"color: #008080; text-decoration-color: #008080; font-weight: bold\">255172</span>  |  Epoch <span style=\"color: #008080; text-decoration-color: #008080; font-weight: bold\">17</span>  |  Training loss <span style=\"color: #008080; text-decoration-color: #008080; font-weight: bold\">3.61595</span>\n",
       "</pre>\n"
      ],
      "text/plain": [
       "\u001b[1;92m18:49:19\u001b[0m.\u001b[1;36m255172\u001b[0m  |  Epoch \u001b[1;36m17\u001b[0m  |  Training loss \u001b[1;36m3.61595\u001b[0m\n"
      ]
     },
     "metadata": {},
     "output_type": "display_data"
    },
    {
     "data": {
      "text/html": [
       "<pre style=\"white-space:pre;overflow-x:auto;line-height:normal;font-family:Menlo,'DejaVu Sans Mono',consolas,'Courier New',monospace\"><span style=\"color: #00ff00; text-decoration-color: #00ff00; font-weight: bold\">18:50:19</span>.<span style=\"color: #008080; text-decoration-color: #008080; font-weight: bold\">403601</span>  |  Epoch <span style=\"color: #008080; text-decoration-color: #008080; font-weight: bold\">18</span>  |  Training loss <span style=\"color: #008080; text-decoration-color: #008080; font-weight: bold\">3.61176</span>\n",
       "</pre>\n"
      ],
      "text/plain": [
       "\u001b[1;92m18:50:19\u001b[0m.\u001b[1;36m403601\u001b[0m  |  Epoch \u001b[1;36m18\u001b[0m  |  Training loss \u001b[1;36m3.61176\u001b[0m\n"
      ]
     },
     "metadata": {},
     "output_type": "display_data"
    },
    {
     "data": {
      "text/html": [
       "<pre style=\"white-space:pre;overflow-x:auto;line-height:normal;font-family:Menlo,'DejaVu Sans Mono',consolas,'Courier New',monospace\"><span style=\"color: #00ff00; text-decoration-color: #00ff00; font-weight: bold\">18:51:19</span>.<span style=\"color: #008080; text-decoration-color: #008080; font-weight: bold\">511514</span>  |  Epoch <span style=\"color: #008080; text-decoration-color: #008080; font-weight: bold\">19</span>  |  Training loss <span style=\"color: #008080; text-decoration-color: #008080; font-weight: bold\">3.60786</span>\n",
       "</pre>\n"
      ],
      "text/plain": [
       "\u001b[1;92m18:51:19\u001b[0m.\u001b[1;36m511514\u001b[0m  |  Epoch \u001b[1;36m19\u001b[0m  |  Training loss \u001b[1;36m3.60786\u001b[0m\n"
      ]
     },
     "metadata": {},
     "output_type": "display_data"
    },
    {
     "data": {
      "text/html": [
       "<pre style=\"white-space:pre;overflow-x:auto;line-height:normal;font-family:Menlo,'DejaVu Sans Mono',consolas,'Courier New',monospace\"><span style=\"color: #00ff00; text-decoration-color: #00ff00; font-weight: bold\">18:52:19</span>.<span style=\"color: #008080; text-decoration-color: #008080; font-weight: bold\">600431</span>  |  Epoch <span style=\"color: #008080; text-decoration-color: #008080; font-weight: bold\">20</span>  |  Training loss <span style=\"color: #008080; text-decoration-color: #008080; font-weight: bold\">3.60419</span>\n",
       "</pre>\n"
      ],
      "text/plain": [
       "\u001b[1;92m18:52:19\u001b[0m.\u001b[1;36m600431\u001b[0m  |  Epoch \u001b[1;36m20\u001b[0m  |  Training loss \u001b[1;36m3.60419\u001b[0m\n"
      ]
     },
     "metadata": {},
     "output_type": "display_data"
    }
   ],
   "source": [
    "n_epochs = 20\n",
    "lr = 0.1\n",
    "embedding_dim = 64\n",
    "\n",
    "NGram_larger_model = NGram(vocab_size, embedding_dim, context_size).to(device=device)\n",
    "NGram_larger_optimizer = optim.SGD(NGram_larger_model.parameters(), lr=lr)\n",
    "\n",
    "NGram_larger_model_weight = train(\n",
    "    n_epochs=n_epochs,\n",
    "    optimizer=NGram_larger_optimizer,\n",
    "    model=NGram_larger_model,\n",
    "    loss_fn=loss_fn,\n",
    "    train_loader=train_loader,\n",
    ")\n"
   ]
  },
  {
   "cell_type": "code",
   "execution_count": 9,
   "metadata": {},
   "outputs": [],
   "source": [
    "def accuracy(model, loader):\n",
    "    \"\"\"\n",
    "    Compute the accuracy of model with given data loader\n",
    "    \"\"\"\n",
    "    model.eval()\n",
    "    correct = 0\n",
    "    with torch.no_grad():\n",
    "        for contexts, labels in loader:\n",
    "            contexts = contexts.to(device=device)\n",
    "            labels = labels.to(device=device)\n",
    "\n",
    "            outputs = model(contexts)\n",
    "            _, predicted = torch.max(outputs.data, 1)\n",
    "            correct += (predicted == labels).sum().item()\n",
    "\n",
    "    return correct / len(loader.dataset)"
   ]
  },
  {
   "cell_type": "code",
   "execution_count": 10,
   "metadata": {},
   "outputs": [],
   "source": [
    "def model_selection(models, titles, train_loader, val_loader):\n",
    "    \"\"\"\n",
    "    Choose the best model from the list of models based on validation accuracy\n",
    "    \"\"\"\n",
    "    best_model = None\n",
    "    best_acc = 0\n",
    "    for model, title in zip(models, titles):\n",
    "        acc = accuracy(model, val_loader)\n",
    "        train_acc = accuracy(model, train_loader)\n",
    "        print(f\"{title} | Train accuracy {train_acc:.2%} |  Validation accuracy {acc:.2%}\")\n",
    "        if acc > best_acc:\n",
    "            best_model = model\n",
    "            best_acc = acc\n",
    "    return best_model\n"
   ]
  },
  {
   "cell_type": "code",
   "execution_count": 11,
   "metadata": {},
   "outputs": [
    {
     "data": {
      "text/html": [
       "<pre style=\"white-space:pre;overflow-x:auto;line-height:normal;font-family:Menlo,'DejaVu Sans Mono',consolas,'Courier New',monospace\">NGram | Train accuracy <span style=\"color: #008080; text-decoration-color: #008080; font-weight: bold\">20.57</span>% |  Validation accuracy <span style=\"color: #008080; text-decoration-color: #008080; font-weight: bold\">21.85</span>%\n",
       "</pre>\n"
      ],
      "text/plain": [
       "NGram | Train accuracy \u001b[1;36m20.57\u001b[0m% |  Validation accuracy \u001b[1;36m21.85\u001b[0m%\n"
      ]
     },
     "metadata": {},
     "output_type": "display_data"
    },
    {
     "data": {
      "text/html": [
       "<pre style=\"white-space:pre;overflow-x:auto;line-height:normal;font-family:Menlo,'DejaVu Sans Mono',consolas,'Courier New',monospace\">NGram_larger | Train accuracy <span style=\"color: #008080; text-decoration-color: #008080; font-weight: bold\">22.12</span>% |  Validation accuracy <span style=\"color: #008080; text-decoration-color: #008080; font-weight: bold\">23.09</span>%\n",
       "</pre>\n"
      ],
      "text/plain": [
       "NGram_larger | Train accuracy \u001b[1;36m22.12\u001b[0m% |  Validation accuracy \u001b[1;36m23.09\u001b[0m%\n"
      ]
     },
     "metadata": {},
     "output_type": "display_data"
    },
    {
     "data": {
      "text/plain": [
       "NGram(\n",
       "  (embeddings): Embedding(1050, 64)\n",
       "  (linear1): Linear(in_features=192, out_features=128, bias=True)\n",
       "  (linear2): Linear(in_features=128, out_features=1050, bias=True)\n",
       ")"
      ]
     },
     "execution_count": 11,
     "metadata": {},
     "output_type": "execute_result"
    }
   ],
   "source": [
    "best_model = model_selection(\n",
    "    [NGram_model, NGram_larger_model], [\"NGram\", \"NGram_larger\"], train_loader, val_loader\n",
    ")\n",
    "best_model\n"
   ]
  },
  {
   "cell_type": "code",
   "execution_count": 12,
   "metadata": {},
   "outputs": [
    {
     "data": {
      "text/html": [
       "<pre style=\"white-space:pre;overflow-x:auto;line-height:normal;font-family:Menlo,'DejaVu Sans Mono',consolas,'Courier New',monospace\">Best model | Test accuracy <span style=\"color: #008080; text-decoration-color: #008080; font-weight: bold\">24.06</span>%\n",
       "</pre>\n"
      ],
      "text/plain": [
       "Best model | Test accuracy \u001b[1;36m24.06\u001b[0m%\n"
      ]
     },
     "metadata": {},
     "output_type": "display_data"
    }
   ],
   "source": [
    "best_model_acc = accuracy(best_model, test_loader)\n",
    "print(f\"Best model | Test accuracy {best_model_acc:.2%}\")\n"
   ]
  },
  {
   "cell_type": "markdown",
   "metadata": {},
   "source": [
    "#### 5 - Compute the cosine similarity matrix of the vocabulary based on the trained embedding.\n",
    "For some words of your choice (e.g. me, white, man, have, be, child, yes, what etc.), report the 10\n",
    "most similar words. Comment your results."
   ]
  },
  {
   "cell_type": "code",
   "execution_count": 13,
   "metadata": {},
   "outputs": [],
   "source": [
    "best_model_weights = best_model.embeddings.weight.detach()\n",
    "\n",
    "sim_matrix = np.zeros(shape=(len(best_model_weights), len(best_model_weights)))\n",
    "\n",
    "for w1 in range(0, len(best_model_weights)):\n",
    "    for w2 in range(0, len(best_model_weights)):\n",
    "        # Cosine similarity\n",
    "        sim_matrix[w1][w2] = np.dot(best_model_weights[w1], best_model_weights[w2]) / (\n",
    "            np.linalg.norm(best_model_weights[w1]) * np.linalg.norm(best_model_weights[w2])\n",
    "        )\n"
   ]
  },
  {
   "cell_type": "code",
   "execution_count": 14,
   "metadata": {},
   "outputs": [
    {
     "data": {
      "text/html": [
       "<pre style=\"white-space:pre;overflow-x:auto;line-height:normal;font-family:Menlo,'DejaVu Sans Mono',consolas,'Courier New',monospace\"><span style=\"font-weight: bold\">(</span><span style=\"color: #008000; text-decoration-color: #008000\">'me'</span>, <span style=\"color: #008080; text-decoration-color: #008080; font-weight: bold\">36</span><span style=\"font-weight: bold\">)</span> most similar words:\n",
       "</pre>\n"
      ],
      "text/plain": [
       "\u001b[1m(\u001b[0m\u001b[32m'me'\u001b[0m, \u001b[1;36m36\u001b[0m\u001b[1m)\u001b[0m most similar words:\n"
      ]
     },
     "metadata": {},
     "output_type": "display_data"
    },
    {
     "data": {
      "text/html": [
       "<pre style=\"white-space:pre;overflow-x:auto;line-height:normal;font-family:Menlo,'DejaVu Sans Mono',consolas,'Courier New',monospace\">        <span style=\"font-weight: bold\">(</span><span style=\"color: #008000; text-decoration-color: #008000\">'me'</span>, <span style=\"color: #008080; text-decoration-color: #008080; font-weight: bold\">1.0</span><span style=\"font-weight: bold\">)</span>\n",
       "</pre>\n"
      ],
      "text/plain": [
       "        \u001b[1m(\u001b[0m\u001b[32m'me'\u001b[0m, \u001b[1;36m1.0\u001b[0m\u001b[1m)\u001b[0m\n"
      ]
     },
     "metadata": {},
     "output_type": "display_data"
    },
    {
     "data": {
      "text/html": [
       "<pre style=\"white-space:pre;overflow-x:auto;line-height:normal;font-family:Menlo,'DejaVu Sans Mono',consolas,'Courier New',monospace\">        <span style=\"font-weight: bold\">(</span><span style=\"color: #008000; text-decoration-color: #008000\">'thing'</span>, <span style=\"color: #008080; text-decoration-color: #008080; font-weight: bold\">0.3799650248115243</span><span style=\"font-weight: bold\">)</span>\n",
       "</pre>\n"
      ],
      "text/plain": [
       "        \u001b[1m(\u001b[0m\u001b[32m'thing'\u001b[0m, \u001b[1;36m0.3799650248115243\u001b[0m\u001b[1m)\u001b[0m\n"
      ]
     },
     "metadata": {},
     "output_type": "display_data"
    },
    {
     "data": {
      "text/html": [
       "<pre style=\"white-space:pre;overflow-x:auto;line-height:normal;font-family:Menlo,'DejaVu Sans Mono',consolas,'Courier New',monospace\">        <span style=\"font-weight: bold\">(</span><span style=\"color: #008000; text-decoration-color: #008000\">'means'</span>, <span style=\"color: #008080; text-decoration-color: #008080; font-weight: bold\">0.3741270751078828</span><span style=\"font-weight: bold\">)</span>\n",
       "</pre>\n"
      ],
      "text/plain": [
       "        \u001b[1m(\u001b[0m\u001b[32m'means'\u001b[0m, \u001b[1;36m0.3741270751078828\u001b[0m\u001b[1m)\u001b[0m\n"
      ]
     },
     "metadata": {},
     "output_type": "display_data"
    },
    {
     "data": {
      "text/html": [
       "<pre style=\"white-space:pre;overflow-x:auto;line-height:normal;font-family:Menlo,'DejaVu Sans Mono',consolas,'Courier New',monospace\">        <span style=\"font-weight: bold\">(</span><span style=\"color: #008000; text-decoration-color: #008000\">'easy'</span>, <span style=\"color: #008080; text-decoration-color: #008080; font-weight: bold\">0.3696978083777051</span><span style=\"font-weight: bold\">)</span>\n",
       "</pre>\n"
      ],
      "text/plain": [
       "        \u001b[1m(\u001b[0m\u001b[32m'easy'\u001b[0m, \u001b[1;36m0.3696978083777051\u001b[0m\u001b[1m)\u001b[0m\n"
      ]
     },
     "metadata": {},
     "output_type": "display_data"
    },
    {
     "data": {
      "text/html": [
       "<pre style=\"white-space:pre;overflow-x:auto;line-height:normal;font-family:Menlo,'DejaVu Sans Mono',consolas,'Courier New',monospace\">        <span style=\"font-weight: bold\">(</span><span style=\"color: #008000; text-decoration-color: #008000\">'you'</span>, <span style=\"color: #008080; text-decoration-color: #008080; font-weight: bold\">0.34844796437119513</span><span style=\"font-weight: bold\">)</span>\n",
       "</pre>\n"
      ],
      "text/plain": [
       "        \u001b[1m(\u001b[0m\u001b[32m'you'\u001b[0m, \u001b[1;36m0.34844796437119513\u001b[0m\u001b[1m)\u001b[0m\n"
      ]
     },
     "metadata": {},
     "output_type": "display_data"
    },
    {
     "data": {
      "text/html": [
       "<pre style=\"white-space:pre;overflow-x:auto;line-height:normal;font-family:Menlo,'DejaVu Sans Mono',consolas,'Courier New',monospace\">        <span style=\"font-weight: bold\">(</span><span style=\"color: #008000; text-decoration-color: #008000\">'us'</span>, <span style=\"color: #008080; text-decoration-color: #008080; font-weight: bold\">0.34708480687752247</span><span style=\"font-weight: bold\">)</span>\n",
       "</pre>\n"
      ],
      "text/plain": [
       "        \u001b[1m(\u001b[0m\u001b[32m'us'\u001b[0m, \u001b[1;36m0.34708480687752247\u001b[0m\u001b[1m)\u001b[0m\n"
      ]
     },
     "metadata": {},
     "output_type": "display_data"
    },
    {
     "data": {
      "text/html": [
       "<pre style=\"white-space:pre;overflow-x:auto;line-height:normal;font-family:Menlo,'DejaVu Sans Mono',consolas,'Courier New',monospace\">        <span style=\"font-weight: bold\">(</span><span style=\"color: #008000; text-decoration-color: #008000\">'impossible'</span>, <span style=\"color: #008080; text-decoration-color: #008080; font-weight: bold\">0.31854295317217335</span><span style=\"font-weight: bold\">)</span>\n",
       "</pre>\n"
      ],
      "text/plain": [
       "        \u001b[1m(\u001b[0m\u001b[32m'impossible'\u001b[0m, \u001b[1;36m0.31854295317217335\u001b[0m\u001b[1m)\u001b[0m\n"
      ]
     },
     "metadata": {},
     "output_type": "display_data"
    },
    {
     "data": {
      "text/html": [
       "<pre style=\"white-space:pre;overflow-x:auto;line-height:normal;font-family:Menlo,'DejaVu Sans Mono',consolas,'Courier New',monospace\">        <span style=\"font-weight: bold\">(</span><span style=\"color: #008000; text-decoration-color: #008000\">'seem'</span>, <span style=\"color: #008080; text-decoration-color: #008080; font-weight: bold\">0.31406205306896184</span><span style=\"font-weight: bold\">)</span>\n",
       "</pre>\n"
      ],
      "text/plain": [
       "        \u001b[1m(\u001b[0m\u001b[32m'seem'\u001b[0m, \u001b[1;36m0.31406205306896184\u001b[0m\u001b[1m)\u001b[0m\n"
      ]
     },
     "metadata": {},
     "output_type": "display_data"
    },
    {
     "data": {
      "text/html": [
       "<pre style=\"white-space:pre;overflow-x:auto;line-height:normal;font-family:Menlo,'DejaVu Sans Mono',consolas,'Courier New',monospace\">        <span style=\"font-weight: bold\">(</span><span style=\"color: #008000; text-decoration-color: #008000\">'!'</span>, <span style=\"color: #008080; text-decoration-color: #008080; font-weight: bold\">0.313716976531656</span><span style=\"font-weight: bold\">)</span>\n",
       "</pre>\n"
      ],
      "text/plain": [
       "        \u001b[1m(\u001b[0m\u001b[32m'!'\u001b[0m, \u001b[1;36m0.313716976531656\u001b[0m\u001b[1m)\u001b[0m\n"
      ]
     },
     "metadata": {},
     "output_type": "display_data"
    },
    {
     "data": {
      "text/html": [
       "<pre style=\"white-space:pre;overflow-x:auto;line-height:normal;font-family:Menlo,'DejaVu Sans Mono',consolas,'Courier New',monospace\">        <span style=\"font-weight: bold\">(</span><span style=\"color: #008000; text-decoration-color: #008000\">'body'</span>, <span style=\"color: #008080; text-decoration-color: #008080; font-weight: bold\">0.3052992189400975</span><span style=\"font-weight: bold\">)</span>\n",
       "</pre>\n"
      ],
      "text/plain": [
       "        \u001b[1m(\u001b[0m\u001b[32m'body'\u001b[0m, \u001b[1;36m0.3052992189400975\u001b[0m\u001b[1m)\u001b[0m\n"
      ]
     },
     "metadata": {},
     "output_type": "display_data"
    },
    {
     "data": {
      "text/html": [
       "<pre style=\"white-space:pre;overflow-x:auto;line-height:normal;font-family:Menlo,'DejaVu Sans Mono',consolas,'Courier New',monospace\"><span style=\"font-weight: bold\">(</span><span style=\"color: #008000; text-decoration-color: #008000\">'white'</span>, <span style=\"color: #008080; text-decoration-color: #008080; font-weight: bold\">264</span><span style=\"font-weight: bold\">)</span> most similar words:\n",
       "</pre>\n"
      ],
      "text/plain": [
       "\u001b[1m(\u001b[0m\u001b[32m'white'\u001b[0m, \u001b[1;36m264\u001b[0m\u001b[1m)\u001b[0m most similar words:\n"
      ]
     },
     "metadata": {},
     "output_type": "display_data"
    },
    {
     "data": {
      "text/html": [
       "<pre style=\"white-space:pre;overflow-x:auto;line-height:normal;font-family:Menlo,'DejaVu Sans Mono',consolas,'Courier New',monospace\">        <span style=\"font-weight: bold\">(</span><span style=\"color: #008000; text-decoration-color: #008000\">'white'</span>, <span style=\"color: #008080; text-decoration-color: #008080; font-weight: bold\">1.0</span><span style=\"font-weight: bold\">)</span>\n",
       "</pre>\n"
      ],
      "text/plain": [
       "        \u001b[1m(\u001b[0m\u001b[32m'white'\u001b[0m, \u001b[1;36m1.0\u001b[0m\u001b[1m)\u001b[0m\n"
      ]
     },
     "metadata": {},
     "output_type": "display_data"
    },
    {
     "data": {
      "text/html": [
       "<pre style=\"white-space:pre;overflow-x:auto;line-height:normal;font-family:Menlo,'DejaVu Sans Mono',consolas,'Courier New',monospace\">        <span style=\"font-weight: bold\">(</span><span style=\"color: #008000; text-decoration-color: #008000\">'golden'</span>, <span style=\"color: #008080; text-decoration-color: #008080; font-weight: bold\">0.39186004371871935</span><span style=\"font-weight: bold\">)</span>\n",
       "</pre>\n"
      ],
      "text/plain": [
       "        \u001b[1m(\u001b[0m\u001b[32m'golden'\u001b[0m, \u001b[1;36m0.39186004371871935\u001b[0m\u001b[1m)\u001b[0m\n"
      ]
     },
     "metadata": {},
     "output_type": "display_data"
    },
    {
     "data": {
      "text/html": [
       "<pre style=\"white-space:pre;overflow-x:auto;line-height:normal;font-family:Menlo,'DejaVu Sans Mono',consolas,'Courier New',monospace\">        <span style=\"font-weight: bold\">(</span><span style=\"color: #008000; text-decoration-color: #008000\">'go'</span>, <span style=\"color: #008080; text-decoration-color: #008080; font-weight: bold\">0.35402938621825747</span><span style=\"font-weight: bold\">)</span>\n",
       "</pre>\n"
      ],
      "text/plain": [
       "        \u001b[1m(\u001b[0m\u001b[32m'go'\u001b[0m, \u001b[1;36m0.35402938621825747\u001b[0m\u001b[1m)\u001b[0m\n"
      ]
     },
     "metadata": {},
     "output_type": "display_data"
    },
    {
     "data": {
      "text/html": [
       "<pre style=\"white-space:pre;overflow-x:auto;line-height:normal;font-family:Menlo,'DejaVu Sans Mono',consolas,'Courier New',monospace\">        <span style=\"font-weight: bold\">(</span><span style=\"color: #008000; text-decoration-color: #008000\">'beautiful'</span>, <span style=\"color: #008080; text-decoration-color: #008080; font-weight: bold\">0.34073564546697543</span><span style=\"font-weight: bold\">)</span>\n",
       "</pre>\n"
      ],
      "text/plain": [
       "        \u001b[1m(\u001b[0m\u001b[32m'beautiful'\u001b[0m, \u001b[1;36m0.34073564546697543\u001b[0m\u001b[1m)\u001b[0m\n"
      ]
     },
     "metadata": {},
     "output_type": "display_data"
    },
    {
     "data": {
      "text/html": [
       "<pre style=\"white-space:pre;overflow-x:auto;line-height:normal;font-family:Menlo,'DejaVu Sans Mono',consolas,'Courier New',monospace\">        <span style=\"font-weight: bold\">(</span><span style=\"color: #008000; text-decoration-color: #008000\">'silent'</span>, <span style=\"color: #008080; text-decoration-color: #008080; font-weight: bold\">0.32992190592101556</span><span style=\"font-weight: bold\">)</span>\n",
       "</pre>\n"
      ],
      "text/plain": [
       "        \u001b[1m(\u001b[0m\u001b[32m'silent'\u001b[0m, \u001b[1;36m0.32992190592101556\u001b[0m\u001b[1m)\u001b[0m\n"
      ]
     },
     "metadata": {},
     "output_type": "display_data"
    },
    {
     "data": {
      "text/html": [
       "<pre style=\"white-space:pre;overflow-x:auto;line-height:normal;font-family:Menlo,'DejaVu Sans Mono',consolas,'Courier New',monospace\">        <span style=\"font-weight: bold\">(</span><span style=\"color: #008000; text-decoration-color: #008000\">'bright'</span>, <span style=\"color: #008080; text-decoration-color: #008080; font-weight: bold\">0.32072757337083985</span><span style=\"font-weight: bold\">)</span>\n",
       "</pre>\n"
      ],
      "text/plain": [
       "        \u001b[1m(\u001b[0m\u001b[32m'bright'\u001b[0m, \u001b[1;36m0.32072757337083985\u001b[0m\u001b[1m)\u001b[0m\n"
      ]
     },
     "metadata": {},
     "output_type": "display_data"
    },
    {
     "data": {
      "text/html": [
       "<pre style=\"white-space:pre;overflow-x:auto;line-height:normal;font-family:Menlo,'DejaVu Sans Mono',consolas,'Courier New',monospace\">        <span style=\"font-weight: bold\">(</span><span style=\"color: #008000; text-decoration-color: #008000\">'men'</span>, <span style=\"color: #008080; text-decoration-color: #008080; font-weight: bold\">0.2922776620744649</span><span style=\"font-weight: bold\">)</span>\n",
       "</pre>\n"
      ],
      "text/plain": [
       "        \u001b[1m(\u001b[0m\u001b[32m'men'\u001b[0m, \u001b[1;36m0.2922776620744649\u001b[0m\u001b[1m)\u001b[0m\n"
      ]
     },
     "metadata": {},
     "output_type": "display_data"
    },
    {
     "data": {
      "text/html": [
       "<pre style=\"white-space:pre;overflow-x:auto;line-height:normal;font-family:Menlo,'DejaVu Sans Mono',consolas,'Courier New',monospace\">        <span style=\"font-weight: bold\">(</span><span style=\"color: #008000; text-decoration-color: #008000\">'pushed'</span>, <span style=\"color: #008080; text-decoration-color: #008080; font-weight: bold\">0.286413704441731</span><span style=\"font-weight: bold\">)</span>\n",
       "</pre>\n"
      ],
      "text/plain": [
       "        \u001b[1m(\u001b[0m\u001b[32m'pushed'\u001b[0m, \u001b[1;36m0.286413704441731\u001b[0m\u001b[1m)\u001b[0m\n"
      ]
     },
     "metadata": {},
     "output_type": "display_data"
    },
    {
     "data": {
      "text/html": [
       "<pre style=\"white-space:pre;overflow-x:auto;line-height:normal;font-family:Menlo,'DejaVu Sans Mono',consolas,'Courier New',monospace\">        <span style=\"font-weight: bold\">(</span><span style=\"color: #008000; text-decoration-color: #008000\">'come'</span>, <span style=\"color: #008080; text-decoration-color: #008080; font-weight: bold\">0.2850771088964696</span><span style=\"font-weight: bold\">)</span>\n",
       "</pre>\n"
      ],
      "text/plain": [
       "        \u001b[1m(\u001b[0m\u001b[32m'come'\u001b[0m, \u001b[1;36m0.2850771088964696\u001b[0m\u001b[1m)\u001b[0m\n"
      ]
     },
     "metadata": {},
     "output_type": "display_data"
    },
    {
     "data": {
      "text/html": [
       "<pre style=\"white-space:pre;overflow-x:auto;line-height:normal;font-family:Menlo,'DejaVu Sans Mono',consolas,'Courier New',monospace\">        <span style=\"font-weight: bold\">(</span><span style=\"color: #008000; text-decoration-color: #008000\">'crowd'</span>, <span style=\"color: #008080; text-decoration-color: #008080; font-weight: bold\">0.28355234329754136</span><span style=\"font-weight: bold\">)</span>\n",
       "</pre>\n"
      ],
      "text/plain": [
       "        \u001b[1m(\u001b[0m\u001b[32m'crowd'\u001b[0m, \u001b[1;36m0.28355234329754136\u001b[0m\u001b[1m)\u001b[0m\n"
      ]
     },
     "metadata": {},
     "output_type": "display_data"
    },
    {
     "data": {
      "text/html": [
       "<pre style=\"white-space:pre;overflow-x:auto;line-height:normal;font-family:Menlo,'DejaVu Sans Mono',consolas,'Courier New',monospace\"><span style=\"font-weight: bold\">(</span><span style=\"color: #008000; text-decoration-color: #008000\">'man'</span>, <span style=\"color: #008080; text-decoration-color: #008080; font-weight: bold\">60</span><span style=\"font-weight: bold\">)</span> most similar words:\n",
       "</pre>\n"
      ],
      "text/plain": [
       "\u001b[1m(\u001b[0m\u001b[32m'man'\u001b[0m, \u001b[1;36m60\u001b[0m\u001b[1m)\u001b[0m most similar words:\n"
      ]
     },
     "metadata": {},
     "output_type": "display_data"
    },
    {
     "data": {
      "text/html": [
       "<pre style=\"white-space:pre;overflow-x:auto;line-height:normal;font-family:Menlo,'DejaVu Sans Mono',consolas,'Courier New',monospace\">        <span style=\"font-weight: bold\">(</span><span style=\"color: #008000; text-decoration-color: #008000\">'man'</span>, <span style=\"color: #008080; text-decoration-color: #008080; font-weight: bold\">1.0000000000000002</span><span style=\"font-weight: bold\">)</span>\n",
       "</pre>\n"
      ],
      "text/plain": [
       "        \u001b[1m(\u001b[0m\u001b[32m'man'\u001b[0m, \u001b[1;36m1.0000000000000002\u001b[0m\u001b[1m)\u001b[0m\n"
      ]
     },
     "metadata": {},
     "output_type": "display_data"
    },
    {
     "data": {
      "text/html": [
       "<pre style=\"white-space:pre;overflow-x:auto;line-height:normal;font-family:Menlo,'DejaVu Sans Mono',consolas,'Courier New',monospace\">        <span style=\"font-weight: bold\">(</span><span style=\"color: #008000; text-decoration-color: #008000\">'covered'</span>, <span style=\"color: #008080; text-decoration-color: #008080; font-weight: bold\">0.4018283170756218</span><span style=\"font-weight: bold\">)</span>\n",
       "</pre>\n"
      ],
      "text/plain": [
       "        \u001b[1m(\u001b[0m\u001b[32m'covered'\u001b[0m, \u001b[1;36m0.4018283170756218\u001b[0m\u001b[1m)\u001b[0m\n"
      ]
     },
     "metadata": {},
     "output_type": "display_data"
    },
    {
     "data": {
      "text/html": [
       "<pre style=\"white-space:pre;overflow-x:auto;line-height:normal;font-family:Menlo,'DejaVu Sans Mono',consolas,'Courier New',monospace\">        <span style=\"font-weight: bold\">(</span><span style=\"color: #008000; text-decoration-color: #008000\">'history'</span>, <span style=\"color: #008080; text-decoration-color: #008080; font-weight: bold\">0.3828757416150624</span><span style=\"font-weight: bold\">)</span>\n",
       "</pre>\n"
      ],
      "text/plain": [
       "        \u001b[1m(\u001b[0m\u001b[32m'history'\u001b[0m, \u001b[1;36m0.3828757416150624\u001b[0m\u001b[1m)\u001b[0m\n"
      ]
     },
     "metadata": {},
     "output_type": "display_data"
    },
    {
     "data": {
      "text/html": [
       "<pre style=\"white-space:pre;overflow-x:auto;line-height:normal;font-family:Menlo,'DejaVu Sans Mono',consolas,'Courier New',monospace\">        <span style=\"font-weight: bold\">(</span><span style=\"color: #008000; text-decoration-color: #008000\">'event'</span>, <span style=\"color: #008080; text-decoration-color: #008080; font-weight: bold\">0.36763272073992176</span><span style=\"font-weight: bold\">)</span>\n",
       "</pre>\n"
      ],
      "text/plain": [
       "        \u001b[1m(\u001b[0m\u001b[32m'event'\u001b[0m, \u001b[1;36m0.36763272073992176\u001b[0m\u001b[1m)\u001b[0m\n"
      ]
     },
     "metadata": {},
     "output_type": "display_data"
    },
    {
     "data": {
      "text/html": [
       "<pre style=\"white-space:pre;overflow-x:auto;line-height:normal;font-family:Menlo,'DejaVu Sans Mono',consolas,'Courier New',monospace\">        <span style=\"font-weight: bold\">(</span><span style=\"color: #008000; text-decoration-color: #008000\">'short'</span>, <span style=\"color: #008080; text-decoration-color: #008080; font-weight: bold\">0.36371500990923383</span><span style=\"font-weight: bold\">)</span>\n",
       "</pre>\n"
      ],
      "text/plain": [
       "        \u001b[1m(\u001b[0m\u001b[32m'short'\u001b[0m, \u001b[1;36m0.36371500990923383\u001b[0m\u001b[1m)\u001b[0m\n"
      ]
     },
     "metadata": {},
     "output_type": "display_data"
    },
    {
     "data": {
      "text/html": [
       "<pre style=\"white-space:pre;overflow-x:auto;line-height:normal;font-family:Menlo,'DejaVu Sans Mono',consolas,'Courier New',monospace\">        <span style=\"font-weight: bold\">(</span><span style=\"color: #008000; text-decoration-color: #008000\">'himself'</span>, <span style=\"color: #008080; text-decoration-color: #008080; font-weight: bold\">0.3498113000077337</span><span style=\"font-weight: bold\">)</span>\n",
       "</pre>\n"
      ],
      "text/plain": [
       "        \u001b[1m(\u001b[0m\u001b[32m'himself'\u001b[0m, \u001b[1;36m0.3498113000077337\u001b[0m\u001b[1m)\u001b[0m\n"
      ]
     },
     "metadata": {},
     "output_type": "display_data"
    },
    {
     "data": {
      "text/html": [
       "<pre style=\"white-space:pre;overflow-x:auto;line-height:normal;font-family:Menlo,'DejaVu Sans Mono',consolas,'Courier New',monospace\">        <span style=\"font-weight: bold\">(</span><span style=\"color: #008000; text-decoration-color: #008000\">'most'</span>, <span style=\"color: #008080; text-decoration-color: #008080; font-weight: bold\">0.34565237613321653</span><span style=\"font-weight: bold\">)</span>\n",
       "</pre>\n"
      ],
      "text/plain": [
       "        \u001b[1m(\u001b[0m\u001b[32m'most'\u001b[0m, \u001b[1;36m0.34565237613321653\u001b[0m\u001b[1m)\u001b[0m\n"
      ]
     },
     "metadata": {},
     "output_type": "display_data"
    },
    {
     "data": {
      "text/html": [
       "<pre style=\"white-space:pre;overflow-x:auto;line-height:normal;font-family:Menlo,'DejaVu Sans Mono',consolas,'Courier New',monospace\">        <span style=\"font-weight: bold\">(</span><span style=\"color: #008000; text-decoration-color: #008000\">'('</span>, <span style=\"color: #008080; text-decoration-color: #008080; font-weight: bold\">0.3313241027748067</span><span style=\"font-weight: bold\">)</span>\n",
       "</pre>\n"
      ],
      "text/plain": [
       "        \u001b[1m(\u001b[0m\u001b[32m'\u001b[0m\u001b[32m(\u001b[0m\u001b[32m'\u001b[0m, \u001b[1;36m0.3313241027748067\u001b[0m\u001b[1m)\u001b[0m\n"
      ]
     },
     "metadata": {},
     "output_type": "display_data"
    },
    {
     "data": {
      "text/html": [
       "<pre style=\"white-space:pre;overflow-x:auto;line-height:normal;font-family:Menlo,'DejaVu Sans Mono',consolas,'Courier New',monospace\">        <span style=\"font-weight: bold\">(</span><span style=\"color: #008000; text-decoration-color: #008000\">'serious'</span>, <span style=\"color: #008080; text-decoration-color: #008080; font-weight: bold\">0.3301832707516694</span><span style=\"font-weight: bold\">)</span>\n",
       "</pre>\n"
      ],
      "text/plain": [
       "        \u001b[1m(\u001b[0m\u001b[32m'serious'\u001b[0m, \u001b[1;36m0.3301832707516694\u001b[0m\u001b[1m)\u001b[0m\n"
      ]
     },
     "metadata": {},
     "output_type": "display_data"
    },
    {
     "data": {
      "text/html": [
       "<pre style=\"white-space:pre;overflow-x:auto;line-height:normal;font-family:Menlo,'DejaVu Sans Mono',consolas,'Courier New',monospace\">        <span style=\"font-weight: bold\">(</span><span style=\"color: #008000; text-decoration-color: #008000\">'third'</span>, <span style=\"color: #008080; text-decoration-color: #008080; font-weight: bold\">0.31884350867609673</span><span style=\"font-weight: bold\">)</span>\n",
       "</pre>\n"
      ],
      "text/plain": [
       "        \u001b[1m(\u001b[0m\u001b[32m'third'\u001b[0m, \u001b[1;36m0.31884350867609673\u001b[0m\u001b[1m)\u001b[0m\n"
      ]
     },
     "metadata": {},
     "output_type": "display_data"
    },
    {
     "data": {
      "text/html": [
       "<pre style=\"white-space:pre;overflow-x:auto;line-height:normal;font-family:Menlo,'DejaVu Sans Mono',consolas,'Courier New',monospace\"><span style=\"font-weight: bold\">(</span><span style=\"color: #008000; text-decoration-color: #008000\">'have'</span>, <span style=\"color: #008080; text-decoration-color: #008080; font-weight: bold\">33</span><span style=\"font-weight: bold\">)</span> most similar words:\n",
       "</pre>\n"
      ],
      "text/plain": [
       "\u001b[1m(\u001b[0m\u001b[32m'have'\u001b[0m, \u001b[1;36m33\u001b[0m\u001b[1m)\u001b[0m most similar words:\n"
      ]
     },
     "metadata": {},
     "output_type": "display_data"
    },
    {
     "data": {
      "text/html": [
       "<pre style=\"white-space:pre;overflow-x:auto;line-height:normal;font-family:Menlo,'DejaVu Sans Mono',consolas,'Courier New',monospace\">        <span style=\"font-weight: bold\">(</span><span style=\"color: #008000; text-decoration-color: #008000\">'have'</span>, <span style=\"color: #008080; text-decoration-color: #008080; font-weight: bold\">0.9999999999999999</span><span style=\"font-weight: bold\">)</span>\n",
       "</pre>\n"
      ],
      "text/plain": [
       "        \u001b[1m(\u001b[0m\u001b[32m'have'\u001b[0m, \u001b[1;36m0.9999999999999999\u001b[0m\u001b[1m)\u001b[0m\n"
      ]
     },
     "metadata": {},
     "output_type": "display_data"
    },
    {
     "data": {
      "text/html": [
       "<pre style=\"white-space:pre;overflow-x:auto;line-height:normal;font-family:Menlo,'DejaVu Sans Mono',consolas,'Courier New',monospace\">        <span style=\"font-weight: bold\">(</span><span style=\"color: #008000; text-decoration-color: #008000\">'had'</span>, <span style=\"color: #008080; text-decoration-color: #008080; font-weight: bold\">0.48906408545690055</span><span style=\"font-weight: bold\">)</span>\n",
       "</pre>\n"
      ],
      "text/plain": [
       "        \u001b[1m(\u001b[0m\u001b[32m'had'\u001b[0m, \u001b[1;36m0.48906408545690055\u001b[0m\u001b[1m)\u001b[0m\n"
      ]
     },
     "metadata": {},
     "output_type": "display_data"
    },
    {
     "data": {
      "text/html": [
       "<pre style=\"white-space:pre;overflow-x:auto;line-height:normal;font-family:Menlo,'DejaVu Sans Mono',consolas,'Courier New',monospace\">        <span style=\"font-weight: bold\">(</span><span style=\"color: #008000; text-decoration-color: #008000\">'has'</span>, <span style=\"color: #008080; text-decoration-color: #008080; font-weight: bold\">0.4687470655052027</span><span style=\"font-weight: bold\">)</span>\n",
       "</pre>\n"
      ],
      "text/plain": [
       "        \u001b[1m(\u001b[0m\u001b[32m'has'\u001b[0m, \u001b[1;36m0.4687470655052027\u001b[0m\u001b[1m)\u001b[0m\n"
      ]
     },
     "metadata": {},
     "output_type": "display_data"
    },
    {
     "data": {
      "text/html": [
       "<pre style=\"white-space:pre;overflow-x:auto;line-height:normal;font-family:Menlo,'DejaVu Sans Mono',consolas,'Courier New',monospace\">        <span style=\"font-weight: bold\">(</span><span style=\"color: #008000; text-decoration-color: #008000\">'having'</span>, <span style=\"color: #008080; text-decoration-color: #008080; font-weight: bold\">0.40251482342424444</span><span style=\"font-weight: bold\">)</span>\n",
       "</pre>\n"
      ],
      "text/plain": [
       "        \u001b[1m(\u001b[0m\u001b[32m'having'\u001b[0m, \u001b[1;36m0.40251482342424444\u001b[0m\u001b[1m)\u001b[0m\n"
      ]
     },
     "metadata": {},
     "output_type": "display_data"
    },
    {
     "data": {
      "text/html": [
       "<pre style=\"white-space:pre;overflow-x:auto;line-height:normal;font-family:Menlo,'DejaVu Sans Mono',consolas,'Courier New',monospace\">        <span style=\"font-weight: bold\">(</span><span style=\"color: #008000; text-decoration-color: #008000\">'once'</span>, <span style=\"color: #008080; text-decoration-color: #008080; font-weight: bold\">0.344079824404104</span><span style=\"font-weight: bold\">)</span>\n",
       "</pre>\n"
      ],
      "text/plain": [
       "        \u001b[1m(\u001b[0m\u001b[32m'once'\u001b[0m, \u001b[1;36m0.344079824404104\u001b[0m\u001b[1m)\u001b[0m\n"
      ]
     },
     "metadata": {},
     "output_type": "display_data"
    },
    {
     "data": {
      "text/html": [
       "<pre style=\"white-space:pre;overflow-x:auto;line-height:normal;font-family:Menlo,'DejaVu Sans Mono',consolas,'Courier New',monospace\">        <span style=\"font-weight: bold\">(</span><span style=\"color: #008000; text-decoration-color: #008000\">'an'</span>, <span style=\"color: #008080; text-decoration-color: #008080; font-weight: bold\">0.316912172892422</span><span style=\"font-weight: bold\">)</span>\n",
       "</pre>\n"
      ],
      "text/plain": [
       "        \u001b[1m(\u001b[0m\u001b[32m'an'\u001b[0m, \u001b[1;36m0.316912172892422\u001b[0m\u001b[1m)\u001b[0m\n"
      ]
     },
     "metadata": {},
     "output_type": "display_data"
    },
    {
     "data": {
      "text/html": [
       "<pre style=\"white-space:pre;overflow-x:auto;line-height:normal;font-family:Menlo,'DejaVu Sans Mono',consolas,'Courier New',monospace\">        <span style=\"font-weight: bold\">(</span><span style=\"color: #008000; text-decoration-color: #008000\">'listened'</span>, <span style=\"color: #008080; text-decoration-color: #008080; font-weight: bold\">0.2992393991672941</span><span style=\"font-weight: bold\">)</span>\n",
       "</pre>\n"
      ],
      "text/plain": [
       "        \u001b[1m(\u001b[0m\u001b[32m'listened'\u001b[0m, \u001b[1;36m0.2992393991672941\u001b[0m\u001b[1m)\u001b[0m\n"
      ]
     },
     "metadata": {},
     "output_type": "display_data"
    },
    {
     "data": {
      "text/html": [
       "<pre style=\"white-space:pre;overflow-x:auto;line-height:normal;font-family:Menlo,'DejaVu Sans Mono',consolas,'Courier New',monospace\">        <span style=\"font-weight: bold\">(</span><span style=\"color: #008000; text-decoration-color: #008000\">'pressed'</span>, <span style=\"color: #008080; text-decoration-color: #008080; font-weight: bold\">0.29462080885858605</span><span style=\"font-weight: bold\">)</span>\n",
       "</pre>\n"
      ],
      "text/plain": [
       "        \u001b[1m(\u001b[0m\u001b[32m'pressed'\u001b[0m, \u001b[1;36m0.29462080885858605\u001b[0m\u001b[1m)\u001b[0m\n"
      ]
     },
     "metadata": {},
     "output_type": "display_data"
    },
    {
     "data": {
      "text/html": [
       "<pre style=\"white-space:pre;overflow-x:auto;line-height:normal;font-family:Menlo,'DejaVu Sans Mono',consolas,'Courier New',monospace\">        <span style=\"font-weight: bold\">(</span><span style=\"color: #008000; text-decoration-color: #008000\">'makes'</span>, <span style=\"color: #008080; text-decoration-color: #008080; font-weight: bold\">0.284405407545646</span><span style=\"font-weight: bold\">)</span>\n",
       "</pre>\n"
      ],
      "text/plain": [
       "        \u001b[1m(\u001b[0m\u001b[32m'makes'\u001b[0m, \u001b[1;36m0.284405407545646\u001b[0m\u001b[1m)\u001b[0m\n"
      ]
     },
     "metadata": {},
     "output_type": "display_data"
    },
    {
     "data": {
      "text/html": [
       "<pre style=\"white-space:pre;overflow-x:auto;line-height:normal;font-family:Menlo,'DejaVu Sans Mono',consolas,'Courier New',monospace\">        <span style=\"font-weight: bold\">(</span><span style=\"color: #008000; text-decoration-color: #008000\">'father'</span>, <span style=\"color: #008080; text-decoration-color: #008080; font-weight: bold\">0.2839289504490221</span><span style=\"font-weight: bold\">)</span>\n",
       "</pre>\n"
      ],
      "text/plain": [
       "        \u001b[1m(\u001b[0m\u001b[32m'father'\u001b[0m, \u001b[1;36m0.2839289504490221\u001b[0m\u001b[1m)\u001b[0m\n"
      ]
     },
     "metadata": {},
     "output_type": "display_data"
    },
    {
     "data": {
      "text/html": [
       "<pre style=\"white-space:pre;overflow-x:auto;line-height:normal;font-family:Menlo,'DejaVu Sans Mono',consolas,'Courier New',monospace\"><span style=\"font-weight: bold\">(</span><span style=\"color: #008000; text-decoration-color: #008000\">'be'</span>, <span style=\"color: #008080; text-decoration-color: #008080; font-weight: bold\">29</span><span style=\"font-weight: bold\">)</span> most similar words:\n",
       "</pre>\n"
      ],
      "text/plain": [
       "\u001b[1m(\u001b[0m\u001b[32m'be'\u001b[0m, \u001b[1;36m29\u001b[0m\u001b[1m)\u001b[0m most similar words:\n"
      ]
     },
     "metadata": {},
     "output_type": "display_data"
    },
    {
     "data": {
      "text/html": [
       "<pre style=\"white-space:pre;overflow-x:auto;line-height:normal;font-family:Menlo,'DejaVu Sans Mono',consolas,'Courier New',monospace\">        <span style=\"font-weight: bold\">(</span><span style=\"color: #008000; text-decoration-color: #008000\">'be'</span>, <span style=\"color: #008080; text-decoration-color: #008080; font-weight: bold\">1.0</span><span style=\"font-weight: bold\">)</span>\n",
       "</pre>\n"
      ],
      "text/plain": [
       "        \u001b[1m(\u001b[0m\u001b[32m'be'\u001b[0m, \u001b[1;36m1.0\u001b[0m\u001b[1m)\u001b[0m\n"
      ]
     },
     "metadata": {},
     "output_type": "display_data"
    },
    {
     "data": {
      "text/html": [
       "<pre style=\"white-space:pre;overflow-x:auto;line-height:normal;font-family:Menlo,'DejaVu Sans Mono',consolas,'Courier New',monospace\">        <span style=\"font-weight: bold\">(</span><span style=\"color: #008000; text-decoration-color: #008000\">'am'</span>, <span style=\"color: #008080; text-decoration-color: #008080; font-weight: bold\">0.4996306904332097</span><span style=\"font-weight: bold\">)</span>\n",
       "</pre>\n"
      ],
      "text/plain": [
       "        \u001b[1m(\u001b[0m\u001b[32m'am'\u001b[0m, \u001b[1;36m0.4996306904332097\u001b[0m\u001b[1m)\u001b[0m\n"
      ]
     },
     "metadata": {},
     "output_type": "display_data"
    },
    {
     "data": {
      "text/html": [
       "<pre style=\"white-space:pre;overflow-x:auto;line-height:normal;font-family:Menlo,'DejaVu Sans Mono',consolas,'Courier New',monospace\">        <span style=\"font-weight: bold\">(</span><span style=\"color: #008000; text-decoration-color: #008000\">'bound'</span>, <span style=\"color: #008080; text-decoration-color: #008080; font-weight: bold\">0.39333382170118497</span><span style=\"font-weight: bold\">)</span>\n",
       "</pre>\n"
      ],
      "text/plain": [
       "        \u001b[1m(\u001b[0m\u001b[32m'bound'\u001b[0m, \u001b[1;36m0.39333382170118497\u001b[0m\u001b[1m)\u001b[0m\n"
      ]
     },
     "metadata": {},
     "output_type": "display_data"
    },
    {
     "data": {
      "text/html": [
       "<pre style=\"white-space:pre;overflow-x:auto;line-height:normal;font-family:Menlo,'DejaVu Sans Mono',consolas,'Courier New',monospace\">        <span style=\"font-weight: bold\">(</span><span style=\"color: #008000; text-decoration-color: #008000\">'being'</span>, <span style=\"color: #008080; text-decoration-color: #008080; font-weight: bold\">0.38920828764782506</span><span style=\"font-weight: bold\">)</span>\n",
       "</pre>\n"
      ],
      "text/plain": [
       "        \u001b[1m(\u001b[0m\u001b[32m'being'\u001b[0m, \u001b[1;36m0.38920828764782506\u001b[0m\u001b[1m)\u001b[0m\n"
      ]
     },
     "metadata": {},
     "output_type": "display_data"
    },
    {
     "data": {
      "text/html": [
       "<pre style=\"white-space:pre;overflow-x:auto;line-height:normal;font-family:Menlo,'DejaVu Sans Mono',consolas,'Courier New',monospace\">        <span style=\"font-weight: bold\">(</span><span style=\"color: #008000; text-decoration-color: #008000\">'was'</span>, <span style=\"color: #008080; text-decoration-color: #008080; font-weight: bold\">0.38732683488084285</span><span style=\"font-weight: bold\">)</span>\n",
       "</pre>\n"
      ],
      "text/plain": [
       "        \u001b[1m(\u001b[0m\u001b[32m'was'\u001b[0m, \u001b[1;36m0.38732683488084285\u001b[0m\u001b[1m)\u001b[0m\n"
      ]
     },
     "metadata": {},
     "output_type": "display_data"
    },
    {
     "data": {
      "text/html": [
       "<pre style=\"white-space:pre;overflow-x:auto;line-height:normal;font-family:Menlo,'DejaVu Sans Mono',consolas,'Courier New',monospace\">        <span style=\"font-weight: bold\">(</span><span style=\"color: #008000; text-decoration-color: #008000\">'quite'</span>, <span style=\"color: #008080; text-decoration-color: #008080; font-weight: bold\">0.37457586794348957</span><span style=\"font-weight: bold\">)</span>\n",
       "</pre>\n"
      ],
      "text/plain": [
       "        \u001b[1m(\u001b[0m\u001b[32m'quite'\u001b[0m, \u001b[1;36m0.37457586794348957\u001b[0m\u001b[1m)\u001b[0m\n"
      ]
     },
     "metadata": {},
     "output_type": "display_data"
    },
    {
     "data": {
      "text/html": [
       "<pre style=\"white-space:pre;overflow-x:auto;line-height:normal;font-family:Menlo,'DejaVu Sans Mono',consolas,'Courier New',monospace\">        <span style=\"font-weight: bold\">(</span><span style=\"color: #008000; text-decoration-color: #008000\">'been'</span>, <span style=\"color: #008080; text-decoration-color: #008080; font-weight: bold\">0.37122644285054757</span><span style=\"font-weight: bold\">)</span>\n",
       "</pre>\n"
      ],
      "text/plain": [
       "        \u001b[1m(\u001b[0m\u001b[32m'been'\u001b[0m, \u001b[1;36m0.37122644285054757\u001b[0m\u001b[1m)\u001b[0m\n"
      ]
     },
     "metadata": {},
     "output_type": "display_data"
    },
    {
     "data": {
      "text/html": [
       "<pre style=\"white-space:pre;overflow-x:auto;line-height:normal;font-family:Menlo,'DejaVu Sans Mono',consolas,'Courier New',monospace\">        <span style=\"font-weight: bold\">(</span><span style=\"color: #008000; text-decoration-color: #008000\">'peasants'</span>, <span style=\"color: #008080; text-decoration-color: #008080; font-weight: bold\">0.36563380330661904</span><span style=\"font-weight: bold\">)</span>\n",
       "</pre>\n"
      ],
      "text/plain": [
       "        \u001b[1m(\u001b[0m\u001b[32m'peasants'\u001b[0m, \u001b[1;36m0.36563380330661904\u001b[0m\u001b[1m)\u001b[0m\n"
      ]
     },
     "metadata": {},
     "output_type": "display_data"
    },
    {
     "data": {
      "text/html": [
       "<pre style=\"white-space:pre;overflow-x:auto;line-height:normal;font-family:Menlo,'DejaVu Sans Mono',consolas,'Courier New',monospace\">        <span style=\"font-weight: bold\">(</span><span style=\"color: #008000; text-decoration-color: #008000\">'greater'</span>, <span style=\"color: #008080; text-decoration-color: #008080; font-weight: bold\">0.3503033003842444</span><span style=\"font-weight: bold\">)</span>\n",
       "</pre>\n"
      ],
      "text/plain": [
       "        \u001b[1m(\u001b[0m\u001b[32m'greater'\u001b[0m, \u001b[1;36m0.3503033003842444\u001b[0m\u001b[1m)\u001b[0m\n"
      ]
     },
     "metadata": {},
     "output_type": "display_data"
    },
    {
     "data": {
      "text/html": [
       "<pre style=\"white-space:pre;overflow-x:auto;line-height:normal;font-family:Menlo,'DejaVu Sans Mono',consolas,'Courier New',monospace\">        <span style=\"font-weight: bold\">(</span><span style=\"color: #008000; text-decoration-color: #008000\">'lady'</span>, <span style=\"color: #008080; text-decoration-color: #008080; font-weight: bold\">0.3273430241372787</span><span style=\"font-weight: bold\">)</span>\n",
       "</pre>\n"
      ],
      "text/plain": [
       "        \u001b[1m(\u001b[0m\u001b[32m'lady'\u001b[0m, \u001b[1;36m0.3273430241372787\u001b[0m\u001b[1m)\u001b[0m\n"
      ]
     },
     "metadata": {},
     "output_type": "display_data"
    },
    {
     "data": {
      "text/html": [
       "<pre style=\"white-space:pre;overflow-x:auto;line-height:normal;font-family:Menlo,'DejaVu Sans Mono',consolas,'Courier New',monospace\"><span style=\"font-weight: bold\">(</span><span style=\"color: #008000; text-decoration-color: #008000\">'child'</span>, <span style=\"color: #008080; text-decoration-color: #008080; font-weight: bold\">363</span><span style=\"font-weight: bold\">)</span> most similar words:\n",
       "</pre>\n"
      ],
      "text/plain": [
       "\u001b[1m(\u001b[0m\u001b[32m'child'\u001b[0m, \u001b[1;36m363\u001b[0m\u001b[1m)\u001b[0m most similar words:\n"
      ]
     },
     "metadata": {},
     "output_type": "display_data"
    },
    {
     "data": {
      "text/html": [
       "<pre style=\"white-space:pre;overflow-x:auto;line-height:normal;font-family:Menlo,'DejaVu Sans Mono',consolas,'Courier New',monospace\">        <span style=\"font-weight: bold\">(</span><span style=\"color: #008000; text-decoration-color: #008000\">'child'</span>, <span style=\"color: #008080; text-decoration-color: #008080; font-weight: bold\">0.9999999999999999</span><span style=\"font-weight: bold\">)</span>\n",
       "</pre>\n"
      ],
      "text/plain": [
       "        \u001b[1m(\u001b[0m\u001b[32m'child'\u001b[0m, \u001b[1;36m0.9999999999999999\u001b[0m\u001b[1m)\u001b[0m\n"
      ]
     },
     "metadata": {},
     "output_type": "display_data"
    },
    {
     "data": {
      "text/html": [
       "<pre style=\"white-space:pre;overflow-x:auto;line-height:normal;font-family:Menlo,'DejaVu Sans Mono',consolas,'Courier New',monospace\">        <span style=\"font-weight: bold\">(</span><span style=\"color: #008000; text-decoration-color: #008000\">'smoke'</span>, <span style=\"color: #008080; text-decoration-color: #008080; font-weight: bold\">0.4344986320559223</span><span style=\"font-weight: bold\">)</span>\n",
       "</pre>\n"
      ],
      "text/plain": [
       "        \u001b[1m(\u001b[0m\u001b[32m'smoke'\u001b[0m, \u001b[1;36m0.4344986320559223\u001b[0m\u001b[1m)\u001b[0m\n"
      ]
     },
     "metadata": {},
     "output_type": "display_data"
    },
    {
     "data": {
      "text/html": [
       "<pre style=\"white-space:pre;overflow-x:auto;line-height:normal;font-family:Menlo,'DejaVu Sans Mono',consolas,'Courier New',monospace\">        <span style=\"font-weight: bold\">(</span><span style=\"color: #008000; text-decoration-color: #008000\">'either'</span>, <span style=\"color: #008080; text-decoration-color: #008080; font-weight: bold\">0.3288457441341601</span><span style=\"font-weight: bold\">)</span>\n",
       "</pre>\n"
      ],
      "text/plain": [
       "        \u001b[1m(\u001b[0m\u001b[32m'either'\u001b[0m, \u001b[1;36m0.3288457441341601\u001b[0m\u001b[1m)\u001b[0m\n"
      ]
     },
     "metadata": {},
     "output_type": "display_data"
    },
    {
     "data": {
      "text/html": [
       "<pre style=\"white-space:pre;overflow-x:auto;line-height:normal;font-family:Menlo,'DejaVu Sans Mono',consolas,'Courier New',monospace\">        <span style=\"font-weight: bold\">(</span><span style=\"color: #008000; text-decoration-color: #008000\">'among'</span>, <span style=\"color: #008080; text-decoration-color: #008080; font-weight: bold\">0.31241752754419766</span><span style=\"font-weight: bold\">)</span>\n",
       "</pre>\n"
      ],
      "text/plain": [
       "        \u001b[1m(\u001b[0m\u001b[32m'among'\u001b[0m, \u001b[1;36m0.31241752754419766\u001b[0m\u001b[1m)\u001b[0m\n"
      ]
     },
     "metadata": {},
     "output_type": "display_data"
    },
    {
     "data": {
      "text/html": [
       "<pre style=\"white-space:pre;overflow-x:auto;line-height:normal;font-family:Menlo,'DejaVu Sans Mono',consolas,'Courier New',monospace\">        <span style=\"font-weight: bold\">(</span><span style=\"color: #008000; text-decoration-color: #008000\">'hat'</span>, <span style=\"color: #008080; text-decoration-color: #008080; font-weight: bold\">0.306736105160291</span><span style=\"font-weight: bold\">)</span>\n",
       "</pre>\n"
      ],
      "text/plain": [
       "        \u001b[1m(\u001b[0m\u001b[32m'hat'\u001b[0m, \u001b[1;36m0.306736105160291\u001b[0m\u001b[1m)\u001b[0m\n"
      ]
     },
     "metadata": {},
     "output_type": "display_data"
    },
    {
     "data": {
      "text/html": [
       "<pre style=\"white-space:pre;overflow-x:auto;line-height:normal;font-family:Menlo,'DejaVu Sans Mono',consolas,'Courier New',monospace\">        <span style=\"font-weight: bold\">(</span><span style=\"color: #008000; text-decoration-color: #008000\">'joy'</span>, <span style=\"color: #008080; text-decoration-color: #008080; font-weight: bold\">0.29813109190747633</span><span style=\"font-weight: bold\">)</span>\n",
       "</pre>\n"
      ],
      "text/plain": [
       "        \u001b[1m(\u001b[0m\u001b[32m'joy'\u001b[0m, \u001b[1;36m0.29813109190747633\u001b[0m\u001b[1m)\u001b[0m\n"
      ]
     },
     "metadata": {},
     "output_type": "display_data"
    },
    {
     "data": {
      "text/html": [
       "<pre style=\"white-space:pre;overflow-x:auto;line-height:normal;font-family:Menlo,'DejaVu Sans Mono',consolas,'Courier New',monospace\">        <span style=\"font-weight: bold\">(</span><span style=\"color: #008000; text-decoration-color: #008000\">'ground'</span>, <span style=\"color: #008080; text-decoration-color: #008080; font-weight: bold\">0.29492561865051103</span><span style=\"font-weight: bold\">)</span>\n",
       "</pre>\n"
      ],
      "text/plain": [
       "        \u001b[1m(\u001b[0m\u001b[32m'ground'\u001b[0m, \u001b[1;36m0.29492561865051103\u001b[0m\u001b[1m)\u001b[0m\n"
      ]
     },
     "metadata": {},
     "output_type": "display_data"
    },
    {
     "data": {
      "text/html": [
       "<pre style=\"white-space:pre;overflow-x:auto;line-height:normal;font-family:Menlo,'DejaVu Sans Mono',consolas,'Courier New',monospace\">        <span style=\"font-weight: bold\">(</span><span style=\"color: #008000; text-decoration-color: #008000\">'surprise'</span>, <span style=\"color: #008080; text-decoration-color: #008080; font-weight: bold\">0.29411319938883274</span><span style=\"font-weight: bold\">)</span>\n",
       "</pre>\n"
      ],
      "text/plain": [
       "        \u001b[1m(\u001b[0m\u001b[32m'surprise'\u001b[0m, \u001b[1;36m0.29411319938883274\u001b[0m\u001b[1m)\u001b[0m\n"
      ]
     },
     "metadata": {},
     "output_type": "display_data"
    },
    {
     "data": {
      "text/html": [
       "<pre style=\"white-space:pre;overflow-x:auto;line-height:normal;font-family:Menlo,'DejaVu Sans Mono',consolas,'Courier New',monospace\">        <span style=\"font-weight: bold\">(</span><span style=\"color: #008000; text-decoration-color: #008000\">'table'</span>, <span style=\"color: #008080; text-decoration-color: #008080; font-weight: bold\">0.28697708997663945</span><span style=\"font-weight: bold\">)</span>\n",
       "</pre>\n"
      ],
      "text/plain": [
       "        \u001b[1m(\u001b[0m\u001b[32m'table'\u001b[0m, \u001b[1;36m0.28697708997663945\u001b[0m\u001b[1m)\u001b[0m\n"
      ]
     },
     "metadata": {},
     "output_type": "display_data"
    },
    {
     "data": {
      "text/html": [
       "<pre style=\"white-space:pre;overflow-x:auto;line-height:normal;font-family:Menlo,'DejaVu Sans Mono',consolas,'Courier New',monospace\">        <span style=\"font-weight: bold\">(</span><span style=\"color: #008000; text-decoration-color: #008000\">'someone'</span>, <span style=\"color: #008080; text-decoration-color: #008080; font-weight: bold\">0.2857596632719656</span><span style=\"font-weight: bold\">)</span>\n",
       "</pre>\n"
      ],
      "text/plain": [
       "        \u001b[1m(\u001b[0m\u001b[32m'someone'\u001b[0m, \u001b[1;36m0.2857596632719656\u001b[0m\u001b[1m)\u001b[0m\n"
      ]
     },
     "metadata": {},
     "output_type": "display_data"
    },
    {
     "data": {
      "text/html": [
       "<pre style=\"white-space:pre;overflow-x:auto;line-height:normal;font-family:Menlo,'DejaVu Sans Mono',consolas,'Courier New',monospace\"><span style=\"font-weight: bold\">(</span><span style=\"color: #008000; text-decoration-color: #008000\">'yes'</span>, <span style=\"color: #008080; text-decoration-color: #008080; font-weight: bold\">497</span><span style=\"font-weight: bold\">)</span> most similar words:\n",
       "</pre>\n"
      ],
      "text/plain": [
       "\u001b[1m(\u001b[0m\u001b[32m'yes'\u001b[0m, \u001b[1;36m497\u001b[0m\u001b[1m)\u001b[0m most similar words:\n"
      ]
     },
     "metadata": {},
     "output_type": "display_data"
    },
    {
     "data": {
      "text/html": [
       "<pre style=\"white-space:pre;overflow-x:auto;line-height:normal;font-family:Menlo,'DejaVu Sans Mono',consolas,'Courier New',monospace\">        <span style=\"font-weight: bold\">(</span><span style=\"color: #008000; text-decoration-color: #008000\">'yes'</span>, <span style=\"color: #008080; text-decoration-color: #008080; font-weight: bold\">1.0</span><span style=\"font-weight: bold\">)</span>\n",
       "</pre>\n"
      ],
      "text/plain": [
       "        \u001b[1m(\u001b[0m\u001b[32m'yes'\u001b[0m, \u001b[1;36m1.0\u001b[0m\u001b[1m)\u001b[0m\n"
      ]
     },
     "metadata": {},
     "output_type": "display_data"
    },
    {
     "data": {
      "text/html": [
       "<pre style=\"white-space:pre;overflow-x:auto;line-height:normal;font-family:Menlo,'DejaVu Sans Mono',consolas,'Courier New',monospace\">        <span style=\"font-weight: bold\">(</span><span style=\"color: #008000; text-decoration-color: #008000\">'really'</span>, <span style=\"color: #008080; text-decoration-color: #008080; font-weight: bold\">0.35252760216191137</span><span style=\"font-weight: bold\">)</span>\n",
       "</pre>\n"
      ],
      "text/plain": [
       "        \u001b[1m(\u001b[0m\u001b[32m'really'\u001b[0m, \u001b[1;36m0.35252760216191137\u001b[0m\u001b[1m)\u001b[0m\n"
      ]
     },
     "metadata": {},
     "output_type": "display_data"
    },
    {
     "data": {
      "text/html": [
       "<pre style=\"white-space:pre;overflow-x:auto;line-height:normal;font-family:Menlo,'DejaVu Sans Mono',consolas,'Courier New',monospace\">        <span style=\"font-weight: bold\">(</span><span style=\"color: #008000; text-decoration-color: #008000\">'longer'</span>, <span style=\"color: #008080; text-decoration-color: #008080; font-weight: bold\">0.3238187294211124</span><span style=\"font-weight: bold\">)</span>\n",
       "</pre>\n"
      ],
      "text/plain": [
       "        \u001b[1m(\u001b[0m\u001b[32m'longer'\u001b[0m, \u001b[1;36m0.3238187294211124\u001b[0m\u001b[1m)\u001b[0m\n"
      ]
     },
     "metadata": {},
     "output_type": "display_data"
    },
    {
     "data": {
      "text/html": [
       "<pre style=\"white-space:pre;overflow-x:auto;line-height:normal;font-family:Menlo,'DejaVu Sans Mono',consolas,'Courier New',monospace\">        <span style=\"font-weight: bold\">(</span><span style=\"color: #008000; text-decoration-color: #008000\">'ground'</span>, <span style=\"color: #008080; text-decoration-color: #008080; font-weight: bold\">0.32099696753916973</span><span style=\"font-weight: bold\">)</span>\n",
       "</pre>\n"
      ],
      "text/plain": [
       "        \u001b[1m(\u001b[0m\u001b[32m'ground'\u001b[0m, \u001b[1;36m0.32099696753916973\u001b[0m\u001b[1m)\u001b[0m\n"
      ]
     },
     "metadata": {},
     "output_type": "display_data"
    },
    {
     "data": {
      "text/html": [
       "<pre style=\"white-space:pre;overflow-x:auto;line-height:normal;font-family:Menlo,'DejaVu Sans Mono',consolas,'Courier New',monospace\">        <span style=\"font-weight: bold\">(</span><span style=\"color: #008000; text-decoration-color: #008000\">'for'</span>, <span style=\"color: #008080; text-decoration-color: #008080; font-weight: bold\">0.318290897063974</span><span style=\"font-weight: bold\">)</span>\n",
       "</pre>\n"
      ],
      "text/plain": [
       "        \u001b[1m(\u001b[0m\u001b[32m'for'\u001b[0m, \u001b[1;36m0.318290897063974\u001b[0m\u001b[1m)\u001b[0m\n"
      ]
     },
     "metadata": {},
     "output_type": "display_data"
    },
    {
     "data": {
      "text/html": [
       "<pre style=\"white-space:pre;overflow-x:auto;line-height:normal;font-family:Menlo,'DejaVu Sans Mono',consolas,'Courier New',monospace\">        <span style=\"font-weight: bold\">(</span><span style=\"color: #008000; text-decoration-color: #008000\">'late'</span>, <span style=\"color: #008080; text-decoration-color: #008080; font-weight: bold\">0.3115908188782334</span><span style=\"font-weight: bold\">)</span>\n",
       "</pre>\n"
      ],
      "text/plain": [
       "        \u001b[1m(\u001b[0m\u001b[32m'late'\u001b[0m, \u001b[1;36m0.3115908188782334\u001b[0m\u001b[1m)\u001b[0m\n"
      ]
     },
     "metadata": {},
     "output_type": "display_data"
    },
    {
     "data": {
      "text/html": [
       "<pre style=\"white-space:pre;overflow-x:auto;line-height:normal;font-family:Menlo,'DejaVu Sans Mono',consolas,'Courier New',monospace\">        <span style=\"font-weight: bold\">(</span><span style=\"color: #008000; text-decoration-color: #008000\">'other'</span>, <span style=\"color: #008080; text-decoration-color: #008080; font-weight: bold\">0.3111243183081498</span><span style=\"font-weight: bold\">)</span>\n",
       "</pre>\n"
      ],
      "text/plain": [
       "        \u001b[1m(\u001b[0m\u001b[32m'other'\u001b[0m, \u001b[1;36m0.3111243183081498\u001b[0m\u001b[1m)\u001b[0m\n"
      ]
     },
     "metadata": {},
     "output_type": "display_data"
    },
    {
     "data": {
      "text/html": [
       "<pre style=\"white-space:pre;overflow-x:auto;line-height:normal;font-family:Menlo,'DejaVu Sans Mono',consolas,'Courier New',monospace\">        <span style=\"font-weight: bold\">(</span><span style=\"color: #008000; text-decoration-color: #008000\">'escape'</span>, <span style=\"color: #008080; text-decoration-color: #008080; font-weight: bold\">0.30695142798926006</span><span style=\"font-weight: bold\">)</span>\n",
       "</pre>\n"
      ],
      "text/plain": [
       "        \u001b[1m(\u001b[0m\u001b[32m'escape'\u001b[0m, \u001b[1;36m0.30695142798926006\u001b[0m\u001b[1m)\u001b[0m\n"
      ]
     },
     "metadata": {},
     "output_type": "display_data"
    },
    {
     "data": {
      "text/html": [
       "<pre style=\"white-space:pre;overflow-x:auto;line-height:normal;font-family:Menlo,'DejaVu Sans Mono',consolas,'Courier New',monospace\">        <span style=\"font-weight: bold\">(</span><span style=\"color: #008000; text-decoration-color: #008000\">'easy'</span>, <span style=\"color: #008080; text-decoration-color: #008080; font-weight: bold\">0.30358927470261804</span><span style=\"font-weight: bold\">)</span>\n",
       "</pre>\n"
      ],
      "text/plain": [
       "        \u001b[1m(\u001b[0m\u001b[32m'easy'\u001b[0m, \u001b[1;36m0.30358927470261804\u001b[0m\u001b[1m)\u001b[0m\n"
      ]
     },
     "metadata": {},
     "output_type": "display_data"
    },
    {
     "data": {
      "text/html": [
       "<pre style=\"white-space:pre;overflow-x:auto;line-height:normal;font-family:Menlo,'DejaVu Sans Mono',consolas,'Courier New',monospace\">        <span style=\"font-weight: bold\">(</span><span style=\"color: #008000; text-decoration-color: #008000\">'live'</span>, <span style=\"color: #008080; text-decoration-color: #008080; font-weight: bold\">0.29974516044067867</span><span style=\"font-weight: bold\">)</span>\n",
       "</pre>\n"
      ],
      "text/plain": [
       "        \u001b[1m(\u001b[0m\u001b[32m'live'\u001b[0m, \u001b[1;36m0.29974516044067867\u001b[0m\u001b[1m)\u001b[0m\n"
      ]
     },
     "metadata": {},
     "output_type": "display_data"
    },
    {
     "data": {
      "text/html": [
       "<pre style=\"white-space:pre;overflow-x:auto;line-height:normal;font-family:Menlo,'DejaVu Sans Mono',consolas,'Courier New',monospace\"><span style=\"font-weight: bold\">(</span><span style=\"color: #008000; text-decoration-color: #008000\">'what'</span>, <span style=\"color: #008080; text-decoration-color: #008080; font-weight: bold\">45</span><span style=\"font-weight: bold\">)</span> most similar words:\n",
       "</pre>\n"
      ],
      "text/plain": [
       "\u001b[1m(\u001b[0m\u001b[32m'what'\u001b[0m, \u001b[1;36m45\u001b[0m\u001b[1m)\u001b[0m most similar words:\n"
      ]
     },
     "metadata": {},
     "output_type": "display_data"
    },
    {
     "data": {
      "text/html": [
       "<pre style=\"white-space:pre;overflow-x:auto;line-height:normal;font-family:Menlo,'DejaVu Sans Mono',consolas,'Courier New',monospace\">        <span style=\"font-weight: bold\">(</span><span style=\"color: #008000; text-decoration-color: #008000\">'what'</span>, <span style=\"color: #008080; text-decoration-color: #008080; font-weight: bold\">1.0</span><span style=\"font-weight: bold\">)</span>\n",
       "</pre>\n"
      ],
      "text/plain": [
       "        \u001b[1m(\u001b[0m\u001b[32m'what'\u001b[0m, \u001b[1;36m1.0\u001b[0m\u001b[1m)\u001b[0m\n"
      ]
     },
     "metadata": {},
     "output_type": "display_data"
    },
    {
     "data": {
      "text/html": [
       "<pre style=\"white-space:pre;overflow-x:auto;line-height:normal;font-family:Menlo,'DejaVu Sans Mono',consolas,'Courier New',monospace\">        <span style=\"font-weight: bold\">(</span><span style=\"color: #008000; text-decoration-color: #008000\">'how'</span>, <span style=\"color: #008080; text-decoration-color: #008080; font-weight: bold\">0.35342339972740544</span><span style=\"font-weight: bold\">)</span>\n",
       "</pre>\n"
      ],
      "text/plain": [
       "        \u001b[1m(\u001b[0m\u001b[32m'how'\u001b[0m, \u001b[1;36m0.35342339972740544\u001b[0m\u001b[1m)\u001b[0m\n"
      ]
     },
     "metadata": {},
     "output_type": "display_data"
    },
    {
     "data": {
      "text/html": [
       "<pre style=\"white-space:pre;overflow-x:auto;line-height:normal;font-family:Menlo,'DejaVu Sans Mono',consolas,'Courier New',monospace\">        <span style=\"font-weight: bold\">(</span><span style=\"color: #008000; text-decoration-color: #008000\">'cause'</span>, <span style=\"color: #008080; text-decoration-color: #008080; font-weight: bold\">0.3330162962445602</span><span style=\"font-weight: bold\">)</span>\n",
       "</pre>\n"
      ],
      "text/plain": [
       "        \u001b[1m(\u001b[0m\u001b[32m'cause'\u001b[0m, \u001b[1;36m0.3330162962445602\u001b[0m\u001b[1m)\u001b[0m\n"
      ]
     },
     "metadata": {},
     "output_type": "display_data"
    },
    {
     "data": {
      "text/html": [
       "<pre style=\"white-space:pre;overflow-x:auto;line-height:normal;font-family:Menlo,'DejaVu Sans Mono',consolas,'Courier New',monospace\">        <span style=\"font-weight: bold\">(</span><span style=\"color: #008000; text-decoration-color: #008000\">'whatever'</span>, <span style=\"color: #008080; text-decoration-color: #008080; font-weight: bold\">0.31612881797735115</span><span style=\"font-weight: bold\">)</span>\n",
       "</pre>\n"
      ],
      "text/plain": [
       "        \u001b[1m(\u001b[0m\u001b[32m'whatever'\u001b[0m, \u001b[1;36m0.31612881797735115\u001b[0m\u001b[1m)\u001b[0m\n"
      ]
     },
     "metadata": {},
     "output_type": "display_data"
    },
    {
     "data": {
      "text/html": [
       "<pre style=\"white-space:pre;overflow-x:auto;line-height:normal;font-family:Menlo,'DejaVu Sans Mono',consolas,'Courier New',monospace\">        <span style=\"font-weight: bold\">(</span><span style=\"color: #008000; text-decoration-color: #008000\">'nearer'</span>, <span style=\"color: #008080; text-decoration-color: #008080; font-weight: bold\">0.31462411171094246</span><span style=\"font-weight: bold\">)</span>\n",
       "</pre>\n"
      ],
      "text/plain": [
       "        \u001b[1m(\u001b[0m\u001b[32m'nearer'\u001b[0m, \u001b[1;36m0.31462411171094246\u001b[0m\u001b[1m)\u001b[0m\n"
      ]
     },
     "metadata": {},
     "output_type": "display_data"
    },
    {
     "data": {
      "text/html": [
       "<pre style=\"white-space:pre;overflow-x:auto;line-height:normal;font-family:Menlo,'DejaVu Sans Mono',consolas,'Courier New',monospace\">        <span style=\"font-weight: bold\">(</span><span style=\"color: #008000; text-decoration-color: #008000\">'sides'</span>, <span style=\"color: #008080; text-decoration-color: #008080; font-weight: bold\">0.3139904764162807</span><span style=\"font-weight: bold\">)</span>\n",
       "</pre>\n"
      ],
      "text/plain": [
       "        \u001b[1m(\u001b[0m\u001b[32m'sides'\u001b[0m, \u001b[1;36m0.3139904764162807\u001b[0m\u001b[1m)\u001b[0m\n"
      ]
     },
     "metadata": {},
     "output_type": "display_data"
    },
    {
     "data": {
      "text/html": [
       "<pre style=\"white-space:pre;overflow-x:auto;line-height:normal;font-family:Menlo,'DejaVu Sans Mono',consolas,'Courier New',monospace\">        <span style=\"font-weight: bold\">(</span><span style=\"color: #008000; text-decoration-color: #008000\">'meaning'</span>, <span style=\"color: #008080; text-decoration-color: #008080; font-weight: bold\">0.3106914021489903</span><span style=\"font-weight: bold\">)</span>\n",
       "</pre>\n"
      ],
      "text/plain": [
       "        \u001b[1m(\u001b[0m\u001b[32m'meaning'\u001b[0m, \u001b[1;36m0.3106914021489903\u001b[0m\u001b[1m)\u001b[0m\n"
      ]
     },
     "metadata": {},
     "output_type": "display_data"
    },
    {
     "data": {
      "text/html": [
       "<pre style=\"white-space:pre;overflow-x:auto;line-height:normal;font-family:Menlo,'DejaVu Sans Mono',consolas,'Courier New',monospace\">        <span style=\"font-weight: bold\">(</span><span style=\"color: #008000; text-decoration-color: #008000\">'where'</span>, <span style=\"color: #008080; text-decoration-color: #008080; font-weight: bold\">0.30664541015675867</span><span style=\"font-weight: bold\">)</span>\n",
       "</pre>\n"
      ],
      "text/plain": [
       "        \u001b[1m(\u001b[0m\u001b[32m'where'\u001b[0m, \u001b[1;36m0.30664541015675867\u001b[0m\u001b[1m)\u001b[0m\n"
      ]
     },
     "metadata": {},
     "output_type": "display_data"
    },
    {
     "data": {
      "text/html": [
       "<pre style=\"white-space:pre;overflow-x:auto;line-height:normal;font-family:Menlo,'DejaVu Sans Mono',consolas,'Courier New',monospace\">        <span style=\"font-weight: bold\">(</span><span style=\"color: #008000; text-decoration-color: #008000\">'which'</span>, <span style=\"color: #008080; text-decoration-color: #008080; font-weight: bold\">0.28588535455240194</span><span style=\"font-weight: bold\">)</span>\n",
       "</pre>\n"
      ],
      "text/plain": [
       "        \u001b[1m(\u001b[0m\u001b[32m'which'\u001b[0m, \u001b[1;36m0.28588535455240194\u001b[0m\u001b[1m)\u001b[0m\n"
      ]
     },
     "metadata": {},
     "output_type": "display_data"
    },
    {
     "data": {
      "text/html": [
       "<pre style=\"white-space:pre;overflow-x:auto;line-height:normal;font-family:Menlo,'DejaVu Sans Mono',consolas,'Courier New',monospace\">        <span style=\"font-weight: bold\">(</span><span style=\"color: #008000; text-decoration-color: #008000\">'nor'</span>, <span style=\"color: #008080; text-decoration-color: #008080; font-weight: bold\">0.2811999634320446</span><span style=\"font-weight: bold\">)</span>\n",
       "</pre>\n"
      ],
      "text/plain": [
       "        \u001b[1m(\u001b[0m\u001b[32m'nor'\u001b[0m, \u001b[1;36m0.2811999634320446\u001b[0m\u001b[1m)\u001b[0m\n"
      ]
     },
     "metadata": {},
     "output_type": "display_data"
    }
   ],
   "source": [
    "testing_words = [\"me\", \"white\", \"man\", \"have\", \"be\", \"child\", \"yes\", \"what\"]\n",
    "testing_words_idx = [(i, vocab.get_stoi()[i]) for i in testing_words]\n",
    "\n",
    "n_most_similar = 10\n",
    "for w in testing_words_idx:\n",
    "\n",
    "    indices = (-sim_matrix[w[1]]).argsort()[:n_most_similar]\n",
    "    sim_words = [(vocab.get_itos()[i], sim_matrix[w[1]][i]) for i in indices]\n",
    "    print(f\"{w} most similar words:\")\n",
    "\n",
    "    for sim_w in sim_words:\n",
    "        print(f\"\\t{sim_w}\")\n"
   ]
  },
  {
   "cell_type": "markdown",
   "metadata": {},
   "source": [
    "We find some words in the top 10 most timilar words according to the similarity matrix. For example be - am, have - had and what - how.\n",
    "\n",
    "Let us take a look at the embedding space visually"
   ]
  },
  {
   "cell_type": "markdown",
   "metadata": {},
   "source": [
    "#### 6 -Visualize the embedding space.\n",
    "To do so, upload the vocabulary and their corresponding values in the embedding space as tsv files. Try to find\n",
    "and select clusters. Report both plots and their corresponding selections for some meaningful\n",
    "clusters."
   ]
  },
  {
   "cell_type": "code",
   "execution_count": 15,
   "metadata": {},
   "outputs": [],
   "source": [
    "import csv\n",
    "\n",
    "with open(\"./weights.tsv\", \"wt\") as out_file:\n",
    "    tsv_writer = csv.writer(out_file, delimiter=\"\\t\")\n",
    "    for i in best_model_weights:\n",
    "        tsv_writer.writerow(i.numpy())\n",
    "\n",
    "\n",
    "with open(\"./metadata.tsv\", \"wt\") as out_file:\n",
    "    tsv_writer = csv.writer(out_file, delimiter=\"\\t\")\n",
    "    vocab_dict = vocab.get_itos()\n",
    "    for i in vocab_dict:\n",
    "        tsv_writer.writerow([i])\n"
   ]
  },
  {
   "cell_type": "markdown",
   "metadata": {},
   "source": [
    "![Battlefield](./visualizations/battlefield.png)\n",
    "![Princess](./visualizations/princess.png)\n",
    "![Happiness](./visualizations/happiness.png)\n",
    "![Work](./visualizations/work.png)\n",
    "\n",
    "\n",
    "In regards to task 5 we find better clusters than the words checked previously. It seems that outliers and special words used in less context are better clustered, but more normal words have less similarity in the cosine similarity matrix. For example Battlefield is surprisingly well clustered."
   ]
  },
  {
   "cell_type": "markdown",
   "metadata": {},
   "source": [
    "## 2.2 Conjugating *be* and *have*"
   ]
  },
  {
   "cell_type": "markdown",
   "metadata": {},
   "source": [
    "#### 1 - Use your trained word embedding and define a MLP architecture as well as a RNN architecture to predict be and have conjugation given the context around the missing target. \n",
    "Use the same context size for both MLPs and RNNs, even though RNNs could take a context size of arbitrary\n",
    "length.\n",
    "\n",
    "- Your trained word embedding can be integrated in your next models in different ways. For\n",
    "example, you can transform inputs before feeding them to your models, or have a first layer in\n",
    "your models with the same weight values as your trained embedding matrix, or simply define\n",
    "the computations between the input and the embedding matrix in the forward function.\n",
    "- To predict be and have conjugation, the (contexts, targets) datasets must be such that\n",
    "the targets are be, am, are, is, was, were, been, being, have, has, had, having. The output\n",
    "layer must match the number of classes to predict and the labels must be mapped from their\n",
    "original index in the vocabulary to integers between 0 and 11."
   ]
  },
  {
   "cell_type": "code",
   "execution_count": 16,
   "metadata": {},
   "outputs": [],
   "source": [
    "def create_conjugate_dataset(text, vocab, around_context_size=2):\n",
    "    contexts = []\n",
    "    targets = []\n",
    "    n_text = len(text)\n",
    "\n",
    "    target_possibilities = [\n",
    "        \"be\",\n",
    "        \"am\",\n",
    "        \"are\",\n",
    "        \"is\",\n",
    "        \"was\",\n",
    "        \"were\",\n",
    "        \"been\",\n",
    "        \"being\",\n",
    "        \"have\",\n",
    "        \"has\",\n",
    "        \"had\",\n",
    "        \"having\",\n",
    "    ]\n",
    "\n",
    "    target_to_idx = {target: i for i, target in enumerate(target_possibilities)}\n",
    "\n",
    "    for i in range(around_context_size, n_text - around_context_size):\n",
    "\n",
    "        word = text[i]\n",
    "\n",
    "        if word in target_possibilities:\n",
    "\n",
    "            t = target_to_idx[word]\n",
    "\n",
    "            around = text[i - around_context_size-1 : i - 1] + text[i + 1 : i + around_context_size+1]\n",
    "\n",
    "            c = torch.Tensor([vocab[w] for w in around]).type(torch.long)\n",
    "\n",
    "            targets.append(t)\n",
    "\n",
    "            contexts.append(c)\n",
    "\n",
    "    contexts = torch.stack(contexts)\n",
    "    targets = torch.tensor(targets)\n",
    "    return TensorDataset(contexts, targets)\n",
    "\n",
    "\n",
    "train_conjugate_data = create_conjugate_dataset(train_tokenized, vocab)\n",
    "val_conjugate_data = create_conjugate_dataset(val_tokenized, vocab)\n",
    "test_conjugate_data = create_conjugate_dataset(test_tokenized, vocab)\n",
    "\n",
    "batch_size = 64\n",
    "\n",
    "train_conjugate_data_loader = DataLoader(train_conjugate_data, batch_size=batch_size)\n",
    "val_conjugate_data_loader = DataLoader(val_conjugate_data, batch_size=batch_size)\n",
    "test_conjugate_data_loader = DataLoader(test_conjugate_data, batch_size=batch_size)\n"
   ]
  },
  {
   "cell_type": "code",
   "execution_count": 17,
   "metadata": {},
   "outputs": [],
   "source": [
    "class MLP(nn.Module):\n",
    "    def __init__(self, vocab_size, embedding_dim, embedding_weights):\n",
    "        super().__init__()\n",
    "        self.embeddings = nn.Embedding(vocab_size, embedding_dim)\n",
    "        self.embeddings.load_state_dict({\"weight\": embedding_weights})\n",
    "        self.embeddings.requires_grad = False\n",
    "\n",
    "        self.classifier = nn.Sequential(\n",
    "            nn.Linear(in_features=embedding_dim, out_features=128),\n",
    "            nn.ReLU(),\n",
    "            nn.Linear(in_features=128, out_features=12),\n",
    "            nn.LogSoftmax(dim=1),\n",
    "        )\n",
    "\n",
    "    def forward(self, inputs):\n",
    "        embeds = self.embeddings(inputs)\n",
    "        output = self.classifier(embeds)\n",
    "\n",
    "        # Only ouput class label, not features\n",
    "        output = output[:,0,:]\n",
    "\n",
    "        return output\n"
   ]
  },
  {
   "cell_type": "code",
   "execution_count": 18,
   "metadata": {},
   "outputs": [],
   "source": [
    "class RNN(nn.Module):\n",
    "    def __init__(self, vocab_size, embedding_dim, embedding_weights, hidden_size, lstm_layers,):\n",
    "        super(RNN, self).__init__()\n",
    "        self.embeddings = nn.Embedding(vocab_size, embedding_dim)\n",
    "        self.embeddings.load_state_dict({\"weight\": embedding_weights})\n",
    "        self.embeddings.requires_grad = False\n",
    "\n",
    "        self.lstm = nn.LSTM(\n",
    "            input_size=embedding_dim,\n",
    "            hidden_size=hidden_size,\n",
    "            num_layers=lstm_layers,\n",
    "            batch_first=True,\n",
    "        )\n",
    "\n",
    "        self.classifier = nn.Sequential(\n",
    "            nn.Linear(in_features=embedding_dim, out_features=128),\n",
    "            nn.ReLU(),\n",
    "            nn.Linear(in_features=128, out_features=12),\n",
    "            nn.LogSoftmax(dim=1),\n",
    "        )\n",
    "\n",
    "    def forward(self, input):\n",
    "        embeds = self.embeddings(input)\n",
    "        output, (hn, cn) = self.lstm(embeds)\n",
    "        output = self.classifier(hn)\n",
    "        return output[0]\n"
   ]
  },
  {
   "cell_type": "markdown",
   "metadata": {},
   "source": [
    "#### 2 - Train several models, select the best one and evaluate its performance. \n",
    "Comment the differences in terms of performances/training time between the MLP architecture and the RNN\n",
    "architecture."
   ]
  },
  {
   "cell_type": "code",
   "execution_count": 19,
   "metadata": {},
   "outputs": [],
   "source": [
    "models = []\n",
    "titles = [] "
   ]
  },
  {
   "cell_type": "code",
   "execution_count": 20,
   "metadata": {},
   "outputs": [
    {
     "data": {
      "text/html": [
       "<pre style=\"white-space:pre;overflow-x:auto;line-height:normal;font-family:Menlo,'DejaVu Sans Mono',consolas,'Courier New',monospace\"><span style=\"color: #00ff00; text-decoration-color: #00ff00; font-weight: bold\">18:53:54</span>.<span style=\"color: #008080; text-decoration-color: #008080; font-weight: bold\">444375</span>  |  Epoch <span style=\"color: #008080; text-decoration-color: #008080; font-weight: bold\">1</span>  |  Training loss <span style=\"color: #008080; text-decoration-color: #008080; font-weight: bold\">1.29276</span>\n",
       "</pre>\n"
      ],
      "text/plain": [
       "\u001b[1;92m18:53:54\u001b[0m.\u001b[1;36m444375\u001b[0m  |  Epoch \u001b[1;36m1\u001b[0m  |  Training loss \u001b[1;36m1.29276\u001b[0m\n"
      ]
     },
     "metadata": {},
     "output_type": "display_data"
    },
    {
     "data": {
      "text/html": [
       "<pre style=\"white-space:pre;overflow-x:auto;line-height:normal;font-family:Menlo,'DejaVu Sans Mono',consolas,'Courier New',monospace\"><span style=\"color: #00ff00; text-decoration-color: #00ff00; font-weight: bold\">18:53:56</span>.<span style=\"color: #008080; text-decoration-color: #008080; font-weight: bold\">214735</span>  |  Epoch <span style=\"color: #008080; text-decoration-color: #008080; font-weight: bold\">2</span>  |  Training loss <span style=\"color: #008080; text-decoration-color: #008080; font-weight: bold\">1.23644</span>\n",
       "</pre>\n"
      ],
      "text/plain": [
       "\u001b[1;92m18:53:56\u001b[0m.\u001b[1;36m214735\u001b[0m  |  Epoch \u001b[1;36m2\u001b[0m  |  Training loss \u001b[1;36m1.23644\u001b[0m\n"
      ]
     },
     "metadata": {},
     "output_type": "display_data"
    },
    {
     "data": {
      "text/html": [
       "<pre style=\"white-space:pre;overflow-x:auto;line-height:normal;font-family:Menlo,'DejaVu Sans Mono',consolas,'Courier New',monospace\"><span style=\"color: #00ff00; text-decoration-color: #00ff00; font-weight: bold\">18:53:57</span>.<span style=\"color: #008080; text-decoration-color: #008080; font-weight: bold\">967891</span>  |  Epoch <span style=\"color: #008080; text-decoration-color: #008080; font-weight: bold\">3</span>  |  Training loss <span style=\"color: #008080; text-decoration-color: #008080; font-weight: bold\">1.21574</span>\n",
       "</pre>\n"
      ],
      "text/plain": [
       "\u001b[1;92m18:53:57\u001b[0m.\u001b[1;36m967891\u001b[0m  |  Epoch \u001b[1;36m3\u001b[0m  |  Training loss \u001b[1;36m1.21574\u001b[0m\n"
      ]
     },
     "metadata": {},
     "output_type": "display_data"
    },
    {
     "data": {
      "text/html": [
       "<pre style=\"white-space:pre;overflow-x:auto;line-height:normal;font-family:Menlo,'DejaVu Sans Mono',consolas,'Courier New',monospace\"><span style=\"color: #00ff00; text-decoration-color: #00ff00; font-weight: bold\">18:53:59</span>.<span style=\"color: #008080; text-decoration-color: #008080; font-weight: bold\">859730</span>  |  Epoch <span style=\"color: #008080; text-decoration-color: #008080; font-weight: bold\">4</span>  |  Training loss <span style=\"color: #008080; text-decoration-color: #008080; font-weight: bold\">1.20329</span>\n",
       "</pre>\n"
      ],
      "text/plain": [
       "\u001b[1;92m18:53:59\u001b[0m.\u001b[1;36m859730\u001b[0m  |  Epoch \u001b[1;36m4\u001b[0m  |  Training loss \u001b[1;36m1.20329\u001b[0m\n"
      ]
     },
     "metadata": {},
     "output_type": "display_data"
    }
   ],
   "source": [
    "loss_fn = nn.NLLLoss()\n",
    "n_epochs = 4\n",
    "lr = 0.1\n",
    "embedding_dim = 64\n",
    "\n",
    "MLP_model = MLP(vocab_size, embedding_dim, best_model_weights).to(device=device)\n",
    "optimizer = optim.SGD(MLP_model.parameters(), lr=lr)\n",
    "\n",
    "\n",
    "train(n_epochs,optimizer,MLP_model,loss_fn,train_conjugate_data_loader)\n",
    "\n",
    "models.append(MLP_model)\n",
    "titles.append(\"MLP\")"
   ]
  },
  {
   "cell_type": "code",
   "execution_count": 21,
   "metadata": {},
   "outputs": [
    {
     "data": {
      "text/html": [
       "<pre style=\"white-space:pre;overflow-x:auto;line-height:normal;font-family:Menlo,'DejaVu Sans Mono',consolas,'Courier New',monospace\"><span style=\"color: #00ff00; text-decoration-color: #00ff00; font-weight: bold\">18:54:02</span>.<span style=\"color: #008080; text-decoration-color: #008080; font-weight: bold\">524119</span>  |  Epoch <span style=\"color: #008080; text-decoration-color: #008080; font-weight: bold\">1</span>  |  Training loss <span style=\"color: #008080; text-decoration-color: #008080; font-weight: bold\">1.26013</span>\n",
       "</pre>\n"
      ],
      "text/plain": [
       "\u001b[1;92m18:54:02\u001b[0m.\u001b[1;36m524119\u001b[0m  |  Epoch \u001b[1;36m1\u001b[0m  |  Training loss \u001b[1;36m1.26013\u001b[0m\n"
      ]
     },
     "metadata": {},
     "output_type": "display_data"
    },
    {
     "data": {
      "text/html": [
       "<pre style=\"white-space:pre;overflow-x:auto;line-height:normal;font-family:Menlo,'DejaVu Sans Mono',consolas,'Courier New',monospace\"><span style=\"color: #00ff00; text-decoration-color: #00ff00; font-weight: bold\">18:54:05</span>.<span style=\"color: #008080; text-decoration-color: #008080; font-weight: bold\">299078</span>  |  Epoch <span style=\"color: #008080; text-decoration-color: #008080; font-weight: bold\">2</span>  |  Training loss <span style=\"color: #008080; text-decoration-color: #008080; font-weight: bold\">1.19610</span>\n",
       "</pre>\n"
      ],
      "text/plain": [
       "\u001b[1;92m18:54:05\u001b[0m.\u001b[1;36m299078\u001b[0m  |  Epoch \u001b[1;36m2\u001b[0m  |  Training loss \u001b[1;36m1.19610\u001b[0m\n"
      ]
     },
     "metadata": {},
     "output_type": "display_data"
    },
    {
     "data": {
      "text/html": [
       "<pre style=\"white-space:pre;overflow-x:auto;line-height:normal;font-family:Menlo,'DejaVu Sans Mono',consolas,'Courier New',monospace\"><span style=\"color: #00ff00; text-decoration-color: #00ff00; font-weight: bold\">18:54:07</span>.<span style=\"color: #008080; text-decoration-color: #008080; font-weight: bold\">933918</span>  |  Epoch <span style=\"color: #008080; text-decoration-color: #008080; font-weight: bold\">3</span>  |  Training loss <span style=\"color: #008080; text-decoration-color: #008080; font-weight: bold\">1.17801</span>\n",
       "</pre>\n"
      ],
      "text/plain": [
       "\u001b[1;92m18:54:07\u001b[0m.\u001b[1;36m933918\u001b[0m  |  Epoch \u001b[1;36m3\u001b[0m  |  Training loss \u001b[1;36m1.17801\u001b[0m\n"
      ]
     },
     "metadata": {},
     "output_type": "display_data"
    },
    {
     "data": {
      "text/html": [
       "<pre style=\"white-space:pre;overflow-x:auto;line-height:normal;font-family:Menlo,'DejaVu Sans Mono',consolas,'Courier New',monospace\"><span style=\"color: #00ff00; text-decoration-color: #00ff00; font-weight: bold\">18:54:10</span>.<span style=\"color: #008080; text-decoration-color: #008080; font-weight: bold\">878298</span>  |  Epoch <span style=\"color: #008080; text-decoration-color: #008080; font-weight: bold\">4</span>  |  Training loss <span style=\"color: #008080; text-decoration-color: #008080; font-weight: bold\">1.16785</span>\n",
       "</pre>\n"
      ],
      "text/plain": [
       "\u001b[1;92m18:54:10\u001b[0m.\u001b[1;36m878298\u001b[0m  |  Epoch \u001b[1;36m4\u001b[0m  |  Training loss \u001b[1;36m1.16785\u001b[0m\n"
      ]
     },
     "metadata": {},
     "output_type": "display_data"
    },
    {
     "data": {
      "text/html": [
       "<pre style=\"white-space:pre;overflow-x:auto;line-height:normal;font-family:Menlo,'DejaVu Sans Mono',consolas,'Courier New',monospace\"><span style=\"color: #00ff00; text-decoration-color: #00ff00; font-weight: bold\">18:54:13</span>.<span style=\"color: #008080; text-decoration-color: #008080; font-weight: bold\">635465</span>  |  Epoch <span style=\"color: #008080; text-decoration-color: #008080; font-weight: bold\">5</span>  |  Training loss <span style=\"color: #008080; text-decoration-color: #008080; font-weight: bold\">1.16066</span>\n",
       "</pre>\n"
      ],
      "text/plain": [
       "\u001b[1;92m18:54:13\u001b[0m.\u001b[1;36m635465\u001b[0m  |  Epoch \u001b[1;36m5\u001b[0m  |  Training loss \u001b[1;36m1.16066\u001b[0m\n"
      ]
     },
     "metadata": {},
     "output_type": "display_data"
    },
    {
     "data": {
      "text/html": [
       "<pre style=\"white-space:pre;overflow-x:auto;line-height:normal;font-family:Menlo,'DejaVu Sans Mono',consolas,'Courier New',monospace\"><span style=\"color: #00ff00; text-decoration-color: #00ff00; font-weight: bold\">18:54:16</span>.<span style=\"color: #008080; text-decoration-color: #008080; font-weight: bold\">546345</span>  |  Epoch <span style=\"color: #008080; text-decoration-color: #008080; font-weight: bold\">6</span>  |  Training loss <span style=\"color: #008080; text-decoration-color: #008080; font-weight: bold\">1.15507</span>\n",
       "</pre>\n"
      ],
      "text/plain": [
       "\u001b[1;92m18:54:16\u001b[0m.\u001b[1;36m546345\u001b[0m  |  Epoch \u001b[1;36m6\u001b[0m  |  Training loss \u001b[1;36m1.15507\u001b[0m\n"
      ]
     },
     "metadata": {},
     "output_type": "display_data"
    },
    {
     "data": {
      "text/html": [
       "<pre style=\"white-space:pre;overflow-x:auto;line-height:normal;font-family:Menlo,'DejaVu Sans Mono',consolas,'Courier New',monospace\"><span style=\"color: #00ff00; text-decoration-color: #00ff00; font-weight: bold\">18:54:19</span>.<span style=\"color: #008080; text-decoration-color: #008080; font-weight: bold\">298798</span>  |  Epoch <span style=\"color: #008080; text-decoration-color: #008080; font-weight: bold\">7</span>  |  Training loss <span style=\"color: #008080; text-decoration-color: #008080; font-weight: bold\">1.15047</span>\n",
       "</pre>\n"
      ],
      "text/plain": [
       "\u001b[1;92m18:54:19\u001b[0m.\u001b[1;36m298798\u001b[0m  |  Epoch \u001b[1;36m7\u001b[0m  |  Training loss \u001b[1;36m1.15047\u001b[0m\n"
      ]
     },
     "metadata": {},
     "output_type": "display_data"
    },
    {
     "data": {
      "text/html": [
       "<pre style=\"white-space:pre;overflow-x:auto;line-height:normal;font-family:Menlo,'DejaVu Sans Mono',consolas,'Courier New',monospace\"><span style=\"color: #00ff00; text-decoration-color: #00ff00; font-weight: bold\">18:54:21</span>.<span style=\"color: #008080; text-decoration-color: #008080; font-weight: bold\">780393</span>  |  Epoch <span style=\"color: #008080; text-decoration-color: #008080; font-weight: bold\">8</span>  |  Training loss <span style=\"color: #008080; text-decoration-color: #008080; font-weight: bold\">1.14650</span>\n",
       "</pre>\n"
      ],
      "text/plain": [
       "\u001b[1;92m18:54:21\u001b[0m.\u001b[1;36m780393\u001b[0m  |  Epoch \u001b[1;36m8\u001b[0m  |  Training loss \u001b[1;36m1.14650\u001b[0m\n"
      ]
     },
     "metadata": {},
     "output_type": "display_data"
    },
    {
     "data": {
      "text/html": [
       "<pre style=\"white-space:pre;overflow-x:auto;line-height:normal;font-family:Menlo,'DejaVu Sans Mono',consolas,'Courier New',monospace\"><span style=\"color: #00ff00; text-decoration-color: #00ff00; font-weight: bold\">18:54:24</span>.<span style=\"color: #008080; text-decoration-color: #008080; font-weight: bold\">283930</span>  |  Epoch <span style=\"color: #008080; text-decoration-color: #008080; font-weight: bold\">9</span>  |  Training loss <span style=\"color: #008080; text-decoration-color: #008080; font-weight: bold\">1.14293</span>\n",
       "</pre>\n"
      ],
      "text/plain": [
       "\u001b[1;92m18:54:24\u001b[0m.\u001b[1;36m283930\u001b[0m  |  Epoch \u001b[1;36m9\u001b[0m  |  Training loss \u001b[1;36m1.14293\u001b[0m\n"
      ]
     },
     "metadata": {},
     "output_type": "display_data"
    },
    {
     "data": {
      "text/html": [
       "<pre style=\"white-space:pre;overflow-x:auto;line-height:normal;font-family:Menlo,'DejaVu Sans Mono',consolas,'Courier New',monospace\"><span style=\"color: #00ff00; text-decoration-color: #00ff00; font-weight: bold\">18:54:26</span>.<span style=\"color: #008080; text-decoration-color: #008080; font-weight: bold\">804357</span>  |  Epoch <span style=\"color: #008080; text-decoration-color: #008080; font-weight: bold\">10</span>  |  Training loss <span style=\"color: #008080; text-decoration-color: #008080; font-weight: bold\">1.13984</span>\n",
       "</pre>\n"
      ],
      "text/plain": [
       "\u001b[1;92m18:54:26\u001b[0m.\u001b[1;36m804357\u001b[0m  |  Epoch \u001b[1;36m10\u001b[0m  |  Training loss \u001b[1;36m1.13984\u001b[0m\n"
      ]
     },
     "metadata": {},
     "output_type": "display_data"
    },
    {
     "data": {
      "text/html": [
       "<pre style=\"white-space:pre;overflow-x:auto;line-height:normal;font-family:Menlo,'DejaVu Sans Mono',consolas,'Courier New',monospace\"><span style=\"color: #00ff00; text-decoration-color: #00ff00; font-weight: bold\">18:54:29</span>.<span style=\"color: #008080; text-decoration-color: #008080; font-weight: bold\">297736</span>  |  Epoch <span style=\"color: #008080; text-decoration-color: #008080; font-weight: bold\">11</span>  |  Training loss <span style=\"color: #008080; text-decoration-color: #008080; font-weight: bold\">1.13705</span>\n",
       "</pre>\n"
      ],
      "text/plain": [
       "\u001b[1;92m18:54:29\u001b[0m.\u001b[1;36m297736\u001b[0m  |  Epoch \u001b[1;36m11\u001b[0m  |  Training loss \u001b[1;36m1.13705\u001b[0m\n"
      ]
     },
     "metadata": {},
     "output_type": "display_data"
    },
    {
     "data": {
      "text/html": [
       "<pre style=\"white-space:pre;overflow-x:auto;line-height:normal;font-family:Menlo,'DejaVu Sans Mono',consolas,'Courier New',monospace\"><span style=\"color: #00ff00; text-decoration-color: #00ff00; font-weight: bold\">18:54:31</span>.<span style=\"color: #008080; text-decoration-color: #008080; font-weight: bold\">838906</span>  |  Epoch <span style=\"color: #008080; text-decoration-color: #008080; font-weight: bold\">12</span>  |  Training loss <span style=\"color: #008080; text-decoration-color: #008080; font-weight: bold\">1.13462</span>\n",
       "</pre>\n"
      ],
      "text/plain": [
       "\u001b[1;92m18:54:31\u001b[0m.\u001b[1;36m838906\u001b[0m  |  Epoch \u001b[1;36m12\u001b[0m  |  Training loss \u001b[1;36m1.13462\u001b[0m\n"
      ]
     },
     "metadata": {},
     "output_type": "display_data"
    },
    {
     "data": {
      "text/html": [
       "<pre style=\"white-space:pre;overflow-x:auto;line-height:normal;font-family:Menlo,'DejaVu Sans Mono',consolas,'Courier New',monospace\"><span style=\"color: #00ff00; text-decoration-color: #00ff00; font-weight: bold\">18:54:34</span>.<span style=\"color: #008080; text-decoration-color: #008080; font-weight: bold\">483736</span>  |  Epoch <span style=\"color: #008080; text-decoration-color: #008080; font-weight: bold\">13</span>  |  Training loss <span style=\"color: #008080; text-decoration-color: #008080; font-weight: bold\">1.13232</span>\n",
       "</pre>\n"
      ],
      "text/plain": [
       "\u001b[1;92m18:54:34\u001b[0m.\u001b[1;36m483736\u001b[0m  |  Epoch \u001b[1;36m13\u001b[0m  |  Training loss \u001b[1;36m1.13232\u001b[0m\n"
      ]
     },
     "metadata": {},
     "output_type": "display_data"
    },
    {
     "data": {
      "text/html": [
       "<pre style=\"white-space:pre;overflow-x:auto;line-height:normal;font-family:Menlo,'DejaVu Sans Mono',consolas,'Courier New',monospace\"><span style=\"color: #00ff00; text-decoration-color: #00ff00; font-weight: bold\">18:54:37</span>.<span style=\"color: #008080; text-decoration-color: #008080; font-weight: bold\">062135</span>  |  Epoch <span style=\"color: #008080; text-decoration-color: #008080; font-weight: bold\">14</span>  |  Training loss <span style=\"color: #008080; text-decoration-color: #008080; font-weight: bold\">1.13032</span>\n",
       "</pre>\n"
      ],
      "text/plain": [
       "\u001b[1;92m18:54:37\u001b[0m.\u001b[1;36m062135\u001b[0m  |  Epoch \u001b[1;36m14\u001b[0m  |  Training loss \u001b[1;36m1.13032\u001b[0m\n"
      ]
     },
     "metadata": {},
     "output_type": "display_data"
    },
    {
     "data": {
      "text/html": [
       "<pre style=\"white-space:pre;overflow-x:auto;line-height:normal;font-family:Menlo,'DejaVu Sans Mono',consolas,'Courier New',monospace\"><span style=\"color: #00ff00; text-decoration-color: #00ff00; font-weight: bold\">18:54:39</span>.<span style=\"color: #008080; text-decoration-color: #008080; font-weight: bold\">524633</span>  |  Epoch <span style=\"color: #008080; text-decoration-color: #008080; font-weight: bold\">15</span>  |  Training loss <span style=\"color: #008080; text-decoration-color: #008080; font-weight: bold\">1.12844</span>\n",
       "</pre>\n"
      ],
      "text/plain": [
       "\u001b[1;92m18:54:39\u001b[0m.\u001b[1;36m524633\u001b[0m  |  Epoch \u001b[1;36m15\u001b[0m  |  Training loss \u001b[1;36m1.12844\u001b[0m\n"
      ]
     },
     "metadata": {},
     "output_type": "display_data"
    },
    {
     "data": {
      "text/html": [
       "<pre style=\"white-space:pre;overflow-x:auto;line-height:normal;font-family:Menlo,'DejaVu Sans Mono',consolas,'Courier New',monospace\"><span style=\"color: #00ff00; text-decoration-color: #00ff00; font-weight: bold\">18:54:41</span>.<span style=\"color: #008080; text-decoration-color: #008080; font-weight: bold\">895326</span>  |  Epoch <span style=\"color: #008080; text-decoration-color: #008080; font-weight: bold\">16</span>  |  Training loss <span style=\"color: #008080; text-decoration-color: #008080; font-weight: bold\">1.12685</span>\n",
       "</pre>\n"
      ],
      "text/plain": [
       "\u001b[1;92m18:54:41\u001b[0m.\u001b[1;36m895326\u001b[0m  |  Epoch \u001b[1;36m16\u001b[0m  |  Training loss \u001b[1;36m1.12685\u001b[0m\n"
      ]
     },
     "metadata": {},
     "output_type": "display_data"
    },
    {
     "data": {
      "text/html": [
       "<pre style=\"white-space:pre;overflow-x:auto;line-height:normal;font-family:Menlo,'DejaVu Sans Mono',consolas,'Courier New',monospace\"><span style=\"color: #00ff00; text-decoration-color: #00ff00; font-weight: bold\">18:54:44</span>.<span style=\"color: #008080; text-decoration-color: #008080; font-weight: bold\">451712</span>  |  Epoch <span style=\"color: #008080; text-decoration-color: #008080; font-weight: bold\">17</span>  |  Training loss <span style=\"color: #008080; text-decoration-color: #008080; font-weight: bold\">1.12537</span>\n",
       "</pre>\n"
      ],
      "text/plain": [
       "\u001b[1;92m18:54:44\u001b[0m.\u001b[1;36m451712\u001b[0m  |  Epoch \u001b[1;36m17\u001b[0m  |  Training loss \u001b[1;36m1.12537\u001b[0m\n"
      ]
     },
     "metadata": {},
     "output_type": "display_data"
    },
    {
     "data": {
      "text/html": [
       "<pre style=\"white-space:pre;overflow-x:auto;line-height:normal;font-family:Menlo,'DejaVu Sans Mono',consolas,'Courier New',monospace\"><span style=\"color: #00ff00; text-decoration-color: #00ff00; font-weight: bold\">18:54:46</span>.<span style=\"color: #008080; text-decoration-color: #008080; font-weight: bold\">894483</span>  |  Epoch <span style=\"color: #008080; text-decoration-color: #008080; font-weight: bold\">18</span>  |  Training loss <span style=\"color: #008080; text-decoration-color: #008080; font-weight: bold\">1.12408</span>\n",
       "</pre>\n"
      ],
      "text/plain": [
       "\u001b[1;92m18:54:46\u001b[0m.\u001b[1;36m894483\u001b[0m  |  Epoch \u001b[1;36m18\u001b[0m  |  Training loss \u001b[1;36m1.12408\u001b[0m\n"
      ]
     },
     "metadata": {},
     "output_type": "display_data"
    },
    {
     "data": {
      "text/html": [
       "<pre style=\"white-space:pre;overflow-x:auto;line-height:normal;font-family:Menlo,'DejaVu Sans Mono',consolas,'Courier New',monospace\"><span style=\"color: #00ff00; text-decoration-color: #00ff00; font-weight: bold\">18:54:49</span>.<span style=\"color: #008080; text-decoration-color: #008080; font-weight: bold\">372134</span>  |  Epoch <span style=\"color: #008080; text-decoration-color: #008080; font-weight: bold\">19</span>  |  Training loss <span style=\"color: #008080; text-decoration-color: #008080; font-weight: bold\">1.12289</span>\n",
       "</pre>\n"
      ],
      "text/plain": [
       "\u001b[1;92m18:54:49\u001b[0m.\u001b[1;36m372134\u001b[0m  |  Epoch \u001b[1;36m19\u001b[0m  |  Training loss \u001b[1;36m1.12289\u001b[0m\n"
      ]
     },
     "metadata": {},
     "output_type": "display_data"
    },
    {
     "data": {
      "text/html": [
       "<pre style=\"white-space:pre;overflow-x:auto;line-height:normal;font-family:Menlo,'DejaVu Sans Mono',consolas,'Courier New',monospace\"><span style=\"color: #00ff00; text-decoration-color: #00ff00; font-weight: bold\">18:54:51</span>.<span style=\"color: #008080; text-decoration-color: #008080; font-weight: bold\">991970</span>  |  Epoch <span style=\"color: #008080; text-decoration-color: #008080; font-weight: bold\">20</span>  |  Training loss <span style=\"color: #008080; text-decoration-color: #008080; font-weight: bold\">1.12180</span>\n",
       "</pre>\n"
      ],
      "text/plain": [
       "\u001b[1;92m18:54:51\u001b[0m.\u001b[1;36m991970\u001b[0m  |  Epoch \u001b[1;36m20\u001b[0m  |  Training loss \u001b[1;36m1.12180\u001b[0m\n"
      ]
     },
     "metadata": {},
     "output_type": "display_data"
    }
   ],
   "source": [
    "loss_fn = nn.NLLLoss()\n",
    "n_epochs = 20\n",
    "lr = 0.001\n",
    "embedding_dim = 64\n",
    "\n",
    "MLP_model_2 = MLP(vocab_size, embedding_dim, best_model_weights).to(device=device)\n",
    "optimizer = optim.Adam(MLP_model_2.parameters(), lr=lr)\n",
    "\n",
    "\n",
    "train(n_epochs,optimizer,MLP_model_2,loss_fn,train_conjugate_data_loader)\n",
    "\n",
    "models.append(MLP_model_2)\n",
    "titles.append(\"MLP_2\")"
   ]
  },
  {
   "cell_type": "code",
   "execution_count": 22,
   "metadata": {},
   "outputs": [
    {
     "data": {
      "text/html": [
       "<pre style=\"white-space:pre;overflow-x:auto;line-height:normal;font-family:Menlo,'DejaVu Sans Mono',consolas,'Courier New',monospace\"><span style=\"color: #00ff00; text-decoration-color: #00ff00; font-weight: bold\">18:54:56</span>.<span style=\"color: #008080; text-decoration-color: #008080; font-weight: bold\">863503</span>  |  Epoch <span style=\"color: #008080; text-decoration-color: #008080; font-weight: bold\">1</span>  |  Training loss <span style=\"color: #008080; text-decoration-color: #008080; font-weight: bold\">2.48543</span>\n",
       "</pre>\n"
      ],
      "text/plain": [
       "\u001b[1;92m18:54:56\u001b[0m.\u001b[1;36m863503\u001b[0m  |  Epoch \u001b[1;36m1\u001b[0m  |  Training loss \u001b[1;36m2.48543\u001b[0m\n"
      ]
     },
     "metadata": {},
     "output_type": "display_data"
    },
    {
     "data": {
      "text/html": [
       "<pre style=\"white-space:pre;overflow-x:auto;line-height:normal;font-family:Menlo,'DejaVu Sans Mono',consolas,'Courier New',monospace\"><span style=\"color: #00ff00; text-decoration-color: #00ff00; font-weight: bold\">18:55:01</span>.<span style=\"color: #008080; text-decoration-color: #008080; font-weight: bold\">573008</span>  |  Epoch <span style=\"color: #008080; text-decoration-color: #008080; font-weight: bold\">2</span>  |  Training loss <span style=\"color: #008080; text-decoration-color: #008080; font-weight: bold\">2.48513</span>\n",
       "</pre>\n"
      ],
      "text/plain": [
       "\u001b[1;92m18:55:01\u001b[0m.\u001b[1;36m573008\u001b[0m  |  Epoch \u001b[1;36m2\u001b[0m  |  Training loss \u001b[1;36m2.48513\u001b[0m\n"
      ]
     },
     "metadata": {},
     "output_type": "display_data"
    },
    {
     "data": {
      "text/html": [
       "<pre style=\"white-space:pre;overflow-x:auto;line-height:normal;font-family:Menlo,'DejaVu Sans Mono',consolas,'Courier New',monospace\"><span style=\"color: #00ff00; text-decoration-color: #00ff00; font-weight: bold\">18:55:06</span>.<span style=\"color: #008080; text-decoration-color: #008080; font-weight: bold\">420844</span>  |  Epoch <span style=\"color: #008080; text-decoration-color: #008080; font-weight: bold\">3</span>  |  Training loss <span style=\"color: #008080; text-decoration-color: #008080; font-weight: bold\">2.48483</span>\n",
       "</pre>\n"
      ],
      "text/plain": [
       "\u001b[1;92m18:55:06\u001b[0m.\u001b[1;36m420844\u001b[0m  |  Epoch \u001b[1;36m3\u001b[0m  |  Training loss \u001b[1;36m2.48483\u001b[0m\n"
      ]
     },
     "metadata": {},
     "output_type": "display_data"
    },
    {
     "data": {
      "text/html": [
       "<pre style=\"white-space:pre;overflow-x:auto;line-height:normal;font-family:Menlo,'DejaVu Sans Mono',consolas,'Courier New',monospace\"><span style=\"color: #00ff00; text-decoration-color: #00ff00; font-weight: bold\">18:55:11</span>.<span style=\"color: #008080; text-decoration-color: #008080; font-weight: bold\">349369</span>  |  Epoch <span style=\"color: #008080; text-decoration-color: #008080; font-weight: bold\">4</span>  |  Training loss <span style=\"color: #008080; text-decoration-color: #008080; font-weight: bold\">2.48453</span>\n",
       "</pre>\n"
      ],
      "text/plain": [
       "\u001b[1;92m18:55:11\u001b[0m.\u001b[1;36m349369\u001b[0m  |  Epoch \u001b[1;36m4\u001b[0m  |  Training loss \u001b[1;36m2.48453\u001b[0m\n"
      ]
     },
     "metadata": {},
     "output_type": "display_data"
    }
   ],
   "source": [
    "loss_fn = nn.CrossEntropyLoss()\n",
    "n_epochs = 4\n",
    "lr = 0.001\n",
    "embedding_dim = 64\n",
    "\n",
    "RNN_model = RNN(\n",
    "    vocab_size=vocab_size,\n",
    "    embedding_dim=embedding_dim,\n",
    "    embedding_weights=best_model_weights,\n",
    "    hidden_size=64,\n",
    "    lstm_layers=1,\n",
    ").to(device=device)\n",
    "optimizer = optim.SGD(RNN_model.parameters(), lr=lr)\n",
    "\n",
    "\n",
    "train(n_epochs, optimizer, RNN_model, loss_fn, train_conjugate_data_loader)\n",
    "\n",
    "models.append(RNN_model)\n",
    "titles.append(\"RNN\")\n"
   ]
  },
  {
   "cell_type": "code",
   "execution_count": 23,
   "metadata": {},
   "outputs": [
    {
     "data": {
      "text/html": [
       "<pre style=\"white-space:pre;overflow-x:auto;line-height:normal;font-family:Menlo,'DejaVu Sans Mono',consolas,'Courier New',monospace\"><span style=\"color: #00ff00; text-decoration-color: #00ff00; font-weight: bold\">18:55:21</span>.<span style=\"color: #008080; text-decoration-color: #008080; font-weight: bold\">407270</span>  |  Epoch <span style=\"color: #008080; text-decoration-color: #008080; font-weight: bold\">1</span>  |  Training loss <span style=\"color: #008080; text-decoration-color: #008080; font-weight: bold\">1.93282</span>\n",
       "</pre>\n"
      ],
      "text/plain": [
       "\u001b[1;92m18:55:21\u001b[0m.\u001b[1;36m407270\u001b[0m  |  Epoch \u001b[1;36m1\u001b[0m  |  Training loss \u001b[1;36m1.93282\u001b[0m\n"
      ]
     },
     "metadata": {},
     "output_type": "display_data"
    },
    {
     "data": {
      "text/html": [
       "<pre style=\"white-space:pre;overflow-x:auto;line-height:normal;font-family:Menlo,'DejaVu Sans Mono',consolas,'Courier New',monospace\"><span style=\"color: #00ff00; text-decoration-color: #00ff00; font-weight: bold\">18:55:31</span>.<span style=\"color: #008080; text-decoration-color: #008080; font-weight: bold\">335265</span>  |  Epoch <span style=\"color: #008080; text-decoration-color: #008080; font-weight: bold\">2</span>  |  Training loss <span style=\"color: #008080; text-decoration-color: #008080; font-weight: bold\">1.69278</span>\n",
       "</pre>\n"
      ],
      "text/plain": [
       "\u001b[1;92m18:55:31\u001b[0m.\u001b[1;36m335265\u001b[0m  |  Epoch \u001b[1;36m2\u001b[0m  |  Training loss \u001b[1;36m1.69278\u001b[0m\n"
      ]
     },
     "metadata": {},
     "output_type": "display_data"
    },
    {
     "data": {
      "text/html": [
       "<pre style=\"white-space:pre;overflow-x:auto;line-height:normal;font-family:Menlo,'DejaVu Sans Mono',consolas,'Courier New',monospace\"><span style=\"color: #00ff00; text-decoration-color: #00ff00; font-weight: bold\">18:55:41</span>.<span style=\"color: #008080; text-decoration-color: #008080; font-weight: bold\">115222</span>  |  Epoch <span style=\"color: #008080; text-decoration-color: #008080; font-weight: bold\">3</span>  |  Training loss <span style=\"color: #008080; text-decoration-color: #008080; font-weight: bold\">1.59567</span>\n",
       "</pre>\n"
      ],
      "text/plain": [
       "\u001b[1;92m18:55:41\u001b[0m.\u001b[1;36m115222\u001b[0m  |  Epoch \u001b[1;36m3\u001b[0m  |  Training loss \u001b[1;36m1.59567\u001b[0m\n"
      ]
     },
     "metadata": {},
     "output_type": "display_data"
    },
    {
     "data": {
      "text/html": [
       "<pre style=\"white-space:pre;overflow-x:auto;line-height:normal;font-family:Menlo,'DejaVu Sans Mono',consolas,'Courier New',monospace\"><span style=\"color: #00ff00; text-decoration-color: #00ff00; font-weight: bold\">18:55:51</span>.<span style=\"color: #008080; text-decoration-color: #008080; font-weight: bold\">162140</span>  |  Epoch <span style=\"color: #008080; text-decoration-color: #008080; font-weight: bold\">4</span>  |  Training loss <span style=\"color: #008080; text-decoration-color: #008080; font-weight: bold\">1.52819</span>\n",
       "</pre>\n"
      ],
      "text/plain": [
       "\u001b[1;92m18:55:51\u001b[0m.\u001b[1;36m162140\u001b[0m  |  Epoch \u001b[1;36m4\u001b[0m  |  Training loss \u001b[1;36m1.52819\u001b[0m\n"
      ]
     },
     "metadata": {},
     "output_type": "display_data"
    },
    {
     "data": {
      "text/html": [
       "<pre style=\"white-space:pre;overflow-x:auto;line-height:normal;font-family:Menlo,'DejaVu Sans Mono',consolas,'Courier New',monospace\"><span style=\"color: #00ff00; text-decoration-color: #00ff00; font-weight: bold\">18:56:01</span>.<span style=\"color: #008080; text-decoration-color: #008080; font-weight: bold\">256024</span>  |  Epoch <span style=\"color: #008080; text-decoration-color: #008080; font-weight: bold\">5</span>  |  Training loss <span style=\"color: #008080; text-decoration-color: #008080; font-weight: bold\">1.47681</span>\n",
       "</pre>\n"
      ],
      "text/plain": [
       "\u001b[1;92m18:56:01\u001b[0m.\u001b[1;36m256024\u001b[0m  |  Epoch \u001b[1;36m5\u001b[0m  |  Training loss \u001b[1;36m1.47681\u001b[0m\n"
      ]
     },
     "metadata": {},
     "output_type": "display_data"
    },
    {
     "data": {
      "text/html": [
       "<pre style=\"white-space:pre;overflow-x:auto;line-height:normal;font-family:Menlo,'DejaVu Sans Mono',consolas,'Courier New',monospace\"><span style=\"color: #00ff00; text-decoration-color: #00ff00; font-weight: bold\">18:56:11</span>.<span style=\"color: #008080; text-decoration-color: #008080; font-weight: bold\">271554</span>  |  Epoch <span style=\"color: #008080; text-decoration-color: #008080; font-weight: bold\">6</span>  |  Training loss <span style=\"color: #008080; text-decoration-color: #008080; font-weight: bold\">1.43331</span>\n",
       "</pre>\n"
      ],
      "text/plain": [
       "\u001b[1;92m18:56:11\u001b[0m.\u001b[1;36m271554\u001b[0m  |  Epoch \u001b[1;36m6\u001b[0m  |  Training loss \u001b[1;36m1.43331\u001b[0m\n"
      ]
     },
     "metadata": {},
     "output_type": "display_data"
    },
    {
     "data": {
      "text/html": [
       "<pre style=\"white-space:pre;overflow-x:auto;line-height:normal;font-family:Menlo,'DejaVu Sans Mono',consolas,'Courier New',monospace\"><span style=\"color: #00ff00; text-decoration-color: #00ff00; font-weight: bold\">18:56:21</span>.<span style=\"color: #008080; text-decoration-color: #008080; font-weight: bold\">227359</span>  |  Epoch <span style=\"color: #008080; text-decoration-color: #008080; font-weight: bold\">7</span>  |  Training loss <span style=\"color: #008080; text-decoration-color: #008080; font-weight: bold\">1.39406</span>\n",
       "</pre>\n"
      ],
      "text/plain": [
       "\u001b[1;92m18:56:21\u001b[0m.\u001b[1;36m227359\u001b[0m  |  Epoch \u001b[1;36m7\u001b[0m  |  Training loss \u001b[1;36m1.39406\u001b[0m\n"
      ]
     },
     "metadata": {},
     "output_type": "display_data"
    },
    {
     "data": {
      "text/html": [
       "<pre style=\"white-space:pre;overflow-x:auto;line-height:normal;font-family:Menlo,'DejaVu Sans Mono',consolas,'Courier New',monospace\"><span style=\"color: #00ff00; text-decoration-color: #00ff00; font-weight: bold\">18:56:31</span>.<span style=\"color: #008080; text-decoration-color: #008080; font-weight: bold\">045102</span>  |  Epoch <span style=\"color: #008080; text-decoration-color: #008080; font-weight: bold\">8</span>  |  Training loss <span style=\"color: #008080; text-decoration-color: #008080; font-weight: bold\">1.35648</span>\n",
       "</pre>\n"
      ],
      "text/plain": [
       "\u001b[1;92m18:56:31\u001b[0m.\u001b[1;36m045102\u001b[0m  |  Epoch \u001b[1;36m8\u001b[0m  |  Training loss \u001b[1;36m1.35648\u001b[0m\n"
      ]
     },
     "metadata": {},
     "output_type": "display_data"
    },
    {
     "data": {
      "text/html": [
       "<pre style=\"white-space:pre;overflow-x:auto;line-height:normal;font-family:Menlo,'DejaVu Sans Mono',consolas,'Courier New',monospace\"><span style=\"color: #00ff00; text-decoration-color: #00ff00; font-weight: bold\">18:56:40</span>.<span style=\"color: #008080; text-decoration-color: #008080; font-weight: bold\">825355</span>  |  Epoch <span style=\"color: #008080; text-decoration-color: #008080; font-weight: bold\">9</span>  |  Training loss <span style=\"color: #008080; text-decoration-color: #008080; font-weight: bold\">1.32106</span>\n",
       "</pre>\n"
      ],
      "text/plain": [
       "\u001b[1;92m18:56:40\u001b[0m.\u001b[1;36m825355\u001b[0m  |  Epoch \u001b[1;36m9\u001b[0m  |  Training loss \u001b[1;36m1.32106\u001b[0m\n"
      ]
     },
     "metadata": {},
     "output_type": "display_data"
    },
    {
     "data": {
      "text/html": [
       "<pre style=\"white-space:pre;overflow-x:auto;line-height:normal;font-family:Menlo,'DejaVu Sans Mono',consolas,'Courier New',monospace\"><span style=\"color: #00ff00; text-decoration-color: #00ff00; font-weight: bold\">18:56:50</span>.<span style=\"color: #008080; text-decoration-color: #008080; font-weight: bold\">646651</span>  |  Epoch <span style=\"color: #008080; text-decoration-color: #008080; font-weight: bold\">10</span>  |  Training loss <span style=\"color: #008080; text-decoration-color: #008080; font-weight: bold\">1.28690</span>\n",
       "</pre>\n"
      ],
      "text/plain": [
       "\u001b[1;92m18:56:50\u001b[0m.\u001b[1;36m646651\u001b[0m  |  Epoch \u001b[1;36m10\u001b[0m  |  Training loss \u001b[1;36m1.28690\u001b[0m\n"
      ]
     },
     "metadata": {},
     "output_type": "display_data"
    },
    {
     "data": {
      "text/html": [
       "<pre style=\"white-space:pre;overflow-x:auto;line-height:normal;font-family:Menlo,'DejaVu Sans Mono',consolas,'Courier New',monospace\"><span style=\"color: #00ff00; text-decoration-color: #00ff00; font-weight: bold\">18:57:00</span>.<span style=\"color: #008080; text-decoration-color: #008080; font-weight: bold\">724290</span>  |  Epoch <span style=\"color: #008080; text-decoration-color: #008080; font-weight: bold\">11</span>  |  Training loss <span style=\"color: #008080; text-decoration-color: #008080; font-weight: bold\">1.25431</span>\n",
       "</pre>\n"
      ],
      "text/plain": [
       "\u001b[1;92m18:57:00\u001b[0m.\u001b[1;36m724290\u001b[0m  |  Epoch \u001b[1;36m11\u001b[0m  |  Training loss \u001b[1;36m1.25431\u001b[0m\n"
      ]
     },
     "metadata": {},
     "output_type": "display_data"
    },
    {
     "data": {
      "text/html": [
       "<pre style=\"white-space:pre;overflow-x:auto;line-height:normal;font-family:Menlo,'DejaVu Sans Mono',consolas,'Courier New',monospace\"><span style=\"color: #00ff00; text-decoration-color: #00ff00; font-weight: bold\">18:57:10</span>.<span style=\"color: #008080; text-decoration-color: #008080; font-weight: bold\">516089</span>  |  Epoch <span style=\"color: #008080; text-decoration-color: #008080; font-weight: bold\">12</span>  |  Training loss <span style=\"color: #008080; text-decoration-color: #008080; font-weight: bold\">1.22181</span>\n",
       "</pre>\n"
      ],
      "text/plain": [
       "\u001b[1;92m18:57:10\u001b[0m.\u001b[1;36m516089\u001b[0m  |  Epoch \u001b[1;36m12\u001b[0m  |  Training loss \u001b[1;36m1.22181\u001b[0m\n"
      ]
     },
     "metadata": {},
     "output_type": "display_data"
    },
    {
     "data": {
      "text/html": [
       "<pre style=\"white-space:pre;overflow-x:auto;line-height:normal;font-family:Menlo,'DejaVu Sans Mono',consolas,'Courier New',monospace\"><span style=\"color: #00ff00; text-decoration-color: #00ff00; font-weight: bold\">18:57:20</span>.<span style=\"color: #008080; text-decoration-color: #008080; font-weight: bold\">430970</span>  |  Epoch <span style=\"color: #008080; text-decoration-color: #008080; font-weight: bold\">13</span>  |  Training loss <span style=\"color: #008080; text-decoration-color: #008080; font-weight: bold\">1.18929</span>\n",
       "</pre>\n"
      ],
      "text/plain": [
       "\u001b[1;92m18:57:20\u001b[0m.\u001b[1;36m430970\u001b[0m  |  Epoch \u001b[1;36m13\u001b[0m  |  Training loss \u001b[1;36m1.18929\u001b[0m\n"
      ]
     },
     "metadata": {},
     "output_type": "display_data"
    },
    {
     "data": {
      "text/html": [
       "<pre style=\"white-space:pre;overflow-x:auto;line-height:normal;font-family:Menlo,'DejaVu Sans Mono',consolas,'Courier New',monospace\"><span style=\"color: #00ff00; text-decoration-color: #00ff00; font-weight: bold\">18:57:30</span>.<span style=\"color: #008080; text-decoration-color: #008080; font-weight: bold\">220386</span>  |  Epoch <span style=\"color: #008080; text-decoration-color: #008080; font-weight: bold\">14</span>  |  Training loss <span style=\"color: #008080; text-decoration-color: #008080; font-weight: bold\">1.16136</span>\n",
       "</pre>\n"
      ],
      "text/plain": [
       "\u001b[1;92m18:57:30\u001b[0m.\u001b[1;36m220386\u001b[0m  |  Epoch \u001b[1;36m14\u001b[0m  |  Training loss \u001b[1;36m1.16136\u001b[0m\n"
      ]
     },
     "metadata": {},
     "output_type": "display_data"
    },
    {
     "data": {
      "text/html": [
       "<pre style=\"white-space:pre;overflow-x:auto;line-height:normal;font-family:Menlo,'DejaVu Sans Mono',consolas,'Courier New',monospace\"><span style=\"color: #00ff00; text-decoration-color: #00ff00; font-weight: bold\">18:57:39</span>.<span style=\"color: #008080; text-decoration-color: #008080; font-weight: bold\">887998</span>  |  Epoch <span style=\"color: #008080; text-decoration-color: #008080; font-weight: bold\">15</span>  |  Training loss <span style=\"color: #008080; text-decoration-color: #008080; font-weight: bold\">1.13673</span>\n",
       "</pre>\n"
      ],
      "text/plain": [
       "\u001b[1;92m18:57:39\u001b[0m.\u001b[1;36m887998\u001b[0m  |  Epoch \u001b[1;36m15\u001b[0m  |  Training loss \u001b[1;36m1.13673\u001b[0m\n"
      ]
     },
     "metadata": {},
     "output_type": "display_data"
    },
    {
     "data": {
      "text/html": [
       "<pre style=\"white-space:pre;overflow-x:auto;line-height:normal;font-family:Menlo,'DejaVu Sans Mono',consolas,'Courier New',monospace\"><span style=\"color: #00ff00; text-decoration-color: #00ff00; font-weight: bold\">18:57:49</span>.<span style=\"color: #008080; text-decoration-color: #008080; font-weight: bold\">593627</span>  |  Epoch <span style=\"color: #008080; text-decoration-color: #008080; font-weight: bold\">16</span>  |  Training loss <span style=\"color: #008080; text-decoration-color: #008080; font-weight: bold\">1.10756</span>\n",
       "</pre>\n"
      ],
      "text/plain": [
       "\u001b[1;92m18:57:49\u001b[0m.\u001b[1;36m593627\u001b[0m  |  Epoch \u001b[1;36m16\u001b[0m  |  Training loss \u001b[1;36m1.10756\u001b[0m\n"
      ]
     },
     "metadata": {},
     "output_type": "display_data"
    },
    {
     "data": {
      "text/html": [
       "<pre style=\"white-space:pre;overflow-x:auto;line-height:normal;font-family:Menlo,'DejaVu Sans Mono',consolas,'Courier New',monospace\"><span style=\"color: #00ff00; text-decoration-color: #00ff00; font-weight: bold\">18:57:59</span>.<span style=\"color: #008080; text-decoration-color: #008080; font-weight: bold\">385926</span>  |  Epoch <span style=\"color: #008080; text-decoration-color: #008080; font-weight: bold\">17</span>  |  Training loss <span style=\"color: #008080; text-decoration-color: #008080; font-weight: bold\">1.07835</span>\n",
       "</pre>\n"
      ],
      "text/plain": [
       "\u001b[1;92m18:57:59\u001b[0m.\u001b[1;36m385926\u001b[0m  |  Epoch \u001b[1;36m17\u001b[0m  |  Training loss \u001b[1;36m1.07835\u001b[0m\n"
      ]
     },
     "metadata": {},
     "output_type": "display_data"
    },
    {
     "data": {
      "text/html": [
       "<pre style=\"white-space:pre;overflow-x:auto;line-height:normal;font-family:Menlo,'DejaVu Sans Mono',consolas,'Courier New',monospace\"><span style=\"color: #00ff00; text-decoration-color: #00ff00; font-weight: bold\">18:58:09</span>.<span style=\"color: #008080; text-decoration-color: #008080; font-weight: bold\">129346</span>  |  Epoch <span style=\"color: #008080; text-decoration-color: #008080; font-weight: bold\">18</span>  |  Training loss <span style=\"color: #008080; text-decoration-color: #008080; font-weight: bold\">1.05378</span>\n",
       "</pre>\n"
      ],
      "text/plain": [
       "\u001b[1;92m18:58:09\u001b[0m.\u001b[1;36m129346\u001b[0m  |  Epoch \u001b[1;36m18\u001b[0m  |  Training loss \u001b[1;36m1.05378\u001b[0m\n"
      ]
     },
     "metadata": {},
     "output_type": "display_data"
    },
    {
     "data": {
      "text/html": [
       "<pre style=\"white-space:pre;overflow-x:auto;line-height:normal;font-family:Menlo,'DejaVu Sans Mono',consolas,'Courier New',monospace\"><span style=\"color: #00ff00; text-decoration-color: #00ff00; font-weight: bold\">18:58:18</span>.<span style=\"color: #008080; text-decoration-color: #008080; font-weight: bold\">987658</span>  |  Epoch <span style=\"color: #008080; text-decoration-color: #008080; font-weight: bold\">19</span>  |  Training loss <span style=\"color: #008080; text-decoration-color: #008080; font-weight: bold\">1.03302</span>\n",
       "</pre>\n"
      ],
      "text/plain": [
       "\u001b[1;92m18:58:18\u001b[0m.\u001b[1;36m987658\u001b[0m  |  Epoch \u001b[1;36m19\u001b[0m  |  Training loss \u001b[1;36m1.03302\u001b[0m\n"
      ]
     },
     "metadata": {},
     "output_type": "display_data"
    },
    {
     "data": {
      "text/html": [
       "<pre style=\"white-space:pre;overflow-x:auto;line-height:normal;font-family:Menlo,'DejaVu Sans Mono',consolas,'Courier New',monospace\"><span style=\"color: #00ff00; text-decoration-color: #00ff00; font-weight: bold\">18:58:28</span>.<span style=\"color: #008080; text-decoration-color: #008080; font-weight: bold\">786812</span>  |  Epoch <span style=\"color: #008080; text-decoration-color: #008080; font-weight: bold\">20</span>  |  Training loss <span style=\"color: #008080; text-decoration-color: #008080; font-weight: bold\">1.00870</span>\n",
       "</pre>\n"
      ],
      "text/plain": [
       "\u001b[1;92m18:58:28\u001b[0m.\u001b[1;36m786812\u001b[0m  |  Epoch \u001b[1;36m20\u001b[0m  |  Training loss \u001b[1;36m1.00870\u001b[0m\n"
      ]
     },
     "metadata": {},
     "output_type": "display_data"
    }
   ],
   "source": [
    "loss_fn = nn.CrossEntropyLoss()\n",
    "n_epochs = 20\n",
    "lr = 0.001\n",
    "embedding_dim = 64\n",
    "\n",
    "RNN_model_2 = RNN(\n",
    "    vocab_size=vocab_size,\n",
    "    embedding_dim=embedding_dim,\n",
    "    embedding_weights=best_model_weights,\n",
    "    hidden_size=64,\n",
    "    lstm_layers=2,\n",
    ").to(device=device)\n",
    "optimizer = optim.Adam(RNN_model_2.parameters(), lr=lr)\n",
    "\n",
    "\n",
    "train(n_epochs, optimizer, RNN_model_2, loss_fn, train_conjugate_data_loader)\n",
    "\n",
    "models.append(RNN_model_2)\n",
    "titles.append(\"RNN_2\")"
   ]
  },
  {
   "cell_type": "code",
   "execution_count": 24,
   "metadata": {},
   "outputs": [
    {
     "data": {
      "text/html": [
       "<pre style=\"white-space:pre;overflow-x:auto;line-height:normal;font-family:Menlo,'DejaVu Sans Mono',consolas,'Courier New',monospace\">MLP | Train accuracy <span style=\"color: #008080; text-decoration-color: #008080; font-weight: bold\">13.77</span>% |  Validation accuracy <span style=\"color: #008080; text-decoration-color: #008080; font-weight: bold\">12.70</span>%\n",
       "</pre>\n"
      ],
      "text/plain": [
       "MLP | Train accuracy \u001b[1;36m13.77\u001b[0m% |  Validation accuracy \u001b[1;36m12.70\u001b[0m%\n"
      ]
     },
     "metadata": {},
     "output_type": "display_data"
    },
    {
     "data": {
      "text/html": [
       "<pre style=\"white-space:pre;overflow-x:auto;line-height:normal;font-family:Menlo,'DejaVu Sans Mono',consolas,'Courier New',monospace\">MLP_2 | Train accuracy <span style=\"color: #008080; text-decoration-color: #008080; font-weight: bold\">12.97</span>% |  Validation accuracy <span style=\"color: #008080; text-decoration-color: #008080; font-weight: bold\">10.00</span>%\n",
       "</pre>\n"
      ],
      "text/plain": [
       "MLP_2 | Train accuracy \u001b[1;36m12.97\u001b[0m% |  Validation accuracy \u001b[1;36m10.00\u001b[0m%\n"
      ]
     },
     "metadata": {},
     "output_type": "display_data"
    },
    {
     "data": {
      "text/html": [
       "<pre style=\"white-space:pre;overflow-x:auto;line-height:normal;font-family:Menlo,'DejaVu Sans Mono',consolas,'Courier New',monospace\">RNN | Train accuracy <span style=\"color: #008080; text-decoration-color: #008080; font-weight: bold\">8.28</span>% |  Validation accuracy <span style=\"color: #008080; text-decoration-color: #008080; font-weight: bold\">9.00</span>%\n",
       "</pre>\n"
      ],
      "text/plain": [
       "RNN | Train accuracy \u001b[1;36m8.28\u001b[0m% |  Validation accuracy \u001b[1;36m9.00\u001b[0m%\n"
      ]
     },
     "metadata": {},
     "output_type": "display_data"
    },
    {
     "data": {
      "text/html": [
       "<pre style=\"white-space:pre;overflow-x:auto;line-height:normal;font-family:Menlo,'DejaVu Sans Mono',consolas,'Courier New',monospace\">RNN_2 | Train accuracy <span style=\"color: #008080; text-decoration-color: #008080; font-weight: bold\">59.01</span>% |  Validation accuracy <span style=\"color: #008080; text-decoration-color: #008080; font-weight: bold\">37.92</span>%\n",
       "</pre>\n"
      ],
      "text/plain": [
       "RNN_2 | Train accuracy \u001b[1;36m59.01\u001b[0m% |  Validation accuracy \u001b[1;36m37.92\u001b[0m%\n"
      ]
     },
     "metadata": {},
     "output_type": "display_data"
    },
    {
     "data": {
      "text/plain": [
       "RNN(\n",
       "  (embeddings): Embedding(1050, 64)\n",
       "  (lstm): LSTM(64, 64, num_layers=2, batch_first=True)\n",
       "  (classifier): Sequential(\n",
       "    (0): Linear(in_features=64, out_features=128, bias=True)\n",
       "    (1): ReLU()\n",
       "    (2): Linear(in_features=128, out_features=12, bias=True)\n",
       "    (3): LogSoftmax(dim=1)\n",
       "  )\n",
       ")"
      ]
     },
     "execution_count": 24,
     "metadata": {},
     "output_type": "execute_result"
    }
   ],
   "source": [
    "best_conjugating_model = model_selection(models, titles, train_conjugate_data_loader, val_conjugate_data_loader)\n",
    "best_conjugating_model"
   ]
  },
  {
   "cell_type": "code",
   "execution_count": 25,
   "metadata": {},
   "outputs": [
    {
     "data": {
      "text/html": [
       "<pre style=\"white-space:pre;overflow-x:auto;line-height:normal;font-family:Menlo,'DejaVu Sans Mono',consolas,'Courier New',monospace\">Best conjugating model | Test accuracy <span style=\"color: #008080; text-decoration-color: #008080; font-weight: bold\">24.06</span>%\n",
       "</pre>\n"
      ],
      "text/plain": [
       "Best conjugating model | Test accuracy \u001b[1;36m24.06\u001b[0m%\n"
      ]
     },
     "metadata": {},
     "output_type": "display_data"
    }
   ],
   "source": [
    "best_conjugating_model_acc = accuracy(best_conjugating_model, test_loader)\n",
    "print(f\"Best conjugating model | Test accuracy {best_model_acc:.2%}\")"
   ]
  },
  {
   "cell_type": "markdown",
   "metadata": {},
   "source": [
    "## 2.3 Text generation"
   ]
  },
  {
   "cell_type": "markdown",
   "metadata": {},
   "source": [
    "#### 1 -  Use your trained word embedding and define a RNN architecture that can predict the next word given the context before the target.\n"
   ]
  },
  {
   "cell_type": "code",
   "execution_count": 26,
   "metadata": {},
   "outputs": [],
   "source": [
    "class RNN_2(nn.Module):\n",
    "    def __init__(self, vocab_size, embedding_dim, embedding_weights, hidden_size, lstm_layers, output_size):\n",
    "        super(RNN_2, self).__init__()\n",
    "        self.embeddings = nn.Embedding(vocab_size, embedding_dim)\n",
    "        self.embeddings.load_state_dict({\"weight\": embedding_weights})\n",
    "        self.embeddings.requires_grad = False\n",
    "\n",
    "        self.lstm = nn.LSTM(\n",
    "            input_size=embedding_dim,\n",
    "            hidden_size=hidden_size,\n",
    "            num_layers=lstm_layers,\n",
    "            batch_first=True,\n",
    "        )\n",
    "\n",
    "        self.classifier = nn.Sequential(\n",
    "            nn.Linear(in_features=embedding_dim, out_features=4096),\n",
    "            nn.ReLU(),\n",
    "            nn.Linear(in_features=4096, out_features=2048),\n",
    "            nn.ReLU(),\n",
    "            nn.Linear(in_features=2048, out_features=output_size),\n",
    "            nn.LogSoftmax(dim=1),\n",
    "        )\n",
    "\n",
    "    def forward(self, input):\n",
    "        embeds = self.embeddings(input)\n",
    "        output, (hn, cn) = self.lstm(embeds)\n",
    "        output = self.classifier(hn)\n",
    "        return output[0]\n"
   ]
  },
  {
   "cell_type": "code",
   "execution_count": 27,
   "metadata": {},
   "outputs": [],
   "source": [
    "loss_fn = nn.CrossEntropyLoss()\n",
    "n_epochs = 4\n",
    "lr = 0.001\n",
    "embedding_dim = 64\n",
    "\n",
    "RNN_text_gen = RNN_2(\n",
    "    vocab_size=vocab_size,\n",
    "    embedding_dim=embedding_dim,\n",
    "    embedding_weights=best_model_weights,\n",
    "    hidden_size=64,\n",
    "    lstm_layers=1,\n",
    "    output_size=vocab_size,\n",
    ").to(device=device)\n",
    "optimizer = optim.Adam(RNN_text_gen.parameters(), lr=lr)\n",
    "\n",
    "# I was not able to train due to time it took training.\n",
    "#train(n_epochs, optimizer, RNN_text_gen, loss_fn, train_loader)\n"
   ]
  },
  {
   "cell_type": "markdown",
   "metadata": {},
   "source": [
    "In 24 minutes the training loop had not completed a single epoch, so i did not have the time to train the text_generation model.\n",
    "\n",
    "![Long training time](./visualizations/long_waIT.png)"
   ]
  },
  {
   "cell_type": "markdown",
   "metadata": {},
   "source": [
    "#### 2 - Train several models, select the best one and evaluate its performance.\n",
    "*Models could not be trained due to training times, but i would simply define several models with different parameters, and use the existing general implemented model_selection and accuracy functions as the two previous tasks.*"
   ]
  },
  {
   "cell_type": "markdown",
   "metadata": {},
   "source": [
    "#### 3 - Implement the beam search algorithm.\n",
    "\n",
    "*We did not have time to implement this part of the task*"
   ]
  },
  {
   "cell_type": "markdown",
   "metadata": {},
   "source": [
    "#### 4 - Have fun playing with your model. \n",
    "\n",
    "*We did not have time to implement this part of the task*"
   ]
  }
 ],
 "metadata": {
  "interpreter": {
   "hash": "f2237f2d220ad310471ebc7a3ba2d52d32f1f45a06155c1490d637beab9bd187"
  },
  "kernelspec": {
   "display_name": "Python 3.9.7 ('INF265_gpu')",
   "language": "python",
   "name": "python3"
  },
  "language_info": {
   "codemirror_mode": {
    "name": "ipython",
    "version": 3
   },
   "file_extension": ".py",
   "mimetype": "text/x-python",
   "name": "python",
   "nbconvert_exporter": "python",
   "pygments_lexer": "ipython3",
   "version": "3.10.4"
  },
  "orig_nbformat": 4
 },
 "nbformat": 4,
 "nbformat_minor": 2
}

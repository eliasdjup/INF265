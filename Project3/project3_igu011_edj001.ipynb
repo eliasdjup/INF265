{
 "cells": [
  {
   "cell_type": "markdown",
   "metadata": {},
   "source": [
    "# Project 3 - Sequence models\n",
    "\n",
    "igu011 and edj001"
   ]
  },
  {
   "cell_type": "code",
   "execution_count": 1,
   "metadata": {},
   "outputs": [
    {
     "data": {
      "text/html": [
       "<pre style=\"white-space:pre;overflow-x:auto;line-height:normal;font-family:Menlo,'DejaVu Sans Mono',consolas,'Courier New',monospace\">Device cpu.\n",
       "</pre>\n"
      ],
      "text/plain": [
       "Device cpu.\n"
      ]
     },
     "metadata": {},
     "output_type": "display_data"
    }
   ],
   "source": [
    "import torch\n",
    "from torch import nn, optim\n",
    "import torch.nn.functional as F\n",
    "from datetime import datetime\n",
    "from torch.utils.data import DataLoader, TensorDataset\n",
    "from rich import print\n",
    "\n",
    "import numpy as np\n",
    "import torchtext\n",
    "from os import listdir\n",
    "import re\n",
    "from torchtext.data.utils import get_tokenizer\n",
    "from torchtext.vocab import build_vocab_from_iterator\n",
    "\n",
    "torch.manual_seed(265)\n",
    "torch.set_default_dtype(torch.double)\n",
    "\n",
    "device = torch.device(\"cpu\")\n",
    "print(f\"Device {device}.\")\n"
   ]
  },
  {
   "cell_type": "markdown",
   "metadata": {},
   "source": [
    "## 2.1 Word embedding"
   ]
  },
  {
   "cell_type": "markdown",
   "metadata": {},
   "source": [
    "#### 1 - Read txt files and tokenize them to obtain train/validation/test lists of words.\n"
   ]
  },
  {
   "cell_type": "code",
   "execution_count": 2,
   "metadata": {},
   "outputs": [],
   "source": [
    "tokenizer = get_tokenizer(\"basic_english\")\n",
    "\n",
    "\n",
    "def read_files(datapath=\"./\"):\n",
    "    files = listdir(datapath)\n",
    "    files = [datapath + f for f in files if f.endswith(\".txt\")]\n",
    "\n",
    "    lines = []\n",
    "    for f_name in files:\n",
    "        with open(f_name) as f:\n",
    "            lines += f.readlines()\n",
    "    return lines\n",
    "\n",
    "\n",
    "no_digits = \"\\w*[0-9]+\\w*\"\n",
    "no_names = \"\\w*[A-Z]+\\w*\"\n",
    "no_spaces = \"\\s+\"\n",
    "\n",
    "\n",
    "def tokenize(lines):\n",
    "    list_text = []\n",
    "    for line in lines:\n",
    "        list_text += tokenizer(line)\n",
    "    return list_text\n",
    "\n",
    "\n",
    "def yield_tokens(lines):\n",
    "    for line in lines:\n",
    "        line = re.sub(no_digits + \"|\" + no_names, \" \", line)\n",
    "        line = re.sub(no_spaces, \" \", line)\n",
    "        yield tokenizer(line)\n",
    "\n",
    "\n",
    "def count_freqs(data, vocab):\n",
    "    freqs = torch.zeros(len(vocab), dtype=torch.int)\n",
    "    for w in data:\n",
    "        freqs[vocab[w]] += 1\n",
    "    return freqs\n",
    "\n",
    "\n",
    "train_books = read_files(datapath=\"./data_train/\")\n",
    "train_tokenized = tokenize(train_books)\n",
    "\n",
    "val_books = read_files(datapath=\"./data_val/\")\n",
    "val_tokenized = tokenize(val_books)\n",
    "\n",
    "test_books = read_files(datapath=\"./data_test/\")\n",
    "test_tokenized = tokenize(test_books)\n"
   ]
  },
  {
   "cell_type": "markdown",
   "metadata": {},
   "source": [
    "#### 2 - Define a vocabulary based on the training dataset\n",
    "To avoid getting a too large vocabulary, a solution can be to keep only words that appear at least 100 times in the training dataset.\n",
    "Report the total number of words in the training dataset, the number of distinct words in the\n",
    "training dataset and the size the defined vocabulary. Comment your results."
   ]
  },
  {
   "cell_type": "code",
   "execution_count": 3,
   "metadata": {},
   "outputs": [
    {
     "data": {
      "text/html": [
       "<pre style=\"white-space:pre;overflow-x:auto;line-height:normal;font-family:Menlo,'DejaVu Sans Mono',consolas,'Courier New',monospace\">Total number of words in the dataset:    <span style=\"color: #008080; text-decoration-color: #008080; font-weight: bold\">1368807</span>\n",
       "</pre>\n"
      ],
      "text/plain": [
       "Total number of words in the dataset:    \u001b[1;36m1368807\u001b[0m\n"
      ]
     },
     "metadata": {},
     "output_type": "display_data"
    },
    {
     "data": {
      "text/html": [
       "<pre style=\"white-space:pre;overflow-x:auto;line-height:normal;font-family:Menlo,'DejaVu Sans Mono',consolas,'Courier New',monospace\">Number of distinct words in the dataset: <span style=\"color: #008080; text-decoration-color: #008080; font-weight: bold\">30374</span>\n",
       "</pre>\n"
      ],
      "text/plain": [
       "Number of distinct words in the dataset: \u001b[1;36m30374\u001b[0m\n"
      ]
     },
     "metadata": {},
     "output_type": "display_data"
    },
    {
     "data": {
      "text/html": [
       "<pre style=\"white-space:pre;overflow-x:auto;line-height:normal;font-family:Menlo,'DejaVu Sans Mono',consolas,'Courier New',monospace\">Size the defined vocabular:              <span style=\"color: #008080; text-decoration-color: #008080; font-weight: bold\">1050</span>\n",
       "</pre>\n"
      ],
      "text/plain": [
       "Size the defined vocabular:              \u001b[1;36m1050\u001b[0m\n"
      ]
     },
     "metadata": {},
     "output_type": "display_data"
    },
    {
     "data": {
      "text/html": [
       "<pre style=\"white-space:pre;overflow-x:auto;line-height:normal;font-family:Menlo,'DejaVu Sans Mono',consolas,'Courier New',monospace\">Top <span style=\"color: #008080; text-decoration-color: #008080; font-weight: bold\">20</span> occurences:\n",
       "\n",
       "<span style=\"font-weight: bold\">[</span>\n",
       "    <span style=\"font-weight: bold\">(</span><span style=\"color: #008080; text-decoration-color: #008080; font-weight: bold\">71106</span>, <span style=\"color: #008000; text-decoration-color: #008000\">'the'</span><span style=\"font-weight: bold\">)</span>,\n",
       "    <span style=\"font-weight: bold\">(</span><span style=\"color: #008080; text-decoration-color: #008080; font-weight: bold\">43426</span>, <span style=\"color: #008000; text-decoration-color: #008000\">'and'</span><span style=\"font-weight: bold\">)</span>,\n",
       "    <span style=\"font-weight: bold\">(</span><span style=\"color: #008080; text-decoration-color: #008080; font-weight: bold\">33952</span>, <span style=\"color: #008000; text-decoration-color: #008000\">'to'</span><span style=\"font-weight: bold\">)</span>,\n",
       "    <span style=\"font-weight: bold\">(</span><span style=\"color: #008080; text-decoration-color: #008080; font-weight: bold\">30061</span>, <span style=\"color: #008000; text-decoration-color: #008000\">'of'</span><span style=\"font-weight: bold\">)</span>,\n",
       "    <span style=\"font-weight: bold\">(</span><span style=\"color: #008080; text-decoration-color: #008080; font-weight: bold\">23575</span>, <span style=\"color: #008000; text-decoration-color: #008000\">'a'</span><span style=\"font-weight: bold\">)</span>,\n",
       "    <span style=\"font-weight: bold\">(</span><span style=\"color: #008080; text-decoration-color: #008080; font-weight: bold\">18657</span>, <span style=\"color: #008000; text-decoration-color: #008000\">'in'</span><span style=\"font-weight: bold\">)</span>,\n",
       "    <span style=\"font-weight: bold\">(</span><span style=\"color: #008080; text-decoration-color: #008080; font-weight: bold\">20755</span>, <span style=\"color: #008000; text-decoration-color: #008000\">'he'</span><span style=\"font-weight: bold\">)</span>,\n",
       "    <span style=\"font-weight: bold\">(</span><span style=\"color: #008080; text-decoration-color: #008080; font-weight: bold\">16814</span>, <span style=\"color: #008000; text-decoration-color: #008000\">'that'</span><span style=\"font-weight: bold\">)</span>,\n",
       "    <span style=\"font-weight: bold\">(</span><span style=\"color: #008080; text-decoration-color: #008080; font-weight: bold\">15056</span>, <span style=\"color: #008000; text-decoration-color: #008000\">'was'</span><span style=\"font-weight: bold\">)</span>,\n",
       "    <span style=\"font-weight: bold\">(</span><span style=\"color: #008080; text-decoration-color: #008080; font-weight: bold\">14400</span>, <span style=\"color: #008000; text-decoration-color: #008000\">'his'</span><span style=\"font-weight: bold\">)</span>,\n",
       "    <span style=\"font-weight: bold\">(</span><span style=\"color: #008080; text-decoration-color: #008080; font-weight: bold\">13815</span>, <span style=\"color: #008000; text-decoration-color: #008000\">'it'</span><span style=\"font-weight: bold\">)</span>,\n",
       "    <span style=\"font-weight: bold\">(</span><span style=\"color: #008080; text-decoration-color: #008080; font-weight: bold\">10997</span>, <span style=\"color: #008000; text-decoration-color: #008000\">'with'</span><span style=\"font-weight: bold\">)</span>,\n",
       "    <span style=\"font-weight: bold\">(</span><span style=\"color: #008080; text-decoration-color: #008080; font-weight: bold\">10735</span>, <span style=\"color: #008000; text-decoration-color: #008000\">'had'</span><span style=\"font-weight: bold\">)</span>,\n",
       "    <span style=\"font-weight: bold\">(</span><span style=\"color: #008080; text-decoration-color: #008080; font-weight: bold\">9430</span>, <span style=\"color: #008000; text-decoration-color: #008000\">'her'</span><span style=\"font-weight: bold\">)</span>,\n",
       "    <span style=\"font-weight: bold\">(</span><span style=\"color: #008080; text-decoration-color: #008080; font-weight: bold\">9334</span>, <span style=\"color: #008000; text-decoration-color: #008000\">'not'</span><span style=\"font-weight: bold\">)</span>,\n",
       "    <span style=\"font-weight: bold\">(</span><span style=\"color: #008080; text-decoration-color: #008080; font-weight: bold\">10562</span>, <span style=\"color: #008000; text-decoration-color: #008000\">'you'</span><span style=\"font-weight: bold\">)</span>,\n",
       "    <span style=\"font-weight: bold\">(</span><span style=\"color: #008080; text-decoration-color: #008080; font-weight: bold\">9198</span>, <span style=\"color: #008000; text-decoration-color: #008000\">'as'</span><span style=\"font-weight: bold\">)</span>,\n",
       "    <span style=\"font-weight: bold\">(</span><span style=\"color: #008080; text-decoration-color: #008080; font-weight: bold\">9152</span>, <span style=\"color: #008000; text-decoration-color: #008000\">'at'</span><span style=\"font-weight: bold\">)</span>,\n",
       "    <span style=\"font-weight: bold\">(</span><span style=\"color: #008080; text-decoration-color: #008080; font-weight: bold\">8447</span>, <span style=\"color: #008000; text-decoration-color: #008000\">'him'</span><span style=\"font-weight: bold\">)</span>\n",
       "<span style=\"font-weight: bold\">]</span>\n",
       "</pre>\n"
      ],
      "text/plain": [
       "Top \u001b[1;36m20\u001b[0m occurences:\n",
       "\n",
       "\u001b[1m[\u001b[0m\n",
       "    \u001b[1m(\u001b[0m\u001b[1;36m71106\u001b[0m, \u001b[32m'the'\u001b[0m\u001b[1m)\u001b[0m,\n",
       "    \u001b[1m(\u001b[0m\u001b[1;36m43426\u001b[0m, \u001b[32m'and'\u001b[0m\u001b[1m)\u001b[0m,\n",
       "    \u001b[1m(\u001b[0m\u001b[1;36m33952\u001b[0m, \u001b[32m'to'\u001b[0m\u001b[1m)\u001b[0m,\n",
       "    \u001b[1m(\u001b[0m\u001b[1;36m30061\u001b[0m, \u001b[32m'of'\u001b[0m\u001b[1m)\u001b[0m,\n",
       "    \u001b[1m(\u001b[0m\u001b[1;36m23575\u001b[0m, \u001b[32m'a'\u001b[0m\u001b[1m)\u001b[0m,\n",
       "    \u001b[1m(\u001b[0m\u001b[1;36m18657\u001b[0m, \u001b[32m'in'\u001b[0m\u001b[1m)\u001b[0m,\n",
       "    \u001b[1m(\u001b[0m\u001b[1;36m20755\u001b[0m, \u001b[32m'he'\u001b[0m\u001b[1m)\u001b[0m,\n",
       "    \u001b[1m(\u001b[0m\u001b[1;36m16814\u001b[0m, \u001b[32m'that'\u001b[0m\u001b[1m)\u001b[0m,\n",
       "    \u001b[1m(\u001b[0m\u001b[1;36m15056\u001b[0m, \u001b[32m'was'\u001b[0m\u001b[1m)\u001b[0m,\n",
       "    \u001b[1m(\u001b[0m\u001b[1;36m14400\u001b[0m, \u001b[32m'his'\u001b[0m\u001b[1m)\u001b[0m,\n",
       "    \u001b[1m(\u001b[0m\u001b[1;36m13815\u001b[0m, \u001b[32m'it'\u001b[0m\u001b[1m)\u001b[0m,\n",
       "    \u001b[1m(\u001b[0m\u001b[1;36m10997\u001b[0m, \u001b[32m'with'\u001b[0m\u001b[1m)\u001b[0m,\n",
       "    \u001b[1m(\u001b[0m\u001b[1;36m10735\u001b[0m, \u001b[32m'had'\u001b[0m\u001b[1m)\u001b[0m,\n",
       "    \u001b[1m(\u001b[0m\u001b[1;36m9430\u001b[0m, \u001b[32m'her'\u001b[0m\u001b[1m)\u001b[0m,\n",
       "    \u001b[1m(\u001b[0m\u001b[1;36m9334\u001b[0m, \u001b[32m'not'\u001b[0m\u001b[1m)\u001b[0m,\n",
       "    \u001b[1m(\u001b[0m\u001b[1;36m10562\u001b[0m, \u001b[32m'you'\u001b[0m\u001b[1m)\u001b[0m,\n",
       "    \u001b[1m(\u001b[0m\u001b[1;36m9198\u001b[0m, \u001b[32m'as'\u001b[0m\u001b[1m)\u001b[0m,\n",
       "    \u001b[1m(\u001b[0m\u001b[1;36m9152\u001b[0m, \u001b[32m'at'\u001b[0m\u001b[1m)\u001b[0m,\n",
       "    \u001b[1m(\u001b[0m\u001b[1;36m8447\u001b[0m, \u001b[32m'him'\u001b[0m\u001b[1m)\u001b[0m\n",
       "\u001b[1m]\u001b[0m\n"
      ]
     },
     "metadata": {},
     "output_type": "display_data"
    }
   ],
   "source": [
    "specials = [\"<unk>\", \",\", \".\", \"!\", \"?\"]\n",
    "vocab = build_vocab_from_iterator(yield_tokens(train_books), min_freq=100, specials=specials)\n",
    "\n",
    "vocab.append_token(\"i\")\n",
    "\n",
    "vocab.set_default_index(vocab[\"<unk>\"])\n",
    "vocab_size = len(vocab)\n",
    "\n",
    "print(\"Total number of words in the dataset:   \", len(train_tokenized))\n",
    "print(\"Number of distinct words in the dataset:\", len(set(train_tokenized)))\n",
    "print(\"Size the defined vocabular:             \", vocab_size)\n",
    "\n",
    "\n",
    "freqs = count_freqs(train_tokenized, vocab)\n",
    "top20 = freqs[len(specials) : len(specials) + 19]\n",
    "print(\n",
    "    \"Top 20 occurences (without special characters):\\n\",\n",
    "    [\n",
    "        (f.item(), w)\n",
    "        for (f, w) in zip(top20, vocab.lookup_tokens(range(len(specials), len(specials) + 19)))\n",
    "    ],\n",
    ")\n"
   ]
  },
  {
   "cell_type": "code",
   "execution_count": 4,
   "metadata": {},
   "outputs": [],
   "source": [
    "def create_dataset(text, vocab, context_size=3):\n",
    "    \"\"\"\n",
    "    Create a dataset from a list of context words and a list of target words\n",
    "    \"\"\"\n",
    "    contexts = []\n",
    "    targets = []\n",
    "    n_text = len(text)\n",
    "\n",
    "    txt = [vocab[w] for w in text]\n",
    "\n",
    "    for i in range(n_text - context_size):\n",
    "\n",
    "        t = txt[i + context_size]\n",
    "\n",
    "        c = torch.Tensor(txt[i : i + context_size]).type(torch.long)\n",
    "\n",
    "        targets.append(t)\n",
    "\n",
    "        contexts.append(c)\n",
    "\n",
    "    contexts = torch.stack(contexts)\n",
    "    targets = torch.tensor(targets)\n",
    "    return TensorDataset(contexts, targets)\n",
    "\n",
    "\n",
    "context_size = 3\n",
    "\n",
    "train_data = create_dataset(train_tokenized, vocab, context_size=context_size)\n",
    "val_data = create_dataset(val_tokenized, vocab, context_size=context_size)\n",
    "test_data = create_dataset(test_tokenized, vocab, context_size=context_size)\n",
    "\n",
    "batch_size = 64\n",
    "\n",
    "train_loader = DataLoader(train_data, batch_size=batch_size, shuffle=False)\n",
    "val_loader = DataLoader(val_data, batch_size=batch_size, shuffle=False)\n",
    "test_loader = DataLoader(test_data, batch_size=batch_size, shuffle=False)\n"
   ]
  },
  {
   "cell_type": "markdown",
   "metadata": {},
   "source": [
    "#### 3 - Define a n-gram language model architecture based on this vocabulary that contains an embedding layer.\n",
    "To drastically reduce computational cost, the dimension of the embedding can be as low as 16 even though in a real setting a larger space would be used."
   ]
  },
  {
   "cell_type": "code",
   "execution_count": 5,
   "metadata": {},
   "outputs": [],
   "source": [
    "class NGram(nn.Module):\n",
    "    def __init__(self, vocab_size, embedding_dim, context_size):\n",
    "        super(NGram, self).__init__()\n",
    "        self.embeddings = nn.Embedding(vocab_size, embedding_dim)\n",
    "        self.linear1 = nn.Linear(context_size * embedding_dim, 128)\n",
    "        self.linear2 = nn.Linear(128, vocab_size)\n",
    "\n",
    "    def forward(self, inputs):\n",
    "        embeds = self.embeddings(inputs).view((inputs.shape[0], -1))\n",
    "        out = self.linear1(embeds)\n",
    "        out = self.linear2(out)\n",
    "        log_probs = F.log_softmax(out, dim=1)\n",
    "        return log_probs\n"
   ]
  },
  {
   "cell_type": "markdown",
   "metadata": {},
   "source": [
    "#### 4 - Train several models, select the best one and evaluate its performance.\n",
    "Note that the accuracy here is potentially extremely low, but the real objective is not to train a good predictor, only\n",
    "to have a good representation of the semantic of each word in the vocabulary"
   ]
  },
  {
   "cell_type": "code",
   "execution_count": 6,
   "metadata": {},
   "outputs": [],
   "source": [
    "def train(n_epochs, optimizer, model, loss_fn, train_loader):\n",
    "    \"\"\"\n",
    "    Train our model and save weight values\n",
    "    \"\"\"\n",
    "    n_batch = len(train_loader)\n",
    "    losses_train = []\n",
    "    model.train()\n",
    "    optimizer.zero_grad(set_to_none=True)\n",
    "\n",
    "    for epoch in range(1, n_epochs + 1):\n",
    "\n",
    "        loss_train = 0.0\n",
    "        for contexts, labels in train_loader:\n",
    "\n",
    "            contexts = contexts.to(device=device)\n",
    "            labels = labels.to(device=device)\n",
    "            outputs = model(contexts)\n",
    "\n",
    "            loss = loss_fn(outputs, labels)\n",
    "            loss.backward()\n",
    "            optimizer.step()\n",
    "            optimizer.zero_grad()\n",
    "\n",
    "            loss_train += loss.item()\n",
    "\n",
    "        losses_train.append(loss_train / n_batch)\n",
    "\n",
    "        print(\n",
    "            \"{}  |  Epoch {}  |  Training loss {:.5f}\".format(\n",
    "                datetime.now().time(), epoch, loss_train / n_batch\n",
    "            )\n",
    "        )\n",
    "    return\n",
    "\n",
    "\n",
    "def relative_error(a, b):\n",
    "    return torch.norm(a - b) / torch.norm(a)\n"
   ]
  },
  {
   "cell_type": "code",
   "execution_count": 7,
   "metadata": {},
   "outputs": [
    {
     "data": {
      "text/html": [
       "<pre style=\"white-space:pre;overflow-x:auto;line-height:normal;font-family:Menlo,'DejaVu Sans Mono',consolas,'Courier New',monospace\"><span style=\"color: #00ff00; text-decoration-color: #00ff00; font-weight: bold\">12:04:01</span>.<span style=\"color: #008080; text-decoration-color: #008080; font-weight: bold\">049493</span>  |  Epoch <span style=\"color: #008080; text-decoration-color: #008080; font-weight: bold\">1</span>  |  Training loss <span style=\"color: #008080; text-decoration-color: #008080; font-weight: bold\">4.16915</span>\n",
       "</pre>\n"
      ],
      "text/plain": [
       "\u001b[1;92m12:04:01\u001b[0m.\u001b[1;36m049493\u001b[0m  |  Epoch \u001b[1;36m1\u001b[0m  |  Training loss \u001b[1;36m4.16915\u001b[0m\n"
      ]
     },
     "metadata": {},
     "output_type": "display_data"
    },
    {
     "data": {
      "text/html": [
       "<pre style=\"white-space:pre;overflow-x:auto;line-height:normal;font-family:Menlo,'DejaVu Sans Mono',consolas,'Courier New',monospace\"><span style=\"color: #00ff00; text-decoration-color: #00ff00; font-weight: bold\">12:04:50</span>.<span style=\"color: #008080; text-decoration-color: #008080; font-weight: bold\">245416</span>  |  Epoch <span style=\"color: #008080; text-decoration-color: #008080; font-weight: bold\">2</span>  |  Training loss <span style=\"color: #008080; text-decoration-color: #008080; font-weight: bold\">3.96583</span>\n",
       "</pre>\n"
      ],
      "text/plain": [
       "\u001b[1;92m12:04:50\u001b[0m.\u001b[1;36m245416\u001b[0m  |  Epoch \u001b[1;36m2\u001b[0m  |  Training loss \u001b[1;36m3.96583\u001b[0m\n"
      ]
     },
     "metadata": {},
     "output_type": "display_data"
    },
    {
     "data": {
      "text/html": [
       "<pre style=\"white-space:pre;overflow-x:auto;line-height:normal;font-family:Menlo,'DejaVu Sans Mono',consolas,'Courier New',monospace\"><span style=\"color: #00ff00; text-decoration-color: #00ff00; font-weight: bold\">12:05:31</span>.<span style=\"color: #008080; text-decoration-color: #008080; font-weight: bold\">344862</span>  |  Epoch <span style=\"color: #008080; text-decoration-color: #008080; font-weight: bold\">3</span>  |  Training loss <span style=\"color: #008080; text-decoration-color: #008080; font-weight: bold\">3.89680</span>\n",
       "</pre>\n"
      ],
      "text/plain": [
       "\u001b[1;92m12:05:31\u001b[0m.\u001b[1;36m344862\u001b[0m  |  Epoch \u001b[1;36m3\u001b[0m  |  Training loss \u001b[1;36m3.89680\u001b[0m\n"
      ]
     },
     "metadata": {},
     "output_type": "display_data"
    },
    {
     "data": {
      "text/html": [
       "<pre style=\"white-space:pre;overflow-x:auto;line-height:normal;font-family:Menlo,'DejaVu Sans Mono',consolas,'Courier New',monospace\"><span style=\"color: #00ff00; text-decoration-color: #00ff00; font-weight: bold\">12:06:17</span>.<span style=\"color: #008080; text-decoration-color: #008080; font-weight: bold\">733936</span>  |  Epoch <span style=\"color: #008080; text-decoration-color: #008080; font-weight: bold\">4</span>  |  Training loss <span style=\"color: #008080; text-decoration-color: #008080; font-weight: bold\">3.85587</span>\n",
       "</pre>\n"
      ],
      "text/plain": [
       "\u001b[1;92m12:06:17\u001b[0m.\u001b[1;36m733936\u001b[0m  |  Epoch \u001b[1;36m4\u001b[0m  |  Training loss \u001b[1;36m3.85587\u001b[0m\n"
      ]
     },
     "metadata": {},
     "output_type": "display_data"
    }
   ],
   "source": [
    "loss_fn = nn.NLLLoss()\n",
    "\n",
    "n_epochs = 4\n",
    "lr = 0.1\n",
    "embedding_dim = 16\n",
    "\n",
    "NGram_model = NGram(vocab_size, embedding_dim, context_size).to(device=device)\n",
    "optimizer = optim.SGD(NGram_model.parameters(), lr=lr)\n",
    "\n",
    "weight = train(\n",
    "    n_epochs=n_epochs,\n",
    "    optimizer=optimizer,\n",
    "    model=NGram_model,\n",
    "    loss_fn=loss_fn,\n",
    "    train_loader=train_loader,\n",
    ")\n"
   ]
  },
  {
   "cell_type": "code",
   "execution_count": 8,
   "metadata": {},
   "outputs": [
    {
     "data": {
      "text/html": [
       "<pre style=\"white-space:pre;overflow-x:auto;line-height:normal;font-family:Menlo,'DejaVu Sans Mono',consolas,'Courier New',monospace\"><span style=\"color: #00ff00; text-decoration-color: #00ff00; font-weight: bold\">12:07:04</span>.<span style=\"color: #008080; text-decoration-color: #008080; font-weight: bold\">768945</span>  |  Epoch <span style=\"color: #008080; text-decoration-color: #008080; font-weight: bold\">1</span>  |  Training loss <span style=\"color: #008080; text-decoration-color: #008080; font-weight: bold\">4.01066</span>\n",
       "</pre>\n"
      ],
      "text/plain": [
       "\u001b[1;92m12:07:04\u001b[0m.\u001b[1;36m768945\u001b[0m  |  Epoch \u001b[1;36m1\u001b[0m  |  Training loss \u001b[1;36m4.01066\u001b[0m\n"
      ]
     },
     "metadata": {},
     "output_type": "display_data"
    },
    {
     "data": {
      "text/html": [
       "<pre style=\"white-space:pre;overflow-x:auto;line-height:normal;font-family:Menlo,'DejaVu Sans Mono',consolas,'Courier New',monospace\"><span style=\"color: #00ff00; text-decoration-color: #00ff00; font-weight: bold\">12:08:05</span>.<span style=\"color: #008080; text-decoration-color: #008080; font-weight: bold\">707217</span>  |  Epoch <span style=\"color: #008080; text-decoration-color: #008080; font-weight: bold\">2</span>  |  Training loss <span style=\"color: #008080; text-decoration-color: #008080; font-weight: bold\">3.83627</span>\n",
       "</pre>\n"
      ],
      "text/plain": [
       "\u001b[1;92m12:08:05\u001b[0m.\u001b[1;36m707217\u001b[0m  |  Epoch \u001b[1;36m2\u001b[0m  |  Training loss \u001b[1;36m3.83627\u001b[0m\n"
      ]
     },
     "metadata": {},
     "output_type": "display_data"
    },
    {
     "data": {
      "text/html": [
       "<pre style=\"white-space:pre;overflow-x:auto;line-height:normal;font-family:Menlo,'DejaVu Sans Mono',consolas,'Courier New',monospace\"><span style=\"color: #00ff00; text-decoration-color: #00ff00; font-weight: bold\">12:09:29</span>.<span style=\"color: #008080; text-decoration-color: #008080; font-weight: bold\">132748</span>  |  Epoch <span style=\"color: #008080; text-decoration-color: #008080; font-weight: bold\">3</span>  |  Training loss <span style=\"color: #008080; text-decoration-color: #008080; font-weight: bold\">3.78048</span>\n",
       "</pre>\n"
      ],
      "text/plain": [
       "\u001b[1;92m12:09:29\u001b[0m.\u001b[1;36m132748\u001b[0m  |  Epoch \u001b[1;36m3\u001b[0m  |  Training loss \u001b[1;36m3.78048\u001b[0m\n"
      ]
     },
     "metadata": {},
     "output_type": "display_data"
    },
    {
     "data": {
      "text/html": [
       "<pre style=\"white-space:pre;overflow-x:auto;line-height:normal;font-family:Menlo,'DejaVu Sans Mono',consolas,'Courier New',monospace\"><span style=\"color: #00ff00; text-decoration-color: #00ff00; font-weight: bold\">12:10:49</span>.<span style=\"color: #008080; text-decoration-color: #008080; font-weight: bold\">875003</span>  |  Epoch <span style=\"color: #008080; text-decoration-color: #008080; font-weight: bold\">4</span>  |  Training loss <span style=\"color: #008080; text-decoration-color: #008080; font-weight: bold\">3.74683</span>\n",
       "</pre>\n"
      ],
      "text/plain": [
       "\u001b[1;92m12:10:49\u001b[0m.\u001b[1;36m875003\u001b[0m  |  Epoch \u001b[1;36m4\u001b[0m  |  Training loss \u001b[1;36m3.74683\u001b[0m\n"
      ]
     },
     "metadata": {},
     "output_type": "display_data"
    }
   ],
   "source": [
    "n_epochs = 4\n",
    "lr = 0.1\n",
    "embedding_dim = 64\n",
    "\n",
    "NGram_larger_model = NGram(vocab_size, embedding_dim, context_size).to(device=device)\n",
    "NGram_larger_optimizer = optim.SGD(NGram_larger_model.parameters(), lr=lr)\n",
    "\n",
    "NGram_larger_model_weight = train(\n",
    "    n_epochs=n_epochs,\n",
    "    optimizer=NGram_larger_optimizer,\n",
    "    model=NGram_larger_model,\n",
    "    loss_fn=loss_fn,\n",
    "    train_loader=train_loader,\n",
    ")\n"
   ]
  },
  {
   "cell_type": "code",
   "execution_count": 9,
   "metadata": {},
   "outputs": [],
   "source": [
    "def accuracy(model, loader):\n",
    "    \"\"\"\n",
    "    Compute the accuracy of model with given data loader\n",
    "    \"\"\"\n",
    "    model.eval()\n",
    "    correct = 0\n",
    "    with torch.no_grad():\n",
    "        for contexts, labels in loader:\n",
    "            contexts = contexts.to(device=device)\n",
    "            labels = labels.to(device=device)\n",
    "\n",
    "            outputs = model(contexts)\n",
    "            _, predicted = torch.max(outputs.data, 1)\n",
    "            correct += (predicted == labels).sum().item()\n",
    "\n",
    "    return correct / len(loader.dataset)"
   ]
  },
  {
   "cell_type": "code",
   "execution_count": 10,
   "metadata": {},
   "outputs": [],
   "source": [
    "def model_selection(models, titles, train_loader, val_loader):\n",
    "    \"\"\"\n",
    "    Choose the best model from the list of models based on validation accuracy\n",
    "    \"\"\"\n",
    "    best_model = None\n",
    "    best_acc = 0\n",
    "    for model, title in zip(models, titles):\n",
    "        acc = accuracy(model, val_loader)\n",
    "        train_acc = accuracy(model, train_loader)\n",
    "        print(f\"{title} | Train accuracy {train_acc:.2%} |  Validation accuracy {acc:.2%}\")\n",
    "        if acc > best_acc:\n",
    "            best_model = model\n",
    "            best_acc = acc\n",
    "    return best_model\n"
   ]
  },
  {
   "cell_type": "code",
   "execution_count": 11,
   "metadata": {},
   "outputs": [
    {
     "data": {
      "text/html": [
       "<pre style=\"white-space:pre;overflow-x:auto;line-height:normal;font-family:Menlo,'DejaVu Sans Mono',consolas,'Courier New',monospace\">NGram | Train accuracy <span style=\"color: #008080; text-decoration-color: #008080; font-weight: bold\">20.57</span>% |  Validation accuracy <span style=\"color: #008080; text-decoration-color: #008080; font-weight: bold\">21.85</span>%\n",
       "</pre>\n"
      ],
      "text/plain": [
       "NGram | Train accuracy \u001b[1;36m20.57\u001b[0m% |  Validation accuracy \u001b[1;36m21.85\u001b[0m%\n"
      ]
     },
     "metadata": {},
     "output_type": "display_data"
    },
    {
     "data": {
      "text/html": [
       "<pre style=\"white-space:pre;overflow-x:auto;line-height:normal;font-family:Menlo,'DejaVu Sans Mono',consolas,'Courier New',monospace\">NGram_larger | Train accuracy <span style=\"color: #008080; text-decoration-color: #008080; font-weight: bold\">20.70</span>% |  Validation accuracy <span style=\"color: #008080; text-decoration-color: #008080; font-weight: bold\">21.95</span>%\n",
       "</pre>\n"
      ],
      "text/plain": [
       "NGram_larger | Train accuracy \u001b[1;36m20.70\u001b[0m% |  Validation accuracy \u001b[1;36m21.95\u001b[0m%\n"
      ]
     },
     "metadata": {},
     "output_type": "display_data"
    },
    {
     "data": {
      "text/html": [
       "<pre style=\"white-space:pre;overflow-x:auto;line-height:normal;font-family:Menlo,'DejaVu Sans Mono',consolas,'Courier New',monospace\">Best model | Test accuracy <span style=\"color: #008080; text-decoration-color: #008080; font-weight: bold\">22.73</span>%\n",
       "</pre>\n"
      ],
      "text/plain": [
       "Best model | Test accuracy \u001b[1;36m22.73\u001b[0m%\n"
      ]
     },
     "metadata": {},
     "output_type": "display_data"
    }
   ],
   "source": [
    "best_model = model_selection(\n",
    "    [NGram_model, NGram_larger_model], [\"NGram\", \"NGram_larger\"], train_loader, val_loader\n",
    ")\n",
    "\n",
    "\n",
    "best_model_acc = accuracy(best_model, test_loader)\n",
    "print(f\"Best model | Test accuracy {best_model_acc:.2%}\")"
   ]
  },
  {
   "cell_type": "markdown",
   "metadata": {},
   "source": [
    "#### 5 - Compute the cosine similarity matrix of the vocabulary based on the trained embedding.\n",
    "For some words of your choice (e.g. me, white, man, have, be, child, yes, what etc.), report the 10\n",
    "most similar words. Comment your results."
   ]
  },
  {
   "cell_type": "code",
   "execution_count": 12,
   "metadata": {},
   "outputs": [],
   "source": [
    "best_model_weights = best_model.embeddings.weight.detach()\n",
    "\n",
    "sim_matrix = np.zeros(shape=(len(best_model_weights), len(best_model_weights)))\n",
    "\n",
    "for w1 in range(0, len(best_model_weights)):\n",
    "    for w2 in range(0, len(best_model_weights)):\n",
    "        # Cosine similarity\n",
    "        sim_matrix[w1][w2] = np.dot(best_model_weights[w1], best_model_weights[w2]) / (\n",
    "            np.linalg.norm(best_model_weights[w1]) * np.linalg.norm(best_model_weights[w2])\n",
    "        )\n"
   ]
  },
  {
   "cell_type": "code",
   "execution_count": 13,
   "metadata": {},
   "outputs": [
    {
     "data": {
      "text/html": [
       "<pre style=\"white-space:pre;overflow-x:auto;line-height:normal;font-family:Menlo,'DejaVu Sans Mono',consolas,'Courier New',monospace\"><span style=\"font-weight: bold\">(</span><span style=\"color: #008000; text-decoration-color: #008000\">'me'</span>, <span style=\"color: #008080; text-decoration-color: #008080; font-weight: bold\">36</span><span style=\"font-weight: bold\">)</span> most similar words:\n",
       "</pre>\n"
      ],
      "text/plain": [
       "\u001b[1m(\u001b[0m\u001b[32m'me'\u001b[0m, \u001b[1;36m36\u001b[0m\u001b[1m)\u001b[0m most similar words:\n"
      ]
     },
     "metadata": {},
     "output_type": "display_data"
    },
    {
     "data": {
      "text/html": [
       "<pre style=\"white-space:pre;overflow-x:auto;line-height:normal;font-family:Menlo,'DejaVu Sans Mono',consolas,'Courier New',monospace\">        <span style=\"font-weight: bold\">(</span><span style=\"color: #008000; text-decoration-color: #008000\">'me'</span>, <span style=\"color: #008080; text-decoration-color: #008080; font-weight: bold\">1.0</span><span style=\"font-weight: bold\">)</span>\n",
       "</pre>\n"
      ],
      "text/plain": [
       "        \u001b[1m(\u001b[0m\u001b[32m'me'\u001b[0m, \u001b[1;36m1.0\u001b[0m\u001b[1m)\u001b[0m\n"
      ]
     },
     "metadata": {},
     "output_type": "display_data"
    },
    {
     "data": {
      "text/html": [
       "<pre style=\"white-space:pre;overflow-x:auto;line-height:normal;font-family:Menlo,'DejaVu Sans Mono',consolas,'Courier New',monospace\">        <span style=\"font-weight: bold\">(</span><span style=\"color: #008000; text-decoration-color: #008000\">'easy'</span>, <span style=\"color: #008080; text-decoration-color: #008080; font-weight: bold\">0.42187058151601503</span><span style=\"font-weight: bold\">)</span>\n",
       "</pre>\n"
      ],
      "text/plain": [
       "        \u001b[1m(\u001b[0m\u001b[32m'easy'\u001b[0m, \u001b[1;36m0.42187058151601503\u001b[0m\u001b[1m)\u001b[0m\n"
      ]
     },
     "metadata": {},
     "output_type": "display_data"
    },
    {
     "data": {
      "text/html": [
       "<pre style=\"white-space:pre;overflow-x:auto;line-height:normal;font-family:Menlo,'DejaVu Sans Mono',consolas,'Courier New',monospace\">        <span style=\"font-weight: bold\">(</span><span style=\"color: #008000; text-decoration-color: #008000\">'body'</span>, <span style=\"color: #008080; text-decoration-color: #008080; font-weight: bold\">0.40222393624304775</span><span style=\"font-weight: bold\">)</span>\n",
       "</pre>\n"
      ],
      "text/plain": [
       "        \u001b[1m(\u001b[0m\u001b[32m'body'\u001b[0m, \u001b[1;36m0.40222393624304775\u001b[0m\u001b[1m)\u001b[0m\n"
      ]
     },
     "metadata": {},
     "output_type": "display_data"
    },
    {
     "data": {
      "text/html": [
       "<pre style=\"white-space:pre;overflow-x:auto;line-height:normal;font-family:Menlo,'DejaVu Sans Mono',consolas,'Courier New',monospace\">        <span style=\"font-weight: bold\">(</span><span style=\"color: #008000; text-decoration-color: #008000\">'why'</span>, <span style=\"color: #008080; text-decoration-color: #008080; font-weight: bold\">0.3911335611679383</span><span style=\"font-weight: bold\">)</span>\n",
       "</pre>\n"
      ],
      "text/plain": [
       "        \u001b[1m(\u001b[0m\u001b[32m'why'\u001b[0m, \u001b[1;36m0.3911335611679383\u001b[0m\u001b[1m)\u001b[0m\n"
      ]
     },
     "metadata": {},
     "output_type": "display_data"
    },
    {
     "data": {
      "text/html": [
       "<pre style=\"white-space:pre;overflow-x:auto;line-height:normal;font-family:Menlo,'DejaVu Sans Mono',consolas,'Courier New',monospace\">        <span style=\"font-weight: bold\">(</span><span style=\"color: #008000; text-decoration-color: #008000\">'means'</span>, <span style=\"color: #008080; text-decoration-color: #008080; font-weight: bold\">0.3557706988685125</span><span style=\"font-weight: bold\">)</span>\n",
       "</pre>\n"
      ],
      "text/plain": [
       "        \u001b[1m(\u001b[0m\u001b[32m'means'\u001b[0m, \u001b[1;36m0.3557706988685125\u001b[0m\u001b[1m)\u001b[0m\n"
      ]
     },
     "metadata": {},
     "output_type": "display_data"
    },
    {
     "data": {
      "text/html": [
       "<pre style=\"white-space:pre;overflow-x:auto;line-height:normal;font-family:Menlo,'DejaVu Sans Mono',consolas,'Courier New',monospace\">        <span style=\"font-weight: bold\">(</span><span style=\"color: #008000; text-decoration-color: #008000\">'arm'</span>, <span style=\"color: #008080; text-decoration-color: #008080; font-weight: bold\">0.33917012911528616</span><span style=\"font-weight: bold\">)</span>\n",
       "</pre>\n"
      ],
      "text/plain": [
       "        \u001b[1m(\u001b[0m\u001b[32m'arm'\u001b[0m, \u001b[1;36m0.33917012911528616\u001b[0m\u001b[1m)\u001b[0m\n"
      ]
     },
     "metadata": {},
     "output_type": "display_data"
    },
    {
     "data": {
      "text/html": [
       "<pre style=\"white-space:pre;overflow-x:auto;line-height:normal;font-family:Menlo,'DejaVu Sans Mono',consolas,'Courier New',monospace\">        <span style=\"font-weight: bold\">(</span><span style=\"color: #008000; text-decoration-color: #008000\">'thing'</span>, <span style=\"color: #008080; text-decoration-color: #008080; font-weight: bold\">0.33408234093536365</span><span style=\"font-weight: bold\">)</span>\n",
       "</pre>\n"
      ],
      "text/plain": [
       "        \u001b[1m(\u001b[0m\u001b[32m'thing'\u001b[0m, \u001b[1;36m0.33408234093536365\u001b[0m\u001b[1m)\u001b[0m\n"
      ]
     },
     "metadata": {},
     "output_type": "display_data"
    },
    {
     "data": {
      "text/html": [
       "<pre style=\"white-space:pre;overflow-x:auto;line-height:normal;font-family:Menlo,'DejaVu Sans Mono',consolas,'Courier New',monospace\">        <span style=\"font-weight: bold\">(</span><span style=\"color: #008000; text-decoration-color: #008000\">'couple'</span>, <span style=\"color: #008080; text-decoration-color: #008080; font-weight: bold\">0.3112265848568576</span><span style=\"font-weight: bold\">)</span>\n",
       "</pre>\n"
      ],
      "text/plain": [
       "        \u001b[1m(\u001b[0m\u001b[32m'couple'\u001b[0m, \u001b[1;36m0.3112265848568576\u001b[0m\u001b[1m)\u001b[0m\n"
      ]
     },
     "metadata": {},
     "output_type": "display_data"
    },
    {
     "data": {
      "text/html": [
       "<pre style=\"white-space:pre;overflow-x:auto;line-height:normal;font-family:Menlo,'DejaVu Sans Mono',consolas,'Courier New',monospace\">        <span style=\"font-weight: bold\">(</span><span style=\"color: #008000; text-decoration-color: #008000\">'also'</span>, <span style=\"color: #008080; text-decoration-color: #008080; font-weight: bold\">0.29061433046188584</span><span style=\"font-weight: bold\">)</span>\n",
       "</pre>\n"
      ],
      "text/plain": [
       "        \u001b[1m(\u001b[0m\u001b[32m'also'\u001b[0m, \u001b[1;36m0.29061433046188584\u001b[0m\u001b[1m)\u001b[0m\n"
      ]
     },
     "metadata": {},
     "output_type": "display_data"
    },
    {
     "data": {
      "text/html": [
       "<pre style=\"white-space:pre;overflow-x:auto;line-height:normal;font-family:Menlo,'DejaVu Sans Mono',consolas,'Courier New',monospace\">        <span style=\"font-weight: bold\">(</span><span style=\"color: #008000; text-decoration-color: #008000\">'impossible'</span>, <span style=\"color: #008080; text-decoration-color: #008080; font-weight: bold\">0.2894155795063298</span><span style=\"font-weight: bold\">)</span>\n",
       "</pre>\n"
      ],
      "text/plain": [
       "        \u001b[1m(\u001b[0m\u001b[32m'impossible'\u001b[0m, \u001b[1;36m0.2894155795063298\u001b[0m\u001b[1m)\u001b[0m\n"
      ]
     },
     "metadata": {},
     "output_type": "display_data"
    },
    {
     "data": {
      "text/html": [
       "<pre style=\"white-space:pre;overflow-x:auto;line-height:normal;font-family:Menlo,'DejaVu Sans Mono',consolas,'Courier New',monospace\"><span style=\"font-weight: bold\">(</span><span style=\"color: #008000; text-decoration-color: #008000\">'white'</span>, <span style=\"color: #008080; text-decoration-color: #008080; font-weight: bold\">264</span><span style=\"font-weight: bold\">)</span> most similar words:\n",
       "</pre>\n"
      ],
      "text/plain": [
       "\u001b[1m(\u001b[0m\u001b[32m'white'\u001b[0m, \u001b[1;36m264\u001b[0m\u001b[1m)\u001b[0m most similar words:\n"
      ]
     },
     "metadata": {},
     "output_type": "display_data"
    },
    {
     "data": {
      "text/html": [
       "<pre style=\"white-space:pre;overflow-x:auto;line-height:normal;font-family:Menlo,'DejaVu Sans Mono',consolas,'Courier New',monospace\">        <span style=\"font-weight: bold\">(</span><span style=\"color: #008000; text-decoration-color: #008000\">'white'</span>, <span style=\"color: #008080; text-decoration-color: #008080; font-weight: bold\">1.0</span><span style=\"font-weight: bold\">)</span>\n",
       "</pre>\n"
      ],
      "text/plain": [
       "        \u001b[1m(\u001b[0m\u001b[32m'white'\u001b[0m, \u001b[1;36m1.0\u001b[0m\u001b[1m)\u001b[0m\n"
      ]
     },
     "metadata": {},
     "output_type": "display_data"
    },
    {
     "data": {
      "text/html": [
       "<pre style=\"white-space:pre;overflow-x:auto;line-height:normal;font-family:Menlo,'DejaVu Sans Mono',consolas,'Courier New',monospace\">        <span style=\"font-weight: bold\">(</span><span style=\"color: #008000; text-decoration-color: #008000\">'his'</span>, <span style=\"color: #008080; text-decoration-color: #008080; font-weight: bold\">0.36528941646816365</span><span style=\"font-weight: bold\">)</span>\n",
       "</pre>\n"
      ],
      "text/plain": [
       "        \u001b[1m(\u001b[0m\u001b[32m'his'\u001b[0m, \u001b[1;36m0.36528941646816365\u001b[0m\u001b[1m)\u001b[0m\n"
      ]
     },
     "metadata": {},
     "output_type": "display_data"
    },
    {
     "data": {
      "text/html": [
       "<pre style=\"white-space:pre;overflow-x:auto;line-height:normal;font-family:Menlo,'DejaVu Sans Mono',consolas,'Courier New',monospace\">        <span style=\"font-weight: bold\">(</span><span style=\"color: #008000; text-decoration-color: #008000\">'golden'</span>, <span style=\"color: #008080; text-decoration-color: #008080; font-weight: bold\">0.34643862093560085</span><span style=\"font-weight: bold\">)</span>\n",
       "</pre>\n"
      ],
      "text/plain": [
       "        \u001b[1m(\u001b[0m\u001b[32m'golden'\u001b[0m, \u001b[1;36m0.34643862093560085\u001b[0m\u001b[1m)\u001b[0m\n"
      ]
     },
     "metadata": {},
     "output_type": "display_data"
    },
    {
     "data": {
      "text/html": [
       "<pre style=\"white-space:pre;overflow-x:auto;line-height:normal;font-family:Menlo,'DejaVu Sans Mono',consolas,'Courier New',monospace\">        <span style=\"font-weight: bold\">(</span><span style=\"color: #008000; text-decoration-color: #008000\">'go'</span>, <span style=\"color: #008080; text-decoration-color: #008080; font-weight: bold\">0.33975257012657134</span><span style=\"font-weight: bold\">)</span>\n",
       "</pre>\n"
      ],
      "text/plain": [
       "        \u001b[1m(\u001b[0m\u001b[32m'go'\u001b[0m, \u001b[1;36m0.33975257012657134\u001b[0m\u001b[1m)\u001b[0m\n"
      ]
     },
     "metadata": {},
     "output_type": "display_data"
    },
    {
     "data": {
      "text/html": [
       "<pre style=\"white-space:pre;overflow-x:auto;line-height:normal;font-family:Menlo,'DejaVu Sans Mono',consolas,'Courier New',monospace\">        <span style=\"font-weight: bold\">(</span><span style=\"color: #008000; text-decoration-color: #008000\">'bright'</span>, <span style=\"color: #008080; text-decoration-color: #008080; font-weight: bold\">0.31202284009021686</span><span style=\"font-weight: bold\">)</span>\n",
       "</pre>\n"
      ],
      "text/plain": [
       "        \u001b[1m(\u001b[0m\u001b[32m'bright'\u001b[0m, \u001b[1;36m0.31202284009021686\u001b[0m\u001b[1m)\u001b[0m\n"
      ]
     },
     "metadata": {},
     "output_type": "display_data"
    },
    {
     "data": {
      "text/html": [
       "<pre style=\"white-space:pre;overflow-x:auto;line-height:normal;font-family:Menlo,'DejaVu Sans Mono',consolas,'Courier New',monospace\">        <span style=\"font-weight: bold\">(</span><span style=\"color: #008000; text-decoration-color: #008000\">'been'</span>, <span style=\"color: #008080; text-decoration-color: #008080; font-weight: bold\">0.3047750120069498</span><span style=\"font-weight: bold\">)</span>\n",
       "</pre>\n"
      ],
      "text/plain": [
       "        \u001b[1m(\u001b[0m\u001b[32m'been'\u001b[0m, \u001b[1;36m0.3047750120069498\u001b[0m\u001b[1m)\u001b[0m\n"
      ]
     },
     "metadata": {},
     "output_type": "display_data"
    },
    {
     "data": {
      "text/html": [
       "<pre style=\"white-space:pre;overflow-x:auto;line-height:normal;font-family:Menlo,'DejaVu Sans Mono',consolas,'Courier New',monospace\">        <span style=\"font-weight: bold\">(</span><span style=\"color: #008000; text-decoration-color: #008000\">'law'</span>, <span style=\"color: #008080; text-decoration-color: #008080; font-weight: bold\">0.2995552331287297</span><span style=\"font-weight: bold\">)</span>\n",
       "</pre>\n"
      ],
      "text/plain": [
       "        \u001b[1m(\u001b[0m\u001b[32m'law'\u001b[0m, \u001b[1;36m0.2995552331287297\u001b[0m\u001b[1m)\u001b[0m\n"
      ]
     },
     "metadata": {},
     "output_type": "display_data"
    },
    {
     "data": {
      "text/html": [
       "<pre style=\"white-space:pre;overflow-x:auto;line-height:normal;font-family:Menlo,'DejaVu Sans Mono',consolas,'Courier New',monospace\">        <span style=\"font-weight: bold\">(</span><span style=\"color: #008000; text-decoration-color: #008000\">'throat'</span>, <span style=\"color: #008080; text-decoration-color: #008080; font-weight: bold\">0.29134479689334714</span><span style=\"font-weight: bold\">)</span>\n",
       "</pre>\n"
      ],
      "text/plain": [
       "        \u001b[1m(\u001b[0m\u001b[32m'throat'\u001b[0m, \u001b[1;36m0.29134479689334714\u001b[0m\u001b[1m)\u001b[0m\n"
      ]
     },
     "metadata": {},
     "output_type": "display_data"
    },
    {
     "data": {
      "text/html": [
       "<pre style=\"white-space:pre;overflow-x:auto;line-height:normal;font-family:Menlo,'DejaVu Sans Mono',consolas,'Courier New',monospace\">        <span style=\"font-weight: bold\">(</span><span style=\"color: #008000; text-decoration-color: #008000\">'dear'</span>, <span style=\"color: #008080; text-decoration-color: #008080; font-weight: bold\">0.28559244045072013</span><span style=\"font-weight: bold\">)</span>\n",
       "</pre>\n"
      ],
      "text/plain": [
       "        \u001b[1m(\u001b[0m\u001b[32m'dear'\u001b[0m, \u001b[1;36m0.28559244045072013\u001b[0m\u001b[1m)\u001b[0m\n"
      ]
     },
     "metadata": {},
     "output_type": "display_data"
    },
    {
     "data": {
      "text/html": [
       "<pre style=\"white-space:pre;overflow-x:auto;line-height:normal;font-family:Menlo,'DejaVu Sans Mono',consolas,'Courier New',monospace\">        <span style=\"font-weight: bold\">(</span><span style=\"color: #008000; text-decoration-color: #008000\">'silent'</span>, <span style=\"color: #008080; text-decoration-color: #008080; font-weight: bold\">0.2778392266673275</span><span style=\"font-weight: bold\">)</span>\n",
       "</pre>\n"
      ],
      "text/plain": [
       "        \u001b[1m(\u001b[0m\u001b[32m'silent'\u001b[0m, \u001b[1;36m0.2778392266673275\u001b[0m\u001b[1m)\u001b[0m\n"
      ]
     },
     "metadata": {},
     "output_type": "display_data"
    },
    {
     "data": {
      "text/html": [
       "<pre style=\"white-space:pre;overflow-x:auto;line-height:normal;font-family:Menlo,'DejaVu Sans Mono',consolas,'Courier New',monospace\"><span style=\"font-weight: bold\">(</span><span style=\"color: #008000; text-decoration-color: #008000\">'man'</span>, <span style=\"color: #008080; text-decoration-color: #008080; font-weight: bold\">60</span><span style=\"font-weight: bold\">)</span> most similar words:\n",
       "</pre>\n"
      ],
      "text/plain": [
       "\u001b[1m(\u001b[0m\u001b[32m'man'\u001b[0m, \u001b[1;36m60\u001b[0m\u001b[1m)\u001b[0m most similar words:\n"
      ]
     },
     "metadata": {},
     "output_type": "display_data"
    },
    {
     "data": {
      "text/html": [
       "<pre style=\"white-space:pre;overflow-x:auto;line-height:normal;font-family:Menlo,'DejaVu Sans Mono',consolas,'Courier New',monospace\">        <span style=\"font-weight: bold\">(</span><span style=\"color: #008000; text-decoration-color: #008000\">'man'</span>, <span style=\"color: #008080; text-decoration-color: #008080; font-weight: bold\">1.0</span><span style=\"font-weight: bold\">)</span>\n",
       "</pre>\n"
      ],
      "text/plain": [
       "        \u001b[1m(\u001b[0m\u001b[32m'man'\u001b[0m, \u001b[1;36m1.0\u001b[0m\u001b[1m)\u001b[0m\n"
      ]
     },
     "metadata": {},
     "output_type": "display_data"
    },
    {
     "data": {
      "text/html": [
       "<pre style=\"white-space:pre;overflow-x:auto;line-height:normal;font-family:Menlo,'DejaVu Sans Mono',consolas,'Courier New',monospace\">        <span style=\"font-weight: bold\">(</span><span style=\"color: #008000; text-decoration-color: #008000\">'covered'</span>, <span style=\"color: #008080; text-decoration-color: #008080; font-weight: bold\">0.38755952568207047</span><span style=\"font-weight: bold\">)</span>\n",
       "</pre>\n"
      ],
      "text/plain": [
       "        \u001b[1m(\u001b[0m\u001b[32m'covered'\u001b[0m, \u001b[1;36m0.38755952568207047\u001b[0m\u001b[1m)\u001b[0m\n"
      ]
     },
     "metadata": {},
     "output_type": "display_data"
    },
    {
     "data": {
      "text/html": [
       "<pre style=\"white-space:pre;overflow-x:auto;line-height:normal;font-family:Menlo,'DejaVu Sans Mono',consolas,'Courier New',monospace\">        <span style=\"font-weight: bold\">(</span><span style=\"color: #008000; text-decoration-color: #008000\">'quite'</span>, <span style=\"color: #008080; text-decoration-color: #008080; font-weight: bold\">0.35525447058279847</span><span style=\"font-weight: bold\">)</span>\n",
       "</pre>\n"
      ],
      "text/plain": [
       "        \u001b[1m(\u001b[0m\u001b[32m'quite'\u001b[0m, \u001b[1;36m0.35525447058279847\u001b[0m\u001b[1m)\u001b[0m\n"
      ]
     },
     "metadata": {},
     "output_type": "display_data"
    },
    {
     "data": {
      "text/html": [
       "<pre style=\"white-space:pre;overflow-x:auto;line-height:normal;font-family:Menlo,'DejaVu Sans Mono',consolas,'Courier New',monospace\">        <span style=\"font-weight: bold\">(</span><span style=\"color: #008000; text-decoration-color: #008000\">'most'</span>, <span style=\"color: #008080; text-decoration-color: #008080; font-weight: bold\">0.34752280283929926</span><span style=\"font-weight: bold\">)</span>\n",
       "</pre>\n"
      ],
      "text/plain": [
       "        \u001b[1m(\u001b[0m\u001b[32m'most'\u001b[0m, \u001b[1;36m0.34752280283929926\u001b[0m\u001b[1m)\u001b[0m\n"
      ]
     },
     "metadata": {},
     "output_type": "display_data"
    },
    {
     "data": {
      "text/html": [
       "<pre style=\"white-space:pre;overflow-x:auto;line-height:normal;font-family:Menlo,'DejaVu Sans Mono',consolas,'Courier New',monospace\">        <span style=\"font-weight: bold\">(</span><span style=\"color: #008000; text-decoration-color: #008000\">'third'</span>, <span style=\"color: #008080; text-decoration-color: #008080; font-weight: bold\">0.3465800618146074</span><span style=\"font-weight: bold\">)</span>\n",
       "</pre>\n"
      ],
      "text/plain": [
       "        \u001b[1m(\u001b[0m\u001b[32m'third'\u001b[0m, \u001b[1;36m0.3465800618146074\u001b[0m\u001b[1m)\u001b[0m\n"
      ]
     },
     "metadata": {},
     "output_type": "display_data"
    },
    {
     "data": {
      "text/html": [
       "<pre style=\"white-space:pre;overflow-x:auto;line-height:normal;font-family:Menlo,'DejaVu Sans Mono',consolas,'Courier New',monospace\">        <span style=\"font-weight: bold\">(</span><span style=\"color: #008000; text-decoration-color: #008000\">'short'</span>, <span style=\"color: #008080; text-decoration-color: #008080; font-weight: bold\">0.3441147876721388</span><span style=\"font-weight: bold\">)</span>\n",
       "</pre>\n"
      ],
      "text/plain": [
       "        \u001b[1m(\u001b[0m\u001b[32m'short'\u001b[0m, \u001b[1;36m0.3441147876721388\u001b[0m\u001b[1m)\u001b[0m\n"
      ]
     },
     "metadata": {},
     "output_type": "display_data"
    },
    {
     "data": {
      "text/html": [
       "<pre style=\"white-space:pre;overflow-x:auto;line-height:normal;font-family:Menlo,'DejaVu Sans Mono',consolas,'Courier New',monospace\">        <span style=\"font-weight: bold\">(</span><span style=\"color: #008000; text-decoration-color: #008000\">'serious'</span>, <span style=\"color: #008080; text-decoration-color: #008080; font-weight: bold\">0.3286126241271467</span><span style=\"font-weight: bold\">)</span>\n",
       "</pre>\n"
      ],
      "text/plain": [
       "        \u001b[1m(\u001b[0m\u001b[32m'serious'\u001b[0m, \u001b[1;36m0.3286126241271467\u001b[0m\u001b[1m)\u001b[0m\n"
      ]
     },
     "metadata": {},
     "output_type": "display_data"
    },
    {
     "data": {
      "text/html": [
       "<pre style=\"white-space:pre;overflow-x:auto;line-height:normal;font-family:Menlo,'DejaVu Sans Mono',consolas,'Courier New',monospace\">        <span style=\"font-weight: bold\">(</span><span style=\"color: #008000; text-decoration-color: #008000\">'hair'</span>, <span style=\"color: #008080; text-decoration-color: #008080; font-weight: bold\">0.3247049872514148</span><span style=\"font-weight: bold\">)</span>\n",
       "</pre>\n"
      ],
      "text/plain": [
       "        \u001b[1m(\u001b[0m\u001b[32m'hair'\u001b[0m, \u001b[1;36m0.3247049872514148\u001b[0m\u001b[1m)\u001b[0m\n"
      ]
     },
     "metadata": {},
     "output_type": "display_data"
    },
    {
     "data": {
      "text/html": [
       "<pre style=\"white-space:pre;overflow-x:auto;line-height:normal;font-family:Menlo,'DejaVu Sans Mono',consolas,'Courier New',monospace\">        <span style=\"font-weight: bold\">(</span><span style=\"color: #008000; text-decoration-color: #008000\">'event'</span>, <span style=\"color: #008080; text-decoration-color: #008080; font-weight: bold\">0.31543095967926343</span><span style=\"font-weight: bold\">)</span>\n",
       "</pre>\n"
      ],
      "text/plain": [
       "        \u001b[1m(\u001b[0m\u001b[32m'event'\u001b[0m, \u001b[1;36m0.31543095967926343\u001b[0m\u001b[1m)\u001b[0m\n"
      ]
     },
     "metadata": {},
     "output_type": "display_data"
    },
    {
     "data": {
      "text/html": [
       "<pre style=\"white-space:pre;overflow-x:auto;line-height:normal;font-family:Menlo,'DejaVu Sans Mono',consolas,'Courier New',monospace\">        <span style=\"font-weight: bold\">(</span><span style=\"color: #008000; text-decoration-color: #008000\">'five'</span>, <span style=\"color: #008080; text-decoration-color: #008080; font-weight: bold\">0.3150658041477656</span><span style=\"font-weight: bold\">)</span>\n",
       "</pre>\n"
      ],
      "text/plain": [
       "        \u001b[1m(\u001b[0m\u001b[32m'five'\u001b[0m, \u001b[1;36m0.3150658041477656\u001b[0m\u001b[1m)\u001b[0m\n"
      ]
     },
     "metadata": {},
     "output_type": "display_data"
    },
    {
     "data": {
      "text/html": [
       "<pre style=\"white-space:pre;overflow-x:auto;line-height:normal;font-family:Menlo,'DejaVu Sans Mono',consolas,'Courier New',monospace\"><span style=\"font-weight: bold\">(</span><span style=\"color: #008000; text-decoration-color: #008000\">'have'</span>, <span style=\"color: #008080; text-decoration-color: #008080; font-weight: bold\">33</span><span style=\"font-weight: bold\">)</span> most similar words:\n",
       "</pre>\n"
      ],
      "text/plain": [
       "\u001b[1m(\u001b[0m\u001b[32m'have'\u001b[0m, \u001b[1;36m33\u001b[0m\u001b[1m)\u001b[0m most similar words:\n"
      ]
     },
     "metadata": {},
     "output_type": "display_data"
    },
    {
     "data": {
      "text/html": [
       "<pre style=\"white-space:pre;overflow-x:auto;line-height:normal;font-family:Menlo,'DejaVu Sans Mono',consolas,'Courier New',monospace\">        <span style=\"font-weight: bold\">(</span><span style=\"color: #008000; text-decoration-color: #008000\">'have'</span>, <span style=\"color: #008080; text-decoration-color: #008080; font-weight: bold\">1.0000000000000002</span><span style=\"font-weight: bold\">)</span>\n",
       "</pre>\n"
      ],
      "text/plain": [
       "        \u001b[1m(\u001b[0m\u001b[32m'have'\u001b[0m, \u001b[1;36m1.0000000000000002\u001b[0m\u001b[1m)\u001b[0m\n"
      ]
     },
     "metadata": {},
     "output_type": "display_data"
    },
    {
     "data": {
      "text/html": [
       "<pre style=\"white-space:pre;overflow-x:auto;line-height:normal;font-family:Menlo,'DejaVu Sans Mono',consolas,'Courier New',monospace\">        <span style=\"font-weight: bold\">(</span><span style=\"color: #008000; text-decoration-color: #008000\">'an'</span>, <span style=\"color: #008080; text-decoration-color: #008080; font-weight: bold\">0.3476776963255128</span><span style=\"font-weight: bold\">)</span>\n",
       "</pre>\n"
      ],
      "text/plain": [
       "        \u001b[1m(\u001b[0m\u001b[32m'an'\u001b[0m, \u001b[1;36m0.3476776963255128\u001b[0m\u001b[1m)\u001b[0m\n"
      ]
     },
     "metadata": {},
     "output_type": "display_data"
    },
    {
     "data": {
      "text/html": [
       "<pre style=\"white-space:pre;overflow-x:auto;line-height:normal;font-family:Menlo,'DejaVu Sans Mono',consolas,'Courier New',monospace\">        <span style=\"font-weight: bold\">(</span><span style=\"color: #008000; text-decoration-color: #008000\">'listened'</span>, <span style=\"color: #008080; text-decoration-color: #008080; font-weight: bold\">0.3464511326957166</span><span style=\"font-weight: bold\">)</span>\n",
       "</pre>\n"
      ],
      "text/plain": [
       "        \u001b[1m(\u001b[0m\u001b[32m'listened'\u001b[0m, \u001b[1;36m0.3464511326957166\u001b[0m\u001b[1m)\u001b[0m\n"
      ]
     },
     "metadata": {},
     "output_type": "display_data"
    },
    {
     "data": {
      "text/html": [
       "<pre style=\"white-space:pre;overflow-x:auto;line-height:normal;font-family:Menlo,'DejaVu Sans Mono',consolas,'Courier New',monospace\">        <span style=\"font-weight: bold\">(</span><span style=\"color: #008000; text-decoration-color: #008000\">'makes'</span>, <span style=\"color: #008080; text-decoration-color: #008080; font-weight: bold\">0.2959207675791022</span><span style=\"font-weight: bold\">)</span>\n",
       "</pre>\n"
      ],
      "text/plain": [
       "        \u001b[1m(\u001b[0m\u001b[32m'makes'\u001b[0m, \u001b[1;36m0.2959207675791022\u001b[0m\u001b[1m)\u001b[0m\n"
      ]
     },
     "metadata": {},
     "output_type": "display_data"
    },
    {
     "data": {
      "text/html": [
       "<pre style=\"white-space:pre;overflow-x:auto;line-height:normal;font-family:Menlo,'DejaVu Sans Mono',consolas,'Courier New',monospace\">        <span style=\"font-weight: bold\">(</span><span style=\"color: #008000; text-decoration-color: #008000\">'once'</span>, <span style=\"color: #008080; text-decoration-color: #008080; font-weight: bold\">0.29355947727767767</span><span style=\"font-weight: bold\">)</span>\n",
       "</pre>\n"
      ],
      "text/plain": [
       "        \u001b[1m(\u001b[0m\u001b[32m'once'\u001b[0m, \u001b[1;36m0.29355947727767767\u001b[0m\u001b[1m)\u001b[0m\n"
      ]
     },
     "metadata": {},
     "output_type": "display_data"
    },
    {
     "data": {
      "text/html": [
       "<pre style=\"white-space:pre;overflow-x:auto;line-height:normal;font-family:Menlo,'DejaVu Sans Mono',consolas,'Courier New',monospace\">        <span style=\"font-weight: bold\">(</span><span style=\"color: #008000; text-decoration-color: #008000\">'father'</span>, <span style=\"color: #008080; text-decoration-color: #008080; font-weight: bold\">0.28875051349290365</span><span style=\"font-weight: bold\">)</span>\n",
       "</pre>\n"
      ],
      "text/plain": [
       "        \u001b[1m(\u001b[0m\u001b[32m'father'\u001b[0m, \u001b[1;36m0.28875051349290365\u001b[0m\u001b[1m)\u001b[0m\n"
      ]
     },
     "metadata": {},
     "output_type": "display_data"
    },
    {
     "data": {
      "text/html": [
       "<pre style=\"white-space:pre;overflow-x:auto;line-height:normal;font-family:Menlo,'DejaVu Sans Mono',consolas,'Courier New',monospace\">        <span style=\"font-weight: bold\">(</span><span style=\"color: #008000; text-decoration-color: #008000\">'occupied'</span>, <span style=\"color: #008080; text-decoration-color: #008080; font-weight: bold\">0.28681414297467206</span><span style=\"font-weight: bold\">)</span>\n",
       "</pre>\n"
      ],
      "text/plain": [
       "        \u001b[1m(\u001b[0m\u001b[32m'occupied'\u001b[0m, \u001b[1;36m0.28681414297467206\u001b[0m\u001b[1m)\u001b[0m\n"
      ]
     },
     "metadata": {},
     "output_type": "display_data"
    },
    {
     "data": {
      "text/html": [
       "<pre style=\"white-space:pre;overflow-x:auto;line-height:normal;font-family:Menlo,'DejaVu Sans Mono',consolas,'Courier New',monospace\">        <span style=\"font-weight: bold\">(</span><span style=\"color: #008000; text-decoration-color: #008000\">'sometimes'</span>, <span style=\"color: #008080; text-decoration-color: #008080; font-weight: bold\">0.2752309489952657</span><span style=\"font-weight: bold\">)</span>\n",
       "</pre>\n"
      ],
      "text/plain": [
       "        \u001b[1m(\u001b[0m\u001b[32m'sometimes'\u001b[0m, \u001b[1;36m0.2752309489952657\u001b[0m\u001b[1m)\u001b[0m\n"
      ]
     },
     "metadata": {},
     "output_type": "display_data"
    },
    {
     "data": {
      "text/html": [
       "<pre style=\"white-space:pre;overflow-x:auto;line-height:normal;font-family:Menlo,'DejaVu Sans Mono',consolas,'Courier New',monospace\">        <span style=\"font-weight: bold\">(</span><span style=\"color: #008000; text-decoration-color: #008000\">'only'</span>, <span style=\"color: #008080; text-decoration-color: #008080; font-weight: bold\">0.2692998665505445</span><span style=\"font-weight: bold\">)</span>\n",
       "</pre>\n"
      ],
      "text/plain": [
       "        \u001b[1m(\u001b[0m\u001b[32m'only'\u001b[0m, \u001b[1;36m0.2692998665505445\u001b[0m\u001b[1m)\u001b[0m\n"
      ]
     },
     "metadata": {},
     "output_type": "display_data"
    },
    {
     "data": {
      "text/html": [
       "<pre style=\"white-space:pre;overflow-x:auto;line-height:normal;font-family:Menlo,'DejaVu Sans Mono',consolas,'Courier New',monospace\">        <span style=\"font-weight: bold\">(</span><span style=\"color: #008000; text-decoration-color: #008000\">'thing'</span>, <span style=\"color: #008080; text-decoration-color: #008080; font-weight: bold\">0.26925808037932075</span><span style=\"font-weight: bold\">)</span>\n",
       "</pre>\n"
      ],
      "text/plain": [
       "        \u001b[1m(\u001b[0m\u001b[32m'thing'\u001b[0m, \u001b[1;36m0.26925808037932075\u001b[0m\u001b[1m)\u001b[0m\n"
      ]
     },
     "metadata": {},
     "output_type": "display_data"
    },
    {
     "data": {
      "text/html": [
       "<pre style=\"white-space:pre;overflow-x:auto;line-height:normal;font-family:Menlo,'DejaVu Sans Mono',consolas,'Courier New',monospace\"><span style=\"font-weight: bold\">(</span><span style=\"color: #008000; text-decoration-color: #008000\">'be'</span>, <span style=\"color: #008080; text-decoration-color: #008080; font-weight: bold\">29</span><span style=\"font-weight: bold\">)</span> most similar words:\n",
       "</pre>\n"
      ],
      "text/plain": [
       "\u001b[1m(\u001b[0m\u001b[32m'be'\u001b[0m, \u001b[1;36m29\u001b[0m\u001b[1m)\u001b[0m most similar words:\n"
      ]
     },
     "metadata": {},
     "output_type": "display_data"
    },
    {
     "data": {
      "text/html": [
       "<pre style=\"white-space:pre;overflow-x:auto;line-height:normal;font-family:Menlo,'DejaVu Sans Mono',consolas,'Courier New',monospace\">        <span style=\"font-weight: bold\">(</span><span style=\"color: #008000; text-decoration-color: #008000\">'be'</span>, <span style=\"color: #008080; text-decoration-color: #008080; font-weight: bold\">1.0</span><span style=\"font-weight: bold\">)</span>\n",
       "</pre>\n"
      ],
      "text/plain": [
       "        \u001b[1m(\u001b[0m\u001b[32m'be'\u001b[0m, \u001b[1;36m1.0\u001b[0m\u001b[1m)\u001b[0m\n"
      ]
     },
     "metadata": {},
     "output_type": "display_data"
    },
    {
     "data": {
      "text/html": [
       "<pre style=\"white-space:pre;overflow-x:auto;line-height:normal;font-family:Menlo,'DejaVu Sans Mono',consolas,'Courier New',monospace\">        <span style=\"font-weight: bold\">(</span><span style=\"color: #008000; text-decoration-color: #008000\">'bound'</span>, <span style=\"color: #008080; text-decoration-color: #008080; font-weight: bold\">0.4141070004919481</span><span style=\"font-weight: bold\">)</span>\n",
       "</pre>\n"
      ],
      "text/plain": [
       "        \u001b[1m(\u001b[0m\u001b[32m'bound'\u001b[0m, \u001b[1;36m0.4141070004919481\u001b[0m\u001b[1m)\u001b[0m\n"
      ]
     },
     "metadata": {},
     "output_type": "display_data"
    },
    {
     "data": {
      "text/html": [
       "<pre style=\"white-space:pre;overflow-x:auto;line-height:normal;font-family:Menlo,'DejaVu Sans Mono',consolas,'Courier New',monospace\">        <span style=\"font-weight: bold\">(</span><span style=\"color: #008000; text-decoration-color: #008000\">'kept'</span>, <span style=\"color: #008080; text-decoration-color: #008080; font-weight: bold\">0.376958927482585</span><span style=\"font-weight: bold\">)</span>\n",
       "</pre>\n"
      ],
      "text/plain": [
       "        \u001b[1m(\u001b[0m\u001b[32m'kept'\u001b[0m, \u001b[1;36m0.376958927482585\u001b[0m\u001b[1m)\u001b[0m\n"
      ]
     },
     "metadata": {},
     "output_type": "display_data"
    },
    {
     "data": {
      "text/html": [
       "<pre style=\"white-space:pre;overflow-x:auto;line-height:normal;font-family:Menlo,'DejaVu Sans Mono',consolas,'Courier New',monospace\">        <span style=\"font-weight: bold\">(</span><span style=\"color: #008000; text-decoration-color: #008000\">'am'</span>, <span style=\"color: #008080; text-decoration-color: #008080; font-weight: bold\">0.3767871733743119</span><span style=\"font-weight: bold\">)</span>\n",
       "</pre>\n"
      ],
      "text/plain": [
       "        \u001b[1m(\u001b[0m\u001b[32m'am'\u001b[0m, \u001b[1;36m0.3767871733743119\u001b[0m\u001b[1m)\u001b[0m\n"
      ]
     },
     "metadata": {},
     "output_type": "display_data"
    },
    {
     "data": {
      "text/html": [
       "<pre style=\"white-space:pre;overflow-x:auto;line-height:normal;font-family:Menlo,'DejaVu Sans Mono',consolas,'Courier New',monospace\">        <span style=\"font-weight: bold\">(</span><span style=\"color: #008000; text-decoration-color: #008000\">'lady'</span>, <span style=\"color: #008080; text-decoration-color: #008080; font-weight: bold\">0.3746042380420098</span><span style=\"font-weight: bold\">)</span>\n",
       "</pre>\n"
      ],
      "text/plain": [
       "        \u001b[1m(\u001b[0m\u001b[32m'lady'\u001b[0m, \u001b[1;36m0.3746042380420098\u001b[0m\u001b[1m)\u001b[0m\n"
      ]
     },
     "metadata": {},
     "output_type": "display_data"
    },
    {
     "data": {
      "text/html": [
       "<pre style=\"white-space:pre;overflow-x:auto;line-height:normal;font-family:Menlo,'DejaVu Sans Mono',consolas,'Courier New',monospace\">        <span style=\"font-weight: bold\">(</span><span style=\"color: #008000; text-decoration-color: #008000\">'greater'</span>, <span style=\"color: #008080; text-decoration-color: #008080; font-weight: bold\">0.36758700254618515</span><span style=\"font-weight: bold\">)</span>\n",
       "</pre>\n"
      ],
      "text/plain": [
       "        \u001b[1m(\u001b[0m\u001b[32m'greater'\u001b[0m, \u001b[1;36m0.36758700254618515\u001b[0m\u001b[1m)\u001b[0m\n"
      ]
     },
     "metadata": {},
     "output_type": "display_data"
    },
    {
     "data": {
      "text/html": [
       "<pre style=\"white-space:pre;overflow-x:auto;line-height:normal;font-family:Menlo,'DejaVu Sans Mono',consolas,'Courier New',monospace\">        <span style=\"font-weight: bold\">(</span><span style=\"color: #008000; text-decoration-color: #008000\">'quite'</span>, <span style=\"color: #008080; text-decoration-color: #008080; font-weight: bold\">0.34155747942022546</span><span style=\"font-weight: bold\">)</span>\n",
       "</pre>\n"
      ],
      "text/plain": [
       "        \u001b[1m(\u001b[0m\u001b[32m'quite'\u001b[0m, \u001b[1;36m0.34155747942022546\u001b[0m\u001b[1m)\u001b[0m\n"
      ]
     },
     "metadata": {},
     "output_type": "display_data"
    },
    {
     "data": {
      "text/html": [
       "<pre style=\"white-space:pre;overflow-x:auto;line-height:normal;font-family:Menlo,'DejaVu Sans Mono',consolas,'Courier New',monospace\">        <span style=\"font-weight: bold\">(</span><span style=\"color: #008000; text-decoration-color: #008000\">'sight'</span>, <span style=\"color: #008080; text-decoration-color: #008080; font-weight: bold\">0.3361035964001074</span><span style=\"font-weight: bold\">)</span>\n",
       "</pre>\n"
      ],
      "text/plain": [
       "        \u001b[1m(\u001b[0m\u001b[32m'sight'\u001b[0m, \u001b[1;36m0.3361035964001074\u001b[0m\u001b[1m)\u001b[0m\n"
      ]
     },
     "metadata": {},
     "output_type": "display_data"
    },
    {
     "data": {
      "text/html": [
       "<pre style=\"white-space:pre;overflow-x:auto;line-height:normal;font-family:Menlo,'DejaVu Sans Mono',consolas,'Courier New',monospace\">        <span style=\"font-weight: bold\">(</span><span style=\"color: #008000; text-decoration-color: #008000\">'peasants'</span>, <span style=\"color: #008080; text-decoration-color: #008080; font-weight: bold\">0.32938082149037856</span><span style=\"font-weight: bold\">)</span>\n",
       "</pre>\n"
      ],
      "text/plain": [
       "        \u001b[1m(\u001b[0m\u001b[32m'peasants'\u001b[0m, \u001b[1;36m0.32938082149037856\u001b[0m\u001b[1m)\u001b[0m\n"
      ]
     },
     "metadata": {},
     "output_type": "display_data"
    },
    {
     "data": {
      "text/html": [
       "<pre style=\"white-space:pre;overflow-x:auto;line-height:normal;font-family:Menlo,'DejaVu Sans Mono',consolas,'Courier New',monospace\">        <span style=\"font-weight: bold\">(</span><span style=\"color: #008000; text-decoration-color: #008000\">'gesture'</span>, <span style=\"color: #008080; text-decoration-color: #008080; font-weight: bold\">0.32475246298982313</span><span style=\"font-weight: bold\">)</span>\n",
       "</pre>\n"
      ],
      "text/plain": [
       "        \u001b[1m(\u001b[0m\u001b[32m'gesture'\u001b[0m, \u001b[1;36m0.32475246298982313\u001b[0m\u001b[1m)\u001b[0m\n"
      ]
     },
     "metadata": {},
     "output_type": "display_data"
    },
    {
     "data": {
      "text/html": [
       "<pre style=\"white-space:pre;overflow-x:auto;line-height:normal;font-family:Menlo,'DejaVu Sans Mono',consolas,'Courier New',monospace\"><span style=\"font-weight: bold\">(</span><span style=\"color: #008000; text-decoration-color: #008000\">'child'</span>, <span style=\"color: #008080; text-decoration-color: #008080; font-weight: bold\">363</span><span style=\"font-weight: bold\">)</span> most similar words:\n",
       "</pre>\n"
      ],
      "text/plain": [
       "\u001b[1m(\u001b[0m\u001b[32m'child'\u001b[0m, \u001b[1;36m363\u001b[0m\u001b[1m)\u001b[0m most similar words:\n"
      ]
     },
     "metadata": {},
     "output_type": "display_data"
    },
    {
     "data": {
      "text/html": [
       "<pre style=\"white-space:pre;overflow-x:auto;line-height:normal;font-family:Menlo,'DejaVu Sans Mono',consolas,'Courier New',monospace\">        <span style=\"font-weight: bold\">(</span><span style=\"color: #008000; text-decoration-color: #008000\">'child'</span>, <span style=\"color: #008080; text-decoration-color: #008080; font-weight: bold\">0.9999999999999998</span><span style=\"font-weight: bold\">)</span>\n",
       "</pre>\n"
      ],
      "text/plain": [
       "        \u001b[1m(\u001b[0m\u001b[32m'child'\u001b[0m, \u001b[1;36m0.9999999999999998\u001b[0m\u001b[1m)\u001b[0m\n"
      ]
     },
     "metadata": {},
     "output_type": "display_data"
    },
    {
     "data": {
      "text/html": [
       "<pre style=\"white-space:pre;overflow-x:auto;line-height:normal;font-family:Menlo,'DejaVu Sans Mono',consolas,'Courier New',monospace\">        <span style=\"font-weight: bold\">(</span><span style=\"color: #008000; text-decoration-color: #008000\">'smoke'</span>, <span style=\"color: #008080; text-decoration-color: #008080; font-weight: bold\">0.42819819284199956</span><span style=\"font-weight: bold\">)</span>\n",
       "</pre>\n"
      ],
      "text/plain": [
       "        \u001b[1m(\u001b[0m\u001b[32m'smoke'\u001b[0m, \u001b[1;36m0.42819819284199956\u001b[0m\u001b[1m)\u001b[0m\n"
      ]
     },
     "metadata": {},
     "output_type": "display_data"
    },
    {
     "data": {
      "text/html": [
       "<pre style=\"white-space:pre;overflow-x:auto;line-height:normal;font-family:Menlo,'DejaVu Sans Mono',consolas,'Courier New',monospace\">        <span style=\"font-weight: bold\">(</span><span style=\"color: #008000; text-decoration-color: #008000\">'either'</span>, <span style=\"color: #008080; text-decoration-color: #008080; font-weight: bold\">0.37555120416140025</span><span style=\"font-weight: bold\">)</span>\n",
       "</pre>\n"
      ],
      "text/plain": [
       "        \u001b[1m(\u001b[0m\u001b[32m'either'\u001b[0m, \u001b[1;36m0.37555120416140025\u001b[0m\u001b[1m)\u001b[0m\n"
      ]
     },
     "metadata": {},
     "output_type": "display_data"
    },
    {
     "data": {
      "text/html": [
       "<pre style=\"white-space:pre;overflow-x:auto;line-height:normal;font-family:Menlo,'DejaVu Sans Mono',consolas,'Courier New',monospace\">        <span style=\"font-weight: bold\">(</span><span style=\"color: #008000; text-decoration-color: #008000\">'how'</span>, <span style=\"color: #008080; text-decoration-color: #008080; font-weight: bold\">0.3074345370419355</span><span style=\"font-weight: bold\">)</span>\n",
       "</pre>\n"
      ],
      "text/plain": [
       "        \u001b[1m(\u001b[0m\u001b[32m'how'\u001b[0m, \u001b[1;36m0.3074345370419355\u001b[0m\u001b[1m)\u001b[0m\n"
      ]
     },
     "metadata": {},
     "output_type": "display_data"
    },
    {
     "data": {
      "text/html": [
       "<pre style=\"white-space:pre;overflow-x:auto;line-height:normal;font-family:Menlo,'DejaVu Sans Mono',consolas,'Courier New',monospace\">        <span style=\"font-weight: bold\">(</span><span style=\"color: #008000; text-decoration-color: #008000\">'such'</span>, <span style=\"color: #008080; text-decoration-color: #008080; font-weight: bold\">0.30578247409499315</span><span style=\"font-weight: bold\">)</span>\n",
       "</pre>\n"
      ],
      "text/plain": [
       "        \u001b[1m(\u001b[0m\u001b[32m'such'\u001b[0m, \u001b[1;36m0.30578247409499315\u001b[0m\u001b[1m)\u001b[0m\n"
      ]
     },
     "metadata": {},
     "output_type": "display_data"
    },
    {
     "data": {
      "text/html": [
       "<pre style=\"white-space:pre;overflow-x:auto;line-height:normal;font-family:Menlo,'DejaVu Sans Mono',consolas,'Courier New',monospace\">        <span style=\"font-weight: bold\">(</span><span style=\"color: #008000; text-decoration-color: #008000\">'hat'</span>, <span style=\"color: #008080; text-decoration-color: #008080; font-weight: bold\">0.3057214193269005</span><span style=\"font-weight: bold\">)</span>\n",
       "</pre>\n"
      ],
      "text/plain": [
       "        \u001b[1m(\u001b[0m\u001b[32m'hat'\u001b[0m, \u001b[1;36m0.3057214193269005\u001b[0m\u001b[1m)\u001b[0m\n"
      ]
     },
     "metadata": {},
     "output_type": "display_data"
    },
    {
     "data": {
      "text/html": [
       "<pre style=\"white-space:pre;overflow-x:auto;line-height:normal;font-family:Menlo,'DejaVu Sans Mono',consolas,'Courier New',monospace\">        <span style=\"font-weight: bold\">(</span><span style=\"color: #008000; text-decoration-color: #008000\">'among'</span>, <span style=\"color: #008080; text-decoration-color: #008080; font-weight: bold\">0.29793706908205075</span><span style=\"font-weight: bold\">)</span>\n",
       "</pre>\n"
      ],
      "text/plain": [
       "        \u001b[1m(\u001b[0m\u001b[32m'among'\u001b[0m, \u001b[1;36m0.29793706908205075\u001b[0m\u001b[1m)\u001b[0m\n"
      ]
     },
     "metadata": {},
     "output_type": "display_data"
    },
    {
     "data": {
      "text/html": [
       "<pre style=\"white-space:pre;overflow-x:auto;line-height:normal;font-family:Menlo,'DejaVu Sans Mono',consolas,'Courier New',monospace\">        <span style=\"font-weight: bold\">(</span><span style=\"color: #008000; text-decoration-color: #008000\">'which'</span>, <span style=\"color: #008080; text-decoration-color: #008080; font-weight: bold\">0.28920764233160756</span><span style=\"font-weight: bold\">)</span>\n",
       "</pre>\n"
      ],
      "text/plain": [
       "        \u001b[1m(\u001b[0m\u001b[32m'which'\u001b[0m, \u001b[1;36m0.28920764233160756\u001b[0m\u001b[1m)\u001b[0m\n"
      ]
     },
     "metadata": {},
     "output_type": "display_data"
    },
    {
     "data": {
      "text/html": [
       "<pre style=\"white-space:pre;overflow-x:auto;line-height:normal;font-family:Menlo,'DejaVu Sans Mono',consolas,'Courier New',monospace\">        <span style=\"font-weight: bold\">(</span><span style=\"color: #008000; text-decoration-color: #008000\">'our'</span>, <span style=\"color: #008080; text-decoration-color: #008080; font-weight: bold\">0.28249875978770256</span><span style=\"font-weight: bold\">)</span>\n",
       "</pre>\n"
      ],
      "text/plain": [
       "        \u001b[1m(\u001b[0m\u001b[32m'our'\u001b[0m, \u001b[1;36m0.28249875978770256\u001b[0m\u001b[1m)\u001b[0m\n"
      ]
     },
     "metadata": {},
     "output_type": "display_data"
    },
    {
     "data": {
      "text/html": [
       "<pre style=\"white-space:pre;overflow-x:auto;line-height:normal;font-family:Menlo,'DejaVu Sans Mono',consolas,'Courier New',monospace\">        <span style=\"font-weight: bold\">(</span><span style=\"color: #008000; text-decoration-color: #008000\">'surprise'</span>, <span style=\"color: #008080; text-decoration-color: #008080; font-weight: bold\">0.27765485992119615</span><span style=\"font-weight: bold\">)</span>\n",
       "</pre>\n"
      ],
      "text/plain": [
       "        \u001b[1m(\u001b[0m\u001b[32m'surprise'\u001b[0m, \u001b[1;36m0.27765485992119615\u001b[0m\u001b[1m)\u001b[0m\n"
      ]
     },
     "metadata": {},
     "output_type": "display_data"
    },
    {
     "data": {
      "text/html": [
       "<pre style=\"white-space:pre;overflow-x:auto;line-height:normal;font-family:Menlo,'DejaVu Sans Mono',consolas,'Courier New',monospace\"><span style=\"font-weight: bold\">(</span><span style=\"color: #008000; text-decoration-color: #008000\">'yes'</span>, <span style=\"color: #008080; text-decoration-color: #008080; font-weight: bold\">497</span><span style=\"font-weight: bold\">)</span> most similar words:\n",
       "</pre>\n"
      ],
      "text/plain": [
       "\u001b[1m(\u001b[0m\u001b[32m'yes'\u001b[0m, \u001b[1;36m497\u001b[0m\u001b[1m)\u001b[0m most similar words:\n"
      ]
     },
     "metadata": {},
     "output_type": "display_data"
    },
    {
     "data": {
      "text/html": [
       "<pre style=\"white-space:pre;overflow-x:auto;line-height:normal;font-family:Menlo,'DejaVu Sans Mono',consolas,'Courier New',monospace\">        <span style=\"font-weight: bold\">(</span><span style=\"color: #008000; text-decoration-color: #008000\">'yes'</span>, <span style=\"color: #008080; text-decoration-color: #008080; font-weight: bold\">1.0</span><span style=\"font-weight: bold\">)</span>\n",
       "</pre>\n"
      ],
      "text/plain": [
       "        \u001b[1m(\u001b[0m\u001b[32m'yes'\u001b[0m, \u001b[1;36m1.0\u001b[0m\u001b[1m)\u001b[0m\n"
      ]
     },
     "metadata": {},
     "output_type": "display_data"
    },
    {
     "data": {
      "text/html": [
       "<pre style=\"white-space:pre;overflow-x:auto;line-height:normal;font-family:Menlo,'DejaVu Sans Mono',consolas,'Courier New',monospace\">        <span style=\"font-weight: bold\">(</span><span style=\"color: #008000; text-decoration-color: #008000\">'easy'</span>, <span style=\"color: #008080; text-decoration-color: #008080; font-weight: bold\">0.33656028494014345</span><span style=\"font-weight: bold\">)</span>\n",
       "</pre>\n"
      ],
      "text/plain": [
       "        \u001b[1m(\u001b[0m\u001b[32m'easy'\u001b[0m, \u001b[1;36m0.33656028494014345\u001b[0m\u001b[1m)\u001b[0m\n"
      ]
     },
     "metadata": {},
     "output_type": "display_data"
    },
    {
     "data": {
      "text/html": [
       "<pre style=\"white-space:pre;overflow-x:auto;line-height:normal;font-family:Menlo,'DejaVu Sans Mono',consolas,'Courier New',monospace\">        <span style=\"font-weight: bold\">(</span><span style=\"color: #008000; text-decoration-color: #008000\">'faces'</span>, <span style=\"color: #008080; text-decoration-color: #008080; font-weight: bold\">0.3354689318469191</span><span style=\"font-weight: bold\">)</span>\n",
       "</pre>\n"
      ],
      "text/plain": [
       "        \u001b[1m(\u001b[0m\u001b[32m'faces'\u001b[0m, \u001b[1;36m0.3354689318469191\u001b[0m\u001b[1m)\u001b[0m\n"
      ]
     },
     "metadata": {},
     "output_type": "display_data"
    },
    {
     "data": {
      "text/html": [
       "<pre style=\"white-space:pre;overflow-x:auto;line-height:normal;font-family:Menlo,'DejaVu Sans Mono',consolas,'Courier New',monospace\">        <span style=\"font-weight: bold\">(</span><span style=\"color: #008000; text-decoration-color: #008000\">'longer'</span>, <span style=\"color: #008080; text-decoration-color: #008080; font-weight: bold\">0.3290164237095359</span><span style=\"font-weight: bold\">)</span>\n",
       "</pre>\n"
      ],
      "text/plain": [
       "        \u001b[1m(\u001b[0m\u001b[32m'longer'\u001b[0m, \u001b[1;36m0.3290164237095359\u001b[0m\u001b[1m)\u001b[0m\n"
      ]
     },
     "metadata": {},
     "output_type": "display_data"
    },
    {
     "data": {
      "text/html": [
       "<pre style=\"white-space:pre;overflow-x:auto;line-height:normal;font-family:Menlo,'DejaVu Sans Mono',consolas,'Courier New',monospace\">        <span style=\"font-weight: bold\">(</span><span style=\"color: #008000; text-decoration-color: #008000\">'really'</span>, <span style=\"color: #008080; text-decoration-color: #008080; font-weight: bold\">0.3206383137949688</span><span style=\"font-weight: bold\">)</span>\n",
       "</pre>\n"
      ],
      "text/plain": [
       "        \u001b[1m(\u001b[0m\u001b[32m'really'\u001b[0m, \u001b[1;36m0.3206383137949688\u001b[0m\u001b[1m)\u001b[0m\n"
      ]
     },
     "metadata": {},
     "output_type": "display_data"
    },
    {
     "data": {
      "text/html": [
       "<pre style=\"white-space:pre;overflow-x:auto;line-height:normal;font-family:Menlo,'DejaVu Sans Mono',consolas,'Courier New',monospace\">        <span style=\"font-weight: bold\">(</span><span style=\"color: #008000; text-decoration-color: #008000\">'other'</span>, <span style=\"color: #008080; text-decoration-color: #008080; font-weight: bold\">0.3126143511672998</span><span style=\"font-weight: bold\">)</span>\n",
       "</pre>\n"
      ],
      "text/plain": [
       "        \u001b[1m(\u001b[0m\u001b[32m'other'\u001b[0m, \u001b[1;36m0.3126143511672998\u001b[0m\u001b[1m)\u001b[0m\n"
      ]
     },
     "metadata": {},
     "output_type": "display_data"
    },
    {
     "data": {
      "text/html": [
       "<pre style=\"white-space:pre;overflow-x:auto;line-height:normal;font-family:Menlo,'DejaVu Sans Mono',consolas,'Courier New',monospace\">        <span style=\"font-weight: bold\">(</span><span style=\"color: #008000; text-decoration-color: #008000\">'married'</span>, <span style=\"color: #008080; text-decoration-color: #008080; font-weight: bold\">0.3116222519158528</span><span style=\"font-weight: bold\">)</span>\n",
       "</pre>\n"
      ],
      "text/plain": [
       "        \u001b[1m(\u001b[0m\u001b[32m'married'\u001b[0m, \u001b[1;36m0.3116222519158528\u001b[0m\u001b[1m)\u001b[0m\n"
      ]
     },
     "metadata": {},
     "output_type": "display_data"
    },
    {
     "data": {
      "text/html": [
       "<pre style=\"white-space:pre;overflow-x:auto;line-height:normal;font-family:Menlo,'DejaVu Sans Mono',consolas,'Courier New',monospace\">        <span style=\"font-weight: bold\">(</span><span style=\"color: #008000; text-decoration-color: #008000\">'ground'</span>, <span style=\"color: #008080; text-decoration-color: #008080; font-weight: bold\">0.3089533898772664</span><span style=\"font-weight: bold\">)</span>\n",
       "</pre>\n"
      ],
      "text/plain": [
       "        \u001b[1m(\u001b[0m\u001b[32m'ground'\u001b[0m, \u001b[1;36m0.3089533898772664\u001b[0m\u001b[1m)\u001b[0m\n"
      ]
     },
     "metadata": {},
     "output_type": "display_data"
    },
    {
     "data": {
      "text/html": [
       "<pre style=\"white-space:pre;overflow-x:auto;line-height:normal;font-family:Menlo,'DejaVu Sans Mono',consolas,'Courier New',monospace\">        <span style=\"font-weight: bold\">(</span><span style=\"color: #008000; text-decoration-color: #008000\">'understanding'</span>, <span style=\"color: #008080; text-decoration-color: #008080; font-weight: bold\">0.3022982986955706</span><span style=\"font-weight: bold\">)</span>\n",
       "</pre>\n"
      ],
      "text/plain": [
       "        \u001b[1m(\u001b[0m\u001b[32m'understanding'\u001b[0m, \u001b[1;36m0.3022982986955706\u001b[0m\u001b[1m)\u001b[0m\n"
      ]
     },
     "metadata": {},
     "output_type": "display_data"
    },
    {
     "data": {
      "text/html": [
       "<pre style=\"white-space:pre;overflow-x:auto;line-height:normal;font-family:Menlo,'DejaVu Sans Mono',consolas,'Courier New',monospace\">        <span style=\"font-weight: bold\">(</span><span style=\"color: #008000; text-decoration-color: #008000\">'pleased'</span>, <span style=\"color: #008080; text-decoration-color: #008080; font-weight: bold\">0.2983572100981071</span><span style=\"font-weight: bold\">)</span>\n",
       "</pre>\n"
      ],
      "text/plain": [
       "        \u001b[1m(\u001b[0m\u001b[32m'pleased'\u001b[0m, \u001b[1;36m0.2983572100981071\u001b[0m\u001b[1m)\u001b[0m\n"
      ]
     },
     "metadata": {},
     "output_type": "display_data"
    },
    {
     "data": {
      "text/html": [
       "<pre style=\"white-space:pre;overflow-x:auto;line-height:normal;font-family:Menlo,'DejaVu Sans Mono',consolas,'Courier New',monospace\"><span style=\"font-weight: bold\">(</span><span style=\"color: #008000; text-decoration-color: #008000\">'what'</span>, <span style=\"color: #008080; text-decoration-color: #008080; font-weight: bold\">45</span><span style=\"font-weight: bold\">)</span> most similar words:\n",
       "</pre>\n"
      ],
      "text/plain": [
       "\u001b[1m(\u001b[0m\u001b[32m'what'\u001b[0m, \u001b[1;36m45\u001b[0m\u001b[1m)\u001b[0m most similar words:\n"
      ]
     },
     "metadata": {},
     "output_type": "display_data"
    },
    {
     "data": {
      "text/html": [
       "<pre style=\"white-space:pre;overflow-x:auto;line-height:normal;font-family:Menlo,'DejaVu Sans Mono',consolas,'Courier New',monospace\">        <span style=\"font-weight: bold\">(</span><span style=\"color: #008000; text-decoration-color: #008000\">'what'</span>, <span style=\"color: #008080; text-decoration-color: #008080; font-weight: bold\">0.9999999999999998</span><span style=\"font-weight: bold\">)</span>\n",
       "</pre>\n"
      ],
      "text/plain": [
       "        \u001b[1m(\u001b[0m\u001b[32m'what'\u001b[0m, \u001b[1;36m0.9999999999999998\u001b[0m\u001b[1m)\u001b[0m\n"
      ]
     },
     "metadata": {},
     "output_type": "display_data"
    },
    {
     "data": {
      "text/html": [
       "<pre style=\"white-space:pre;overflow-x:auto;line-height:normal;font-family:Menlo,'DejaVu Sans Mono',consolas,'Courier New',monospace\">        <span style=\"font-weight: bold\">(</span><span style=\"color: #008000; text-decoration-color: #008000\">'nearer'</span>, <span style=\"color: #008080; text-decoration-color: #008080; font-weight: bold\">0.3379929345675988</span><span style=\"font-weight: bold\">)</span>\n",
       "</pre>\n"
      ],
      "text/plain": [
       "        \u001b[1m(\u001b[0m\u001b[32m'nearer'\u001b[0m, \u001b[1;36m0.3379929345675988\u001b[0m\u001b[1m)\u001b[0m\n"
      ]
     },
     "metadata": {},
     "output_type": "display_data"
    },
    {
     "data": {
      "text/html": [
       "<pre style=\"white-space:pre;overflow-x:auto;line-height:normal;font-family:Menlo,'DejaVu Sans Mono',consolas,'Courier New',monospace\">        <span style=\"font-weight: bold\">(</span><span style=\"color: #008000; text-decoration-color: #008000\">'direction'</span>, <span style=\"color: #008080; text-decoration-color: #008080; font-weight: bold\">0.3324583586086675</span><span style=\"font-weight: bold\">)</span>\n",
       "</pre>\n"
      ],
      "text/plain": [
       "        \u001b[1m(\u001b[0m\u001b[32m'direction'\u001b[0m, \u001b[1;36m0.3324583586086675\u001b[0m\u001b[1m)\u001b[0m\n"
      ]
     },
     "metadata": {},
     "output_type": "display_data"
    },
    {
     "data": {
      "text/html": [
       "<pre style=\"white-space:pre;overflow-x:auto;line-height:normal;font-family:Menlo,'DejaVu Sans Mono',consolas,'Courier New',monospace\">        <span style=\"font-weight: bold\">(</span><span style=\"color: #008000; text-decoration-color: #008000\">'meaning'</span>, <span style=\"color: #008080; text-decoration-color: #008080; font-weight: bold\">0.3252472100567747</span><span style=\"font-weight: bold\">)</span>\n",
       "</pre>\n"
      ],
      "text/plain": [
       "        \u001b[1m(\u001b[0m\u001b[32m'meaning'\u001b[0m, \u001b[1;36m0.3252472100567747\u001b[0m\u001b[1m)\u001b[0m\n"
      ]
     },
     "metadata": {},
     "output_type": "display_data"
    },
    {
     "data": {
      "text/html": [
       "<pre style=\"white-space:pre;overflow-x:auto;line-height:normal;font-family:Menlo,'DejaVu Sans Mono',consolas,'Courier New',monospace\">        <span style=\"font-weight: bold\">(</span><span style=\"color: #008000; text-decoration-color: #008000\">'aside'</span>, <span style=\"color: #008080; text-decoration-color: #008080; font-weight: bold\">0.3248370821680066</span><span style=\"font-weight: bold\">)</span>\n",
       "</pre>\n"
      ],
      "text/plain": [
       "        \u001b[1m(\u001b[0m\u001b[32m'aside'\u001b[0m, \u001b[1;36m0.3248370821680066\u001b[0m\u001b[1m)\u001b[0m\n"
      ]
     },
     "metadata": {},
     "output_type": "display_data"
    },
    {
     "data": {
      "text/html": [
       "<pre style=\"white-space:pre;overflow-x:auto;line-height:normal;font-family:Menlo,'DejaVu Sans Mono',consolas,'Courier New',monospace\">        <span style=\"font-weight: bold\">(</span><span style=\"color: #008000; text-decoration-color: #008000\">'which'</span>, <span style=\"color: #008080; text-decoration-color: #008080; font-weight: bold\">0.3193746176513043</span><span style=\"font-weight: bold\">)</span>\n",
       "</pre>\n"
      ],
      "text/plain": [
       "        \u001b[1m(\u001b[0m\u001b[32m'which'\u001b[0m, \u001b[1;36m0.3193746176513043\u001b[0m\u001b[1m)\u001b[0m\n"
      ]
     },
     "metadata": {},
     "output_type": "display_data"
    },
    {
     "data": {
      "text/html": [
       "<pre style=\"white-space:pre;overflow-x:auto;line-height:normal;font-family:Menlo,'DejaVu Sans Mono',consolas,'Courier New',monospace\">        <span style=\"font-weight: bold\">(</span><span style=\"color: #008000; text-decoration-color: #008000\">'particularly'</span>, <span style=\"color: #008080; text-decoration-color: #008080; font-weight: bold\">0.30381813200316987</span><span style=\"font-weight: bold\">)</span>\n",
       "</pre>\n"
      ],
      "text/plain": [
       "        \u001b[1m(\u001b[0m\u001b[32m'particularly'\u001b[0m, \u001b[1;36m0.30381813200316987\u001b[0m\u001b[1m)\u001b[0m\n"
      ]
     },
     "metadata": {},
     "output_type": "display_data"
    },
    {
     "data": {
      "text/html": [
       "<pre style=\"white-space:pre;overflow-x:auto;line-height:normal;font-family:Menlo,'DejaVu Sans Mono',consolas,'Courier New',monospace\">        <span style=\"font-weight: bold\">(</span><span style=\"color: #008000; text-decoration-color: #008000\">'sides'</span>, <span style=\"color: #008080; text-decoration-color: #008080; font-weight: bold\">0.2957599895066012</span><span style=\"font-weight: bold\">)</span>\n",
       "</pre>\n"
      ],
      "text/plain": [
       "        \u001b[1m(\u001b[0m\u001b[32m'sides'\u001b[0m, \u001b[1;36m0.2957599895066012\u001b[0m\u001b[1m)\u001b[0m\n"
      ]
     },
     "metadata": {},
     "output_type": "display_data"
    },
    {
     "data": {
      "text/html": [
       "<pre style=\"white-space:pre;overflow-x:auto;line-height:normal;font-family:Menlo,'DejaVu Sans Mono',consolas,'Courier New',monospace\">        <span style=\"font-weight: bold\">(</span><span style=\"color: #008000; text-decoration-color: #008000\">'dog'</span>, <span style=\"color: #008080; text-decoration-color: #008080; font-weight: bold\">0.2866222593504051</span><span style=\"font-weight: bold\">)</span>\n",
       "</pre>\n"
      ],
      "text/plain": [
       "        \u001b[1m(\u001b[0m\u001b[32m'dog'\u001b[0m, \u001b[1;36m0.2866222593504051\u001b[0m\u001b[1m)\u001b[0m\n"
      ]
     },
     "metadata": {},
     "output_type": "display_data"
    },
    {
     "data": {
      "text/html": [
       "<pre style=\"white-space:pre;overflow-x:auto;line-height:normal;font-family:Menlo,'DejaVu Sans Mono',consolas,'Courier New',monospace\">        <span style=\"font-weight: bold\">(</span><span style=\"color: #008000; text-decoration-color: #008000\">'better'</span>, <span style=\"color: #008080; text-decoration-color: #008080; font-weight: bold\">0.2785163212538782</span><span style=\"font-weight: bold\">)</span>\n",
       "</pre>\n"
      ],
      "text/plain": [
       "        \u001b[1m(\u001b[0m\u001b[32m'better'\u001b[0m, \u001b[1;36m0.2785163212538782\u001b[0m\u001b[1m)\u001b[0m\n"
      ]
     },
     "metadata": {},
     "output_type": "display_data"
    }
   ],
   "source": [
    "testing_words = [\"me\", \"white\", \"man\", \"have\", \"be\", \"child\", \"yes\", \"what\"]\n",
    "testing_words_idx = [(i, vocab.get_stoi()[i]) for i in testing_words]\n",
    "\n",
    "n_most_similar = 10\n",
    "for w in testing_words_idx:\n",
    "\n",
    "    indices = (-sim_matrix[w[1]]).argsort()[:n_most_similar]\n",
    "    sim_words = [(vocab.get_itos()[i], sim_matrix[w[1]][i]) for i in indices]\n",
    "    print(f\"{w} most similar words:\")\n",
    "\n",
    "    for sim_w in sim_words:\n",
    "        print(f\"\\t{sim_w}\")\n"
   ]
  },
  {
   "cell_type": "markdown",
   "metadata": {},
   "source": [
    "TODO: COMMENT HERE"
   ]
  },
  {
   "cell_type": "markdown",
   "metadata": {},
   "source": [
    "#### 6 -Visualize the embedding space.\n",
    "To do so, upload the vocabulary and their corresponding values in the embedding space as tsv files. Try to find\n",
    "and select clusters. Report both plots and their corresponding selections for some meaningful\n",
    "clusters."
   ]
  },
  {
   "cell_type": "code",
   "execution_count": 14,
   "metadata": {},
   "outputs": [],
   "source": [
    "import csv\n",
    "\n",
    "with open(\"./weights.tsv\", \"wt\") as out_file:\n",
    "    tsv_writer = csv.writer(out_file, delimiter=\"\\t\")\n",
    "    for i in best_model_weights:\n",
    "        tsv_writer.writerow(i.numpy())\n",
    "\n",
    "\n",
    "with open(\"./metadata.tsv\", \"wt\") as out_file:\n",
    "    tsv_writer = csv.writer(out_file, delimiter=\"\\t\")\n",
    "    vocab_dict = vocab.get_itos()\n",
    "    for i in vocab_dict:\n",
    "        tsv_writer.writerow([i])\n"
   ]
  },
  {
   "cell_type": "markdown",
   "metadata": {},
   "source": [
    "TODO: PUT VISUALIZATIONS HERE\n",
    "\n",
    "TODO: COMMENT IN REGARDS TO 5"
   ]
  },
  {
   "cell_type": "markdown",
   "metadata": {},
   "source": [
    "## 2.2 Conjugating *be* and *have*"
   ]
  },
  {
   "cell_type": "markdown",
   "metadata": {},
   "source": [
    "#### 1 - Use your trained word embedding and define a MLP architecture as well as a RNN architecture to predict be and have conjugation given the context around the missing target. \n",
    "Use the same context size for both MLPs and RNNs, even though RNNs could take a context size of arbitrary\n",
    "length.\n",
    "\n",
    "- Your trained word embedding can be integrated in your next models in different ways. For\n",
    "example, you can transform inputs before feeding them to your models, or have a first layer in\n",
    "your models with the same weight values as your trained embedding matrix, or simply define\n",
    "the computations between the input and the embedding matrix in the forward function.\n",
    "- To predict be and have conjugation, the (contexts, targets) datasets must be such that\n",
    "the targets are be, am, are, is, was, were, been, being, have, has, had, having. The output\n",
    "layer must match the number of classes to predict and the labels must be mapped from their\n",
    "original index in the vocabulary to integers between 0 and 11."
   ]
  },
  {
   "cell_type": "code",
   "execution_count": 89,
   "metadata": {},
   "outputs": [],
   "source": [
    "def create_conjugate_dataset(text, vocab, around_context_size=2):\n",
    "    contexts = []\n",
    "    targets = []\n",
    "    n_text = len(text)\n",
    "\n",
    "    target_possibilities = [\n",
    "        \"be\",\n",
    "        \"am\",\n",
    "        \"are\",\n",
    "        \"is\",\n",
    "        \"was\",\n",
    "        \"were\",\n",
    "        \"been\",\n",
    "        \"being\",\n",
    "        \"have\",\n",
    "        \"has\",\n",
    "        \"had\",\n",
    "        \"having\",\n",
    "    ]\n",
    "\n",
    "    target_to_idx = {target: i for i, target in enumerate(target_possibilities)}\n",
    "\n",
    "    for i in range(around_context_size, n_text - around_context_size):\n",
    "\n",
    "        word = text[i]\n",
    "\n",
    "        if word in target_possibilities:\n",
    "\n",
    "            t = target_to_idx[word]\n",
    "\n",
    "            around = text[i - around_context_size-1 : i - 1] + text[i + 1 : i + around_context_size+1]\n",
    "\n",
    "            c = torch.Tensor([vocab[w] for w in around]).type(torch.long)\n",
    "\n",
    "            targets.append(t)\n",
    "\n",
    "            contexts.append(c)\n",
    "\n",
    "    contexts = torch.stack(contexts)\n",
    "    targets = torch.tensor(targets)\n",
    "    return TensorDataset(contexts, targets)\n",
    "\n",
    "\n",
    "train_conjugate_data = create_conjugate_dataset(train_tokenized, vocab)\n",
    "val_conjugate_data = create_conjugate_dataset(val_tokenized, vocab)\n",
    "test_conjugate_data = create_conjugate_dataset(test_tokenized, vocab)\n",
    "\n",
    "batch_size = 64\n",
    "\n",
    "train_conjugate_data_loader = DataLoader(train_conjugate_data, batch_size=batch_size)\n",
    "val_conjugate_data_loader = DataLoader(val_conjugate_data, batch_size=batch_size)\n",
    "test_conjugate_data_loader = DataLoader(test_conjugate_data, batch_size=batch_size)\n"
   ]
  },
  {
   "cell_type": "code",
   "execution_count": 90,
   "metadata": {},
   "outputs": [],
   "source": [
    "output_size = 12\n",
    "\n",
    "class MLP(nn.Module):\n",
    "    def __init__(self, vocab_size, embedding_dim, embedding_weights, context_size):\n",
    "        super().__init__()\n",
    "        self.embeddings = nn.Embedding(vocab_size, embedding_dim)\n",
    "        self.embeddings.load_state_dict({\"weight\": embedding_weights})\n",
    "        self.linear1 = nn.Linear(context_size * embedding_dim, 128)\n",
    "        self.relu1 = nn.ReLU()\n",
    "        self.linear2 = nn.Linear(128, output_size)\n",
    "\n",
    "    def forward(self, inputs):\n",
    "        embeds = self.embeddings(inputs).view((inputs.shape[0], -1))\n",
    "        out = self.linear1(embeds)\n",
    "        out = self.relu1(out)\n",
    "        out = self.linear2(out)\n",
    "        log_probs = F.log_softmax(out, dim=1)\n",
    "\n",
    "        return log_probs\n"
   ]
  },
  {
   "cell_type": "code",
   "execution_count": 142,
   "metadata": {},
   "outputs": [],
   "source": [
    "class RNN(nn.Module):\n",
    "    def __init__(self, vocab_size, embedding_dim, embedding_weights, hidden_size, lstm_layers):\n",
    "        super(RNN, self).__init__()\n",
    "        self.embedding_dim = embedding_dim\n",
    "        self.embeddings = nn.Embedding(vocab_size, embedding_dim)\n",
    "        self.embeddings.load_state_dict({\"weight\": embedding_weights})\n",
    "        self.embeddings.requires_grad = False\n",
    "\n",
    "        self.lstm = nn.LSTM(\n",
    "            input_size=embedding_dim,\n",
    "            hidden_size=hidden_size,\n",
    "            num_layers=lstm_layers,\n",
    "            batch_first=True,\n",
    "        )\n",
    "\n",
    "        self.classifier = nn.Sequential(\n",
    "            nn.Linear(in_features=embedding_dim, out_features=128),\n",
    "            nn.ReLU(),\n",
    "            nn.Linear(in_features=128, out_features=output_size),\n",
    "            nn.LogSoftmax(dim=1),\n",
    "        )\n",
    "\n",
    "    def forward(self, input):\n",
    "        embeds = self.embeddings(input)\n",
    "        output, (hn, cn) = self.lstm(embeds)\n",
    "        output = self.classifier(hn)\n",
    "        return output[0]\n"
   ]
  },
  {
   "cell_type": "code",
   "execution_count": 143,
   "metadata": {},
   "outputs": [],
   "source": [
    "def train_rnn(n_epochs, optimizer, model, loss_fn, train_loader):\n",
    "    n_batch = len(train_loader)\n",
    "    losses_train = []\n",
    "    model.train()\n",
    "\n",
    "    optimizer.zero_grad(set_to_none=True)\n",
    "\n",
    "    for epoch in range(1, n_epochs + 1):\n",
    "\n",
    "        loss_train = 0.0\n",
    "        for contexts, labels in train_loader:\n",
    "\n",
    "            contexts = contexts.detach().to(device=device)\n",
    "            labels = labels.detach().to(device=device)\n",
    "            outputs = model(contexts)\n",
    "            loss = loss_fn(outputs, labels)\n",
    "            loss.backward(retain_graph=True)\n",
    "            optimizer.step()\n",
    "            optimizer.zero_grad()\n",
    "\n",
    "            loss_train += loss.item()\n",
    "\n",
    "        losses_train.append(loss_train / n_batch)\n",
    "\n",
    "        print(\n",
    "            \"{}  |  Epoch {}  |  Training loss {:.5f}\".format(\n",
    "                datetime.now().time(), epoch, loss_train / n_batch\n",
    "            )\n",
    "        )\n",
    "    return\n"
   ]
  },
  {
   "cell_type": "markdown",
   "metadata": {},
   "source": [
    "#### 2 - Train several models, select the best one and evaluate its performance. \n",
    "Comment the differences in terms of performances/training time between the MLP architecture and the RNN\n",
    "architecture."
   ]
  },
  {
   "cell_type": "code",
   "execution_count": 136,
   "metadata": {},
   "outputs": [
    {
     "data": {
      "text/html": [
       "<pre style=\"white-space:pre;overflow-x:auto;line-height:normal;font-family:Menlo,'DejaVu Sans Mono',consolas,'Courier New',monospace\"><span style=\"color: #00ff00; text-decoration-color: #00ff00; font-weight: bold\">14:45:14</span>.<span style=\"color: #008080; text-decoration-color: #008080; font-weight: bold\">489170</span>  |  Epoch <span style=\"color: #008080; text-decoration-color: #008080; font-weight: bold\">1</span>  |  Training loss <span style=\"color: #008080; text-decoration-color: #008080; font-weight: bold\">1.76142</span>\n",
       "</pre>\n"
      ],
      "text/plain": [
       "\u001b[1;92m14:45:14\u001b[0m.\u001b[1;36m489170\u001b[0m  |  Epoch \u001b[1;36m1\u001b[0m  |  Training loss \u001b[1;36m1.76142\u001b[0m\n"
      ]
     },
     "metadata": {},
     "output_type": "display_data"
    },
    {
     "data": {
      "text/html": [
       "<pre style=\"white-space:pre;overflow-x:auto;line-height:normal;font-family:Menlo,'DejaVu Sans Mono',consolas,'Courier New',monospace\"><span style=\"color: #00ff00; text-decoration-color: #00ff00; font-weight: bold\">14:45:15</span>.<span style=\"color: #008080; text-decoration-color: #008080; font-weight: bold\">559473</span>  |  Epoch <span style=\"color: #008080; text-decoration-color: #008080; font-weight: bold\">2</span>  |  Training loss <span style=\"color: #008080; text-decoration-color: #008080; font-weight: bold\">1.60873</span>\n",
       "</pre>\n"
      ],
      "text/plain": [
       "\u001b[1;92m14:45:15\u001b[0m.\u001b[1;36m559473\u001b[0m  |  Epoch \u001b[1;36m2\u001b[0m  |  Training loss \u001b[1;36m1.60873\u001b[0m\n"
      ]
     },
     "metadata": {},
     "output_type": "display_data"
    },
    {
     "data": {
      "text/html": [
       "<pre style=\"white-space:pre;overflow-x:auto;line-height:normal;font-family:Menlo,'DejaVu Sans Mono',consolas,'Courier New',monospace\"><span style=\"color: #00ff00; text-decoration-color: #00ff00; font-weight: bold\">14:45:16</span>.<span style=\"color: #008080; text-decoration-color: #008080; font-weight: bold\">529498</span>  |  Epoch <span style=\"color: #008080; text-decoration-color: #008080; font-weight: bold\">3</span>  |  Training loss <span style=\"color: #008080; text-decoration-color: #008080; font-weight: bold\">1.54039</span>\n",
       "</pre>\n"
      ],
      "text/plain": [
       "\u001b[1;92m14:45:16\u001b[0m.\u001b[1;36m529498\u001b[0m  |  Epoch \u001b[1;36m3\u001b[0m  |  Training loss \u001b[1;36m1.54039\u001b[0m\n"
      ]
     },
     "metadata": {},
     "output_type": "display_data"
    },
    {
     "data": {
      "text/html": [
       "<pre style=\"white-space:pre;overflow-x:auto;line-height:normal;font-family:Menlo,'DejaVu Sans Mono',consolas,'Courier New',monospace\"><span style=\"color: #00ff00; text-decoration-color: #00ff00; font-weight: bold\">14:45:17</span>.<span style=\"color: #008080; text-decoration-color: #008080; font-weight: bold\">506172</span>  |  Epoch <span style=\"color: #008080; text-decoration-color: #008080; font-weight: bold\">4</span>  |  Training loss <span style=\"color: #008080; text-decoration-color: #008080; font-weight: bold\">1.48876</span>\n",
       "</pre>\n"
      ],
      "text/plain": [
       "\u001b[1;92m14:45:17\u001b[0m.\u001b[1;36m506172\u001b[0m  |  Epoch \u001b[1;36m4\u001b[0m  |  Training loss \u001b[1;36m1.48876\u001b[0m\n"
      ]
     },
     "metadata": {},
     "output_type": "display_data"
    }
   ],
   "source": [
    "loss_fn = nn.NLLLoss()\n",
    "n_epochs = 4\n",
    "lr = 0.1\n",
    "embedding_dim = 64\n",
    "\n",
    "MLP_model = MLP(vocab_size, embedding_dim, best_model_weights, 4).to(device=device)\n",
    "optimizer = optim.SGD(MLP_model.parameters(), lr=lr)\n",
    "\n",
    "\n",
    "train(n_epochs,optimizer,MLP_model,loss_fn,train_conjugate_data_loader)"
   ]
  },
  {
   "cell_type": "code",
   "execution_count": 137,
   "metadata": {},
   "outputs": [
    {
     "data": {
      "text/html": [
       "<pre style=\"white-space:pre;overflow-x:auto;line-height:normal;font-family:Menlo,'DejaVu Sans Mono',consolas,'Courier New',monospace\"><span style=\"color: #00ff00; text-decoration-color: #00ff00; font-weight: bold\">14:45:19</span>.<span style=\"color: #008080; text-decoration-color: #008080; font-weight: bold\">139311</span>  |  Epoch <span style=\"color: #008080; text-decoration-color: #008080; font-weight: bold\">1</span>  |  Training loss <span style=\"color: #008080; text-decoration-color: #008080; font-weight: bold\">1.73287</span>\n",
       "</pre>\n"
      ],
      "text/plain": [
       "\u001b[1;92m14:45:19\u001b[0m.\u001b[1;36m139311\u001b[0m  |  Epoch \u001b[1;36m1\u001b[0m  |  Training loss \u001b[1;36m1.73287\u001b[0m\n"
      ]
     },
     "metadata": {},
     "output_type": "display_data"
    },
    {
     "data": {
      "text/html": [
       "<pre style=\"white-space:pre;overflow-x:auto;line-height:normal;font-family:Menlo,'DejaVu Sans Mono',consolas,'Courier New',monospace\"><span style=\"color: #00ff00; text-decoration-color: #00ff00; font-weight: bold\">14:45:20</span>.<span style=\"color: #008080; text-decoration-color: #008080; font-weight: bold\">672898</span>  |  Epoch <span style=\"color: #008080; text-decoration-color: #008080; font-weight: bold\">2</span>  |  Training loss <span style=\"color: #008080; text-decoration-color: #008080; font-weight: bold\">1.54071</span>\n",
       "</pre>\n"
      ],
      "text/plain": [
       "\u001b[1;92m14:45:20\u001b[0m.\u001b[1;36m672898\u001b[0m  |  Epoch \u001b[1;36m2\u001b[0m  |  Training loss \u001b[1;36m1.54071\u001b[0m\n"
      ]
     },
     "metadata": {},
     "output_type": "display_data"
    },
    {
     "data": {
      "text/html": [
       "<pre style=\"white-space:pre;overflow-x:auto;line-height:normal;font-family:Menlo,'DejaVu Sans Mono',consolas,'Courier New',monospace\"><span style=\"color: #00ff00; text-decoration-color: #00ff00; font-weight: bold\">14:45:22</span>.<span style=\"color: #008080; text-decoration-color: #008080; font-weight: bold\">163362</span>  |  Epoch <span style=\"color: #008080; text-decoration-color: #008080; font-weight: bold\">3</span>  |  Training loss <span style=\"color: #008080; text-decoration-color: #008080; font-weight: bold\">1.45633</span>\n",
       "</pre>\n"
      ],
      "text/plain": [
       "\u001b[1;92m14:45:22\u001b[0m.\u001b[1;36m163362\u001b[0m  |  Epoch \u001b[1;36m3\u001b[0m  |  Training loss \u001b[1;36m1.45633\u001b[0m\n"
      ]
     },
     "metadata": {},
     "output_type": "display_data"
    },
    {
     "data": {
      "text/html": [
       "<pre style=\"white-space:pre;overflow-x:auto;line-height:normal;font-family:Menlo,'DejaVu Sans Mono',consolas,'Courier New',monospace\"><span style=\"color: #00ff00; text-decoration-color: #00ff00; font-weight: bold\">14:45:23</span>.<span style=\"color: #008080; text-decoration-color: #008080; font-weight: bold\">618648</span>  |  Epoch <span style=\"color: #008080; text-decoration-color: #008080; font-weight: bold\">4</span>  |  Training loss <span style=\"color: #008080; text-decoration-color: #008080; font-weight: bold\">1.39480</span>\n",
       "</pre>\n"
      ],
      "text/plain": [
       "\u001b[1;92m14:45:23\u001b[0m.\u001b[1;36m618648\u001b[0m  |  Epoch \u001b[1;36m4\u001b[0m  |  Training loss \u001b[1;36m1.39480\u001b[0m\n"
      ]
     },
     "metadata": {},
     "output_type": "display_data"
    },
    {
     "data": {
      "text/html": [
       "<pre style=\"white-space:pre;overflow-x:auto;line-height:normal;font-family:Menlo,'DejaVu Sans Mono',consolas,'Courier New',monospace\"><span style=\"color: #00ff00; text-decoration-color: #00ff00; font-weight: bold\">14:45:25</span>.<span style=\"color: #008080; text-decoration-color: #008080; font-weight: bold\">047622</span>  |  Epoch <span style=\"color: #008080; text-decoration-color: #008080; font-weight: bold\">5</span>  |  Training loss <span style=\"color: #008080; text-decoration-color: #008080; font-weight: bold\">1.34398</span>\n",
       "</pre>\n"
      ],
      "text/plain": [
       "\u001b[1;92m14:45:25\u001b[0m.\u001b[1;36m047622\u001b[0m  |  Epoch \u001b[1;36m5\u001b[0m  |  Training loss \u001b[1;36m1.34398\u001b[0m\n"
      ]
     },
     "metadata": {},
     "output_type": "display_data"
    },
    {
     "data": {
      "text/html": [
       "<pre style=\"white-space:pre;overflow-x:auto;line-height:normal;font-family:Menlo,'DejaVu Sans Mono',consolas,'Courier New',monospace\"><span style=\"color: #00ff00; text-decoration-color: #00ff00; font-weight: bold\">14:45:26</span>.<span style=\"color: #008080; text-decoration-color: #008080; font-weight: bold\">568168</span>  |  Epoch <span style=\"color: #008080; text-decoration-color: #008080; font-weight: bold\">6</span>  |  Training loss <span style=\"color: #008080; text-decoration-color: #008080; font-weight: bold\">1.29965</span>\n",
       "</pre>\n"
      ],
      "text/plain": [
       "\u001b[1;92m14:45:26\u001b[0m.\u001b[1;36m568168\u001b[0m  |  Epoch \u001b[1;36m6\u001b[0m  |  Training loss \u001b[1;36m1.29965\u001b[0m\n"
      ]
     },
     "metadata": {},
     "output_type": "display_data"
    },
    {
     "data": {
      "text/html": [
       "<pre style=\"white-space:pre;overflow-x:auto;line-height:normal;font-family:Menlo,'DejaVu Sans Mono',consolas,'Courier New',monospace\"><span style=\"color: #00ff00; text-decoration-color: #00ff00; font-weight: bold\">14:45:28</span>.<span style=\"color: #008080; text-decoration-color: #008080; font-weight: bold\">098945</span>  |  Epoch <span style=\"color: #008080; text-decoration-color: #008080; font-weight: bold\">7</span>  |  Training loss <span style=\"color: #008080; text-decoration-color: #008080; font-weight: bold\">1.25998</span>\n",
       "</pre>\n"
      ],
      "text/plain": [
       "\u001b[1;92m14:45:28\u001b[0m.\u001b[1;36m098945\u001b[0m  |  Epoch \u001b[1;36m7\u001b[0m  |  Training loss \u001b[1;36m1.25998\u001b[0m\n"
      ]
     },
     "metadata": {},
     "output_type": "display_data"
    },
    {
     "data": {
      "text/html": [
       "<pre style=\"white-space:pre;overflow-x:auto;line-height:normal;font-family:Menlo,'DejaVu Sans Mono',consolas,'Courier New',monospace\"><span style=\"color: #00ff00; text-decoration-color: #00ff00; font-weight: bold\">14:45:29</span>.<span style=\"color: #008080; text-decoration-color: #008080; font-weight: bold\">577388</span>  |  Epoch <span style=\"color: #008080; text-decoration-color: #008080; font-weight: bold\">8</span>  |  Training loss <span style=\"color: #008080; text-decoration-color: #008080; font-weight: bold\">1.22384</span>\n",
       "</pre>\n"
      ],
      "text/plain": [
       "\u001b[1;92m14:45:29\u001b[0m.\u001b[1;36m577388\u001b[0m  |  Epoch \u001b[1;36m8\u001b[0m  |  Training loss \u001b[1;36m1.22384\u001b[0m\n"
      ]
     },
     "metadata": {},
     "output_type": "display_data"
    },
    {
     "data": {
      "text/html": [
       "<pre style=\"white-space:pre;overflow-x:auto;line-height:normal;font-family:Menlo,'DejaVu Sans Mono',consolas,'Courier New',monospace\"><span style=\"color: #00ff00; text-decoration-color: #00ff00; font-weight: bold\">14:45:31</span>.<span style=\"color: #008080; text-decoration-color: #008080; font-weight: bold\">333885</span>  |  Epoch <span style=\"color: #008080; text-decoration-color: #008080; font-weight: bold\">9</span>  |  Training loss <span style=\"color: #008080; text-decoration-color: #008080; font-weight: bold\">1.19040</span>\n",
       "</pre>\n"
      ],
      "text/plain": [
       "\u001b[1;92m14:45:31\u001b[0m.\u001b[1;36m333885\u001b[0m  |  Epoch \u001b[1;36m9\u001b[0m  |  Training loss \u001b[1;36m1.19040\u001b[0m\n"
      ]
     },
     "metadata": {},
     "output_type": "display_data"
    },
    {
     "data": {
      "text/html": [
       "<pre style=\"white-space:pre;overflow-x:auto;line-height:normal;font-family:Menlo,'DejaVu Sans Mono',consolas,'Courier New',monospace\"><span style=\"color: #00ff00; text-decoration-color: #00ff00; font-weight: bold\">14:45:32</span>.<span style=\"color: #008080; text-decoration-color: #008080; font-weight: bold\">995007</span>  |  Epoch <span style=\"color: #008080; text-decoration-color: #008080; font-weight: bold\">10</span>  |  Training loss <span style=\"color: #008080; text-decoration-color: #008080; font-weight: bold\">1.15891</span>\n",
       "</pre>\n"
      ],
      "text/plain": [
       "\u001b[1;92m14:45:32\u001b[0m.\u001b[1;36m995007\u001b[0m  |  Epoch \u001b[1;36m10\u001b[0m  |  Training loss \u001b[1;36m1.15891\u001b[0m\n"
      ]
     },
     "metadata": {},
     "output_type": "display_data"
    },
    {
     "data": {
      "text/html": [
       "<pre style=\"white-space:pre;overflow-x:auto;line-height:normal;font-family:Menlo,'DejaVu Sans Mono',consolas,'Courier New',monospace\"><span style=\"color: #00ff00; text-decoration-color: #00ff00; font-weight: bold\">14:45:34</span>.<span style=\"color: #008080; text-decoration-color: #008080; font-weight: bold\">805402</span>  |  Epoch <span style=\"color: #008080; text-decoration-color: #008080; font-weight: bold\">11</span>  |  Training loss <span style=\"color: #008080; text-decoration-color: #008080; font-weight: bold\">1.12965</span>\n",
       "</pre>\n"
      ],
      "text/plain": [
       "\u001b[1;92m14:45:34\u001b[0m.\u001b[1;36m805402\u001b[0m  |  Epoch \u001b[1;36m11\u001b[0m  |  Training loss \u001b[1;36m1.12965\u001b[0m\n"
      ]
     },
     "metadata": {},
     "output_type": "display_data"
    },
    {
     "data": {
      "text/html": [
       "<pre style=\"white-space:pre;overflow-x:auto;line-height:normal;font-family:Menlo,'DejaVu Sans Mono',consolas,'Courier New',monospace\"><span style=\"color: #00ff00; text-decoration-color: #00ff00; font-weight: bold\">14:45:36</span>.<span style=\"color: #008080; text-decoration-color: #008080; font-weight: bold\">469793</span>  |  Epoch <span style=\"color: #008080; text-decoration-color: #008080; font-weight: bold\">12</span>  |  Training loss <span style=\"color: #008080; text-decoration-color: #008080; font-weight: bold\">1.10173</span>\n",
       "</pre>\n"
      ],
      "text/plain": [
       "\u001b[1;92m14:45:36\u001b[0m.\u001b[1;36m469793\u001b[0m  |  Epoch \u001b[1;36m12\u001b[0m  |  Training loss \u001b[1;36m1.10173\u001b[0m\n"
      ]
     },
     "metadata": {},
     "output_type": "display_data"
    },
    {
     "data": {
      "text/html": [
       "<pre style=\"white-space:pre;overflow-x:auto;line-height:normal;font-family:Menlo,'DejaVu Sans Mono',consolas,'Courier New',monospace\"><span style=\"color: #00ff00; text-decoration-color: #00ff00; font-weight: bold\">14:45:38</span>.<span style=\"color: #008080; text-decoration-color: #008080; font-weight: bold\">231506</span>  |  Epoch <span style=\"color: #008080; text-decoration-color: #008080; font-weight: bold\">13</span>  |  Training loss <span style=\"color: #008080; text-decoration-color: #008080; font-weight: bold\">1.07565</span>\n",
       "</pre>\n"
      ],
      "text/plain": [
       "\u001b[1;92m14:45:38\u001b[0m.\u001b[1;36m231506\u001b[0m  |  Epoch \u001b[1;36m13\u001b[0m  |  Training loss \u001b[1;36m1.07565\u001b[0m\n"
      ]
     },
     "metadata": {},
     "output_type": "display_data"
    },
    {
     "data": {
      "text/html": [
       "<pre style=\"white-space:pre;overflow-x:auto;line-height:normal;font-family:Menlo,'DejaVu Sans Mono',consolas,'Courier New',monospace\"><span style=\"color: #00ff00; text-decoration-color: #00ff00; font-weight: bold\">14:45:40</span>.<span style=\"color: #008080; text-decoration-color: #008080; font-weight: bold\">150525</span>  |  Epoch <span style=\"color: #008080; text-decoration-color: #008080; font-weight: bold\">14</span>  |  Training loss <span style=\"color: #008080; text-decoration-color: #008080; font-weight: bold\">1.05124</span>\n",
       "</pre>\n"
      ],
      "text/plain": [
       "\u001b[1;92m14:45:40\u001b[0m.\u001b[1;36m150525\u001b[0m  |  Epoch \u001b[1;36m14\u001b[0m  |  Training loss \u001b[1;36m1.05124\u001b[0m\n"
      ]
     },
     "metadata": {},
     "output_type": "display_data"
    },
    {
     "data": {
      "text/html": [
       "<pre style=\"white-space:pre;overflow-x:auto;line-height:normal;font-family:Menlo,'DejaVu Sans Mono',consolas,'Courier New',monospace\"><span style=\"color: #00ff00; text-decoration-color: #00ff00; font-weight: bold\">14:45:42</span>.<span style=\"color: #008080; text-decoration-color: #008080; font-weight: bold\">084204</span>  |  Epoch <span style=\"color: #008080; text-decoration-color: #008080; font-weight: bold\">15</span>  |  Training loss <span style=\"color: #008080; text-decoration-color: #008080; font-weight: bold\">1.02844</span>\n",
       "</pre>\n"
      ],
      "text/plain": [
       "\u001b[1;92m14:45:42\u001b[0m.\u001b[1;36m084204\u001b[0m  |  Epoch \u001b[1;36m15\u001b[0m  |  Training loss \u001b[1;36m1.02844\u001b[0m\n"
      ]
     },
     "metadata": {},
     "output_type": "display_data"
    }
   ],
   "source": [
    "loss_fn = nn.NLLLoss()\n",
    "n_epochs = 15\n",
    "lr = 0.001\n",
    "embedding_dim = 64\n",
    "\n",
    "MLP_model_2 = MLP(vocab_size, embedding_dim, best_model_weights, 4).to(device=device)\n",
    "optimizer = optim.Adam(MLP_model_2.parameters(), lr=lr)\n",
    "\n",
    "\n",
    "train(n_epochs,optimizer,MLP_model_2,loss_fn,train_conjugate_data_loader)"
   ]
  },
  {
   "cell_type": "code",
   "execution_count": 145,
   "metadata": {},
   "outputs": [
    {
     "data": {
      "text/html": [
       "<pre style=\"white-space:pre;overflow-x:auto;line-height:normal;font-family:Menlo,'DejaVu Sans Mono',consolas,'Courier New',monospace\"><span style=\"color: #00ff00; text-decoration-color: #00ff00; font-weight: bold\">14:49:30</span>.<span style=\"color: #008080; text-decoration-color: #008080; font-weight: bold\">975664</span>  |  Epoch <span style=\"color: #008080; text-decoration-color: #008080; font-weight: bold\">1</span>  |  Training loss <span style=\"color: #008080; text-decoration-color: #008080; font-weight: bold\">1.96344</span>\n",
       "</pre>\n"
      ],
      "text/plain": [
       "\u001b[1;92m14:49:30\u001b[0m.\u001b[1;36m975664\u001b[0m  |  Epoch \u001b[1;36m1\u001b[0m  |  Training loss \u001b[1;36m1.96344\u001b[0m\n"
      ]
     },
     "metadata": {},
     "output_type": "display_data"
    },
    {
     "data": {
      "text/html": [
       "<pre style=\"white-space:pre;overflow-x:auto;line-height:normal;font-family:Menlo,'DejaVu Sans Mono',consolas,'Courier New',monospace\"><span style=\"color: #00ff00; text-decoration-color: #00ff00; font-weight: bold\">14:49:37</span>.<span style=\"color: #008080; text-decoration-color: #008080; font-weight: bold\">379074</span>  |  Epoch <span style=\"color: #008080; text-decoration-color: #008080; font-weight: bold\">2</span>  |  Training loss <span style=\"color: #008080; text-decoration-color: #008080; font-weight: bold\">1.70622</span>\n",
       "</pre>\n"
      ],
      "text/plain": [
       "\u001b[1;92m14:49:37\u001b[0m.\u001b[1;36m379074\u001b[0m  |  Epoch \u001b[1;36m2\u001b[0m  |  Training loss \u001b[1;36m1.70622\u001b[0m\n"
      ]
     },
     "metadata": {},
     "output_type": "display_data"
    },
    {
     "data": {
      "text/html": [
       "<pre style=\"white-space:pre;overflow-x:auto;line-height:normal;font-family:Menlo,'DejaVu Sans Mono',consolas,'Courier New',monospace\"><span style=\"color: #00ff00; text-decoration-color: #00ff00; font-weight: bold\">14:49:43</span>.<span style=\"color: #008080; text-decoration-color: #008080; font-weight: bold\">787518</span>  |  Epoch <span style=\"color: #008080; text-decoration-color: #008080; font-weight: bold\">3</span>  |  Training loss <span style=\"color: #008080; text-decoration-color: #008080; font-weight: bold\">1.60866</span>\n",
       "</pre>\n"
      ],
      "text/plain": [
       "\u001b[1;92m14:49:43\u001b[0m.\u001b[1;36m787518\u001b[0m  |  Epoch \u001b[1;36m3\u001b[0m  |  Training loss \u001b[1;36m1.60866\u001b[0m\n"
      ]
     },
     "metadata": {},
     "output_type": "display_data"
    },
    {
     "data": {
      "text/html": [
       "<pre style=\"white-space:pre;overflow-x:auto;line-height:normal;font-family:Menlo,'DejaVu Sans Mono',consolas,'Courier New',monospace\"><span style=\"color: #00ff00; text-decoration-color: #00ff00; font-weight: bold\">14:49:50</span>.<span style=\"color: #008080; text-decoration-color: #008080; font-weight: bold\">180080</span>  |  Epoch <span style=\"color: #008080; text-decoration-color: #008080; font-weight: bold\">4</span>  |  Training loss <span style=\"color: #008080; text-decoration-color: #008080; font-weight: bold\">1.54453</span>\n",
       "</pre>\n"
      ],
      "text/plain": [
       "\u001b[1;92m14:49:50\u001b[0m.\u001b[1;36m180080\u001b[0m  |  Epoch \u001b[1;36m4\u001b[0m  |  Training loss \u001b[1;36m1.54453\u001b[0m\n"
      ]
     },
     "metadata": {},
     "output_type": "display_data"
    }
   ],
   "source": [
    "n_hidden = 128\n",
    "\n",
    "loss_fn = nn.CrossEntropyLoss()\n",
    "n_epochs = 4\n",
    "lr = 0.001\n",
    "embedding_dim = 64\n",
    "\n",
    "RNN_model = RNN(\n",
    "    vocab_size=vocab_size,\n",
    "    embedding_dim=embedding_dim,\n",
    "    embedding_weights=best_model_weights,\n",
    "    hidden_size=64,\n",
    "    lstm_layers=2,\n",
    ").to(device=device)\n",
    "optimizer = optim.Adam(RNN_model.parameters(), lr=lr)\n",
    "\n",
    "\n",
    "train_rnn(n_epochs, optimizer, RNN_model, loss_fn, train_conjugate_data_loader)\n"
   ]
  },
  {
   "cell_type": "markdown",
   "metadata": {},
   "source": [
    "## 2.3 Text generation"
   ]
  },
  {
   "cell_type": "markdown",
   "metadata": {},
   "source": [
    "#### 1 -  Use your trained word embedding and define a RNN architecture that can predict the next word given the context before the target.\n"
   ]
  },
  {
   "cell_type": "code",
   "execution_count": null,
   "metadata": {},
   "outputs": [],
   "source": []
  },
  {
   "cell_type": "markdown",
   "metadata": {},
   "source": [
    "#### 2 - Train several models, select the best one and evaluate its performance.\n",
    "Note that the accuracy here is potentially very low.\n"
   ]
  },
  {
   "cell_type": "code",
   "execution_count": null,
   "metadata": {},
   "outputs": [],
   "source": []
  },
  {
   "cell_type": "markdown",
   "metadata": {},
   "source": [
    "#### 3 - Implement the beam search algorithm."
   ]
  },
  {
   "cell_type": "code",
   "execution_count": null,
   "metadata": {},
   "outputs": [],
   "source": []
  },
  {
   "cell_type": "markdown",
   "metadata": {},
   "source": [
    "#### 4 - Have fun playing with your model. \n",
    "Start a sentence, give it to your model, and let it complete the next n words using the beam search algorithm. Report and comment your results."
   ]
  }
 ],
 "metadata": {
  "interpreter": {
   "hash": "f2237f2d220ad310471ebc7a3ba2d52d32f1f45a06155c1490d637beab9bd187"
  },
  "kernelspec": {
   "display_name": "Python 3.9.7 ('INF265_gpu')",
   "language": "python",
   "name": "python3"
  },
  "language_info": {
   "codemirror_mode": {
    "name": "ipython",
    "version": 3
   },
   "file_extension": ".py",
   "mimetype": "text/x-python",
   "name": "python",
   "nbconvert_exporter": "python",
   "pygments_lexer": "ipython3",
   "version": "3.10.4"
  },
  "orig_nbformat": 4
 },
 "nbformat": 4,
 "nbformat_minor": 2
}
